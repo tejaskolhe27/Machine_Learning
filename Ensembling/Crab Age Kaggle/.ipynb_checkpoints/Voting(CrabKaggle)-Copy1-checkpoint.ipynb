{
 "cells": [
  {
   "cell_type": "code",
   "execution_count": 2,
   "id": "b57f9e5b",
   "metadata": {},
   "outputs": [],
   "source": [
    "import numpy as np\n",
    "import pandas as pd\n",
    "from sklearn.preprocessing import LabelEncoder,StandardScaler,MinMaxScaler\n",
    "from sklearn.ensemble import VotingRegressor\n",
    "from sklearn.svm import SVC\n",
    "from sklearn.linear_model import ElasticNet\n",
    "from sklearn.model_selection import train_test_split,KFold,GridSearchCV,RandomizedSearchCV\n",
    "from sklearn.metrics import accuracy_score,log_loss\n",
    "from sklearn.tree import DecisionTreeRegressor\n",
    "from sklearn.neighbors import KNeighborsRegressor\n",
    "from sklearn.pipeline import Pipeline"
   ]
  },
  {
   "cell_type": "code",
   "execution_count": 4,
   "id": "14aa7c13",
   "metadata": {},
   "outputs": [
    {
     "data": {
      "text/html": [
       "<div>\n",
       "<style scoped>\n",
       "    .dataframe tbody tr th:only-of-type {\n",
       "        vertical-align: middle;\n",
       "    }\n",
       "\n",
       "    .dataframe tbody tr th {\n",
       "        vertical-align: top;\n",
       "    }\n",
       "\n",
       "    .dataframe thead th {\n",
       "        text-align: right;\n",
       "    }\n",
       "</style>\n",
       "<table border=\"1\" class=\"dataframe\">\n",
       "  <thead>\n",
       "    <tr style=\"text-align: right;\">\n",
       "      <th></th>\n",
       "      <th>Sex</th>\n",
       "      <th>Length</th>\n",
       "      <th>Diameter</th>\n",
       "      <th>Height</th>\n",
       "      <th>Weight</th>\n",
       "      <th>Shucked Weight</th>\n",
       "      <th>Viscera Weight</th>\n",
       "      <th>Shell Weight</th>\n",
       "      <th>Age</th>\n",
       "    </tr>\n",
       "    <tr>\n",
       "      <th>id</th>\n",
       "      <th></th>\n",
       "      <th></th>\n",
       "      <th></th>\n",
       "      <th></th>\n",
       "      <th></th>\n",
       "      <th></th>\n",
       "      <th></th>\n",
       "      <th></th>\n",
       "      <th></th>\n",
       "    </tr>\n",
       "  </thead>\n",
       "  <tbody>\n",
       "    <tr>\n",
       "      <th>0</th>\n",
       "      <td>I</td>\n",
       "      <td>1.5250</td>\n",
       "      <td>1.1750</td>\n",
       "      <td>0.3750</td>\n",
       "      <td>28.973189</td>\n",
       "      <td>12.728926</td>\n",
       "      <td>6.647958</td>\n",
       "      <td>8.348928</td>\n",
       "      <td>9</td>\n",
       "    </tr>\n",
       "    <tr>\n",
       "      <th>1</th>\n",
       "      <td>I</td>\n",
       "      <td>1.1000</td>\n",
       "      <td>0.8250</td>\n",
       "      <td>0.2750</td>\n",
       "      <td>10.418441</td>\n",
       "      <td>4.521745</td>\n",
       "      <td>2.324659</td>\n",
       "      <td>3.401940</td>\n",
       "      <td>8</td>\n",
       "    </tr>\n",
       "    <tr>\n",
       "      <th>2</th>\n",
       "      <td>M</td>\n",
       "      <td>1.3875</td>\n",
       "      <td>1.1125</td>\n",
       "      <td>0.3750</td>\n",
       "      <td>24.777463</td>\n",
       "      <td>11.339800</td>\n",
       "      <td>5.556502</td>\n",
       "      <td>6.662133</td>\n",
       "      <td>9</td>\n",
       "    </tr>\n",
       "    <tr>\n",
       "      <th>3</th>\n",
       "      <td>F</td>\n",
       "      <td>1.7000</td>\n",
       "      <td>1.4125</td>\n",
       "      <td>0.5000</td>\n",
       "      <td>50.660556</td>\n",
       "      <td>20.354941</td>\n",
       "      <td>10.991839</td>\n",
       "      <td>14.996885</td>\n",
       "      <td>11</td>\n",
       "    </tr>\n",
       "    <tr>\n",
       "      <th>4</th>\n",
       "      <td>I</td>\n",
       "      <td>1.2500</td>\n",
       "      <td>1.0125</td>\n",
       "      <td>0.3375</td>\n",
       "      <td>23.289114</td>\n",
       "      <td>11.977664</td>\n",
       "      <td>4.507570</td>\n",
       "      <td>5.953395</td>\n",
       "      <td>8</td>\n",
       "    </tr>\n",
       "  </tbody>\n",
       "</table>\n",
       "</div>"
      ],
      "text/plain": [
       "   Sex  Length  Diameter  Height     Weight  Shucked Weight  Viscera Weight  \\\n",
       "id                                                                            \n",
       "0    I  1.5250    1.1750  0.3750  28.973189       12.728926        6.647958   \n",
       "1    I  1.1000    0.8250  0.2750  10.418441        4.521745        2.324659   \n",
       "2    M  1.3875    1.1125  0.3750  24.777463       11.339800        5.556502   \n",
       "3    F  1.7000    1.4125  0.5000  50.660556       20.354941       10.991839   \n",
       "4    I  1.2500    1.0125  0.3375  23.289114       11.977664        4.507570   \n",
       "\n",
       "    Shell Weight  Age  \n",
       "id                     \n",
       "0       8.348928    9  \n",
       "1       3.401940    8  \n",
       "2       6.662133    9  \n",
       "3      14.996885   11  \n",
       "4       5.953395    8  "
      ]
     },
     "execution_count": 4,
     "metadata": {},
     "output_type": "execute_result"
    }
   ],
   "source": [
    "crab=pd.read_csv(\"crab_train.csv\",index_col=0)\n",
    "crab.head()"
   ]
  },
  {
   "cell_type": "code",
   "execution_count": 5,
   "id": "02bf4bb1",
   "metadata": {},
   "outputs": [
    {
     "data": {
      "text/html": [
       "<div>\n",
       "<style scoped>\n",
       "    .dataframe tbody tr th:only-of-type {\n",
       "        vertical-align: middle;\n",
       "    }\n",
       "\n",
       "    .dataframe tbody tr th {\n",
       "        vertical-align: top;\n",
       "    }\n",
       "\n",
       "    .dataframe thead th {\n",
       "        text-align: right;\n",
       "    }\n",
       "</style>\n",
       "<table border=\"1\" class=\"dataframe\">\n",
       "  <thead>\n",
       "    <tr style=\"text-align: right;\">\n",
       "      <th></th>\n",
       "      <th>Length</th>\n",
       "      <th>Diameter</th>\n",
       "      <th>Height</th>\n",
       "      <th>Weight</th>\n",
       "      <th>Shucked Weight</th>\n",
       "      <th>Viscera Weight</th>\n",
       "      <th>Shell Weight</th>\n",
       "      <th>Age</th>\n",
       "      <th>Sex_I</th>\n",
       "      <th>Sex_M</th>\n",
       "    </tr>\n",
       "    <tr>\n",
       "      <th>id</th>\n",
       "      <th></th>\n",
       "      <th></th>\n",
       "      <th></th>\n",
       "      <th></th>\n",
       "      <th></th>\n",
       "      <th></th>\n",
       "      <th></th>\n",
       "      <th></th>\n",
       "      <th></th>\n",
       "      <th></th>\n",
       "    </tr>\n",
       "  </thead>\n",
       "  <tbody>\n",
       "    <tr>\n",
       "      <th>0</th>\n",
       "      <td>1.5250</td>\n",
       "      <td>1.1750</td>\n",
       "      <td>0.3750</td>\n",
       "      <td>28.973189</td>\n",
       "      <td>12.728926</td>\n",
       "      <td>6.647958</td>\n",
       "      <td>8.348928</td>\n",
       "      <td>9</td>\n",
       "      <td>1</td>\n",
       "      <td>0</td>\n",
       "    </tr>\n",
       "    <tr>\n",
       "      <th>1</th>\n",
       "      <td>1.1000</td>\n",
       "      <td>0.8250</td>\n",
       "      <td>0.2750</td>\n",
       "      <td>10.418441</td>\n",
       "      <td>4.521745</td>\n",
       "      <td>2.324659</td>\n",
       "      <td>3.401940</td>\n",
       "      <td>8</td>\n",
       "      <td>1</td>\n",
       "      <td>0</td>\n",
       "    </tr>\n",
       "    <tr>\n",
       "      <th>2</th>\n",
       "      <td>1.3875</td>\n",
       "      <td>1.1125</td>\n",
       "      <td>0.3750</td>\n",
       "      <td>24.777463</td>\n",
       "      <td>11.339800</td>\n",
       "      <td>5.556502</td>\n",
       "      <td>6.662133</td>\n",
       "      <td>9</td>\n",
       "      <td>0</td>\n",
       "      <td>1</td>\n",
       "    </tr>\n",
       "    <tr>\n",
       "      <th>3</th>\n",
       "      <td>1.7000</td>\n",
       "      <td>1.4125</td>\n",
       "      <td>0.5000</td>\n",
       "      <td>50.660556</td>\n",
       "      <td>20.354941</td>\n",
       "      <td>10.991839</td>\n",
       "      <td>14.996885</td>\n",
       "      <td>11</td>\n",
       "      <td>0</td>\n",
       "      <td>0</td>\n",
       "    </tr>\n",
       "    <tr>\n",
       "      <th>4</th>\n",
       "      <td>1.2500</td>\n",
       "      <td>1.0125</td>\n",
       "      <td>0.3375</td>\n",
       "      <td>23.289114</td>\n",
       "      <td>11.977664</td>\n",
       "      <td>4.507570</td>\n",
       "      <td>5.953395</td>\n",
       "      <td>8</td>\n",
       "      <td>1</td>\n",
       "      <td>0</td>\n",
       "    </tr>\n",
       "  </tbody>\n",
       "</table>\n",
       "</div>"
      ],
      "text/plain": [
       "    Length  Diameter  Height     Weight  Shucked Weight  Viscera Weight  \\\n",
       "id                                                                        \n",
       "0   1.5250    1.1750  0.3750  28.973189       12.728926        6.647958   \n",
       "1   1.1000    0.8250  0.2750  10.418441        4.521745        2.324659   \n",
       "2   1.3875    1.1125  0.3750  24.777463       11.339800        5.556502   \n",
       "3   1.7000    1.4125  0.5000  50.660556       20.354941       10.991839   \n",
       "4   1.2500    1.0125  0.3375  23.289114       11.977664        4.507570   \n",
       "\n",
       "    Shell Weight  Age  Sex_I  Sex_M  \n",
       "id                                   \n",
       "0       8.348928    9      1      0  \n",
       "1       3.401940    8      1      0  \n",
       "2       6.662133    9      0      1  \n",
       "3      14.996885   11      0      0  \n",
       "4       5.953395    8      1      0  "
      ]
     },
     "execution_count": 5,
     "metadata": {},
     "output_type": "execute_result"
    }
   ],
   "source": [
    "crab=pd.get_dummies(crab,drop_first=True,dtype='int')\n",
    "crab.head()"
   ]
  },
  {
   "cell_type": "code",
   "execution_count": 6,
   "id": "a16af148",
   "metadata": {},
   "outputs": [],
   "source": [
    "X=crab.drop(\"Age\",axis=1)\n",
    "y=crab['Age']"
   ]
  },
  {
   "cell_type": "code",
   "execution_count": 7,
   "id": "71202099",
   "metadata": {},
   "outputs": [],
   "source": [
    "kfold=KFold(n_splits=5,shuffle=True,random_state=23)"
   ]
  },
  {
   "cell_type": "code",
   "execution_count": 8,
   "id": "3202b5e0",
   "metadata": {
    "scrolled": true
   },
   "outputs": [
    {
     "name": "stdout",
     "output_type": "stream",
     "text": [
      "Fitting 5 folds for each of 25 candidates, totalling 125 fits\n"
     ]
    },
    {
     "name": "stderr",
     "output_type": "stream",
     "text": [
      "/home/dai/anaconda3/lib/python3.11/site-packages/sklearn/linear_model/_coordinate_descent.py:628: ConvergenceWarning: Objective did not converge. You might want to increase the number of iterations, check the scale of the features or consider increasing regularisation. Duality gap: 1.355e+05, tolerance: 5.983e+01 Linear regression models with null weight for the l1 regularization term are more efficiently fitted using one of the solvers implemented in sklearn.linear_model.Ridge/RidgeCV instead.\n",
      "  model = cd_fast.enet_coordinate_descent(\n"
     ]
    },
    {
     "name": "stdout",
     "output_type": "stream",
     "text": [
      "[CV 1/5] END .........alpha=0.001, l1_ratio=0.0;, score=0.550 total time=   0.7s\n"
     ]
    },
    {
     "name": "stderr",
     "output_type": "stream",
     "text": [
      "/home/dai/anaconda3/lib/python3.11/site-packages/sklearn/linear_model/_coordinate_descent.py:628: ConvergenceWarning: Objective did not converge. You might want to increase the number of iterations, check the scale of the features or consider increasing regularisation. Duality gap: 1.359e+05, tolerance: 5.992e+01 Linear regression models with null weight for the l1 regularization term are more efficiently fitted using one of the solvers implemented in sklearn.linear_model.Ridge/RidgeCV instead.\n",
      "  model = cd_fast.enet_coordinate_descent(\n"
     ]
    },
    {
     "name": "stdout",
     "output_type": "stream",
     "text": [
      "[CV 2/5] END .........alpha=0.001, l1_ratio=0.0;, score=0.553 total time=   0.5s\n"
     ]
    },
    {
     "name": "stderr",
     "output_type": "stream",
     "text": [
      "/home/dai/anaconda3/lib/python3.11/site-packages/sklearn/linear_model/_coordinate_descent.py:628: ConvergenceWarning: Objective did not converge. You might want to increase the number of iterations, check the scale of the features or consider increasing regularisation. Duality gap: 1.354e+05, tolerance: 5.958e+01 Linear regression models with null weight for the l1 regularization term are more efficiently fitted using one of the solvers implemented in sklearn.linear_model.Ridge/RidgeCV instead.\n",
      "  model = cd_fast.enet_coordinate_descent(\n"
     ]
    },
    {
     "name": "stdout",
     "output_type": "stream",
     "text": [
      "[CV 3/5] END .........alpha=0.001, l1_ratio=0.0;, score=0.557 total time=   0.5s\n"
     ]
    },
    {
     "name": "stderr",
     "output_type": "stream",
     "text": [
      "/home/dai/anaconda3/lib/python3.11/site-packages/sklearn/linear_model/_coordinate_descent.py:628: ConvergenceWarning: Objective did not converge. You might want to increase the number of iterations, check the scale of the features or consider increasing regularisation. Duality gap: 1.346e+05, tolerance: 5.979e+01 Linear regression models with null weight for the l1 regularization term are more efficiently fitted using one of the solvers implemented in sklearn.linear_model.Ridge/RidgeCV instead.\n",
      "  model = cd_fast.enet_coordinate_descent(\n"
     ]
    },
    {
     "name": "stdout",
     "output_type": "stream",
     "text": [
      "[CV 4/5] END .........alpha=0.001, l1_ratio=0.0;, score=0.539 total time=   0.5s\n"
     ]
    },
    {
     "name": "stderr",
     "output_type": "stream",
     "text": [
      "/home/dai/anaconda3/lib/python3.11/site-packages/sklearn/linear_model/_coordinate_descent.py:628: ConvergenceWarning: Objective did not converge. You might want to increase the number of iterations, check the scale of the features or consider increasing regularisation. Duality gap: 1.346e+05, tolerance: 5.951e+01 Linear regression models with null weight for the l1 regularization term are more efficiently fitted using one of the solvers implemented in sklearn.linear_model.Ridge/RidgeCV instead.\n",
      "  model = cd_fast.enet_coordinate_descent(\n"
     ]
    },
    {
     "name": "stdout",
     "output_type": "stream",
     "text": [
      "[CV 5/5] END .........alpha=0.001, l1_ratio=0.0;, score=0.548 total time=   0.5s\n",
      "[CV 1/5] END ........alpha=0.001, l1_ratio=0.25;, score=0.550 total time=   0.3s\n",
      "[CV 2/5] END ........alpha=0.001, l1_ratio=0.25;, score=0.554 total time=   0.3s\n",
      "[CV 3/5] END ........alpha=0.001, l1_ratio=0.25;, score=0.557 total time=   0.3s\n",
      "[CV 4/5] END ........alpha=0.001, l1_ratio=0.25;, score=0.539 total time=   0.3s\n",
      "[CV 5/5] END ........alpha=0.001, l1_ratio=0.25;, score=0.548 total time=   0.3s\n",
      "[CV 1/5] END .........alpha=0.001, l1_ratio=0.5;, score=0.550 total time=   0.3s\n",
      "[CV 2/5] END .........alpha=0.001, l1_ratio=0.5;, score=0.554 total time=   0.3s\n",
      "[CV 3/5] END .........alpha=0.001, l1_ratio=0.5;, score=0.557 total time=   0.3s\n",
      "[CV 4/5] END .........alpha=0.001, l1_ratio=0.5;, score=0.539 total time=   0.3s\n",
      "[CV 5/5] END .........alpha=0.001, l1_ratio=0.5;, score=0.548 total time=   0.3s\n",
      "[CV 1/5] END ........alpha=0.001, l1_ratio=0.75;, score=0.551 total time=   0.3s\n",
      "[CV 2/5] END ........alpha=0.001, l1_ratio=0.75;, score=0.554 total time=   0.3s\n",
      "[CV 3/5] END ........alpha=0.001, l1_ratio=0.75;, score=0.557 total time=   0.3s\n",
      "[CV 4/5] END ........alpha=0.001, l1_ratio=0.75;, score=0.540 total time=   0.4s\n",
      "[CV 5/5] END ........alpha=0.001, l1_ratio=0.75;, score=0.549 total time=   0.3s\n",
      "[CV 1/5] END .........alpha=0.001, l1_ratio=1.0;, score=0.551 total time=   0.3s\n",
      "[CV 2/5] END .........alpha=0.001, l1_ratio=1.0;, score=0.555 total time=   0.3s\n",
      "[CV 3/5] END .........alpha=0.001, l1_ratio=1.0;, score=0.557 total time=   0.3s\n",
      "[CV 4/5] END .........alpha=0.001, l1_ratio=1.0;, score=0.540 total time=   0.3s\n",
      "[CV 5/5] END .........alpha=0.001, l1_ratio=1.0;, score=0.549 total time=   0.3s\n"
     ]
    },
    {
     "name": "stderr",
     "output_type": "stream",
     "text": [
      "/home/dai/anaconda3/lib/python3.11/site-packages/sklearn/linear_model/_coordinate_descent.py:628: ConvergenceWarning: Objective did not converge. You might want to increase the number of iterations, check the scale of the features or consider increasing regularisation. Duality gap: 1.649e+05, tolerance: 5.983e+01 Linear regression models with null weight for the l1 regularization term are more efficiently fitted using one of the solvers implemented in sklearn.linear_model.Ridge/RidgeCV instead.\n",
      "  model = cd_fast.enet_coordinate_descent(\n"
     ]
    },
    {
     "name": "stdout",
     "output_type": "stream",
     "text": [
      "[CV 1/5] END alpha=1.2507499999999998, l1_ratio=0.0;, score=0.492 total time=   0.5s\n"
     ]
    },
    {
     "name": "stderr",
     "output_type": "stream",
     "text": [
      "/home/dai/anaconda3/lib/python3.11/site-packages/sklearn/linear_model/_coordinate_descent.py:628: ConvergenceWarning: Objective did not converge. You might want to increase the number of iterations, check the scale of the features or consider increasing regularisation. Duality gap: 1.654e+05, tolerance: 5.992e+01 Linear regression models with null weight for the l1 regularization term are more efficiently fitted using one of the solvers implemented in sklearn.linear_model.Ridge/RidgeCV instead.\n",
      "  model = cd_fast.enet_coordinate_descent(\n"
     ]
    },
    {
     "name": "stdout",
     "output_type": "stream",
     "text": [
      "[CV 2/5] END alpha=1.2507499999999998, l1_ratio=0.0;, score=0.495 total time=   0.5s\n"
     ]
    },
    {
     "name": "stderr",
     "output_type": "stream",
     "text": [
      "/home/dai/anaconda3/lib/python3.11/site-packages/sklearn/linear_model/_coordinate_descent.py:628: ConvergenceWarning: Objective did not converge. You might want to increase the number of iterations, check the scale of the features or consider increasing regularisation. Duality gap: 1.649e+05, tolerance: 5.958e+01 Linear regression models with null weight for the l1 regularization term are more efficiently fitted using one of the solvers implemented in sklearn.linear_model.Ridge/RidgeCV instead.\n",
      "  model = cd_fast.enet_coordinate_descent(\n"
     ]
    },
    {
     "name": "stdout",
     "output_type": "stream",
     "text": [
      "[CV 3/5] END alpha=1.2507499999999998, l1_ratio=0.0;, score=0.500 total time=   0.5s\n"
     ]
    },
    {
     "name": "stderr",
     "output_type": "stream",
     "text": [
      "/home/dai/anaconda3/lib/python3.11/site-packages/sklearn/linear_model/_coordinate_descent.py:628: ConvergenceWarning: Objective did not converge. You might want to increase the number of iterations, check the scale of the features or consider increasing regularisation. Duality gap: 1.641e+05, tolerance: 5.979e+01 Linear regression models with null weight for the l1 regularization term are more efficiently fitted using one of the solvers implemented in sklearn.linear_model.Ridge/RidgeCV instead.\n",
      "  model = cd_fast.enet_coordinate_descent(\n"
     ]
    },
    {
     "name": "stdout",
     "output_type": "stream",
     "text": [
      "[CV 4/5] END alpha=1.2507499999999998, l1_ratio=0.0;, score=0.483 total time=   0.5s\n"
     ]
    },
    {
     "name": "stderr",
     "output_type": "stream",
     "text": [
      "/home/dai/anaconda3/lib/python3.11/site-packages/sklearn/linear_model/_coordinate_descent.py:628: ConvergenceWarning: Objective did not converge. You might want to increase the number of iterations, check the scale of the features or consider increasing regularisation. Duality gap: 1.636e+05, tolerance: 5.951e+01 Linear regression models with null weight for the l1 regularization term are more efficiently fitted using one of the solvers implemented in sklearn.linear_model.Ridge/RidgeCV instead.\n",
      "  model = cd_fast.enet_coordinate_descent(\n"
     ]
    },
    {
     "name": "stdout",
     "output_type": "stream",
     "text": [
      "[CV 5/5] END alpha=1.2507499999999998, l1_ratio=0.0;, score=0.485 total time=   0.5s\n",
      "[CV 1/5] END alpha=1.2507499999999998, l1_ratio=0.25;, score=0.469 total time=   0.1s\n",
      "[CV 2/5] END alpha=1.2507499999999998, l1_ratio=0.25;, score=0.473 total time=   0.1s\n",
      "[CV 3/5] END alpha=1.2507499999999998, l1_ratio=0.25;, score=0.478 total time=   0.1s\n",
      "[CV 4/5] END alpha=1.2507499999999998, l1_ratio=0.25;, score=0.462 total time=   0.1s\n",
      "[CV 5/5] END alpha=1.2507499999999998, l1_ratio=0.25;, score=0.461 total time=   0.2s\n",
      "[CV 1/5] END alpha=1.2507499999999998, l1_ratio=0.5;, score=0.442 total time=   0.2s\n",
      "[CV 2/5] END alpha=1.2507499999999998, l1_ratio=0.5;, score=0.445 total time=   0.1s\n",
      "[CV 3/5] END alpha=1.2507499999999998, l1_ratio=0.5;, score=0.450 total time=   0.1s\n",
      "[CV 4/5] END alpha=1.2507499999999998, l1_ratio=0.5;, score=0.436 total time=   0.1s\n",
      "[CV 5/5] END alpha=1.2507499999999998, l1_ratio=0.5;, score=0.431 total time=   0.1s\n",
      "[CV 1/5] END alpha=1.2507499999999998, l1_ratio=0.75;, score=0.401 total time=   0.1s\n",
      "[CV 2/5] END alpha=1.2507499999999998, l1_ratio=0.75;, score=0.403 total time=   0.1s\n",
      "[CV 3/5] END alpha=1.2507499999999998, l1_ratio=0.75;, score=0.407 total time=   0.1s\n",
      "[CV 4/5] END alpha=1.2507499999999998, l1_ratio=0.75;, score=0.394 total time=   0.1s\n",
      "[CV 5/5] END alpha=1.2507499999999998, l1_ratio=0.75;, score=0.389 total time=   0.1s\n",
      "[CV 1/5] END alpha=1.2507499999999998, l1_ratio=1.0;, score=0.373 total time=   0.1s\n",
      "[CV 2/5] END alpha=1.2507499999999998, l1_ratio=1.0;, score=0.372 total time=   0.1s\n",
      "[CV 3/5] END alpha=1.2507499999999998, l1_ratio=1.0;, score=0.374 total time=   0.1s\n",
      "[CV 4/5] END alpha=1.2507499999999998, l1_ratio=1.0;, score=0.362 total time=   0.1s\n",
      "[CV 5/5] END alpha=1.2507499999999998, l1_ratio=1.0;, score=0.359 total time=   0.1s\n"
     ]
    },
    {
     "name": "stderr",
     "output_type": "stream",
     "text": [
      "/home/dai/anaconda3/lib/python3.11/site-packages/sklearn/linear_model/_coordinate_descent.py:628: ConvergenceWarning: Objective did not converge. You might want to increase the number of iterations, check the scale of the features or consider increasing regularisation. Duality gap: 1.740e+05, tolerance: 5.983e+01 Linear regression models with null weight for the l1 regularization term are more efficiently fitted using one of the solvers implemented in sklearn.linear_model.Ridge/RidgeCV instead.\n",
      "  model = cd_fast.enet_coordinate_descent(\n"
     ]
    },
    {
     "name": "stdout",
     "output_type": "stream",
     "text": [
      "[CV 1/5] END alpha=2.5004999999999997, l1_ratio=0.0;, score=0.464 total time=   0.5s\n"
     ]
    },
    {
     "name": "stderr",
     "output_type": "stream",
     "text": [
      "/home/dai/anaconda3/lib/python3.11/site-packages/sklearn/linear_model/_coordinate_descent.py:628: ConvergenceWarning: Objective did not converge. You might want to increase the number of iterations, check the scale of the features or consider increasing regularisation. Duality gap: 1.745e+05, tolerance: 5.992e+01 Linear regression models with null weight for the l1 regularization term are more efficiently fitted using one of the solvers implemented in sklearn.linear_model.Ridge/RidgeCV instead.\n",
      "  model = cd_fast.enet_coordinate_descent(\n"
     ]
    },
    {
     "name": "stdout",
     "output_type": "stream",
     "text": [
      "[CV 2/5] END alpha=2.5004999999999997, l1_ratio=0.0;, score=0.467 total time=   0.5s\n"
     ]
    },
    {
     "name": "stderr",
     "output_type": "stream",
     "text": [
      "/home/dai/anaconda3/lib/python3.11/site-packages/sklearn/linear_model/_coordinate_descent.py:628: ConvergenceWarning: Objective did not converge. You might want to increase the number of iterations, check the scale of the features or consider increasing regularisation. Duality gap: 1.740e+05, tolerance: 5.958e+01 Linear regression models with null weight for the l1 regularization term are more efficiently fitted using one of the solvers implemented in sklearn.linear_model.Ridge/RidgeCV instead.\n",
      "  model = cd_fast.enet_coordinate_descent(\n"
     ]
    },
    {
     "name": "stdout",
     "output_type": "stream",
     "text": [
      "[CV 3/5] END alpha=2.5004999999999997, l1_ratio=0.0;, score=0.472 total time=   0.4s\n"
     ]
    },
    {
     "name": "stderr",
     "output_type": "stream",
     "text": [
      "/home/dai/anaconda3/lib/python3.11/site-packages/sklearn/linear_model/_coordinate_descent.py:628: ConvergenceWarning: Objective did not converge. You might want to increase the number of iterations, check the scale of the features or consider increasing regularisation. Duality gap: 1.733e+05, tolerance: 5.979e+01 Linear regression models with null weight for the l1 regularization term are more efficiently fitted using one of the solvers implemented in sklearn.linear_model.Ridge/RidgeCV instead.\n",
      "  model = cd_fast.enet_coordinate_descent(\n"
     ]
    },
    {
     "name": "stdout",
     "output_type": "stream",
     "text": [
      "[CV 4/5] END alpha=2.5004999999999997, l1_ratio=0.0;, score=0.456 total time=   0.5s\n"
     ]
    },
    {
     "name": "stderr",
     "output_type": "stream",
     "text": [
      "/home/dai/anaconda3/lib/python3.11/site-packages/sklearn/linear_model/_coordinate_descent.py:628: ConvergenceWarning: Objective did not converge. You might want to increase the number of iterations, check the scale of the features or consider increasing regularisation. Duality gap: 1.725e+05, tolerance: 5.951e+01 Linear regression models with null weight for the l1 regularization term are more efficiently fitted using one of the solvers implemented in sklearn.linear_model.Ridge/RidgeCV instead.\n",
      "  model = cd_fast.enet_coordinate_descent(\n"
     ]
    },
    {
     "name": "stdout",
     "output_type": "stream",
     "text": [
      "[CV 5/5] END alpha=2.5004999999999997, l1_ratio=0.0;, score=0.455 total time=   0.4s\n",
      "[CV 1/5] END alpha=2.5004999999999997, l1_ratio=0.25;, score=0.417 total time=   0.1s\n",
      "[CV 2/5] END alpha=2.5004999999999997, l1_ratio=0.25;, score=0.419 total time=   0.1s\n",
      "[CV 3/5] END alpha=2.5004999999999997, l1_ratio=0.25;, score=0.424 total time=   0.1s\n",
      "[CV 4/5] END alpha=2.5004999999999997, l1_ratio=0.25;, score=0.410 total time=   0.1s\n",
      "[CV 5/5] END alpha=2.5004999999999997, l1_ratio=0.25;, score=0.406 total time=   0.1s\n",
      "[CV 1/5] END alpha=2.5004999999999997, l1_ratio=0.5;, score=0.371 total time=   0.1s\n",
      "[CV 2/5] END alpha=2.5004999999999997, l1_ratio=0.5;, score=0.371 total time=   0.1s\n",
      "[CV 3/5] END alpha=2.5004999999999997, l1_ratio=0.5;, score=0.375 total time=   0.1s\n",
      "[CV 4/5] END alpha=2.5004999999999997, l1_ratio=0.5;, score=0.362 total time=   0.1s\n",
      "[CV 5/5] END alpha=2.5004999999999997, l1_ratio=0.5;, score=0.358 total time=   0.1s\n",
      "[CV 1/5] END alpha=2.5004999999999997, l1_ratio=0.75;, score=0.362 total time=   0.1s\n",
      "[CV 2/5] END alpha=2.5004999999999997, l1_ratio=0.75;, score=0.362 total time=   0.1s\n",
      "[CV 3/5] END alpha=2.5004999999999997, l1_ratio=0.75;, score=0.367 total time=   0.1s\n",
      "[CV 4/5] END alpha=2.5004999999999997, l1_ratio=0.75;, score=0.354 total time=   0.0s\n",
      "[CV 5/5] END alpha=2.5004999999999997, l1_ratio=0.75;, score=0.350 total time=   0.0s\n",
      "[CV 1/5] END alpha=2.5004999999999997, l1_ratio=1.0;, score=0.360 total time=   0.1s\n",
      "[CV 2/5] END alpha=2.5004999999999997, l1_ratio=1.0;, score=0.361 total time=   0.0s\n",
      "[CV 3/5] END alpha=2.5004999999999997, l1_ratio=1.0;, score=0.365 total time=   0.0s\n",
      "[CV 4/5] END alpha=2.5004999999999997, l1_ratio=1.0;, score=0.353 total time=   0.1s\n",
      "[CV 5/5] END alpha=2.5004999999999997, l1_ratio=1.0;, score=0.349 total time=   0.1s\n"
     ]
    },
    {
     "name": "stderr",
     "output_type": "stream",
     "text": [
      "/home/dai/anaconda3/lib/python3.11/site-packages/sklearn/linear_model/_coordinate_descent.py:628: ConvergenceWarning: Objective did not converge. You might want to increase the number of iterations, check the scale of the features or consider increasing regularisation. Duality gap: 1.793e+05, tolerance: 5.983e+01 Linear regression models with null weight for the l1 regularization term are more efficiently fitted using one of the solvers implemented in sklearn.linear_model.Ridge/RidgeCV instead.\n",
      "  model = cd_fast.enet_coordinate_descent(\n"
     ]
    },
    {
     "name": "stdout",
     "output_type": "stream",
     "text": [
      "[CV 1/5] END .......alpha=3.75025, l1_ratio=0.0;, score=0.445 total time=   0.5s\n"
     ]
    },
    {
     "name": "stderr",
     "output_type": "stream",
     "text": [
      "/home/dai/anaconda3/lib/python3.11/site-packages/sklearn/linear_model/_coordinate_descent.py:628: ConvergenceWarning: Objective did not converge. You might want to increase the number of iterations, check the scale of the features or consider increasing regularisation. Duality gap: 1.797e+05, tolerance: 5.992e+01 Linear regression models with null weight for the l1 regularization term are more efficiently fitted using one of the solvers implemented in sklearn.linear_model.Ridge/RidgeCV instead.\n",
      "  model = cd_fast.enet_coordinate_descent(\n"
     ]
    },
    {
     "name": "stdout",
     "output_type": "stream",
     "text": [
      "[CV 2/5] END .......alpha=3.75025, l1_ratio=0.0;, score=0.447 total time=   0.5s\n"
     ]
    },
    {
     "name": "stderr",
     "output_type": "stream",
     "text": [
      "/home/dai/anaconda3/lib/python3.11/site-packages/sklearn/linear_model/_coordinate_descent.py:628: ConvergenceWarning: Objective did not converge. You might want to increase the number of iterations, check the scale of the features or consider increasing regularisation. Duality gap: 1.792e+05, tolerance: 5.958e+01 Linear regression models with null weight for the l1 regularization term are more efficiently fitted using one of the solvers implemented in sklearn.linear_model.Ridge/RidgeCV instead.\n",
      "  model = cd_fast.enet_coordinate_descent(\n"
     ]
    },
    {
     "name": "stdout",
     "output_type": "stream",
     "text": [
      "[CV 3/5] END .......alpha=3.75025, l1_ratio=0.0;, score=0.452 total time=   0.5s\n"
     ]
    },
    {
     "name": "stderr",
     "output_type": "stream",
     "text": [
      "/home/dai/anaconda3/lib/python3.11/site-packages/sklearn/linear_model/_coordinate_descent.py:628: ConvergenceWarning: Objective did not converge. You might want to increase the number of iterations, check the scale of the features or consider increasing regularisation. Duality gap: 1.786e+05, tolerance: 5.979e+01 Linear regression models with null weight for the l1 regularization term are more efficiently fitted using one of the solvers implemented in sklearn.linear_model.Ridge/RidgeCV instead.\n",
      "  model = cd_fast.enet_coordinate_descent(\n"
     ]
    },
    {
     "name": "stdout",
     "output_type": "stream",
     "text": [
      "[CV 4/5] END .......alpha=3.75025, l1_ratio=0.0;, score=0.437 total time=   0.5s\n"
     ]
    },
    {
     "name": "stderr",
     "output_type": "stream",
     "text": [
      "/home/dai/anaconda3/lib/python3.11/site-packages/sklearn/linear_model/_coordinate_descent.py:628: ConvergenceWarning: Objective did not converge. You might want to increase the number of iterations, check the scale of the features or consider increasing regularisation. Duality gap: 1.777e+05, tolerance: 5.951e+01 Linear regression models with null weight for the l1 regularization term are more efficiently fitted using one of the solvers implemented in sklearn.linear_model.Ridge/RidgeCV instead.\n",
      "  model = cd_fast.enet_coordinate_descent(\n"
     ]
    },
    {
     "name": "stdout",
     "output_type": "stream",
     "text": [
      "[CV 5/5] END .......alpha=3.75025, l1_ratio=0.0;, score=0.435 total time=   0.5s\n",
      "[CV 1/5] END ......alpha=3.75025, l1_ratio=0.25;, score=0.380 total time=   0.1s\n",
      "[CV 2/5] END ......alpha=3.75025, l1_ratio=0.25;, score=0.381 total time=   0.1s\n",
      "[CV 3/5] END ......alpha=3.75025, l1_ratio=0.25;, score=0.386 total time=   0.1s\n",
      "[CV 4/5] END ......alpha=3.75025, l1_ratio=0.25;, score=0.373 total time=   0.1s\n",
      "[CV 5/5] END ......alpha=3.75025, l1_ratio=0.25;, score=0.368 total time=   0.1s\n",
      "[CV 1/5] END .......alpha=3.75025, l1_ratio=0.5;, score=0.361 total time=   0.1s\n",
      "[CV 2/5] END .......alpha=3.75025, l1_ratio=0.5;, score=0.362 total time=   0.0s\n",
      "[CV 3/5] END .......alpha=3.75025, l1_ratio=0.5;, score=0.366 total time=   0.0s\n",
      "[CV 4/5] END .......alpha=3.75025, l1_ratio=0.5;, score=0.354 total time=   0.0s\n",
      "[CV 5/5] END .......alpha=3.75025, l1_ratio=0.5;, score=0.350 total time=   0.1s\n",
      "[CV 1/5] END ......alpha=3.75025, l1_ratio=0.75;, score=0.358 total time=   0.0s\n",
      "[CV 2/5] END ......alpha=3.75025, l1_ratio=0.75;, score=0.359 total time=   0.0s\n",
      "[CV 3/5] END ......alpha=3.75025, l1_ratio=0.75;, score=0.364 total time=   0.1s\n",
      "[CV 4/5] END ......alpha=3.75025, l1_ratio=0.75;, score=0.352 total time=   0.0s\n",
      "[CV 5/5] END ......alpha=3.75025, l1_ratio=0.75;, score=0.347 total time=   0.0s\n",
      "[CV 1/5] END .......alpha=3.75025, l1_ratio=1.0;, score=0.355 total time=   0.1s\n",
      "[CV 2/5] END .......alpha=3.75025, l1_ratio=1.0;, score=0.356 total time=   0.1s\n",
      "[CV 3/5] END .......alpha=3.75025, l1_ratio=1.0;, score=0.360 total time=   0.1s\n",
      "[CV 4/5] END .......alpha=3.75025, l1_ratio=1.0;, score=0.349 total time=   0.0s\n",
      "[CV 5/5] END .......alpha=3.75025, l1_ratio=1.0;, score=0.344 total time=   0.0s\n"
     ]
    },
    {
     "name": "stderr",
     "output_type": "stream",
     "text": [
      "/home/dai/anaconda3/lib/python3.11/site-packages/sklearn/linear_model/_coordinate_descent.py:628: ConvergenceWarning: Objective did not converge. You might want to increase the number of iterations, check the scale of the features or consider increasing regularisation. Duality gap: 1.829e+05, tolerance: 5.983e+01 Linear regression models with null weight for the l1 regularization term are more efficiently fitted using one of the solvers implemented in sklearn.linear_model.Ridge/RidgeCV instead.\n",
      "  model = cd_fast.enet_coordinate_descent(\n"
     ]
    },
    {
     "name": "stdout",
     "output_type": "stream",
     "text": [
      "[CV 1/5] END ...........alpha=5.0, l1_ratio=0.0;, score=0.431 total time=   0.5s\n"
     ]
    },
    {
     "name": "stderr",
     "output_type": "stream",
     "text": [
      "/home/dai/anaconda3/lib/python3.11/site-packages/sklearn/linear_model/_coordinate_descent.py:628: ConvergenceWarning: Objective did not converge. You might want to increase the number of iterations, check the scale of the features or consider increasing regularisation. Duality gap: 1.833e+05, tolerance: 5.992e+01 Linear regression models with null weight for the l1 regularization term are more efficiently fitted using one of the solvers implemented in sklearn.linear_model.Ridge/RidgeCV instead.\n",
      "  model = cd_fast.enet_coordinate_descent(\n"
     ]
    },
    {
     "name": "stdout",
     "output_type": "stream",
     "text": [
      "[CV 2/5] END ...........alpha=5.0, l1_ratio=0.0;, score=0.433 total time=   0.5s\n"
     ]
    },
    {
     "name": "stderr",
     "output_type": "stream",
     "text": [
      "/home/dai/anaconda3/lib/python3.11/site-packages/sklearn/linear_model/_coordinate_descent.py:628: ConvergenceWarning: Objective did not converge. You might want to increase the number of iterations, check the scale of the features or consider increasing regularisation. Duality gap: 1.827e+05, tolerance: 5.958e+01 Linear regression models with null weight for the l1 regularization term are more efficiently fitted using one of the solvers implemented in sklearn.linear_model.Ridge/RidgeCV instead.\n",
      "  model = cd_fast.enet_coordinate_descent(\n"
     ]
    },
    {
     "name": "stdout",
     "output_type": "stream",
     "text": [
      "[CV 3/5] END ...........alpha=5.0, l1_ratio=0.0;, score=0.438 total time=   0.5s\n"
     ]
    },
    {
     "name": "stderr",
     "output_type": "stream",
     "text": [
      "/home/dai/anaconda3/lib/python3.11/site-packages/sklearn/linear_model/_coordinate_descent.py:628: ConvergenceWarning: Objective did not converge. You might want to increase the number of iterations, check the scale of the features or consider increasing regularisation. Duality gap: 1.822e+05, tolerance: 5.979e+01 Linear regression models with null weight for the l1 regularization term are more efficiently fitted using one of the solvers implemented in sklearn.linear_model.Ridge/RidgeCV instead.\n",
      "  model = cd_fast.enet_coordinate_descent(\n"
     ]
    },
    {
     "name": "stdout",
     "output_type": "stream",
     "text": [
      "[CV 4/5] END ...........alpha=5.0, l1_ratio=0.0;, score=0.424 total time=   0.5s\n"
     ]
    },
    {
     "name": "stderr",
     "output_type": "stream",
     "text": [
      "/home/dai/anaconda3/lib/python3.11/site-packages/sklearn/linear_model/_coordinate_descent.py:628: ConvergenceWarning: Objective did not converge. You might want to increase the number of iterations, check the scale of the features or consider increasing regularisation. Duality gap: 1.812e+05, tolerance: 5.951e+01 Linear regression models with null weight for the l1 regularization term are more efficiently fitted using one of the solvers implemented in sklearn.linear_model.Ridge/RidgeCV instead.\n",
      "  model = cd_fast.enet_coordinate_descent(\n"
     ]
    },
    {
     "name": "stdout",
     "output_type": "stream",
     "text": [
      "[CV 5/5] END ...........alpha=5.0, l1_ratio=0.0;, score=0.421 total time=   0.5s\n",
      "[CV 1/5] END ..........alpha=5.0, l1_ratio=0.25;, score=0.369 total time=   0.0s\n",
      "[CV 2/5] END ..........alpha=5.0, l1_ratio=0.25;, score=0.370 total time=   0.1s\n",
      "[CV 3/5] END ..........alpha=5.0, l1_ratio=0.25;, score=0.374 total time=   0.1s\n",
      "[CV 4/5] END ..........alpha=5.0, l1_ratio=0.25;, score=0.361 total time=   0.1s\n",
      "[CV 5/5] END ..........alpha=5.0, l1_ratio=0.25;, score=0.357 total time=   0.0s\n",
      "[CV 1/5] END ...........alpha=5.0, l1_ratio=0.5;, score=0.359 total time=   0.0s\n",
      "[CV 2/5] END ...........alpha=5.0, l1_ratio=0.5;, score=0.360 total time=   0.0s\n",
      "[CV 3/5] END ...........alpha=5.0, l1_ratio=0.5;, score=0.364 total time=   0.0s\n",
      "[CV 4/5] END ...........alpha=5.0, l1_ratio=0.5;, score=0.352 total time=   0.0s\n",
      "[CV 5/5] END ...........alpha=5.0, l1_ratio=0.5;, score=0.348 total time=   0.0s\n",
      "[CV 1/5] END ..........alpha=5.0, l1_ratio=0.75;, score=0.354 total time=   0.0s\n",
      "[CV 2/5] END ..........alpha=5.0, l1_ratio=0.75;, score=0.355 total time=   0.0s\n",
      "[CV 3/5] END ..........alpha=5.0, l1_ratio=0.75;, score=0.359 total time=   0.0s\n",
      "[CV 4/5] END ..........alpha=5.0, l1_ratio=0.75;, score=0.348 total time=   0.0s\n",
      "[CV 5/5] END ..........alpha=5.0, l1_ratio=0.75;, score=0.344 total time=   0.0s\n",
      "[CV 1/5] END ...........alpha=5.0, l1_ratio=1.0;, score=0.348 total time=   0.0s\n",
      "[CV 2/5] END ...........alpha=5.0, l1_ratio=1.0;, score=0.349 total time=   0.0s\n",
      "[CV 3/5] END ...........alpha=5.0, l1_ratio=1.0;, score=0.353 total time=   0.0s\n",
      "[CV 4/5] END ...........alpha=5.0, l1_ratio=1.0;, score=0.342 total time=   0.0s\n",
      "[CV 5/5] END ...........alpha=5.0, l1_ratio=1.0;, score=0.338 total time=   0.0s\n"
     ]
    },
    {
     "data": {
      "text/html": [
       "<style>#sk-container-id-1 {color: black;}#sk-container-id-1 pre{padding: 0;}#sk-container-id-1 div.sk-toggleable {background-color: white;}#sk-container-id-1 label.sk-toggleable__label {cursor: pointer;display: block;width: 100%;margin-bottom: 0;padding: 0.3em;box-sizing: border-box;text-align: center;}#sk-container-id-1 label.sk-toggleable__label-arrow:before {content: \"▸\";float: left;margin-right: 0.25em;color: #696969;}#sk-container-id-1 label.sk-toggleable__label-arrow:hover:before {color: black;}#sk-container-id-1 div.sk-estimator:hover label.sk-toggleable__label-arrow:before {color: black;}#sk-container-id-1 div.sk-toggleable__content {max-height: 0;max-width: 0;overflow: hidden;text-align: left;background-color: #f0f8ff;}#sk-container-id-1 div.sk-toggleable__content pre {margin: 0.2em;color: black;border-radius: 0.25em;background-color: #f0f8ff;}#sk-container-id-1 input.sk-toggleable__control:checked~div.sk-toggleable__content {max-height: 200px;max-width: 100%;overflow: auto;}#sk-container-id-1 input.sk-toggleable__control:checked~label.sk-toggleable__label-arrow:before {content: \"▾\";}#sk-container-id-1 div.sk-estimator input.sk-toggleable__control:checked~label.sk-toggleable__label {background-color: #d4ebff;}#sk-container-id-1 div.sk-label input.sk-toggleable__control:checked~label.sk-toggleable__label {background-color: #d4ebff;}#sk-container-id-1 input.sk-hidden--visually {border: 0;clip: rect(1px 1px 1px 1px);clip: rect(1px, 1px, 1px, 1px);height: 1px;margin: -1px;overflow: hidden;padding: 0;position: absolute;width: 1px;}#sk-container-id-1 div.sk-estimator {font-family: monospace;background-color: #f0f8ff;border: 1px dotted black;border-radius: 0.25em;box-sizing: border-box;margin-bottom: 0.5em;}#sk-container-id-1 div.sk-estimator:hover {background-color: #d4ebff;}#sk-container-id-1 div.sk-parallel-item::after {content: \"\";width: 100%;border-bottom: 1px solid gray;flex-grow: 1;}#sk-container-id-1 div.sk-label:hover label.sk-toggleable__label {background-color: #d4ebff;}#sk-container-id-1 div.sk-serial::before {content: \"\";position: absolute;border-left: 1px solid gray;box-sizing: border-box;top: 0;bottom: 0;left: 50%;z-index: 0;}#sk-container-id-1 div.sk-serial {display: flex;flex-direction: column;align-items: center;background-color: white;padding-right: 0.2em;padding-left: 0.2em;position: relative;}#sk-container-id-1 div.sk-item {position: relative;z-index: 1;}#sk-container-id-1 div.sk-parallel {display: flex;align-items: stretch;justify-content: center;background-color: white;position: relative;}#sk-container-id-1 div.sk-item::before, #sk-container-id-1 div.sk-parallel-item::before {content: \"\";position: absolute;border-left: 1px solid gray;box-sizing: border-box;top: 0;bottom: 0;left: 50%;z-index: -1;}#sk-container-id-1 div.sk-parallel-item {display: flex;flex-direction: column;z-index: 1;position: relative;background-color: white;}#sk-container-id-1 div.sk-parallel-item:first-child::after {align-self: flex-end;width: 50%;}#sk-container-id-1 div.sk-parallel-item:last-child::after {align-self: flex-start;width: 50%;}#sk-container-id-1 div.sk-parallel-item:only-child::after {width: 0;}#sk-container-id-1 div.sk-dashed-wrapped {border: 1px dashed gray;margin: 0 0.4em 0.5em 0.4em;box-sizing: border-box;padding-bottom: 0.4em;background-color: white;}#sk-container-id-1 div.sk-label label {font-family: monospace;font-weight: bold;display: inline-block;line-height: 1.2em;}#sk-container-id-1 div.sk-label-container {text-align: center;}#sk-container-id-1 div.sk-container {/* jupyter's `normalize.less` sets `[hidden] { display: none; }` but bootstrap.min.css set `[hidden] { display: none !important; }` so we also need the `!important` here to be able to override the default hidden behavior on the sphinx rendered scikit-learn.org. See: https://github.com/scikit-learn/scikit-learn/issues/21755 */display: inline-block !important;position: relative;}#sk-container-id-1 div.sk-text-repr-fallback {display: none;}</style><div id=\"sk-container-id-1\" class=\"sk-top-container\"><div class=\"sk-text-repr-fallback\"><pre>GridSearchCV(cv=KFold(n_splits=5, random_state=23, shuffle=True),\n",
       "             estimator=ElasticNet(),\n",
       "             param_grid={&#x27;alpha&#x27;: array([1.00000e-03, 1.25075e+00, 2.50050e+00, 3.75025e+00, 5.00000e+00]),\n",
       "                         &#x27;l1_ratio&#x27;: array([0.  , 0.25, 0.5 , 0.75, 1.  ])},\n",
       "             scoring=&#x27;r2&#x27;, verbose=3)</pre><b>In a Jupyter environment, please rerun this cell to show the HTML representation or trust the notebook. <br />On GitHub, the HTML representation is unable to render, please try loading this page with nbviewer.org.</b></div><div class=\"sk-container\" hidden><div class=\"sk-item sk-dashed-wrapped\"><div class=\"sk-label-container\"><div class=\"sk-label sk-toggleable\"><input class=\"sk-toggleable__control sk-hidden--visually\" id=\"sk-estimator-id-1\" type=\"checkbox\" ><label for=\"sk-estimator-id-1\" class=\"sk-toggleable__label sk-toggleable__label-arrow\">GridSearchCV</label><div class=\"sk-toggleable__content\"><pre>GridSearchCV(cv=KFold(n_splits=5, random_state=23, shuffle=True),\n",
       "             estimator=ElasticNet(),\n",
       "             param_grid={&#x27;alpha&#x27;: array([1.00000e-03, 1.25075e+00, 2.50050e+00, 3.75025e+00, 5.00000e+00]),\n",
       "                         &#x27;l1_ratio&#x27;: array([0.  , 0.25, 0.5 , 0.75, 1.  ])},\n",
       "             scoring=&#x27;r2&#x27;, verbose=3)</pre></div></div></div><div class=\"sk-parallel\"><div class=\"sk-parallel-item\"><div class=\"sk-item\"><div class=\"sk-label-container\"><div class=\"sk-label sk-toggleable\"><input class=\"sk-toggleable__control sk-hidden--visually\" id=\"sk-estimator-id-2\" type=\"checkbox\" ><label for=\"sk-estimator-id-2\" class=\"sk-toggleable__label sk-toggleable__label-arrow\">estimator: ElasticNet</label><div class=\"sk-toggleable__content\"><pre>ElasticNet()</pre></div></div></div><div class=\"sk-serial\"><div class=\"sk-item\"><div class=\"sk-estimator sk-toggleable\"><input class=\"sk-toggleable__control sk-hidden--visually\" id=\"sk-estimator-id-3\" type=\"checkbox\" ><label for=\"sk-estimator-id-3\" class=\"sk-toggleable__label sk-toggleable__label-arrow\">ElasticNet</label><div class=\"sk-toggleable__content\"><pre>ElasticNet()</pre></div></div></div></div></div></div></div></div></div></div>"
      ],
      "text/plain": [
       "GridSearchCV(cv=KFold(n_splits=5, random_state=23, shuffle=True),\n",
       "             estimator=ElasticNet(),\n",
       "             param_grid={'alpha': array([1.00000e-03, 1.25075e+00, 2.50050e+00, 3.75025e+00, 5.00000e+00]),\n",
       "                         'l1_ratio': array([0.  , 0.25, 0.5 , 0.75, 1.  ])},\n",
       "             scoring='r2', verbose=3)"
      ]
     },
     "execution_count": 8,
     "metadata": {},
     "output_type": "execute_result"
    }
   ],
   "source": [
    "##ElasticNet\n",
    "elastic=ElasticNet()\n",
    "params={'alpha':np.linspace(0.001,5,5),'l1_ratio':np.linspace(0,1,5)}\n",
    "gcv=GridSearchCV(elastic,param_grid=params,cv=kfold,scoring='r2',verbose=3)\n",
    "gcv.fit(X,y)"
   ]
  },
  {
   "cell_type": "code",
   "execution_count": 9,
   "id": "cf7f399d",
   "metadata": {},
   "outputs": [
    {
     "name": "stdout",
     "output_type": "stream",
     "text": [
      "best parameter : {'alpha': 0.001, 'l1_ratio': 1.0}\n",
      "best score : 0.550397681067038\n"
     ]
    }
   ],
   "source": [
    "print(\"best parameter :\",gcv.best_params_)\n",
    "print(\"best score :\",gcv.best_score_)\n",
    "elastic_score=gcv.best_score_"
   ]
  },
  {
   "cell_type": "code",
   "execution_count": 10,
   "id": "552a968f",
   "metadata": {},
   "outputs": [
    {
     "data": {
      "text/html": [
       "<style>#sk-container-id-2 {color: black;}#sk-container-id-2 pre{padding: 0;}#sk-container-id-2 div.sk-toggleable {background-color: white;}#sk-container-id-2 label.sk-toggleable__label {cursor: pointer;display: block;width: 100%;margin-bottom: 0;padding: 0.3em;box-sizing: border-box;text-align: center;}#sk-container-id-2 label.sk-toggleable__label-arrow:before {content: \"▸\";float: left;margin-right: 0.25em;color: #696969;}#sk-container-id-2 label.sk-toggleable__label-arrow:hover:before {color: black;}#sk-container-id-2 div.sk-estimator:hover label.sk-toggleable__label-arrow:before {color: black;}#sk-container-id-2 div.sk-toggleable__content {max-height: 0;max-width: 0;overflow: hidden;text-align: left;background-color: #f0f8ff;}#sk-container-id-2 div.sk-toggleable__content pre {margin: 0.2em;color: black;border-radius: 0.25em;background-color: #f0f8ff;}#sk-container-id-2 input.sk-toggleable__control:checked~div.sk-toggleable__content {max-height: 200px;max-width: 100%;overflow: auto;}#sk-container-id-2 input.sk-toggleable__control:checked~label.sk-toggleable__label-arrow:before {content: \"▾\";}#sk-container-id-2 div.sk-estimator input.sk-toggleable__control:checked~label.sk-toggleable__label {background-color: #d4ebff;}#sk-container-id-2 div.sk-label input.sk-toggleable__control:checked~label.sk-toggleable__label {background-color: #d4ebff;}#sk-container-id-2 input.sk-hidden--visually {border: 0;clip: rect(1px 1px 1px 1px);clip: rect(1px, 1px, 1px, 1px);height: 1px;margin: -1px;overflow: hidden;padding: 0;position: absolute;width: 1px;}#sk-container-id-2 div.sk-estimator {font-family: monospace;background-color: #f0f8ff;border: 1px dotted black;border-radius: 0.25em;box-sizing: border-box;margin-bottom: 0.5em;}#sk-container-id-2 div.sk-estimator:hover {background-color: #d4ebff;}#sk-container-id-2 div.sk-parallel-item::after {content: \"\";width: 100%;border-bottom: 1px solid gray;flex-grow: 1;}#sk-container-id-2 div.sk-label:hover label.sk-toggleable__label {background-color: #d4ebff;}#sk-container-id-2 div.sk-serial::before {content: \"\";position: absolute;border-left: 1px solid gray;box-sizing: border-box;top: 0;bottom: 0;left: 50%;z-index: 0;}#sk-container-id-2 div.sk-serial {display: flex;flex-direction: column;align-items: center;background-color: white;padding-right: 0.2em;padding-left: 0.2em;position: relative;}#sk-container-id-2 div.sk-item {position: relative;z-index: 1;}#sk-container-id-2 div.sk-parallel {display: flex;align-items: stretch;justify-content: center;background-color: white;position: relative;}#sk-container-id-2 div.sk-item::before, #sk-container-id-2 div.sk-parallel-item::before {content: \"\";position: absolute;border-left: 1px solid gray;box-sizing: border-box;top: 0;bottom: 0;left: 50%;z-index: -1;}#sk-container-id-2 div.sk-parallel-item {display: flex;flex-direction: column;z-index: 1;position: relative;background-color: white;}#sk-container-id-2 div.sk-parallel-item:first-child::after {align-self: flex-end;width: 50%;}#sk-container-id-2 div.sk-parallel-item:last-child::after {align-self: flex-start;width: 50%;}#sk-container-id-2 div.sk-parallel-item:only-child::after {width: 0;}#sk-container-id-2 div.sk-dashed-wrapped {border: 1px dashed gray;margin: 0 0.4em 0.5em 0.4em;box-sizing: border-box;padding-bottom: 0.4em;background-color: white;}#sk-container-id-2 div.sk-label label {font-family: monospace;font-weight: bold;display: inline-block;line-height: 1.2em;}#sk-container-id-2 div.sk-label-container {text-align: center;}#sk-container-id-2 div.sk-container {/* jupyter's `normalize.less` sets `[hidden] { display: none; }` but bootstrap.min.css set `[hidden] { display: none !important; }` so we also need the `!important` here to be able to override the default hidden behavior on the sphinx rendered scikit-learn.org. See: https://github.com/scikit-learn/scikit-learn/issues/21755 */display: inline-block !important;position: relative;}#sk-container-id-2 div.sk-text-repr-fallback {display: none;}</style><div id=\"sk-container-id-2\" class=\"sk-top-container\"><div class=\"sk-text-repr-fallback\"><pre>GridSearchCV(cv=KFold(n_splits=5, random_state=23, shuffle=True),\n",
       "             estimator=Pipeline(steps=[(&#x27;SCL&#x27;, StandardScaler()),\n",
       "                                       (&#x27;KNR&#x27;, KNeighborsRegressor())]),\n",
       "             param_grid={&#x27;KNR__n_neighbors&#x27;: [1, 2, 3, 4, 5],\n",
       "                         &#x27;SCL&#x27;: [StandardScaler(), MinMaxScaler()]},\n",
       "             scoring=&#x27;r2&#x27;)</pre><b>In a Jupyter environment, please rerun this cell to show the HTML representation or trust the notebook. <br />On GitHub, the HTML representation is unable to render, please try loading this page with nbviewer.org.</b></div><div class=\"sk-container\" hidden><div class=\"sk-item sk-dashed-wrapped\"><div class=\"sk-label-container\"><div class=\"sk-label sk-toggleable\"><input class=\"sk-toggleable__control sk-hidden--visually\" id=\"sk-estimator-id-4\" type=\"checkbox\" ><label for=\"sk-estimator-id-4\" class=\"sk-toggleable__label sk-toggleable__label-arrow\">GridSearchCV</label><div class=\"sk-toggleable__content\"><pre>GridSearchCV(cv=KFold(n_splits=5, random_state=23, shuffle=True),\n",
       "             estimator=Pipeline(steps=[(&#x27;SCL&#x27;, StandardScaler()),\n",
       "                                       (&#x27;KNR&#x27;, KNeighborsRegressor())]),\n",
       "             param_grid={&#x27;KNR__n_neighbors&#x27;: [1, 2, 3, 4, 5],\n",
       "                         &#x27;SCL&#x27;: [StandardScaler(), MinMaxScaler()]},\n",
       "             scoring=&#x27;r2&#x27;)</pre></div></div></div><div class=\"sk-parallel\"><div class=\"sk-parallel-item\"><div class=\"sk-item\"><div class=\"sk-label-container\"><div class=\"sk-label sk-toggleable\"><input class=\"sk-toggleable__control sk-hidden--visually\" id=\"sk-estimator-id-5\" type=\"checkbox\" ><label for=\"sk-estimator-id-5\" class=\"sk-toggleable__label sk-toggleable__label-arrow\">estimator: Pipeline</label><div class=\"sk-toggleable__content\"><pre>Pipeline(steps=[(&#x27;SCL&#x27;, StandardScaler()), (&#x27;KNR&#x27;, KNeighborsRegressor())])</pre></div></div></div><div class=\"sk-serial\"><div class=\"sk-item\"><div class=\"sk-serial\"><div class=\"sk-item\"><div class=\"sk-estimator sk-toggleable\"><input class=\"sk-toggleable__control sk-hidden--visually\" id=\"sk-estimator-id-6\" type=\"checkbox\" ><label for=\"sk-estimator-id-6\" class=\"sk-toggleable__label sk-toggleable__label-arrow\">StandardScaler</label><div class=\"sk-toggleable__content\"><pre>StandardScaler()</pre></div></div></div><div class=\"sk-item\"><div class=\"sk-estimator sk-toggleable\"><input class=\"sk-toggleable__control sk-hidden--visually\" id=\"sk-estimator-id-7\" type=\"checkbox\" ><label for=\"sk-estimator-id-7\" class=\"sk-toggleable__label sk-toggleable__label-arrow\">KNeighborsRegressor</label><div class=\"sk-toggleable__content\"><pre>KNeighborsRegressor()</pre></div></div></div></div></div></div></div></div></div></div></div></div>"
      ],
      "text/plain": [
       "GridSearchCV(cv=KFold(n_splits=5, random_state=23, shuffle=True),\n",
       "             estimator=Pipeline(steps=[('SCL', StandardScaler()),\n",
       "                                       ('KNR', KNeighborsRegressor())]),\n",
       "             param_grid={'KNR__n_neighbors': [1, 2, 3, 4, 5],\n",
       "                         'SCL': [StandardScaler(), MinMaxScaler()]},\n",
       "             scoring='r2')"
      ]
     },
     "execution_count": 10,
     "metadata": {},
     "output_type": "execute_result"
    }
   ],
   "source": [
    "##KNR\n",
    "scaler=StandardScaler()\n",
    "knr=KNeighborsRegressor()\n",
    "pipe=Pipeline([('SCL',scaler),('KNR',knr)])\n",
    "params={'KNR__n_neighbors':[1,2,3,4,5],'SCL':[StandardScaler(),MinMaxScaler()]}\n",
    "gcv=GridSearchCV(pipe,param_grid=params,cv=kfold,scoring='r2')\n",
    "gcv.fit(X,y)"
   ]
  },
  {
   "cell_type": "code",
   "execution_count": 11,
   "id": "2eb382a8",
   "metadata": {},
   "outputs": [
    {
     "name": "stdout",
     "output_type": "stream",
     "text": [
      "best parameter : {'KNR__n_neighbors': 5, 'SCL': MinMaxScaler()}\n",
      "best score : 0.5031878091238833\n"
     ]
    }
   ],
   "source": [
    "print(\"best parameter :\",gcv.best_params_)\n",
    "print(\"best score :\",gcv.best_score_)\n",
    "knr_score=gcv.best_score_"
   ]
  },
  {
   "cell_type": "code",
   "execution_count": 12,
   "id": "72aea214",
   "metadata": {},
   "outputs": [
    {
     "data": {
      "text/html": [
       "<style>#sk-container-id-3 {color: black;}#sk-container-id-3 pre{padding: 0;}#sk-container-id-3 div.sk-toggleable {background-color: white;}#sk-container-id-3 label.sk-toggleable__label {cursor: pointer;display: block;width: 100%;margin-bottom: 0;padding: 0.3em;box-sizing: border-box;text-align: center;}#sk-container-id-3 label.sk-toggleable__label-arrow:before {content: \"▸\";float: left;margin-right: 0.25em;color: #696969;}#sk-container-id-3 label.sk-toggleable__label-arrow:hover:before {color: black;}#sk-container-id-3 div.sk-estimator:hover label.sk-toggleable__label-arrow:before {color: black;}#sk-container-id-3 div.sk-toggleable__content {max-height: 0;max-width: 0;overflow: hidden;text-align: left;background-color: #f0f8ff;}#sk-container-id-3 div.sk-toggleable__content pre {margin: 0.2em;color: black;border-radius: 0.25em;background-color: #f0f8ff;}#sk-container-id-3 input.sk-toggleable__control:checked~div.sk-toggleable__content {max-height: 200px;max-width: 100%;overflow: auto;}#sk-container-id-3 input.sk-toggleable__control:checked~label.sk-toggleable__label-arrow:before {content: \"▾\";}#sk-container-id-3 div.sk-estimator input.sk-toggleable__control:checked~label.sk-toggleable__label {background-color: #d4ebff;}#sk-container-id-3 div.sk-label input.sk-toggleable__control:checked~label.sk-toggleable__label {background-color: #d4ebff;}#sk-container-id-3 input.sk-hidden--visually {border: 0;clip: rect(1px 1px 1px 1px);clip: rect(1px, 1px, 1px, 1px);height: 1px;margin: -1px;overflow: hidden;padding: 0;position: absolute;width: 1px;}#sk-container-id-3 div.sk-estimator {font-family: monospace;background-color: #f0f8ff;border: 1px dotted black;border-radius: 0.25em;box-sizing: border-box;margin-bottom: 0.5em;}#sk-container-id-3 div.sk-estimator:hover {background-color: #d4ebff;}#sk-container-id-3 div.sk-parallel-item::after {content: \"\";width: 100%;border-bottom: 1px solid gray;flex-grow: 1;}#sk-container-id-3 div.sk-label:hover label.sk-toggleable__label {background-color: #d4ebff;}#sk-container-id-3 div.sk-serial::before {content: \"\";position: absolute;border-left: 1px solid gray;box-sizing: border-box;top: 0;bottom: 0;left: 50%;z-index: 0;}#sk-container-id-3 div.sk-serial {display: flex;flex-direction: column;align-items: center;background-color: white;padding-right: 0.2em;padding-left: 0.2em;position: relative;}#sk-container-id-3 div.sk-item {position: relative;z-index: 1;}#sk-container-id-3 div.sk-parallel {display: flex;align-items: stretch;justify-content: center;background-color: white;position: relative;}#sk-container-id-3 div.sk-item::before, #sk-container-id-3 div.sk-parallel-item::before {content: \"\";position: absolute;border-left: 1px solid gray;box-sizing: border-box;top: 0;bottom: 0;left: 50%;z-index: -1;}#sk-container-id-3 div.sk-parallel-item {display: flex;flex-direction: column;z-index: 1;position: relative;background-color: white;}#sk-container-id-3 div.sk-parallel-item:first-child::after {align-self: flex-end;width: 50%;}#sk-container-id-3 div.sk-parallel-item:last-child::after {align-self: flex-start;width: 50%;}#sk-container-id-3 div.sk-parallel-item:only-child::after {width: 0;}#sk-container-id-3 div.sk-dashed-wrapped {border: 1px dashed gray;margin: 0 0.4em 0.5em 0.4em;box-sizing: border-box;padding-bottom: 0.4em;background-color: white;}#sk-container-id-3 div.sk-label label {font-family: monospace;font-weight: bold;display: inline-block;line-height: 1.2em;}#sk-container-id-3 div.sk-label-container {text-align: center;}#sk-container-id-3 div.sk-container {/* jupyter's `normalize.less` sets `[hidden] { display: none; }` but bootstrap.min.css set `[hidden] { display: none !important; }` so we also need the `!important` here to be able to override the default hidden behavior on the sphinx rendered scikit-learn.org. See: https://github.com/scikit-learn/scikit-learn/issues/21755 */display: inline-block !important;position: relative;}#sk-container-id-3 div.sk-text-repr-fallback {display: none;}</style><div id=\"sk-container-id-3\" class=\"sk-top-container\"><div class=\"sk-text-repr-fallback\"><pre>GridSearchCV(cv=KFold(n_splits=5, random_state=23, shuffle=True),\n",
       "             estimator=DecisionTreeRegressor(),\n",
       "             param_grid={&#x27;max_depth&#x27;: [None, 3, 5],\n",
       "                         &#x27;min_samples_leaf&#x27;: [1, 5, 10],\n",
       "                         &#x27;min_samples_split&#x27;: [2, 5, 10]},\n",
       "             scoring=&#x27;r2&#x27;)</pre><b>In a Jupyter environment, please rerun this cell to show the HTML representation or trust the notebook. <br />On GitHub, the HTML representation is unable to render, please try loading this page with nbviewer.org.</b></div><div class=\"sk-container\" hidden><div class=\"sk-item sk-dashed-wrapped\"><div class=\"sk-label-container\"><div class=\"sk-label sk-toggleable\"><input class=\"sk-toggleable__control sk-hidden--visually\" id=\"sk-estimator-id-8\" type=\"checkbox\" ><label for=\"sk-estimator-id-8\" class=\"sk-toggleable__label sk-toggleable__label-arrow\">GridSearchCV</label><div class=\"sk-toggleable__content\"><pre>GridSearchCV(cv=KFold(n_splits=5, random_state=23, shuffle=True),\n",
       "             estimator=DecisionTreeRegressor(),\n",
       "             param_grid={&#x27;max_depth&#x27;: [None, 3, 5],\n",
       "                         &#x27;min_samples_leaf&#x27;: [1, 5, 10],\n",
       "                         &#x27;min_samples_split&#x27;: [2, 5, 10]},\n",
       "             scoring=&#x27;r2&#x27;)</pre></div></div></div><div class=\"sk-parallel\"><div class=\"sk-parallel-item\"><div class=\"sk-item\"><div class=\"sk-label-container\"><div class=\"sk-label sk-toggleable\"><input class=\"sk-toggleable__control sk-hidden--visually\" id=\"sk-estimator-id-9\" type=\"checkbox\" ><label for=\"sk-estimator-id-9\" class=\"sk-toggleable__label sk-toggleable__label-arrow\">estimator: DecisionTreeRegressor</label><div class=\"sk-toggleable__content\"><pre>DecisionTreeRegressor()</pre></div></div></div><div class=\"sk-serial\"><div class=\"sk-item\"><div class=\"sk-estimator sk-toggleable\"><input class=\"sk-toggleable__control sk-hidden--visually\" id=\"sk-estimator-id-10\" type=\"checkbox\" ><label for=\"sk-estimator-id-10\" class=\"sk-toggleable__label sk-toggleable__label-arrow\">DecisionTreeRegressor</label><div class=\"sk-toggleable__content\"><pre>DecisionTreeRegressor()</pre></div></div></div></div></div></div></div></div></div></div>"
      ],
      "text/plain": [
       "GridSearchCV(cv=KFold(n_splits=5, random_state=23, shuffle=True),\n",
       "             estimator=DecisionTreeRegressor(),\n",
       "             param_grid={'max_depth': [None, 3, 5],\n",
       "                         'min_samples_leaf': [1, 5, 10],\n",
       "                         'min_samples_split': [2, 5, 10]},\n",
       "             scoring='r2')"
      ]
     },
     "execution_count": 12,
     "metadata": {},
     "output_type": "execute_result"
    }
   ],
   "source": [
    "##DTR\n",
    "dtr=DecisionTreeRegressor()\n",
    "params={'max_depth':[None,3,5],'min_samples_split':[2,5,10],'min_samples_leaf':[1,5,10]}\n",
    "gcv=GridSearchCV(dtr,param_grid=params,cv=kfold,scoring='r2')\n",
    "gcv.fit(X,y)"
   ]
  },
  {
   "cell_type": "code",
   "execution_count": 13,
   "id": "22d824ed",
   "metadata": {},
   "outputs": [
    {
     "name": "stdout",
     "output_type": "stream",
     "text": [
      "best parameter : {'max_depth': 5, 'min_samples_leaf': 5, 'min_samples_split': 2}\n",
      "best score : 0.5318032288555548\n"
     ]
    }
   ],
   "source": [
    "print(\"best parameter :\",gcv.best_params_)\n",
    "print(\"best score :\",gcv.best_score_)\n",
    "dtr_score=gcv.best_score_"
   ]
  },
  {
   "cell_type": "markdown",
   "id": "18aab553",
   "metadata": {},
   "source": [
    "## Unweighted Voting"
   ]
  },
  {
   "cell_type": "code",
   "execution_count": 16,
   "id": "ec0ee68e",
   "metadata": {},
   "outputs": [],
   "source": [
    "voting=VotingRegressor(estimators=[('Elastic',elastic),('KNR',pipe),('DTR',dtr)])"
   ]
  },
  {
   "cell_type": "code",
   "execution_count": 18,
   "id": "37b1efdb",
   "metadata": {
    "scrolled": true
   },
   "outputs": [
    {
     "name": "stdout",
     "output_type": "stream",
     "text": [
      "Fitting 5 folds for each of 10 candidates, totalling 50 fits\n",
      "[CV 1/5] END DTR__max_depth=None, DTR__min_samples_leaf=1, DTR__min_samples_split=10, Elastic__alpha=5.0, Elastic__l1_ratio=1.0, KNR__KNR__n_neighbors=2, KNR__SCL=MinMaxScaler();, score=0.503 total time=   1.9s\n",
      "[CV 2/5] END DTR__max_depth=None, DTR__min_samples_leaf=1, DTR__min_samples_split=10, Elastic__alpha=5.0, Elastic__l1_ratio=1.0, KNR__KNR__n_neighbors=2, KNR__SCL=MinMaxScaler();, score=0.510 total time=   2.3s\n",
      "[CV 3/5] END DTR__max_depth=None, DTR__min_samples_leaf=1, DTR__min_samples_split=10, Elastic__alpha=5.0, Elastic__l1_ratio=1.0, KNR__KNR__n_neighbors=2, KNR__SCL=MinMaxScaler();, score=0.509 total time=   1.7s\n",
      "[CV 4/5] END DTR__max_depth=None, DTR__min_samples_leaf=1, DTR__min_samples_split=10, Elastic__alpha=5.0, Elastic__l1_ratio=1.0, KNR__KNR__n_neighbors=2, KNR__SCL=MinMaxScaler();, score=0.500 total time=   1.7s\n",
      "[CV 5/5] END DTR__max_depth=None, DTR__min_samples_leaf=1, DTR__min_samples_split=10, Elastic__alpha=5.0, Elastic__l1_ratio=1.0, KNR__KNR__n_neighbors=2, KNR__SCL=MinMaxScaler();, score=0.500 total time=   1.7s\n",
      "[CV 1/5] END DTR__max_depth=5, DTR__min_samples_leaf=10, DTR__min_samples_split=2, Elastic__alpha=0.001, Elastic__l1_ratio=1.0, KNR__KNR__n_neighbors=4, KNR__SCL=StandardScaler();, score=0.555 total time=   1.5s\n",
      "[CV 2/5] END DTR__max_depth=5, DTR__min_samples_leaf=10, DTR__min_samples_split=2, Elastic__alpha=0.001, Elastic__l1_ratio=1.0, KNR__KNR__n_neighbors=4, KNR__SCL=StandardScaler();, score=0.566 total time=   1.8s\n",
      "[CV 3/5] END DTR__max_depth=5, DTR__min_samples_leaf=10, DTR__min_samples_split=2, Elastic__alpha=0.001, Elastic__l1_ratio=1.0, KNR__KNR__n_neighbors=4, KNR__SCL=StandardScaler();, score=0.572 total time=   1.6s\n",
      "[CV 4/5] END DTR__max_depth=5, DTR__min_samples_leaf=10, DTR__min_samples_split=2, Elastic__alpha=0.001, Elastic__l1_ratio=1.0, KNR__KNR__n_neighbors=4, KNR__SCL=StandardScaler();, score=0.554 total time=   1.5s\n",
      "[CV 5/5] END DTR__max_depth=5, DTR__min_samples_leaf=10, DTR__min_samples_split=2, Elastic__alpha=0.001, Elastic__l1_ratio=1.0, KNR__KNR__n_neighbors=4, KNR__SCL=StandardScaler();, score=0.558 total time=   1.6s\n",
      "[CV 1/5] END DTR__max_depth=None, DTR__min_samples_leaf=5, DTR__min_samples_split=10, Elastic__alpha=1.2507499999999998, Elastic__l1_ratio=0.75, KNR__KNR__n_neighbors=1, KNR__SCL=StandardScaler();, score=0.491 total time=   1.6s\n",
      "[CV 2/5] END DTR__max_depth=None, DTR__min_samples_leaf=5, DTR__min_samples_split=10, Elastic__alpha=1.2507499999999998, Elastic__l1_ratio=0.75, KNR__KNR__n_neighbors=1, KNR__SCL=StandardScaler();, score=0.500 total time=   1.3s\n",
      "[CV 3/5] END DTR__max_depth=None, DTR__min_samples_leaf=5, DTR__min_samples_split=10, Elastic__alpha=1.2507499999999998, Elastic__l1_ratio=0.75, KNR__KNR__n_neighbors=1, KNR__SCL=StandardScaler();, score=0.501 total time=   1.3s\n",
      "[CV 4/5] END DTR__max_depth=None, DTR__min_samples_leaf=5, DTR__min_samples_split=10, Elastic__alpha=1.2507499999999998, Elastic__l1_ratio=0.75, KNR__KNR__n_neighbors=1, KNR__SCL=StandardScaler();, score=0.489 total time=   1.6s\n",
      "[CV 5/5] END DTR__max_depth=None, DTR__min_samples_leaf=5, DTR__min_samples_split=10, Elastic__alpha=1.2507499999999998, Elastic__l1_ratio=0.75, KNR__KNR__n_neighbors=1, KNR__SCL=StandardScaler();, score=0.492 total time=   1.3s\n",
      "[CV 1/5] END DTR__max_depth=3, DTR__min_samples_leaf=1, DTR__min_samples_split=2, Elastic__alpha=5.0, Elastic__l1_ratio=1.0, KNR__KNR__n_neighbors=1, KNR__SCL=MinMaxScaler();, score=0.468 total time=   1.3s\n",
      "[CV 2/5] END DTR__max_depth=3, DTR__min_samples_leaf=1, DTR__min_samples_split=2, Elastic__alpha=5.0, Elastic__l1_ratio=1.0, KNR__KNR__n_neighbors=1, KNR__SCL=MinMaxScaler();, score=0.474 total time=   1.2s\n",
      "[CV 3/5] END DTR__max_depth=3, DTR__min_samples_leaf=1, DTR__min_samples_split=2, Elastic__alpha=5.0, Elastic__l1_ratio=1.0, KNR__KNR__n_neighbors=1, KNR__SCL=MinMaxScaler();, score=0.481 total time=   1.2s\n",
      "[CV 4/5] END DTR__max_depth=3, DTR__min_samples_leaf=1, DTR__min_samples_split=2, Elastic__alpha=5.0, Elastic__l1_ratio=1.0, KNR__KNR__n_neighbors=1, KNR__SCL=MinMaxScaler();, score=0.469 total time=   1.4s\n",
      "[CV 5/5] END DTR__max_depth=3, DTR__min_samples_leaf=1, DTR__min_samples_split=2, Elastic__alpha=5.0, Elastic__l1_ratio=1.0, KNR__KNR__n_neighbors=1, KNR__SCL=MinMaxScaler();, score=0.466 total time=   1.3s\n",
      "[CV 1/5] END DTR__max_depth=3, DTR__min_samples_leaf=5, DTR__min_samples_split=10, Elastic__alpha=5.0, Elastic__l1_ratio=1.0, KNR__KNR__n_neighbors=4, KNR__SCL=StandardScaler();, score=0.496 total time=   1.2s\n",
      "[CV 2/5] END DTR__max_depth=3, DTR__min_samples_leaf=5, DTR__min_samples_split=10, Elastic__alpha=5.0, Elastic__l1_ratio=1.0, KNR__KNR__n_neighbors=4, KNR__SCL=StandardScaler();, score=0.504 total time=   1.5s\n",
      "[CV 3/5] END DTR__max_depth=3, DTR__min_samples_leaf=5, DTR__min_samples_split=10, Elastic__alpha=5.0, Elastic__l1_ratio=1.0, KNR__KNR__n_neighbors=4, KNR__SCL=StandardScaler();, score=0.511 total time=   1.3s\n",
      "[CV 4/5] END DTR__max_depth=3, DTR__min_samples_leaf=5, DTR__min_samples_split=10, Elastic__alpha=5.0, Elastic__l1_ratio=1.0, KNR__KNR__n_neighbors=4, KNR__SCL=StandardScaler();, score=0.495 total time=   1.4s\n",
      "[CV 5/5] END DTR__max_depth=3, DTR__min_samples_leaf=5, DTR__min_samples_split=10, Elastic__alpha=5.0, Elastic__l1_ratio=1.0, KNR__KNR__n_neighbors=4, KNR__SCL=StandardScaler();, score=0.494 total time=   1.5s\n",
      "[CV 1/5] END DTR__max_depth=None, DTR__min_samples_leaf=10, DTR__min_samples_split=5, Elastic__alpha=2.5004999999999997, Elastic__l1_ratio=1.0, KNR__KNR__n_neighbors=1, KNR__SCL=StandardScaler();, score=0.496 total time=   1.2s\n",
      "[CV 2/5] END DTR__max_depth=None, DTR__min_samples_leaf=10, DTR__min_samples_split=5, Elastic__alpha=2.5004999999999997, Elastic__l1_ratio=1.0, KNR__KNR__n_neighbors=1, KNR__SCL=StandardScaler();, score=0.505 total time=   1.5s\n",
      "[CV 3/5] END DTR__max_depth=None, DTR__min_samples_leaf=10, DTR__min_samples_split=5, Elastic__alpha=2.5004999999999997, Elastic__l1_ratio=1.0, KNR__KNR__n_neighbors=1, KNR__SCL=StandardScaler();, score=0.508 total time=   1.3s\n",
      "[CV 4/5] END DTR__max_depth=None, DTR__min_samples_leaf=10, DTR__min_samples_split=5, Elastic__alpha=2.5004999999999997, Elastic__l1_ratio=1.0, KNR__KNR__n_neighbors=1, KNR__SCL=StandardScaler();, score=0.498 total time=   1.4s\n",
      "[CV 5/5] END DTR__max_depth=None, DTR__min_samples_leaf=10, DTR__min_samples_split=5, Elastic__alpha=2.5004999999999997, Elastic__l1_ratio=1.0, KNR__KNR__n_neighbors=1, KNR__SCL=StandardScaler();, score=0.496 total time=   1.2s\n"
     ]
    },
    {
     "name": "stderr",
     "output_type": "stream",
     "text": [
      "/home/dai/anaconda3/lib/python3.11/site-packages/sklearn/linear_model/_coordinate_descent.py:628: ConvergenceWarning: Objective did not converge. You might want to increase the number of iterations, check the scale of the features or consider increasing regularisation. Duality gap: 1.740e+05, tolerance: 5.983e+01 Linear regression models with null weight for the l1 regularization term are more efficiently fitted using one of the solvers implemented in sklearn.linear_model.Ridge/RidgeCV instead.\n",
      "  model = cd_fast.enet_coordinate_descent(\n"
     ]
    },
    {
     "name": "stdout",
     "output_type": "stream",
     "text": [
      "[CV 1/5] END DTR__max_depth=3, DTR__min_samples_leaf=1, DTR__min_samples_split=10, Elastic__alpha=2.5004999999999997, Elastic__l1_ratio=0.0, KNR__KNR__n_neighbors=3, KNR__SCL=MinMaxScaler();, score=0.519 total time=   2.0s\n"
     ]
    },
    {
     "name": "stderr",
     "output_type": "stream",
     "text": [
      "/home/dai/anaconda3/lib/python3.11/site-packages/sklearn/linear_model/_coordinate_descent.py:628: ConvergenceWarning: Objective did not converge. You might want to increase the number of iterations, check the scale of the features or consider increasing regularisation. Duality gap: 1.745e+05, tolerance: 5.992e+01 Linear regression models with null weight for the l1 regularization term are more efficiently fitted using one of the solvers implemented in sklearn.linear_model.Ridge/RidgeCV instead.\n",
      "  model = cd_fast.enet_coordinate_descent(\n"
     ]
    },
    {
     "name": "stdout",
     "output_type": "stream",
     "text": [
      "[CV 2/5] END DTR__max_depth=3, DTR__min_samples_leaf=1, DTR__min_samples_split=10, Elastic__alpha=2.5004999999999997, Elastic__l1_ratio=0.0, KNR__KNR__n_neighbors=3, KNR__SCL=MinMaxScaler();, score=0.527 total time=   1.9s\n"
     ]
    },
    {
     "name": "stderr",
     "output_type": "stream",
     "text": [
      "/home/dai/anaconda3/lib/python3.11/site-packages/sklearn/linear_model/_coordinate_descent.py:628: ConvergenceWarning: Objective did not converge. You might want to increase the number of iterations, check the scale of the features or consider increasing regularisation. Duality gap: 1.740e+05, tolerance: 5.958e+01 Linear regression models with null weight for the l1 regularization term are more efficiently fitted using one of the solvers implemented in sklearn.linear_model.Ridge/RidgeCV instead.\n",
      "  model = cd_fast.enet_coordinate_descent(\n"
     ]
    },
    {
     "name": "stdout",
     "output_type": "stream",
     "text": [
      "[CV 3/5] END DTR__max_depth=3, DTR__min_samples_leaf=1, DTR__min_samples_split=10, Elastic__alpha=2.5004999999999997, Elastic__l1_ratio=0.0, KNR__KNR__n_neighbors=3, KNR__SCL=MinMaxScaler();, score=0.533 total time=   1.8s\n"
     ]
    },
    {
     "name": "stderr",
     "output_type": "stream",
     "text": [
      "/home/dai/anaconda3/lib/python3.11/site-packages/sklearn/linear_model/_coordinate_descent.py:628: ConvergenceWarning: Objective did not converge. You might want to increase the number of iterations, check the scale of the features or consider increasing regularisation. Duality gap: 1.733e+05, tolerance: 5.979e+01 Linear regression models with null weight for the l1 regularization term are more efficiently fitted using one of the solvers implemented in sklearn.linear_model.Ridge/RidgeCV instead.\n",
      "  model = cd_fast.enet_coordinate_descent(\n"
     ]
    },
    {
     "name": "stdout",
     "output_type": "stream",
     "text": [
      "[CV 4/5] END DTR__max_depth=3, DTR__min_samples_leaf=1, DTR__min_samples_split=10, Elastic__alpha=2.5004999999999997, Elastic__l1_ratio=0.0, KNR__KNR__n_neighbors=3, KNR__SCL=MinMaxScaler();, score=0.516 total time=   1.9s\n"
     ]
    },
    {
     "name": "stderr",
     "output_type": "stream",
     "text": [
      "/home/dai/anaconda3/lib/python3.11/site-packages/sklearn/linear_model/_coordinate_descent.py:628: ConvergenceWarning: Objective did not converge. You might want to increase the number of iterations, check the scale of the features or consider increasing regularisation. Duality gap: 1.725e+05, tolerance: 5.951e+01 Linear regression models with null weight for the l1 regularization term are more efficiently fitted using one of the solvers implemented in sklearn.linear_model.Ridge/RidgeCV instead.\n",
      "  model = cd_fast.enet_coordinate_descent(\n"
     ]
    },
    {
     "name": "stdout",
     "output_type": "stream",
     "text": [
      "[CV 5/5] END DTR__max_depth=3, DTR__min_samples_leaf=1, DTR__min_samples_split=10, Elastic__alpha=2.5004999999999997, Elastic__l1_ratio=0.0, KNR__KNR__n_neighbors=3, KNR__SCL=MinMaxScaler();, score=0.516 total time=   1.8s\n",
      "[CV 1/5] END DTR__max_depth=3, DTR__min_samples_leaf=10, DTR__min_samples_split=10, Elastic__alpha=3.75025, Elastic__l1_ratio=0.25, KNR__KNR__n_neighbors=3, KNR__SCL=StandardScaler();, score=0.496 total time=   1.5s\n",
      "[CV 2/5] END DTR__max_depth=3, DTR__min_samples_leaf=10, DTR__min_samples_split=10, Elastic__alpha=3.75025, Elastic__l1_ratio=0.25, KNR__KNR__n_neighbors=3, KNR__SCL=StandardScaler();, score=0.507 total time=   1.2s\n",
      "[CV 3/5] END DTR__max_depth=3, DTR__min_samples_leaf=10, DTR__min_samples_split=10, Elastic__alpha=3.75025, Elastic__l1_ratio=0.25, KNR__KNR__n_neighbors=3, KNR__SCL=StandardScaler();, score=0.511 total time=   1.3s\n",
      "[CV 4/5] END DTR__max_depth=3, DTR__min_samples_leaf=10, DTR__min_samples_split=10, Elastic__alpha=3.75025, Elastic__l1_ratio=0.25, KNR__KNR__n_neighbors=3, KNR__SCL=StandardScaler();, score=0.495 total time=   1.5s\n",
      "[CV 5/5] END DTR__max_depth=3, DTR__min_samples_leaf=10, DTR__min_samples_split=10, Elastic__alpha=3.75025, Elastic__l1_ratio=0.25, KNR__KNR__n_neighbors=3, KNR__SCL=StandardScaler();, score=0.496 total time=   1.5s\n",
      "[CV 1/5] END DTR__max_depth=None, DTR__min_samples_leaf=1, DTR__min_samples_split=5, Elastic__alpha=3.75025, Elastic__l1_ratio=0.75, KNR__KNR__n_neighbors=2, KNR__SCL=MinMaxScaler();, score=0.496 total time=   1.8s\n",
      "[CV 2/5] END DTR__max_depth=None, DTR__min_samples_leaf=1, DTR__min_samples_split=5, Elastic__alpha=3.75025, Elastic__l1_ratio=0.75, KNR__KNR__n_neighbors=2, KNR__SCL=MinMaxScaler();, score=0.499 total time=   1.8s\n",
      "[CV 3/5] END DTR__max_depth=None, DTR__min_samples_leaf=1, DTR__min_samples_split=5, Elastic__alpha=3.75025, Elastic__l1_ratio=0.75, KNR__KNR__n_neighbors=2, KNR__SCL=MinMaxScaler();, score=0.496 total time=   1.8s\n",
      "[CV 4/5] END DTR__max_depth=None, DTR__min_samples_leaf=1, DTR__min_samples_split=5, Elastic__alpha=3.75025, Elastic__l1_ratio=0.75, KNR__KNR__n_neighbors=2, KNR__SCL=MinMaxScaler();, score=0.488 total time=   1.8s\n",
      "[CV 5/5] END DTR__max_depth=None, DTR__min_samples_leaf=1, DTR__min_samples_split=5, Elastic__alpha=3.75025, Elastic__l1_ratio=0.75, KNR__KNR__n_neighbors=2, KNR__SCL=MinMaxScaler();, score=0.491 total time=   1.8s\n",
      "[CV 1/5] END DTR__max_depth=None, DTR__min_samples_leaf=1, DTR__min_samples_split=2, Elastic__alpha=0.001, Elastic__l1_ratio=1.0, KNR__KNR__n_neighbors=4, KNR__SCL=MinMaxScaler();, score=0.522 total time=   2.1s\n",
      "[CV 2/5] END DTR__max_depth=None, DTR__min_samples_leaf=1, DTR__min_samples_split=2, Elastic__alpha=0.001, Elastic__l1_ratio=1.0, KNR__KNR__n_neighbors=4, KNR__SCL=MinMaxScaler();, score=0.527 total time=   2.1s\n",
      "[CV 3/5] END DTR__max_depth=None, DTR__min_samples_leaf=1, DTR__min_samples_split=2, Elastic__alpha=0.001, Elastic__l1_ratio=1.0, KNR__KNR__n_neighbors=4, KNR__SCL=MinMaxScaler();, score=0.522 total time=   2.3s\n",
      "[CV 4/5] END DTR__max_depth=None, DTR__min_samples_leaf=1, DTR__min_samples_split=2, Elastic__alpha=0.001, Elastic__l1_ratio=1.0, KNR__KNR__n_neighbors=4, KNR__SCL=MinMaxScaler();, score=0.509 total time=   2.2s\n",
      "[CV 5/5] END DTR__max_depth=None, DTR__min_samples_leaf=1, DTR__min_samples_split=2, Elastic__alpha=0.001, Elastic__l1_ratio=1.0, KNR__KNR__n_neighbors=4, KNR__SCL=MinMaxScaler();, score=0.520 total time=   2.1s\n"
     ]
    },
    {
     "data": {
      "text/html": [
       "<style>#sk-container-id-4 {color: black;}#sk-container-id-4 pre{padding: 0;}#sk-container-id-4 div.sk-toggleable {background-color: white;}#sk-container-id-4 label.sk-toggleable__label {cursor: pointer;display: block;width: 100%;margin-bottom: 0;padding: 0.3em;box-sizing: border-box;text-align: center;}#sk-container-id-4 label.sk-toggleable__label-arrow:before {content: \"▸\";float: left;margin-right: 0.25em;color: #696969;}#sk-container-id-4 label.sk-toggleable__label-arrow:hover:before {color: black;}#sk-container-id-4 div.sk-estimator:hover label.sk-toggleable__label-arrow:before {color: black;}#sk-container-id-4 div.sk-toggleable__content {max-height: 0;max-width: 0;overflow: hidden;text-align: left;background-color: #f0f8ff;}#sk-container-id-4 div.sk-toggleable__content pre {margin: 0.2em;color: black;border-radius: 0.25em;background-color: #f0f8ff;}#sk-container-id-4 input.sk-toggleable__control:checked~div.sk-toggleable__content {max-height: 200px;max-width: 100%;overflow: auto;}#sk-container-id-4 input.sk-toggleable__control:checked~label.sk-toggleable__label-arrow:before {content: \"▾\";}#sk-container-id-4 div.sk-estimator input.sk-toggleable__control:checked~label.sk-toggleable__label {background-color: #d4ebff;}#sk-container-id-4 div.sk-label input.sk-toggleable__control:checked~label.sk-toggleable__label {background-color: #d4ebff;}#sk-container-id-4 input.sk-hidden--visually {border: 0;clip: rect(1px 1px 1px 1px);clip: rect(1px, 1px, 1px, 1px);height: 1px;margin: -1px;overflow: hidden;padding: 0;position: absolute;width: 1px;}#sk-container-id-4 div.sk-estimator {font-family: monospace;background-color: #f0f8ff;border: 1px dotted black;border-radius: 0.25em;box-sizing: border-box;margin-bottom: 0.5em;}#sk-container-id-4 div.sk-estimator:hover {background-color: #d4ebff;}#sk-container-id-4 div.sk-parallel-item::after {content: \"\";width: 100%;border-bottom: 1px solid gray;flex-grow: 1;}#sk-container-id-4 div.sk-label:hover label.sk-toggleable__label {background-color: #d4ebff;}#sk-container-id-4 div.sk-serial::before {content: \"\";position: absolute;border-left: 1px solid gray;box-sizing: border-box;top: 0;bottom: 0;left: 50%;z-index: 0;}#sk-container-id-4 div.sk-serial {display: flex;flex-direction: column;align-items: center;background-color: white;padding-right: 0.2em;padding-left: 0.2em;position: relative;}#sk-container-id-4 div.sk-item {position: relative;z-index: 1;}#sk-container-id-4 div.sk-parallel {display: flex;align-items: stretch;justify-content: center;background-color: white;position: relative;}#sk-container-id-4 div.sk-item::before, #sk-container-id-4 div.sk-parallel-item::before {content: \"\";position: absolute;border-left: 1px solid gray;box-sizing: border-box;top: 0;bottom: 0;left: 50%;z-index: -1;}#sk-container-id-4 div.sk-parallel-item {display: flex;flex-direction: column;z-index: 1;position: relative;background-color: white;}#sk-container-id-4 div.sk-parallel-item:first-child::after {align-self: flex-end;width: 50%;}#sk-container-id-4 div.sk-parallel-item:last-child::after {align-self: flex-start;width: 50%;}#sk-container-id-4 div.sk-parallel-item:only-child::after {width: 0;}#sk-container-id-4 div.sk-dashed-wrapped {border: 1px dashed gray;margin: 0 0.4em 0.5em 0.4em;box-sizing: border-box;padding-bottom: 0.4em;background-color: white;}#sk-container-id-4 div.sk-label label {font-family: monospace;font-weight: bold;display: inline-block;line-height: 1.2em;}#sk-container-id-4 div.sk-label-container {text-align: center;}#sk-container-id-4 div.sk-container {/* jupyter's `normalize.less` sets `[hidden] { display: none; }` but bootstrap.min.css set `[hidden] { display: none !important; }` so we also need the `!important` here to be able to override the default hidden behavior on the sphinx rendered scikit-learn.org. See: https://github.com/scikit-learn/scikit-learn/issues/21755 */display: inline-block !important;position: relative;}#sk-container-id-4 div.sk-text-repr-fallback {display: none;}</style><div id=\"sk-container-id-4\" class=\"sk-top-container\"><div class=\"sk-text-repr-fallback\"><pre>RandomizedSearchCV(cv=KFold(n_splits=5, random_state=23, shuffle=True),\n",
       "                   estimator=VotingRegressor(estimators=[(&#x27;Elastic&#x27;,\n",
       "                                                          ElasticNet()),\n",
       "                                                         (&#x27;KNR&#x27;,\n",
       "                                                          Pipeline(steps=[(&#x27;SCL&#x27;,\n",
       "                                                                           StandardScaler()),\n",
       "                                                                          (&#x27;KNR&#x27;,\n",
       "                                                                           KNeighborsRegressor())])),\n",
       "                                                         (&#x27;DTR&#x27;,\n",
       "                                                          DecisionTreeRegressor())]),\n",
       "                   param_distributions={&#x27;DTR__max_depth&#x27;: [None, 3, 5],\n",
       "                                        &#x27;DTR__min_samples_leaf&#x27;: [1, 5, 10],\n",
       "                                        &#x27;DTR__min_samples_split&#x27;: [2, 5, 10],\n",
       "                                        &#x27;Elastic__alpha&#x27;: array([1.00000e-03, 1.25075e+00, 2.50050e+00, 3.75025e+00, 5.00000e+00]),\n",
       "                                        &#x27;Elastic__l1_ratio&#x27;: array([0.  , 0.25, 0.5 , 0.75, 1.  ]),\n",
       "                                        &#x27;KNR__KNR__n_neighbors&#x27;: [1, 2, 3, 4],\n",
       "                                        &#x27;KNR__SCL&#x27;: [StandardScaler(),\n",
       "                                                     MinMaxScaler()]},\n",
       "                   random_state=23, scoring=&#x27;r2&#x27;, verbose=3)</pre><b>In a Jupyter environment, please rerun this cell to show the HTML representation or trust the notebook. <br />On GitHub, the HTML representation is unable to render, please try loading this page with nbviewer.org.</b></div><div class=\"sk-container\" hidden><div class=\"sk-item sk-dashed-wrapped\"><div class=\"sk-label-container\"><div class=\"sk-label sk-toggleable\"><input class=\"sk-toggleable__control sk-hidden--visually\" id=\"sk-estimator-id-11\" type=\"checkbox\" ><label for=\"sk-estimator-id-11\" class=\"sk-toggleable__label sk-toggleable__label-arrow\">RandomizedSearchCV</label><div class=\"sk-toggleable__content\"><pre>RandomizedSearchCV(cv=KFold(n_splits=5, random_state=23, shuffle=True),\n",
       "                   estimator=VotingRegressor(estimators=[(&#x27;Elastic&#x27;,\n",
       "                                                          ElasticNet()),\n",
       "                                                         (&#x27;KNR&#x27;,\n",
       "                                                          Pipeline(steps=[(&#x27;SCL&#x27;,\n",
       "                                                                           StandardScaler()),\n",
       "                                                                          (&#x27;KNR&#x27;,\n",
       "                                                                           KNeighborsRegressor())])),\n",
       "                                                         (&#x27;DTR&#x27;,\n",
       "                                                          DecisionTreeRegressor())]),\n",
       "                   param_distributions={&#x27;DTR__max_depth&#x27;: [None, 3, 5],\n",
       "                                        &#x27;DTR__min_samples_leaf&#x27;: [1, 5, 10],\n",
       "                                        &#x27;DTR__min_samples_split&#x27;: [2, 5, 10],\n",
       "                                        &#x27;Elastic__alpha&#x27;: array([1.00000e-03, 1.25075e+00, 2.50050e+00, 3.75025e+00, 5.00000e+00]),\n",
       "                                        &#x27;Elastic__l1_ratio&#x27;: array([0.  , 0.25, 0.5 , 0.75, 1.  ]),\n",
       "                                        &#x27;KNR__KNR__n_neighbors&#x27;: [1, 2, 3, 4],\n",
       "                                        &#x27;KNR__SCL&#x27;: [StandardScaler(),\n",
       "                                                     MinMaxScaler()]},\n",
       "                   random_state=23, scoring=&#x27;r2&#x27;, verbose=3)</pre></div></div></div><div class=\"sk-parallel\"><div class=\"sk-parallel-item\"><div class=\"sk-item\"><div class=\"sk-label-container\"><div class=\"sk-label sk-toggleable\"><input class=\"sk-toggleable__control sk-hidden--visually\" id=\"sk-estimator-id-12\" type=\"checkbox\" ><label for=\"sk-estimator-id-12\" class=\"sk-toggleable__label sk-toggleable__label-arrow\">estimator: VotingRegressor</label><div class=\"sk-toggleable__content\"><pre>VotingRegressor(estimators=[(&#x27;Elastic&#x27;, ElasticNet()),\n",
       "                            (&#x27;KNR&#x27;,\n",
       "                             Pipeline(steps=[(&#x27;SCL&#x27;, StandardScaler()),\n",
       "                                             (&#x27;KNR&#x27;, KNeighborsRegressor())])),\n",
       "                            (&#x27;DTR&#x27;, DecisionTreeRegressor())])</pre></div></div></div><div class=\"sk-serial\"><div class=\"sk-item sk-dashed-wrapped\"><div class=\"sk-parallel\"><div class=\"sk-parallel-item\"><div class=\"sk-item\"><div class=\"sk-label-container\"><div class=\"sk-label sk-toggleable\"><label>Elastic</label></div></div><div class=\"sk-serial\"><div class=\"sk-item\"><div class=\"sk-estimator sk-toggleable\"><input class=\"sk-toggleable__control sk-hidden--visually\" id=\"sk-estimator-id-13\" type=\"checkbox\" ><label for=\"sk-estimator-id-13\" class=\"sk-toggleable__label sk-toggleable__label-arrow\">ElasticNet</label><div class=\"sk-toggleable__content\"><pre>ElasticNet()</pre></div></div></div></div></div></div><div class=\"sk-parallel-item\"><div class=\"sk-item\"><div class=\"sk-label-container\"><div class=\"sk-label sk-toggleable\"><label>KNR</label></div></div><div class=\"sk-serial\"><div class=\"sk-item\"><div class=\"sk-serial\"><div class=\"sk-item\"><div class=\"sk-estimator sk-toggleable\"><input class=\"sk-toggleable__control sk-hidden--visually\" id=\"sk-estimator-id-14\" type=\"checkbox\" ><label for=\"sk-estimator-id-14\" class=\"sk-toggleable__label sk-toggleable__label-arrow\">StandardScaler</label><div class=\"sk-toggleable__content\"><pre>StandardScaler()</pre></div></div></div><div class=\"sk-item\"><div class=\"sk-estimator sk-toggleable\"><input class=\"sk-toggleable__control sk-hidden--visually\" id=\"sk-estimator-id-15\" type=\"checkbox\" ><label for=\"sk-estimator-id-15\" class=\"sk-toggleable__label sk-toggleable__label-arrow\">KNeighborsRegressor</label><div class=\"sk-toggleable__content\"><pre>KNeighborsRegressor()</pre></div></div></div></div></div></div></div></div><div class=\"sk-parallel-item\"><div class=\"sk-item\"><div class=\"sk-label-container\"><div class=\"sk-label sk-toggleable\"><label>DTR</label></div></div><div class=\"sk-serial\"><div class=\"sk-item\"><div class=\"sk-estimator sk-toggleable\"><input class=\"sk-toggleable__control sk-hidden--visually\" id=\"sk-estimator-id-16\" type=\"checkbox\" ><label for=\"sk-estimator-id-16\" class=\"sk-toggleable__label sk-toggleable__label-arrow\">DecisionTreeRegressor</label><div class=\"sk-toggleable__content\"><pre>DecisionTreeRegressor()</pre></div></div></div></div></div></div></div></div></div></div></div></div></div></div></div>"
      ],
      "text/plain": [
       "RandomizedSearchCV(cv=KFold(n_splits=5, random_state=23, shuffle=True),\n",
       "                   estimator=VotingRegressor(estimators=[('Elastic',\n",
       "                                                          ElasticNet()),\n",
       "                                                         ('KNR',\n",
       "                                                          Pipeline(steps=[('SCL',\n",
       "                                                                           StandardScaler()),\n",
       "                                                                          ('KNR',\n",
       "                                                                           KNeighborsRegressor())])),\n",
       "                                                         ('DTR',\n",
       "                                                          DecisionTreeRegressor())]),\n",
       "                   param_distributions={'DTR__max_depth': [None, 3, 5],\n",
       "                                        'DTR__min_samples_leaf': [1, 5, 10],\n",
       "                                        'DTR__min_samples_split': [2, 5, 10],\n",
       "                                        'Elastic__alpha': array([1.00000e-03, 1.25075e+00, 2.50050e+00, 3.75025e+00, 5.00000e+00]),\n",
       "                                        'Elastic__l1_ratio': array([0.  , 0.25, 0.5 , 0.75, 1.  ]),\n",
       "                                        'KNR__KNR__n_neighbors': [1, 2, 3, 4],\n",
       "                                        'KNR__SCL': [StandardScaler(),\n",
       "                                                     MinMaxScaler()]},\n",
       "                   random_state=23, scoring='r2', verbose=3)"
      ]
     },
     "execution_count": 18,
     "metadata": {},
     "output_type": "execute_result"
    }
   ],
   "source": [
    "params={'Elastic__alpha':np.linspace(0.001,5,5),'Elastic__l1_ratio':np.linspace(0,1,5),\n",
    "        'KNR__SCL':[StandardScaler(),MinMaxScaler()],'KNR__KNR__n_neighbors':[1,2,3,4],\n",
    "        'DTR__max_depth':[None,3,5],'DTR__min_samples_leaf':[1,5,10],\n",
    "        'DTR__min_samples_split':[2,5,10]}\n",
    "rgcv=RandomizedSearchCV(voting,param_distributions=params,n_iter=10,cv=kfold,\n",
    "                       scoring='r2',verbose=3,random_state=23)\n",
    "rgcv.fit(X,y)"
   ]
  },
  {
   "cell_type": "code",
   "execution_count": 19,
   "id": "f2277191",
   "metadata": {},
   "outputs": [
    {
     "name": "stdout",
     "output_type": "stream",
     "text": [
      "best parameter : {'KNR__SCL': StandardScaler(), 'KNR__KNR__n_neighbors': 4, 'Elastic__l1_ratio': 1.0, 'Elastic__alpha': 0.001, 'DTR__min_samples_split': 2, 'DTR__min_samples_leaf': 10, 'DTR__max_depth': 5}\n",
      "best score : 0.5611820340307442\n"
     ]
    }
   ],
   "source": [
    "print(\"best parameter :\",rgcv.best_params_)\n",
    "print(\"best score :\",rgcv.best_score_)\n",
    "unweighted_score=rgcv.best_score_"
   ]
  },
  {
   "cell_type": "code",
   "execution_count": 20,
   "id": "db11b75c",
   "metadata": {},
   "outputs": [
    {
     "name": "stdout",
     "output_type": "stream",
     "text": [
      "Unweighted Score=  0.5611820340307442\n",
      "ElasticNet Score=  0.550397681067038\n",
      "Scaling+KNR Score=  0.5031878091238833\n",
      "DTR Score=  0.5318032288555548\n"
     ]
    }
   ],
   "source": [
    "print(\"Unweighted Score= \",unweighted_score)\n",
    "print(\"ElasticNet Score= \",elastic_score)\n",
    "print(\"Scaling+KNR Score= \",knr_score)\n",
    "print(\"DTR Score= \",dtr_score)"
   ]
  },
  {
   "cell_type": "markdown",
   "id": "3c2ceaae",
   "metadata": {},
   "source": [
    "## Weighted Voting"
   ]
  },
  {
   "cell_type": "code",
   "execution_count": 21,
   "id": "ee86e6c6",
   "metadata": {},
   "outputs": [],
   "source": [
    "voting1=VotingRegressor(estimators=[('Elastic',elastic),('KNR',pipe),('DTR',dtr)],\n",
    "                       weights=[0.6006431793947039,0.715311710031387,0.8473530592189679])"
   ]
  },
  {
   "cell_type": "code",
   "execution_count": 22,
   "id": "cdf8c340",
   "metadata": {},
   "outputs": [
    {
     "name": "stdout",
     "output_type": "stream",
     "text": [
      "Fitting 5 folds for each of 10 candidates, totalling 50 fits\n",
      "[CV 1/5] END DTR__max_depth=None, DTR__min_samples_leaf=1, DTR__min_samples_split=10, Elastic__alpha=5.0, Elastic__l1_ratio=1.0, KNR__KNR__n_neighbors=2, KNR__SCL=MinMaxScaler();, score=0.500 total time=   1.9s\n",
      "[CV 2/5] END DTR__max_depth=None, DTR__min_samples_leaf=1, DTR__min_samples_split=10, Elastic__alpha=5.0, Elastic__l1_ratio=1.0, KNR__KNR__n_neighbors=2, KNR__SCL=MinMaxScaler();, score=0.506 total time=   1.7s\n",
      "[CV 3/5] END DTR__max_depth=None, DTR__min_samples_leaf=1, DTR__min_samples_split=10, Elastic__alpha=5.0, Elastic__l1_ratio=1.0, KNR__KNR__n_neighbors=2, KNR__SCL=MinMaxScaler();, score=0.505 total time=   1.8s\n",
      "[CV 4/5] END DTR__max_depth=None, DTR__min_samples_leaf=1, DTR__min_samples_split=10, Elastic__alpha=5.0, Elastic__l1_ratio=1.0, KNR__KNR__n_neighbors=2, KNR__SCL=MinMaxScaler();, score=0.496 total time=   2.0s\n",
      "[CV 5/5] END DTR__max_depth=None, DTR__min_samples_leaf=1, DTR__min_samples_split=10, Elastic__alpha=5.0, Elastic__l1_ratio=1.0, KNR__KNR__n_neighbors=2, KNR__SCL=MinMaxScaler();, score=0.498 total time=   1.8s\n",
      "[CV 1/5] END DTR__max_depth=5, DTR__min_samples_leaf=10, DTR__min_samples_split=2, Elastic__alpha=0.001, Elastic__l1_ratio=1.0, KNR__KNR__n_neighbors=4, KNR__SCL=StandardScaler();, score=0.554 total time=   1.4s\n",
      "[CV 2/5] END DTR__max_depth=5, DTR__min_samples_leaf=10, DTR__min_samples_split=2, Elastic__alpha=0.001, Elastic__l1_ratio=1.0, KNR__KNR__n_neighbors=4, KNR__SCL=StandardScaler();, score=0.565 total time=   1.6s\n",
      "[CV 3/5] END DTR__max_depth=5, DTR__min_samples_leaf=10, DTR__min_samples_split=2, Elastic__alpha=0.001, Elastic__l1_ratio=1.0, KNR__KNR__n_neighbors=4, KNR__SCL=StandardScaler();, score=0.572 total time=   1.4s\n",
      "[CV 4/5] END DTR__max_depth=5, DTR__min_samples_leaf=10, DTR__min_samples_split=2, Elastic__alpha=0.001, Elastic__l1_ratio=1.0, KNR__KNR__n_neighbors=4, KNR__SCL=StandardScaler();, score=0.554 total time=   1.4s\n",
      "[CV 5/5] END DTR__max_depth=5, DTR__min_samples_leaf=10, DTR__min_samples_split=2, Elastic__alpha=0.001, Elastic__l1_ratio=1.0, KNR__KNR__n_neighbors=4, KNR__SCL=StandardScaler();, score=0.557 total time=   1.6s\n",
      "[CV 1/5] END DTR__max_depth=None, DTR__min_samples_leaf=5, DTR__min_samples_split=10, Elastic__alpha=1.2507499999999998, Elastic__l1_ratio=0.75, KNR__KNR__n_neighbors=1, KNR__SCL=StandardScaler();, score=0.490 total time=   1.3s\n",
      "[CV 2/5] END DTR__max_depth=None, DTR__min_samples_leaf=5, DTR__min_samples_split=10, Elastic__alpha=1.2507499999999998, Elastic__l1_ratio=0.75, KNR__KNR__n_neighbors=1, KNR__SCL=StandardScaler();, score=0.500 total time=   1.5s\n",
      "[CV 3/5] END DTR__max_depth=None, DTR__min_samples_leaf=5, DTR__min_samples_split=10, Elastic__alpha=1.2507499999999998, Elastic__l1_ratio=0.75, KNR__KNR__n_neighbors=1, KNR__SCL=StandardScaler();, score=0.500 total time=   1.5s\n",
      "[CV 4/5] END DTR__max_depth=None, DTR__min_samples_leaf=5, DTR__min_samples_split=10, Elastic__alpha=1.2507499999999998, Elastic__l1_ratio=0.75, KNR__KNR__n_neighbors=1, KNR__SCL=StandardScaler();, score=0.488 total time=   1.3s\n",
      "[CV 5/5] END DTR__max_depth=None, DTR__min_samples_leaf=5, DTR__min_samples_split=10, Elastic__alpha=1.2507499999999998, Elastic__l1_ratio=0.75, KNR__KNR__n_neighbors=1, KNR__SCL=StandardScaler();, score=0.493 total time=   1.3s\n",
      "[CV 1/5] END DTR__max_depth=3, DTR__min_samples_leaf=1, DTR__min_samples_split=2, Elastic__alpha=5.0, Elastic__l1_ratio=1.0, KNR__KNR__n_neighbors=1, KNR__SCL=MinMaxScaler();, score=0.472 total time=   1.2s\n",
      "[CV 2/5] END DTR__max_depth=3, DTR__min_samples_leaf=1, DTR__min_samples_split=2, Elastic__alpha=5.0, Elastic__l1_ratio=1.0, KNR__KNR__n_neighbors=1, KNR__SCL=MinMaxScaler();, score=0.478 total time=   1.4s\n",
      "[CV 3/5] END DTR__max_depth=3, DTR__min_samples_leaf=1, DTR__min_samples_split=2, Elastic__alpha=5.0, Elastic__l1_ratio=1.0, KNR__KNR__n_neighbors=1, KNR__SCL=MinMaxScaler();, score=0.485 total time=   1.2s\n",
      "[CV 4/5] END DTR__max_depth=3, DTR__min_samples_leaf=1, DTR__min_samples_split=2, Elastic__alpha=5.0, Elastic__l1_ratio=1.0, KNR__KNR__n_neighbors=1, KNR__SCL=MinMaxScaler();, score=0.473 total time=   1.2s\n",
      "[CV 5/5] END DTR__max_depth=3, DTR__min_samples_leaf=1, DTR__min_samples_split=2, Elastic__alpha=5.0, Elastic__l1_ratio=1.0, KNR__KNR__n_neighbors=1, KNR__SCL=MinMaxScaler();, score=0.470 total time=   1.2s\n",
      "[CV 1/5] END DTR__max_depth=3, DTR__min_samples_leaf=5, DTR__min_samples_split=10, Elastic__alpha=5.0, Elastic__l1_ratio=1.0, KNR__KNR__n_neighbors=4, KNR__SCL=StandardScaler();, score=0.499 total time=   1.6s\n",
      "[CV 2/5] END DTR__max_depth=3, DTR__min_samples_leaf=5, DTR__min_samples_split=10, Elastic__alpha=5.0, Elastic__l1_ratio=1.0, KNR__KNR__n_neighbors=4, KNR__SCL=StandardScaler();, score=0.508 total time=   1.3s\n",
      "[CV 3/5] END DTR__max_depth=3, DTR__min_samples_leaf=5, DTR__min_samples_split=10, Elastic__alpha=5.0, Elastic__l1_ratio=1.0, KNR__KNR__n_neighbors=4, KNR__SCL=StandardScaler();, score=0.515 total time=   1.5s\n",
      "[CV 4/5] END DTR__max_depth=3, DTR__min_samples_leaf=5, DTR__min_samples_split=10, Elastic__alpha=5.0, Elastic__l1_ratio=1.0, KNR__KNR__n_neighbors=4, KNR__SCL=StandardScaler();, score=0.499 total time=   1.3s\n",
      "[CV 5/5] END DTR__max_depth=3, DTR__min_samples_leaf=5, DTR__min_samples_split=10, Elastic__alpha=5.0, Elastic__l1_ratio=1.0, KNR__KNR__n_neighbors=4, KNR__SCL=StandardScaler();, score=0.498 total time=   1.5s\n",
      "[CV 1/5] END DTR__max_depth=None, DTR__min_samples_leaf=10, DTR__min_samples_split=5, Elastic__alpha=2.5004999999999997, Elastic__l1_ratio=1.0, KNR__KNR__n_neighbors=1, KNR__SCL=StandardScaler();, score=0.500 total time=   1.2s\n",
      "[CV 2/5] END DTR__max_depth=None, DTR__min_samples_leaf=10, DTR__min_samples_split=5, Elastic__alpha=2.5004999999999997, Elastic__l1_ratio=1.0, KNR__KNR__n_neighbors=1, KNR__SCL=StandardScaler();, score=0.509 total time=   1.2s\n",
      "[CV 3/5] END DTR__max_depth=None, DTR__min_samples_leaf=10, DTR__min_samples_split=5, Elastic__alpha=2.5004999999999997, Elastic__l1_ratio=1.0, KNR__KNR__n_neighbors=1, KNR__SCL=StandardScaler();, score=0.512 total time=   1.5s\n",
      "[CV 4/5] END DTR__max_depth=None, DTR__min_samples_leaf=10, DTR__min_samples_split=5, Elastic__alpha=2.5004999999999997, Elastic__l1_ratio=1.0, KNR__KNR__n_neighbors=1, KNR__SCL=StandardScaler();, score=0.503 total time=   1.2s\n",
      "[CV 5/5] END DTR__max_depth=None, DTR__min_samples_leaf=10, DTR__min_samples_split=5, Elastic__alpha=2.5004999999999997, Elastic__l1_ratio=1.0, KNR__KNR__n_neighbors=1, KNR__SCL=StandardScaler();, score=0.501 total time=   1.2s\n"
     ]
    },
    {
     "name": "stderr",
     "output_type": "stream",
     "text": [
      "/home/dai/anaconda3/lib/python3.11/site-packages/sklearn/linear_model/_coordinate_descent.py:628: ConvergenceWarning: Objective did not converge. You might want to increase the number of iterations, check the scale of the features or consider increasing regularisation. Duality gap: 1.740e+05, tolerance: 5.983e+01 Linear regression models with null weight for the l1 regularization term are more efficiently fitted using one of the solvers implemented in sklearn.linear_model.Ridge/RidgeCV instead.\n",
      "  model = cd_fast.enet_coordinate_descent(\n"
     ]
    },
    {
     "name": "stdout",
     "output_type": "stream",
     "text": [
      "[CV 1/5] END DTR__max_depth=3, DTR__min_samples_leaf=1, DTR__min_samples_split=10, Elastic__alpha=2.5004999999999997, Elastic__l1_ratio=0.0, KNR__KNR__n_neighbors=3, KNR__SCL=MinMaxScaler();, score=0.518 total time=   2.0s\n"
     ]
    },
    {
     "name": "stderr",
     "output_type": "stream",
     "text": [
      "/home/dai/anaconda3/lib/python3.11/site-packages/sklearn/linear_model/_coordinate_descent.py:628: ConvergenceWarning: Objective did not converge. You might want to increase the number of iterations, check the scale of the features or consider increasing regularisation. Duality gap: 1.745e+05, tolerance: 5.992e+01 Linear regression models with null weight for the l1 regularization term are more efficiently fitted using one of the solvers implemented in sklearn.linear_model.Ridge/RidgeCV instead.\n",
      "  model = cd_fast.enet_coordinate_descent(\n"
     ]
    },
    {
     "name": "stdout",
     "output_type": "stream",
     "text": [
      "[CV 2/5] END DTR__max_depth=3, DTR__min_samples_leaf=1, DTR__min_samples_split=10, Elastic__alpha=2.5004999999999997, Elastic__l1_ratio=0.0, KNR__KNR__n_neighbors=3, KNR__SCL=MinMaxScaler();, score=0.526 total time=   2.0s\n"
     ]
    },
    {
     "name": "stderr",
     "output_type": "stream",
     "text": [
      "/home/dai/anaconda3/lib/python3.11/site-packages/sklearn/linear_model/_coordinate_descent.py:628: ConvergenceWarning: Objective did not converge. You might want to increase the number of iterations, check the scale of the features or consider increasing regularisation. Duality gap: 1.740e+05, tolerance: 5.958e+01 Linear regression models with null weight for the l1 regularization term are more efficiently fitted using one of the solvers implemented in sklearn.linear_model.Ridge/RidgeCV instead.\n",
      "  model = cd_fast.enet_coordinate_descent(\n"
     ]
    },
    {
     "name": "stdout",
     "output_type": "stream",
     "text": [
      "[CV 3/5] END DTR__max_depth=3, DTR__min_samples_leaf=1, DTR__min_samples_split=10, Elastic__alpha=2.5004999999999997, Elastic__l1_ratio=0.0, KNR__KNR__n_neighbors=3, KNR__SCL=MinMaxScaler();, score=0.533 total time=   2.0s\n"
     ]
    },
    {
     "name": "stderr",
     "output_type": "stream",
     "text": [
      "/home/dai/anaconda3/lib/python3.11/site-packages/sklearn/linear_model/_coordinate_descent.py:628: ConvergenceWarning: Objective did not converge. You might want to increase the number of iterations, check the scale of the features or consider increasing regularisation. Duality gap: 1.733e+05, tolerance: 5.979e+01 Linear regression models with null weight for the l1 regularization term are more efficiently fitted using one of the solvers implemented in sklearn.linear_model.Ridge/RidgeCV instead.\n",
      "  model = cd_fast.enet_coordinate_descent(\n"
     ]
    },
    {
     "name": "stdout",
     "output_type": "stream",
     "text": [
      "[CV 4/5] END DTR__max_depth=3, DTR__min_samples_leaf=1, DTR__min_samples_split=10, Elastic__alpha=2.5004999999999997, Elastic__l1_ratio=0.0, KNR__KNR__n_neighbors=3, KNR__SCL=MinMaxScaler();, score=0.516 total time=   1.9s\n"
     ]
    },
    {
     "name": "stderr",
     "output_type": "stream",
     "text": [
      "/home/dai/anaconda3/lib/python3.11/site-packages/sklearn/linear_model/_coordinate_descent.py:628: ConvergenceWarning: Objective did not converge. You might want to increase the number of iterations, check the scale of the features or consider increasing regularisation. Duality gap: 1.725e+05, tolerance: 5.951e+01 Linear regression models with null weight for the l1 regularization term are more efficiently fitted using one of the solvers implemented in sklearn.linear_model.Ridge/RidgeCV instead.\n",
      "  model = cd_fast.enet_coordinate_descent(\n"
     ]
    },
    {
     "name": "stdout",
     "output_type": "stream",
     "text": [
      "[CV 5/5] END DTR__max_depth=3, DTR__min_samples_leaf=1, DTR__min_samples_split=10, Elastic__alpha=2.5004999999999997, Elastic__l1_ratio=0.0, KNR__KNR__n_neighbors=3, KNR__SCL=MinMaxScaler();, score=0.515 total time=   2.0s\n",
      "[CV 1/5] END DTR__max_depth=3, DTR__min_samples_leaf=10, DTR__min_samples_split=10, Elastic__alpha=3.75025, Elastic__l1_ratio=0.25, KNR__KNR__n_neighbors=3, KNR__SCL=StandardScaler();, score=0.499 total time=   1.2s\n",
      "[CV 2/5] END DTR__max_depth=3, DTR__min_samples_leaf=10, DTR__min_samples_split=10, Elastic__alpha=3.75025, Elastic__l1_ratio=0.25, KNR__KNR__n_neighbors=3, KNR__SCL=StandardScaler();, score=0.510 total time=   1.2s\n",
      "[CV 3/5] END DTR__max_depth=3, DTR__min_samples_leaf=10, DTR__min_samples_split=10, Elastic__alpha=3.75025, Elastic__l1_ratio=0.25, KNR__KNR__n_neighbors=3, KNR__SCL=StandardScaler();, score=0.514 total time=   1.2s\n",
      "[CV 4/5] END DTR__max_depth=3, DTR__min_samples_leaf=10, DTR__min_samples_split=10, Elastic__alpha=3.75025, Elastic__l1_ratio=0.25, KNR__KNR__n_neighbors=3, KNR__SCL=StandardScaler();, score=0.498 total time=   1.2s\n",
      "[CV 5/5] END DTR__max_depth=3, DTR__min_samples_leaf=10, DTR__min_samples_split=10, Elastic__alpha=3.75025, Elastic__l1_ratio=0.25, KNR__KNR__n_neighbors=3, KNR__SCL=StandardScaler();, score=0.499 total time=   1.2s\n",
      "[CV 1/5] END DTR__max_depth=None, DTR__min_samples_leaf=1, DTR__min_samples_split=5, Elastic__alpha=3.75025, Elastic__l1_ratio=0.75, KNR__KNR__n_neighbors=2, KNR__SCL=MinMaxScaler();, score=0.488 total time=   1.8s\n",
      "[CV 2/5] END DTR__max_depth=None, DTR__min_samples_leaf=1, DTR__min_samples_split=5, Elastic__alpha=3.75025, Elastic__l1_ratio=0.75, KNR__KNR__n_neighbors=2, KNR__SCL=MinMaxScaler();, score=0.489 total time=   1.8s\n",
      "[CV 3/5] END DTR__max_depth=None, DTR__min_samples_leaf=1, DTR__min_samples_split=5, Elastic__alpha=3.75025, Elastic__l1_ratio=0.75, KNR__KNR__n_neighbors=2, KNR__SCL=MinMaxScaler();, score=0.489 total time=   1.8s\n",
      "[CV 4/5] END DTR__max_depth=None, DTR__min_samples_leaf=1, DTR__min_samples_split=5, Elastic__alpha=3.75025, Elastic__l1_ratio=0.75, KNR__KNR__n_neighbors=2, KNR__SCL=MinMaxScaler();, score=0.482 total time=   1.8s\n",
      "[CV 5/5] END DTR__max_depth=None, DTR__min_samples_leaf=1, DTR__min_samples_split=5, Elastic__alpha=3.75025, Elastic__l1_ratio=0.75, KNR__KNR__n_neighbors=2, KNR__SCL=MinMaxScaler();, score=0.485 total time=   1.8s\n",
      "[CV 1/5] END DTR__max_depth=None, DTR__min_samples_leaf=1, DTR__min_samples_split=2, Elastic__alpha=0.001, Elastic__l1_ratio=1.0, KNR__KNR__n_neighbors=4, KNR__SCL=MinMaxScaler();, score=0.506 total time=   2.3s\n",
      "[CV 2/5] END DTR__max_depth=None, DTR__min_samples_leaf=1, DTR__min_samples_split=2, Elastic__alpha=0.001, Elastic__l1_ratio=1.0, KNR__KNR__n_neighbors=4, KNR__SCL=MinMaxScaler();, score=0.508 total time=   2.2s\n",
      "[CV 3/5] END DTR__max_depth=None, DTR__min_samples_leaf=1, DTR__min_samples_split=2, Elastic__alpha=0.001, Elastic__l1_ratio=1.0, KNR__KNR__n_neighbors=4, KNR__SCL=MinMaxScaler();, score=0.507 total time=   2.3s\n",
      "[CV 4/5] END DTR__max_depth=None, DTR__min_samples_leaf=1, DTR__min_samples_split=2, Elastic__alpha=0.001, Elastic__l1_ratio=1.0, KNR__KNR__n_neighbors=4, KNR__SCL=MinMaxScaler();, score=0.492 total time=   2.3s\n",
      "[CV 5/5] END DTR__max_depth=None, DTR__min_samples_leaf=1, DTR__min_samples_split=2, Elastic__alpha=0.001, Elastic__l1_ratio=1.0, KNR__KNR__n_neighbors=4, KNR__SCL=MinMaxScaler();, score=0.503 total time=   2.2s\n"
     ]
    },
    {
     "data": {
      "text/html": [
       "<style>#sk-container-id-5 {color: black;}#sk-container-id-5 pre{padding: 0;}#sk-container-id-5 div.sk-toggleable {background-color: white;}#sk-container-id-5 label.sk-toggleable__label {cursor: pointer;display: block;width: 100%;margin-bottom: 0;padding: 0.3em;box-sizing: border-box;text-align: center;}#sk-container-id-5 label.sk-toggleable__label-arrow:before {content: \"▸\";float: left;margin-right: 0.25em;color: #696969;}#sk-container-id-5 label.sk-toggleable__label-arrow:hover:before {color: black;}#sk-container-id-5 div.sk-estimator:hover label.sk-toggleable__label-arrow:before {color: black;}#sk-container-id-5 div.sk-toggleable__content {max-height: 0;max-width: 0;overflow: hidden;text-align: left;background-color: #f0f8ff;}#sk-container-id-5 div.sk-toggleable__content pre {margin: 0.2em;color: black;border-radius: 0.25em;background-color: #f0f8ff;}#sk-container-id-5 input.sk-toggleable__control:checked~div.sk-toggleable__content {max-height: 200px;max-width: 100%;overflow: auto;}#sk-container-id-5 input.sk-toggleable__control:checked~label.sk-toggleable__label-arrow:before {content: \"▾\";}#sk-container-id-5 div.sk-estimator input.sk-toggleable__control:checked~label.sk-toggleable__label {background-color: #d4ebff;}#sk-container-id-5 div.sk-label input.sk-toggleable__control:checked~label.sk-toggleable__label {background-color: #d4ebff;}#sk-container-id-5 input.sk-hidden--visually {border: 0;clip: rect(1px 1px 1px 1px);clip: rect(1px, 1px, 1px, 1px);height: 1px;margin: -1px;overflow: hidden;padding: 0;position: absolute;width: 1px;}#sk-container-id-5 div.sk-estimator {font-family: monospace;background-color: #f0f8ff;border: 1px dotted black;border-radius: 0.25em;box-sizing: border-box;margin-bottom: 0.5em;}#sk-container-id-5 div.sk-estimator:hover {background-color: #d4ebff;}#sk-container-id-5 div.sk-parallel-item::after {content: \"\";width: 100%;border-bottom: 1px solid gray;flex-grow: 1;}#sk-container-id-5 div.sk-label:hover label.sk-toggleable__label {background-color: #d4ebff;}#sk-container-id-5 div.sk-serial::before {content: \"\";position: absolute;border-left: 1px solid gray;box-sizing: border-box;top: 0;bottom: 0;left: 50%;z-index: 0;}#sk-container-id-5 div.sk-serial {display: flex;flex-direction: column;align-items: center;background-color: white;padding-right: 0.2em;padding-left: 0.2em;position: relative;}#sk-container-id-5 div.sk-item {position: relative;z-index: 1;}#sk-container-id-5 div.sk-parallel {display: flex;align-items: stretch;justify-content: center;background-color: white;position: relative;}#sk-container-id-5 div.sk-item::before, #sk-container-id-5 div.sk-parallel-item::before {content: \"\";position: absolute;border-left: 1px solid gray;box-sizing: border-box;top: 0;bottom: 0;left: 50%;z-index: -1;}#sk-container-id-5 div.sk-parallel-item {display: flex;flex-direction: column;z-index: 1;position: relative;background-color: white;}#sk-container-id-5 div.sk-parallel-item:first-child::after {align-self: flex-end;width: 50%;}#sk-container-id-5 div.sk-parallel-item:last-child::after {align-self: flex-start;width: 50%;}#sk-container-id-5 div.sk-parallel-item:only-child::after {width: 0;}#sk-container-id-5 div.sk-dashed-wrapped {border: 1px dashed gray;margin: 0 0.4em 0.5em 0.4em;box-sizing: border-box;padding-bottom: 0.4em;background-color: white;}#sk-container-id-5 div.sk-label label {font-family: monospace;font-weight: bold;display: inline-block;line-height: 1.2em;}#sk-container-id-5 div.sk-label-container {text-align: center;}#sk-container-id-5 div.sk-container {/* jupyter's `normalize.less` sets `[hidden] { display: none; }` but bootstrap.min.css set `[hidden] { display: none !important; }` so we also need the `!important` here to be able to override the default hidden behavior on the sphinx rendered scikit-learn.org. See: https://github.com/scikit-learn/scikit-learn/issues/21755 */display: inline-block !important;position: relative;}#sk-container-id-5 div.sk-text-repr-fallback {display: none;}</style><div id=\"sk-container-id-5\" class=\"sk-top-container\"><div class=\"sk-text-repr-fallback\"><pre>RandomizedSearchCV(cv=KFold(n_splits=5, random_state=23, shuffle=True),\n",
       "                   estimator=VotingRegressor(estimators=[(&#x27;Elastic&#x27;,\n",
       "                                                          ElasticNet()),\n",
       "                                                         (&#x27;KNR&#x27;,\n",
       "                                                          Pipeline(steps=[(&#x27;SCL&#x27;,\n",
       "                                                                           StandardScaler()),\n",
       "                                                                          (&#x27;KNR&#x27;,\n",
       "                                                                           KNeighborsRegressor())])),\n",
       "                                                         (&#x27;DTR&#x27;,\n",
       "                                                          DecisionTreeRegressor())],\n",
       "                                             weights=[0.6006431793947039,\n",
       "                                                      0.715311710031387,\n",
       "                                                      0.8473530592189679]),\n",
       "                   param_distributions={&#x27;DTR__max_depth&#x27;: [None, 3, 5],\n",
       "                                        &#x27;DTR__min_samples_leaf&#x27;: [1, 5, 10],\n",
       "                                        &#x27;DTR__min_samples_split&#x27;: [2, 5, 10],\n",
       "                                        &#x27;Elastic__alpha&#x27;: array([1.00000e-03, 1.25075e+00, 2.50050e+00, 3.75025e+00, 5.00000e+00]),\n",
       "                                        &#x27;Elastic__l1_ratio&#x27;: array([0.  , 0.25, 0.5 , 0.75, 1.  ]),\n",
       "                                        &#x27;KNR__KNR__n_neighbors&#x27;: [1, 2, 3, 4],\n",
       "                                        &#x27;KNR__SCL&#x27;: [StandardScaler(),\n",
       "                                                     MinMaxScaler()]},\n",
       "                   random_state=23, scoring=&#x27;r2&#x27;, verbose=3)</pre><b>In a Jupyter environment, please rerun this cell to show the HTML representation or trust the notebook. <br />On GitHub, the HTML representation is unable to render, please try loading this page with nbviewer.org.</b></div><div class=\"sk-container\" hidden><div class=\"sk-item sk-dashed-wrapped\"><div class=\"sk-label-container\"><div class=\"sk-label sk-toggleable\"><input class=\"sk-toggleable__control sk-hidden--visually\" id=\"sk-estimator-id-17\" type=\"checkbox\" ><label for=\"sk-estimator-id-17\" class=\"sk-toggleable__label sk-toggleable__label-arrow\">RandomizedSearchCV</label><div class=\"sk-toggleable__content\"><pre>RandomizedSearchCV(cv=KFold(n_splits=5, random_state=23, shuffle=True),\n",
       "                   estimator=VotingRegressor(estimators=[(&#x27;Elastic&#x27;,\n",
       "                                                          ElasticNet()),\n",
       "                                                         (&#x27;KNR&#x27;,\n",
       "                                                          Pipeline(steps=[(&#x27;SCL&#x27;,\n",
       "                                                                           StandardScaler()),\n",
       "                                                                          (&#x27;KNR&#x27;,\n",
       "                                                                           KNeighborsRegressor())])),\n",
       "                                                         (&#x27;DTR&#x27;,\n",
       "                                                          DecisionTreeRegressor())],\n",
       "                                             weights=[0.6006431793947039,\n",
       "                                                      0.715311710031387,\n",
       "                                                      0.8473530592189679]),\n",
       "                   param_distributions={&#x27;DTR__max_depth&#x27;: [None, 3, 5],\n",
       "                                        &#x27;DTR__min_samples_leaf&#x27;: [1, 5, 10],\n",
       "                                        &#x27;DTR__min_samples_split&#x27;: [2, 5, 10],\n",
       "                                        &#x27;Elastic__alpha&#x27;: array([1.00000e-03, 1.25075e+00, 2.50050e+00, 3.75025e+00, 5.00000e+00]),\n",
       "                                        &#x27;Elastic__l1_ratio&#x27;: array([0.  , 0.25, 0.5 , 0.75, 1.  ]),\n",
       "                                        &#x27;KNR__KNR__n_neighbors&#x27;: [1, 2, 3, 4],\n",
       "                                        &#x27;KNR__SCL&#x27;: [StandardScaler(),\n",
       "                                                     MinMaxScaler()]},\n",
       "                   random_state=23, scoring=&#x27;r2&#x27;, verbose=3)</pre></div></div></div><div class=\"sk-parallel\"><div class=\"sk-parallel-item\"><div class=\"sk-item\"><div class=\"sk-label-container\"><div class=\"sk-label sk-toggleable\"><input class=\"sk-toggleable__control sk-hidden--visually\" id=\"sk-estimator-id-18\" type=\"checkbox\" ><label for=\"sk-estimator-id-18\" class=\"sk-toggleable__label sk-toggleable__label-arrow\">estimator: VotingRegressor</label><div class=\"sk-toggleable__content\"><pre>VotingRegressor(estimators=[(&#x27;Elastic&#x27;, ElasticNet()),\n",
       "                            (&#x27;KNR&#x27;,\n",
       "                             Pipeline(steps=[(&#x27;SCL&#x27;, StandardScaler()),\n",
       "                                             (&#x27;KNR&#x27;, KNeighborsRegressor())])),\n",
       "                            (&#x27;DTR&#x27;, DecisionTreeRegressor())],\n",
       "                weights=[0.6006431793947039, 0.715311710031387,\n",
       "                         0.8473530592189679])</pre></div></div></div><div class=\"sk-serial\"><div class=\"sk-item sk-dashed-wrapped\"><div class=\"sk-parallel\"><div class=\"sk-parallel-item\"><div class=\"sk-item\"><div class=\"sk-label-container\"><div class=\"sk-label sk-toggleable\"><label>Elastic</label></div></div><div class=\"sk-serial\"><div class=\"sk-item\"><div class=\"sk-estimator sk-toggleable\"><input class=\"sk-toggleable__control sk-hidden--visually\" id=\"sk-estimator-id-19\" type=\"checkbox\" ><label for=\"sk-estimator-id-19\" class=\"sk-toggleable__label sk-toggleable__label-arrow\">ElasticNet</label><div class=\"sk-toggleable__content\"><pre>ElasticNet()</pre></div></div></div></div></div></div><div class=\"sk-parallel-item\"><div class=\"sk-item\"><div class=\"sk-label-container\"><div class=\"sk-label sk-toggleable\"><label>KNR</label></div></div><div class=\"sk-serial\"><div class=\"sk-item\"><div class=\"sk-serial\"><div class=\"sk-item\"><div class=\"sk-estimator sk-toggleable\"><input class=\"sk-toggleable__control sk-hidden--visually\" id=\"sk-estimator-id-20\" type=\"checkbox\" ><label for=\"sk-estimator-id-20\" class=\"sk-toggleable__label sk-toggleable__label-arrow\">StandardScaler</label><div class=\"sk-toggleable__content\"><pre>StandardScaler()</pre></div></div></div><div class=\"sk-item\"><div class=\"sk-estimator sk-toggleable\"><input class=\"sk-toggleable__control sk-hidden--visually\" id=\"sk-estimator-id-21\" type=\"checkbox\" ><label for=\"sk-estimator-id-21\" class=\"sk-toggleable__label sk-toggleable__label-arrow\">KNeighborsRegressor</label><div class=\"sk-toggleable__content\"><pre>KNeighborsRegressor()</pre></div></div></div></div></div></div></div></div><div class=\"sk-parallel-item\"><div class=\"sk-item\"><div class=\"sk-label-container\"><div class=\"sk-label sk-toggleable\"><label>DTR</label></div></div><div class=\"sk-serial\"><div class=\"sk-item\"><div class=\"sk-estimator sk-toggleable\"><input class=\"sk-toggleable__control sk-hidden--visually\" id=\"sk-estimator-id-22\" type=\"checkbox\" ><label for=\"sk-estimator-id-22\" class=\"sk-toggleable__label sk-toggleable__label-arrow\">DecisionTreeRegressor</label><div class=\"sk-toggleable__content\"><pre>DecisionTreeRegressor()</pre></div></div></div></div></div></div></div></div></div></div></div></div></div></div></div>"
      ],
      "text/plain": [
       "RandomizedSearchCV(cv=KFold(n_splits=5, random_state=23, shuffle=True),\n",
       "                   estimator=VotingRegressor(estimators=[('Elastic',\n",
       "                                                          ElasticNet()),\n",
       "                                                         ('KNR',\n",
       "                                                          Pipeline(steps=[('SCL',\n",
       "                                                                           StandardScaler()),\n",
       "                                                                          ('KNR',\n",
       "                                                                           KNeighborsRegressor())])),\n",
       "                                                         ('DTR',\n",
       "                                                          DecisionTreeRegressor())],\n",
       "                                             weights=[0.6006431793947039,\n",
       "                                                      0.715311710031387,\n",
       "                                                      0.8473530592189679]),\n",
       "                   param_distributions={'DTR__max_depth': [None, 3, 5],\n",
       "                                        'DTR__min_samples_leaf': [1, 5, 10],\n",
       "                                        'DTR__min_samples_split': [2, 5, 10],\n",
       "                                        'Elastic__alpha': array([1.00000e-03, 1.25075e+00, 2.50050e+00, 3.75025e+00, 5.00000e+00]),\n",
       "                                        'Elastic__l1_ratio': array([0.  , 0.25, 0.5 , 0.75, 1.  ]),\n",
       "                                        'KNR__KNR__n_neighbors': [1, 2, 3, 4],\n",
       "                                        'KNR__SCL': [StandardScaler(),\n",
       "                                                     MinMaxScaler()]},\n",
       "                   random_state=23, scoring='r2', verbose=3)"
      ]
     },
     "execution_count": 22,
     "metadata": {},
     "output_type": "execute_result"
    }
   ],
   "source": [
    "params1={'Elastic__alpha':np.linspace(0.001,5,5),'Elastic__l1_ratio':np.linspace(0,1,5),\n",
    "        'KNR__SCL':[StandardScaler(),MinMaxScaler()],'KNR__KNR__n_neighbors':[1,2,3,4],\n",
    "        'DTR__max_depth':[None,3,5],'DTR__min_samples_leaf':[1,5,10],\n",
    "        'DTR__min_samples_split':[2,5,10]}\n",
    "rgcv1=RandomizedSearchCV(voting1,param_distributions=params1,n_iter=10,cv=kfold,\n",
    "                       scoring='r2',verbose=3,random_state=23)\n",
    "rgcv1.fit(X,y)"
   ]
  },
  {
   "cell_type": "code",
   "execution_count": 23,
   "id": "b48abf01",
   "metadata": {},
   "outputs": [
    {
     "name": "stdout",
     "output_type": "stream",
     "text": [
      "best parameter : {'KNR__SCL': StandardScaler(), 'KNR__KNR__n_neighbors': 4, 'Elastic__l1_ratio': 1.0, 'Elastic__alpha': 0.001, 'DTR__min_samples_split': 2, 'DTR__min_samples_leaf': 10, 'DTR__max_depth': 5}\n",
      "best score : 0.5602798481948928\n"
     ]
    }
   ],
   "source": [
    "print(\"best parameter :\",rgcv1.best_params_)\n",
    "print(\"best score :\",rgcv1.best_score_)\n",
    "weighted_score=rgcv1.best_score_"
   ]
  },
  {
   "cell_type": "code",
   "execution_count": 24,
   "id": "a7433dc6",
   "metadata": {},
   "outputs": [
    {
     "name": "stdout",
     "output_type": "stream",
     "text": [
      "Weighted Score=  0.5602798481948928\n",
      "Unweighted Score=  0.5611820340307442\n",
      "ElasticNet Score=  0.550397681067038\n",
      "Scaling+KNR Score=  0.5031878091238833\n",
      "DTR Score=  0.5318032288555548\n"
     ]
    }
   ],
   "source": [
    "print(\"Weighted Score= \",weighted_score)\n",
    "print(\"Unweighted Score= \",unweighted_score)\n",
    "print(\"ElasticNet Score= \",elastic_score)\n",
    "print(\"Scaling+KNR Score= \",knr_score)\n",
    "print(\"DTR Score= \",dtr_score)"
   ]
  },
  {
   "cell_type": "markdown",
   "id": "4d5dfd04",
   "metadata": {},
   "source": [
    "## Inferencing"
   ]
  },
  {
   "cell_type": "code",
   "execution_count": 25,
   "id": "3ea6a7a9",
   "metadata": {},
   "outputs": [],
   "source": [
    "best_model=rgcv.best_estimator_"
   ]
  },
  {
   "cell_type": "code",
   "execution_count": 27,
   "id": "78d522b2",
   "metadata": {},
   "outputs": [
    {
     "data": {
      "text/html": [
       "<div>\n",
       "<style scoped>\n",
       "    .dataframe tbody tr th:only-of-type {\n",
       "        vertical-align: middle;\n",
       "    }\n",
       "\n",
       "    .dataframe tbody tr th {\n",
       "        vertical-align: top;\n",
       "    }\n",
       "\n",
       "    .dataframe thead th {\n",
       "        text-align: right;\n",
       "    }\n",
       "</style>\n",
       "<table border=\"1\" class=\"dataframe\">\n",
       "  <thead>\n",
       "    <tr style=\"text-align: right;\">\n",
       "      <th></th>\n",
       "      <th>Length</th>\n",
       "      <th>Diameter</th>\n",
       "      <th>Height</th>\n",
       "      <th>Weight</th>\n",
       "      <th>Shucked Weight</th>\n",
       "      <th>Viscera Weight</th>\n",
       "      <th>Shell Weight</th>\n",
       "      <th>Sex_I</th>\n",
       "      <th>Sex_M</th>\n",
       "    </tr>\n",
       "    <tr>\n",
       "      <th>id</th>\n",
       "      <th></th>\n",
       "      <th></th>\n",
       "      <th></th>\n",
       "      <th></th>\n",
       "      <th></th>\n",
       "      <th></th>\n",
       "      <th></th>\n",
       "      <th></th>\n",
       "      <th></th>\n",
       "    </tr>\n",
       "  </thead>\n",
       "  <tbody>\n",
       "    <tr>\n",
       "      <th>74051</th>\n",
       "      <td>1.0500</td>\n",
       "      <td>0.7625</td>\n",
       "      <td>0.2750</td>\n",
       "      <td>8.618248</td>\n",
       "      <td>3.657085</td>\n",
       "      <td>1.729319</td>\n",
       "      <td>2.721552</td>\n",
       "      <td>1</td>\n",
       "      <td>0</td>\n",
       "    </tr>\n",
       "    <tr>\n",
       "      <th>74052</th>\n",
       "      <td>1.1625</td>\n",
       "      <td>0.8875</td>\n",
       "      <td>0.2750</td>\n",
       "      <td>15.507176</td>\n",
       "      <td>7.030676</td>\n",
       "      <td>3.246018</td>\n",
       "      <td>3.968930</td>\n",
       "      <td>1</td>\n",
       "      <td>0</td>\n",
       "    </tr>\n",
       "    <tr>\n",
       "      <th>74053</th>\n",
       "      <td>1.2875</td>\n",
       "      <td>0.9875</td>\n",
       "      <td>0.3250</td>\n",
       "      <td>14.571643</td>\n",
       "      <td>5.556502</td>\n",
       "      <td>3.883882</td>\n",
       "      <td>4.819415</td>\n",
       "      <td>0</td>\n",
       "      <td>0</td>\n",
       "    </tr>\n",
       "    <tr>\n",
       "      <th>74054</th>\n",
       "      <td>1.5500</td>\n",
       "      <td>0.9875</td>\n",
       "      <td>0.3875</td>\n",
       "      <td>28.377849</td>\n",
       "      <td>13.380964</td>\n",
       "      <td>6.548735</td>\n",
       "      <td>7.030676</td>\n",
       "      <td>0</td>\n",
       "      <td>0</td>\n",
       "    </tr>\n",
       "    <tr>\n",
       "      <th>74055</th>\n",
       "      <td>1.1125</td>\n",
       "      <td>0.8500</td>\n",
       "      <td>0.2625</td>\n",
       "      <td>11.765042</td>\n",
       "      <td>5.528153</td>\n",
       "      <td>2.466407</td>\n",
       "      <td>3.331066</td>\n",
       "      <td>1</td>\n",
       "      <td>0</td>\n",
       "    </tr>\n",
       "  </tbody>\n",
       "</table>\n",
       "</div>"
      ],
      "text/plain": [
       "       Length  Diameter  Height     Weight  Shucked Weight  Viscera Weight  \\\n",
       "id                                                                           \n",
       "74051  1.0500    0.7625  0.2750   8.618248        3.657085        1.729319   \n",
       "74052  1.1625    0.8875  0.2750  15.507176        7.030676        3.246018   \n",
       "74053  1.2875    0.9875  0.3250  14.571643        5.556502        3.883882   \n",
       "74054  1.5500    0.9875  0.3875  28.377849       13.380964        6.548735   \n",
       "74055  1.1125    0.8500  0.2625  11.765042        5.528153        2.466407   \n",
       "\n",
       "       Shell Weight  Sex_I  Sex_M  \n",
       "id                                 \n",
       "74051      2.721552      1      0  \n",
       "74052      3.968930      1      0  \n",
       "74053      4.819415      0      0  \n",
       "74054      7.030676      0      0  \n",
       "74055      3.331066      1      0  "
      ]
     },
     "execution_count": 27,
     "metadata": {},
     "output_type": "execute_result"
    }
   ],
   "source": [
    "test=pd.read_csv('crab_test.csv',index_col=0)\n",
    "test=pd.get_dummies(test,drop_first=True,dtype='int')\n",
    "test.head()"
   ]
  },
  {
   "cell_type": "code",
   "execution_count": 29,
   "id": "1d4b7845",
   "metadata": {},
   "outputs": [],
   "source": [
    "y_pred=best_model.predict(test)"
   ]
  },
  {
   "cell_type": "code",
   "execution_count": 30,
   "id": "3026ac33",
   "metadata": {},
   "outputs": [
    {
     "data": {
      "text/html": [
       "<div>\n",
       "<style scoped>\n",
       "    .dataframe tbody tr th:only-of-type {\n",
       "        vertical-align: middle;\n",
       "    }\n",
       "\n",
       "    .dataframe tbody tr th {\n",
       "        vertical-align: top;\n",
       "    }\n",
       "\n",
       "    .dataframe thead th {\n",
       "        text-align: right;\n",
       "    }\n",
       "</style>\n",
       "<table border=\"1\" class=\"dataframe\">\n",
       "  <thead>\n",
       "    <tr style=\"text-align: right;\">\n",
       "      <th></th>\n",
       "      <th>ID</th>\n",
       "      <th>Age</th>\n",
       "    </tr>\n",
       "  </thead>\n",
       "  <tbody>\n",
       "    <tr>\n",
       "      <th>0</th>\n",
       "      <td>74051</td>\n",
       "      <td>7.422386</td>\n",
       "    </tr>\n",
       "    <tr>\n",
       "      <th>1</th>\n",
       "      <td>74052</td>\n",
       "      <td>7.630241</td>\n",
       "    </tr>\n",
       "    <tr>\n",
       "      <th>2</th>\n",
       "      <td>74053</td>\n",
       "      <td>10.455775</td>\n",
       "    </tr>\n",
       "    <tr>\n",
       "      <th>3</th>\n",
       "      <td>74054</td>\n",
       "      <td>9.857892</td>\n",
       "    </tr>\n",
       "    <tr>\n",
       "      <th>4</th>\n",
       "      <td>74055</td>\n",
       "      <td>7.517481</td>\n",
       "    </tr>\n",
       "    <tr>\n",
       "      <th>...</th>\n",
       "      <td>...</td>\n",
       "      <td>...</td>\n",
       "    </tr>\n",
       "    <tr>\n",
       "      <th>49363</th>\n",
       "      <td>123414</td>\n",
       "      <td>9.189708</td>\n",
       "    </tr>\n",
       "    <tr>\n",
       "      <th>49364</th>\n",
       "      <td>123415</td>\n",
       "      <td>8.264763</td>\n",
       "    </tr>\n",
       "    <tr>\n",
       "      <th>49365</th>\n",
       "      <td>123416</td>\n",
       "      <td>12.935397</td>\n",
       "    </tr>\n",
       "    <tr>\n",
       "      <th>49366</th>\n",
       "      <td>123417</td>\n",
       "      <td>9.994969</td>\n",
       "    </tr>\n",
       "    <tr>\n",
       "      <th>49367</th>\n",
       "      <td>123418</td>\n",
       "      <td>11.920432</td>\n",
       "    </tr>\n",
       "  </tbody>\n",
       "</table>\n",
       "<p>49368 rows × 2 columns</p>\n",
       "</div>"
      ],
      "text/plain": [
       "           ID        Age\n",
       "0       74051   7.422386\n",
       "1       74052   7.630241\n",
       "2       74053  10.455775\n",
       "3       74054   9.857892\n",
       "4       74055   7.517481\n",
       "...       ...        ...\n",
       "49363  123414   9.189708\n",
       "49364  123415   8.264763\n",
       "49365  123416  12.935397\n",
       "49366  123417   9.994969\n",
       "49367  123418  11.920432\n",
       "\n",
       "[49368 rows x 2 columns]"
      ]
     },
     "execution_count": 30,
     "metadata": {},
     "output_type": "execute_result"
    }
   ],
   "source": [
    "submit=pd.DataFrame({'ID':test.index,'Age':y_pred})\n",
    "submit"
   ]
  },
  {
   "cell_type": "code",
   "execution_count": 31,
   "id": "b7e4c4d6",
   "metadata": {},
   "outputs": [],
   "source": [
    "submit.to_csv('submit(crab_voting).csv',index=False)"
   ]
  },
  {
   "cell_type": "code",
   "execution_count": null,
   "id": "c633bb87",
   "metadata": {},
   "outputs": [],
   "source": []
  }
 ],
 "metadata": {
  "kernelspec": {
   "display_name": "Python 3 (ipykernel)",
   "language": "python",
   "name": "python3"
  },
  "language_info": {
   "codemirror_mode": {
    "name": "ipython",
    "version": 3
   },
   "file_extension": ".py",
   "mimetype": "text/x-python",
   "name": "python",
   "nbconvert_exporter": "python",
   "pygments_lexer": "ipython3",
   "version": "3.11.4"
  }
 },
 "nbformat": 4,
 "nbformat_minor": 5
}
