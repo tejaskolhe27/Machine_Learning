{
 "cells": [
  {
   "cell_type": "code",
   "execution_count": 2,
   "id": "7513456b",
   "metadata": {},
   "outputs": [],
   "source": [
    "import pandas as pd\n",
    "import numpy as np\n",
    "from sklearn.impute import KNNImputer"
   ]
  },
  {
   "cell_type": "code",
   "execution_count": 6,
   "id": "d22dd8fa",
   "metadata": {},
   "outputs": [],
   "source": [
    "X = np.array([[1,2,np.nan],\n",
    "             [8,6.3,5],\n",
    "             [np.nan,3.5,6.7],\n",
    "             [1.25,4.2,1],\n",
    "             [1.2,2.4,3],\n",
    "             [np.nan,6,5],\n",
    "             [10,6.43,5.61]])"
   ]
  },
  {
   "cell_type": "code",
   "execution_count": 7,
   "id": "f4029449",
   "metadata": {},
   "outputs": [
    {
     "data": {
      "text/plain": [
       "array([[ 1.  ,  2.  ,  3.  ],\n",
       "       [ 8.  ,  6.3 ,  5.  ],\n",
       "       [ 1.  ,  3.5 ,  6.7 ],\n",
       "       [ 1.25,  4.2 ,  1.  ],\n",
       "       [ 1.2 ,  2.4 ,  3.  ],\n",
       "       [ 8.  ,  6.  ,  5.  ],\n",
       "       [10.  ,  6.43,  5.61]])"
      ]
     },
     "execution_count": 7,
     "metadata": {},
     "output_type": "execute_result"
    }
   ],
   "source": [
    "imputer = KNNImputer(n_neighbors=1)\n",
    "imputer.fit_transform(X)"
   ]
  },
  {
   "cell_type": "code",
   "execution_count": 8,
   "id": "6af944a1",
   "metadata": {},
   "outputs": [
    {
     "data": {
      "text/plain": [
       "array([[ 1.  ,  2.  ,  4.85],\n",
       "       [ 8.  ,  6.3 ,  5.  ],\n",
       "       [ 5.5 ,  3.5 ,  6.7 ],\n",
       "       [ 1.25,  4.2 ,  1.  ],\n",
       "       [ 1.2 ,  2.4 ,  3.  ],\n",
       "       [ 9.  ,  6.  ,  5.  ],\n",
       "       [10.  ,  6.43,  5.61]])"
      ]
     },
     "execution_count": 8,
     "metadata": {},
     "output_type": "execute_result"
    }
   ],
   "source": [
    "imputer = KNNImputer(n_neighbors=2)\n",
    "imputer.fit_transform(X)"
   ]
  },
  {
   "cell_type": "code",
   "execution_count": 9,
   "id": "d67c921c",
   "metadata": {},
   "outputs": [
    {
     "data": {
      "text/plain": [
       "array([[ 1.        ,  2.        ,  3.56666667],\n",
       "       [ 8.        ,  6.3       ,  5.        ],\n",
       "       [ 6.33333333,  3.5       ,  6.7       ],\n",
       "       [ 1.25      ,  4.2       ,  1.        ],\n",
       "       [ 1.2       ,  2.4       ,  3.        ],\n",
       "       [ 6.4       ,  6.        ,  5.        ],\n",
       "       [10.        ,  6.43      ,  5.61      ]])"
      ]
     },
     "execution_count": 9,
     "metadata": {},
     "output_type": "execute_result"
    }
   ],
   "source": [
    "imputer = KNNImputer(n_neighbors=3)\n",
    "imputer.fit_transform(X)"
   ]
  },
  {
   "cell_type": "code",
   "execution_count": null,
   "id": "117834f6",
   "metadata": {},
   "outputs": [],
   "source": []
  }
 ],
 "metadata": {
  "kernelspec": {
   "display_name": "Python 3 (ipykernel)",
   "language": "python",
   "name": "python3"
  },
  "language_info": {
   "codemirror_mode": {
    "name": "ipython",
    "version": 3
   },
   "file_extension": ".py",
   "mimetype": "text/x-python",
   "name": "python",
   "nbconvert_exporter": "python",
   "pygments_lexer": "ipython3",
   "version": "3.11.4"
  }
 },
 "nbformat": 4,
 "nbformat_minor": 5
}
