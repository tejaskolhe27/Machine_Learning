{
 "cells": [
  {
   "cell_type": "markdown",
   "id": "97932b7b",
   "metadata": {},
   "source": [
    "#### **Anal  Vidya Seasonal ARIMA**"
   ]
  },
  {
   "cell_type": "code",
   "execution_count": 1,
   "id": "cac3468f",
   "metadata": {},
   "outputs": [],
   "source": [
    "import pandas as pd\n",
    "import matplotlib.pyplot as plt\n",
    "from math import sqrt\n",
    "from sklearn.metrics import mean_squared_error\n"
   ]
  },
  {
   "cell_type": "code",
   "execution_count": 2,
   "id": "6e13bc53",
   "metadata": {},
   "outputs": [
    {
     "data": {
      "text/html": [
       "<div>\n",
       "<style scoped>\n",
       "    .dataframe tbody tr th:only-of-type {\n",
       "        vertical-align: middle;\n",
       "    }\n",
       "\n",
       "    .dataframe tbody tr th {\n",
       "        vertical-align: top;\n",
       "    }\n",
       "\n",
       "    .dataframe thead th {\n",
       "        text-align: right;\n",
       "    }\n",
       "</style>\n",
       "<table border=\"1\" class=\"dataframe\">\n",
       "  <thead>\n",
       "    <tr style=\"text-align: right;\">\n",
       "      <th></th>\n",
       "      <th>ID</th>\n",
       "      <th>Count</th>\n",
       "    </tr>\n",
       "    <tr>\n",
       "      <th>Datetime</th>\n",
       "      <th></th>\n",
       "      <th></th>\n",
       "    </tr>\n",
       "  </thead>\n",
       "  <tbody>\n",
       "    <tr>\n",
       "      <th>25-08-2012 00:00</th>\n",
       "      <td>0</td>\n",
       "      <td>8</td>\n",
       "    </tr>\n",
       "    <tr>\n",
       "      <th>25-08-2012 01:00</th>\n",
       "      <td>1</td>\n",
       "      <td>2</td>\n",
       "    </tr>\n",
       "    <tr>\n",
       "      <th>25-08-2012 02:00</th>\n",
       "      <td>2</td>\n",
       "      <td>6</td>\n",
       "    </tr>\n",
       "    <tr>\n",
       "      <th>25-08-2012 03:00</th>\n",
       "      <td>3</td>\n",
       "      <td>2</td>\n",
       "    </tr>\n",
       "    <tr>\n",
       "      <th>25-08-2012 04:00</th>\n",
       "      <td>4</td>\n",
       "      <td>2</td>\n",
       "    </tr>\n",
       "  </tbody>\n",
       "</table>\n",
       "</div>"
      ],
      "text/plain": [
       "                  ID  Count\n",
       "Datetime                   \n",
       "25-08-2012 00:00   0      8\n",
       "25-08-2012 01:00   1      2\n",
       "25-08-2012 02:00   2      6\n",
       "25-08-2012 03:00   3      2\n",
       "25-08-2012 04:00   4      2"
      ]
     },
     "execution_count": 2,
     "metadata": {},
     "output_type": "execute_result"
    }
   ],
   "source": [
    "avt_train=pd.read_csv(\"Train_SU63ISt.csv\",index_col=1)\n",
    "avt_train.head()"
   ]
  },
  {
   "cell_type": "code",
   "execution_count": 3,
   "id": "02a6f0d1",
   "metadata": {},
   "outputs": [
    {
     "name": "stderr",
     "output_type": "stream",
     "text": [
      "/tmp/ipykernel_5919/1465845004.py:1: UserWarning: Parsing dates in %d-%m-%Y %H:%M format when dayfirst=False (the default) was specified. Pass `dayfirst=True` or specify a format to silence this warning.\n",
      "  idx=pd.to_datetime(avt_train.index).to_period(\"H\")\n"
     ]
    },
    {
     "data": {
      "text/html": [
       "<div>\n",
       "<style scoped>\n",
       "    .dataframe tbody tr th:only-of-type {\n",
       "        vertical-align: middle;\n",
       "    }\n",
       "\n",
       "    .dataframe tbody tr th {\n",
       "        vertical-align: top;\n",
       "    }\n",
       "\n",
       "    .dataframe thead th {\n",
       "        text-align: right;\n",
       "    }\n",
       "</style>\n",
       "<table border=\"1\" class=\"dataframe\">\n",
       "  <thead>\n",
       "    <tr style=\"text-align: right;\">\n",
       "      <th></th>\n",
       "      <th>ID</th>\n",
       "      <th>Count</th>\n",
       "    </tr>\n",
       "    <tr>\n",
       "      <th>Datetime</th>\n",
       "      <th></th>\n",
       "      <th></th>\n",
       "    </tr>\n",
       "  </thead>\n",
       "  <tbody>\n",
       "    <tr>\n",
       "      <th>2012-08-25 00:00</th>\n",
       "      <td>0</td>\n",
       "      <td>8</td>\n",
       "    </tr>\n",
       "    <tr>\n",
       "      <th>2012-08-25 01:00</th>\n",
       "      <td>1</td>\n",
       "      <td>2</td>\n",
       "    </tr>\n",
       "    <tr>\n",
       "      <th>2012-08-25 02:00</th>\n",
       "      <td>2</td>\n",
       "      <td>6</td>\n",
       "    </tr>\n",
       "    <tr>\n",
       "      <th>2012-08-25 03:00</th>\n",
       "      <td>3</td>\n",
       "      <td>2</td>\n",
       "    </tr>\n",
       "    <tr>\n",
       "      <th>2012-08-25 04:00</th>\n",
       "      <td>4</td>\n",
       "      <td>2</td>\n",
       "    </tr>\n",
       "  </tbody>\n",
       "</table>\n",
       "</div>"
      ],
      "text/plain": [
       "                  ID  Count\n",
       "Datetime                   \n",
       "2012-08-25 00:00   0      8\n",
       "2012-08-25 01:00   1      2\n",
       "2012-08-25 02:00   2      6\n",
       "2012-08-25 03:00   3      2\n",
       "2012-08-25 04:00   4      2"
      ]
     },
     "execution_count": 3,
     "metadata": {},
     "output_type": "execute_result"
    }
   ],
   "source": [
    "idx=pd.to_datetime(avt_train.index).to_period(\"H\")\n",
    "avt_train.index=idx\n",
    "avt_train.head()"
   ]
  },
  {
   "cell_type": "code",
   "execution_count": 4,
   "id": "111904d4",
   "metadata": {},
   "outputs": [],
   "source": [
    "y_train=avt_train['Count']"
   ]
  },
  {
   "cell_type": "code",
   "execution_count": 5,
   "id": "28b2cee9",
   "metadata": {},
   "outputs": [],
   "source": [
    "from pmdarima.arima import auto_arima"
   ]
  },
  {
   "cell_type": "code",
   "execution_count": null,
   "id": "e78b6f2d",
   "metadata": {},
   "outputs": [
    {
     "name": "stdout",
     "output_type": "stream",
     "text": [
      "Performing stepwise search to minimize aic\n",
      " ARIMA(2,1,2)(1,0,1)[24] intercept   : AIC=inf, Time=nan sec\n",
      " ARIMA(0,1,0)(0,0,0)[24] intercept   : AIC=187752.233, Time=1.18 sec\n",
      " ARIMA(1,1,0)(1,0,0)[24] intercept   : AIC=184707.797, Time=33.37 sec\n",
      " ARIMA(0,1,1)(0,0,1)[24] intercept   : AIC=185844.866, Time=31.56 sec\n",
      " ARIMA(0,1,0)(0,0,0)[24]             : AIC=187750.242, Time=0.37 sec\n",
      " ARIMA(1,1,0)(0,0,0)[24] intercept   : AIC=187738.425, Time=1.18 sec\n",
      " ARIMA(1,1,0)(2,0,0)[24] intercept   : AIC=183501.858, Time=114.44 sec\n"
     ]
    }
   ],
   "source": [
    "model = auto_arima(y_train, trace=True,\n",
    "                   error_action='ignore', \n",
    "                   suppress_warnings=True,\n",
    "                  seasonal= True,m=24)"
   ]
  },
  {
   "cell_type": "code",
   "execution_count": null,
   "id": "ff8cf68c",
   "metadata": {},
   "outputs": [],
   "source": [
    "forecast = model.predict(n_periods=len(y_test))\n",
    "forecast = pd.DataFrame(forecast,index = y_test.index,\n",
    "                        columns=['Prediction'])"
   ]
  },
  {
   "cell_type": "code",
   "execution_count": null,
   "id": "0004fd7a",
   "metadata": {},
   "outputs": [],
   "source": [
    "from sktime.utils.plotting import plot_series"
   ]
  },
  {
   "cell_type": "code",
   "execution_count": null,
   "id": "987ed004",
   "metadata": {},
   "outputs": [],
   "source": [
    "#plot the predictions for validation set\n",
    "plot_series(y_train,y_test,forecast,labels=['train','test','forecast'])\n",
    "plt.show()"
   ]
  },
  {
   "cell_type": "code",
   "execution_count": null,
   "id": "341a98be",
   "metadata": {},
   "outputs": [],
   "source": [
    "rms = sqrt(mean_squared_error(y_test, forecast))\n",
    "print('Test RMSE: %.3f' % rms)"
   ]
  },
  {
   "cell_type": "code",
   "execution_count": null,
   "id": "094fe38b",
   "metadata": {},
   "outputs": [],
   "source": []
  }
 ],
 "metadata": {
  "kernelspec": {
   "display_name": "Python 3 (ipykernel)",
   "language": "python",
   "name": "python3"
  },
  "language_info": {
   "codemirror_mode": {
    "name": "ipython",
    "version": 3
   },
   "file_extension": ".py",
   "mimetype": "text/x-python",
   "name": "python",
   "nbconvert_exporter": "python",
   "pygments_lexer": "ipython3",
   "version": "3.11.4"
  }
 },
 "nbformat": 4,
 "nbformat_minor": 5
}
