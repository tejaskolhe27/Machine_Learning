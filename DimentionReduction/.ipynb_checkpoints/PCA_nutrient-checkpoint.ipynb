{
 "cells": [
  {
   "cell_type": "code",
   "execution_count": 1,
   "id": "12018361",
   "metadata": {},
   "outputs": [],
   "source": [
    "import numpy as np\n",
    "import pandas as pd\n",
    "from sklearn.decomposition import PCA\n",
    "import seaborn as sns\n",
    "import matplotlib.pyplot as plt\n",
    "from sklearn.preprocessing import StandardScaler\n",
    "from sklearn.pipeline import Pipeline"
   ]
  },
  {
   "cell_type": "code",
   "execution_count": 2,
   "id": "f022abb7",
   "metadata": {},
   "outputs": [
    {
     "data": {
      "text/html": [
       "<div>\n",
       "<style scoped>\n",
       "    .dataframe tbody tr th:only-of-type {\n",
       "        vertical-align: middle;\n",
       "    }\n",
       "\n",
       "    .dataframe tbody tr th {\n",
       "        vertical-align: top;\n",
       "    }\n",
       "\n",
       "    .dataframe thead th {\n",
       "        text-align: right;\n",
       "    }\n",
       "</style>\n",
       "<table border=\"1\" class=\"dataframe\">\n",
       "  <thead>\n",
       "    <tr style=\"text-align: right;\">\n",
       "      <th></th>\n",
       "      <th>energy</th>\n",
       "      <th>protein</th>\n",
       "      <th>fat</th>\n",
       "      <th>calcium</th>\n",
       "      <th>iron</th>\n",
       "    </tr>\n",
       "    <tr>\n",
       "      <th>Food_Item</th>\n",
       "      <th></th>\n",
       "      <th></th>\n",
       "      <th></th>\n",
       "      <th></th>\n",
       "      <th></th>\n",
       "    </tr>\n",
       "  </thead>\n",
       "  <tbody>\n",
       "    <tr>\n",
       "      <th>BEEF BRAISED</th>\n",
       "      <td>340</td>\n",
       "      <td>20</td>\n",
       "      <td>28</td>\n",
       "      <td>9</td>\n",
       "      <td>2.6</td>\n",
       "    </tr>\n",
       "    <tr>\n",
       "      <th>HAMBURGER</th>\n",
       "      <td>245</td>\n",
       "      <td>21</td>\n",
       "      <td>17</td>\n",
       "      <td>9</td>\n",
       "      <td>2.7</td>\n",
       "    </tr>\n",
       "    <tr>\n",
       "      <th>BEEF ROAST</th>\n",
       "      <td>420</td>\n",
       "      <td>15</td>\n",
       "      <td>39</td>\n",
       "      <td>7</td>\n",
       "      <td>2.0</td>\n",
       "    </tr>\n",
       "    <tr>\n",
       "      <th>BEEF STEAK</th>\n",
       "      <td>375</td>\n",
       "      <td>19</td>\n",
       "      <td>32</td>\n",
       "      <td>9</td>\n",
       "      <td>2.6</td>\n",
       "    </tr>\n",
       "    <tr>\n",
       "      <th>BEEF CANNED</th>\n",
       "      <td>180</td>\n",
       "      <td>22</td>\n",
       "      <td>10</td>\n",
       "      <td>17</td>\n",
       "      <td>3.7</td>\n",
       "    </tr>\n",
       "  </tbody>\n",
       "</table>\n",
       "</div>"
      ],
      "text/plain": [
       "              energy  protein  fat  calcium  iron\n",
       "Food_Item                                        \n",
       "BEEF BRAISED     340       20   28        9   2.6\n",
       "HAMBURGER        245       21   17        9   2.7\n",
       "BEEF ROAST       420       15   39        7   2.0\n",
       "BEEF STEAK       375       19   32        9   2.6\n",
       "BEEF CANNED      180       22   10       17   3.7"
      ]
     },
     "execution_count": 2,
     "metadata": {},
     "output_type": "execute_result"
    }
   ],
   "source": [
    "nutrient= pd.read_csv(\"nutrient.csv\",index_col=0)\n",
    "nutrient.head()"
   ]
  },
  {
   "cell_type": "code",
   "execution_count": 3,
   "id": "e6038538",
   "metadata": {},
   "outputs": [],
   "source": [
    "scaler=StandardScaler()\n",
    "prcomp=PCA()\n",
    "pipe_PCA=Pipeline([('SCL',scaler),('PCA',prcomp)])\n",
    "scores=pipe_PCA.fit_transform(nutrient)"
   ]
  },
  {
   "cell_type": "code",
   "execution_count": 8,
   "id": "5264d70c",
   "metadata": {},
   "outputs": [
    {
     "name": "stdout",
     "output_type": "stream",
     "text": [
      "Variances of PC Scores: \n",
      "[2.28079741e+00 1.18996245e+00 8.80317810e-01 8.39566765e-01\n",
      " 1.66325132e-03]\n"
     ]
    }
   ],
   "source": [
    "print(\"Variances of PC Scores: \")\n",
    "print(prcomp.explained_variance_)"
   ]
  },
  {
   "cell_type": "code",
   "execution_count": 9,
   "id": "c97925ca",
   "metadata": {},
   "outputs": [],
   "source": [
    "tot_var=np.sum(prcomp.explained_variance_)"
   ]
  },
  {
   "cell_type": "code",
   "execution_count": 10,
   "id": "e2f8f56a",
   "metadata": {},
   "outputs": [
    {
     "name": "stdout",
     "output_type": "stream",
     "text": [
      "% age variations: \n",
      "[4.39264687e+01 2.29177954e+01 1.69542689e+01 1.61694340e+01\n",
      " 3.20329884e-02]\n"
     ]
    }
   ],
   "source": [
    "print(\"% age variations: \")\n",
    "print((prcomp.explained_variance_/tot_var)*100)"
   ]
  },
  {
   "cell_type": "code",
   "execution_count": 11,
   "id": "faa021a2",
   "metadata": {},
   "outputs": [
    {
     "name": "stdout",
     "output_type": "stream",
     "text": [
      "Cumulative % age variations explained:\n",
      "[ 43.92646868  66.84426409  83.79853301  99.96796701 100.        ]\n"
     ]
    }
   ],
   "source": [
    "print(\"Cumulative % age variations explained:\")\n",
    "print(np.cumsum(prcomp.explained_variance_ratio_*100))"
   ]
  },
  {
   "cell_type": "code",
   "execution_count": 1,
   "id": "fd392fbe",
   "metadata": {},
   "outputs": [],
   "source": [
    "from pca import pca"
   ]
  },
  {
   "cell_type": "code",
   "execution_count": 3,
   "id": "8221aa76",
   "metadata": {},
   "outputs": [
    {
     "ename": "NameError",
     "evalue": "name 'StandardScaler' is not defined",
     "output_type": "error",
     "traceback": [
      "\u001b[0;31m---------------------------------------------------------------------------\u001b[0m",
      "\u001b[0;31mNameError\u001b[0m                                 Traceback (most recent call last)",
      "Cell \u001b[0;32mIn[3], line 1\u001b[0m\n\u001b[0;32m----> 1\u001b[0m scaler\u001b[38;5;241m=\u001b[39mStandardScaler()\n\u001b[1;32m      2\u001b[0m scaled_data\u001b[38;5;241m=\u001b[39mscaler\u001b[38;5;241m.\u001b[39mfit_transform(nutrient)\n",
      "\u001b[0;31mNameError\u001b[0m: name 'StandardScaler' is not defined"
     ]
    }
   ],
   "source": [
    "scaler=StandardScaler()\n",
    "scaled_data=scaler.fit_transform(nutrient)"
   ]
  },
  {
   "cell_type": "code",
   "execution_count": 2,
   "id": "41f0e81a",
   "metadata": {},
   "outputs": [
    {
     "ename": "NameError",
     "evalue": "name 'scaled_data' is not defined",
     "output_type": "error",
     "traceback": [
      "\u001b[0;31m---------------------------------------------------------------------------\u001b[0m",
      "\u001b[0;31mNameError\u001b[0m                                 Traceback (most recent call last)",
      "Cell \u001b[0;32mIn[2], line 2\u001b[0m\n\u001b[1;32m      1\u001b[0m model\u001b[38;5;241m=\u001b[39mpca()\n\u001b[0;32m----> 2\u001b[0m results\u001b[38;5;241m=\u001b[39mmodel\u001b[38;5;241m.\u001b[39mfit_transform(scaled_data,col_labels\u001b[38;5;241m=\u001b[39mnutrient\u001b[38;5;241m.\u001b[39mcolumns,row_labels\u001b[38;5;241m=\u001b[39m\u001b[38;5;28mlist\u001b[39m(nutrient\u001b[38;5;241m.\u001b[39mindex))\n\u001b[1;32m      3\u001b[0m model\u001b[38;5;241m.\u001b[39mbiplot(label\u001b[38;5;241m=\u001b[39m\u001b[38;5;28;01mTrue\u001b[39;00m,legend\u001b[38;5;241m=\u001b[39m\u001b[38;5;28;01mTrue\u001b[39;00m)\n\u001b[1;32m      4\u001b[0m \u001b[38;5;28;01mfor\u001b[39;00m i \u001b[38;5;129;01min\u001b[39;00m np\u001b[38;5;241m.\u001b[39marange(\u001b[38;5;241m0\u001b[39m,\u001b[38;5;241m25\u001b[39m):\n",
      "\u001b[0;31mNameError\u001b[0m: name 'scaled_data' is not defined"
     ]
    }
   ],
   "source": [
    "model=pca()\n",
    "results=model.fit_transform(scaled_data,col_labels=nutrient.columns,row_labels=list(nutrient.index))\n",
    "model.biplot(label=True,legend=True)\n",
    "for i in np.arange(0,25):\n",
    "    plt.text(scores[i,0],scores[i,1],list(nutrient.index)[i])\n",
    "plt.show()"
   ]
  },
  {
   "cell_type": "code",
   "execution_count": null,
   "id": "1a6916e1",
   "metadata": {},
   "outputs": [],
   "source": []
  }
 ],
 "metadata": {
  "kernelspec": {
   "display_name": "Python 3 (ipykernel)",
   "language": "python",
   "name": "python3"
  },
  "language_info": {
   "codemirror_mode": {
    "name": "ipython",
    "version": 3
   },
   "file_extension": ".py",
   "mimetype": "text/x-python",
   "name": "python",
   "nbconvert_exporter": "python",
   "pygments_lexer": "ipython3",
   "version": "3.11.4"
  }
 },
 "nbformat": 4,
 "nbformat_minor": 5
}
