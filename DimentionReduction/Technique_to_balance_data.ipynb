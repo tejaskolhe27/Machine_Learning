{
 "cells": [
  {
   "cell_type": "code",
   "execution_count": 30,
   "id": "97646aec",
   "metadata": {},
   "outputs": [],
   "source": [
    "import numpy as np\n",
    "import pandas as pd\n",
    "from sklearn.metrics import r2_score,accuracy_score\n",
    "from sklearn.model_selection import cross_val_score,GridSearchCV,StratifiedKFold\n",
    "from sklearn.preprocessing import OneHotEncoder,StandardScaler\n",
    "from sklearn.compose import make_column_selector,make_column_transformer\n",
    "from sklearn.svm import SVC\n",
    "from sklearn.pipeline import Pipeline\n",
    "from sklearn.manifold import TSNE\n",
    "import matplotlib.pyplot as plt\n",
    "import seaborn as sns\n",
    "from sklearn.ensemble import RandomForestClassifier\n",
    "from imblearn.under_sampling import RandomUnderSampler\n",
    "from imblearn.over_sampling import RandomOverSampler,ADASYN,SMOTE,SVMSMOTE"
   ]
  },
  {
   "cell_type": "code",
   "execution_count": 16,
   "id": "0cc88f6c",
   "metadata": {},
   "outputs": [],
   "source": [
    "from imblearn.over_sampling import ADASYN"
   ]
  },
  {
   "cell_type": "code",
   "execution_count": 2,
   "id": "157ff5bd",
   "metadata": {},
   "outputs": [],
   "source": [
    "comp_bankruptcy=pd.read_csv(\"data.csv\")\n",
    "comp_bankruptcy.head()\n",
    "X=comp_bankruptcy.drop('Bankrupt?',axis=1)\n",
    "y=comp_bankruptcy['Bankrupt?']"
   ]
  },
  {
   "cell_type": "code",
   "execution_count": 3,
   "id": "9308b1e9",
   "metadata": {},
   "outputs": [
    {
     "data": {
      "text/plain": [
       "Bankrupt?\n",
       "0    96.77372\n",
       "1     3.22628\n",
       "Name: proportion, dtype: float64"
      ]
     },
     "execution_count": 3,
     "metadata": {},
     "output_type": "execute_result"
    }
   ],
   "source": [
    "y.value_counts(normalize=True)*100"
   ]
  },
  {
   "cell_type": "code",
   "execution_count": 4,
   "id": "893f81f5",
   "metadata": {},
   "outputs": [],
   "source": [
    "# Imbalance Data"
   ]
  },
  {
   "cell_type": "markdown",
   "id": "e6ddc9e4",
   "metadata": {},
   "source": [
    "## make data Balance"
   ]
  },
  {
   "cell_type": "code",
   "execution_count": 5,
   "id": "f790c9af",
   "metadata": {},
   "outputs": [
    {
     "name": "stdout",
     "output_type": "stream",
     "text": [
      "Requirement already satisfied: imblearn in /home/dai/anaconda3/lib/python3.11/site-packages (0.0)\n",
      "Requirement already satisfied: imbalanced-learn in /home/dai/anaconda3/lib/python3.11/site-packages (from imblearn) (0.11.0)\n",
      "Requirement already satisfied: numpy>=1.17.3 in /home/dai/anaconda3/lib/python3.11/site-packages (from imbalanced-learn->imblearn) (1.24.4)\n",
      "Requirement already satisfied: scipy>=1.5.0 in /home/dai/anaconda3/lib/python3.11/site-packages (from imbalanced-learn->imblearn) (1.11.1)\n",
      "Requirement already satisfied: scikit-learn>=1.0.2 in /home/dai/anaconda3/lib/python3.11/site-packages (from imbalanced-learn->imblearn) (1.3.2)\n",
      "Requirement already satisfied: joblib>=1.1.1 in /home/dai/anaconda3/lib/python3.11/site-packages (from imbalanced-learn->imblearn) (1.3.2)\n",
      "Requirement already satisfied: threadpoolctl>=2.0.0 in /home/dai/anaconda3/lib/python3.11/site-packages (from imbalanced-learn->imblearn) (3.2.0)\n"
     ]
    }
   ],
   "source": [
    "!pip install imblearn"
   ]
  },
  {
   "cell_type": "markdown",
   "id": "2031108d",
   "metadata": {},
   "source": [
    "## 1. Under Sampling"
   ]
  },
  {
   "cell_type": "code",
   "execution_count": 7,
   "id": "a1584575",
   "metadata": {},
   "outputs": [],
   "source": [
    "u_sampler=RandomUnderSampler(random_state=23)\n",
    "X_us,y_us=u_sampler.fit_resample(X,y)"
   ]
  },
  {
   "cell_type": "code",
   "execution_count": 8,
   "id": "5c426c54",
   "metadata": {},
   "outputs": [
    {
     "data": {
      "text/plain": [
       "Bankrupt?\n",
       "0    220\n",
       "1    220\n",
       "Name: count, dtype: int64"
      ]
     },
     "execution_count": 8,
     "metadata": {},
     "output_type": "execute_result"
    }
   ],
   "source": [
    "y_us.value_counts()"
   ]
  },
  {
   "cell_type": "code",
   "execution_count": 9,
   "id": "a89493ac",
   "metadata": {},
   "outputs": [
    {
     "data": {
      "text/plain": [
       "Bankrupt?\n",
       "0    50.0\n",
       "1    50.0\n",
       "Name: proportion, dtype: float64"
      ]
     },
     "execution_count": 9,
     "metadata": {},
     "output_type": "execute_result"
    }
   ],
   "source": [
    "y_us.value_counts(normalize=True)*100"
   ]
  },
  {
   "cell_type": "markdown",
   "id": "6a567b4a",
   "metadata": {},
   "source": [
    "## 2. Over Sampling"
   ]
  },
  {
   "cell_type": "code",
   "execution_count": 11,
   "id": "f68bbd4d",
   "metadata": {},
   "outputs": [],
   "source": [
    "o_sampler=RandomOverSampler(random_state=23)\n",
    "X_os,y_os=o_sampler.fit_resample(X,y)"
   ]
  },
  {
   "cell_type": "code",
   "execution_count": 12,
   "id": "84859619",
   "metadata": {},
   "outputs": [
    {
     "data": {
      "text/plain": [
       "Bankrupt?\n",
       "1    6599\n",
       "0    6599\n",
       "Name: count, dtype: int64"
      ]
     },
     "execution_count": 12,
     "metadata": {},
     "output_type": "execute_result"
    }
   ],
   "source": [
    "y_os.value_counts()"
   ]
  },
  {
   "cell_type": "code",
   "execution_count": 13,
   "id": "1d02a4ce",
   "metadata": {},
   "outputs": [
    {
     "data": {
      "text/plain": [
       "Bankrupt?\n",
       "1    50.0\n",
       "0    50.0\n",
       "Name: proportion, dtype: float64"
      ]
     },
     "execution_count": 13,
     "metadata": {},
     "output_type": "execute_result"
    }
   ],
   "source": [
    "y_os.value_counts(normalize=True)*100"
   ]
  },
  {
   "cell_type": "markdown",
   "id": "1fc2511a",
   "metadata": {},
   "source": [
    "## 3. SMOTE"
   ]
  },
  {
   "cell_type": "code",
   "execution_count": 15,
   "id": "7dd0d2f9",
   "metadata": {},
   "outputs": [],
   "source": [
    "smote_sampler=SMOTE(random_state=23)\n",
    "X_smote,y_smote=smote_sampler.fit_resample(X,y)"
   ]
  },
  {
   "cell_type": "markdown",
   "id": "4356e4fc",
   "metadata": {},
   "source": [
    "print(y_smote.value_counts())\n",
    "print(y_smote.value_counts(normalize=True)*100)"
   ]
  },
  {
   "cell_type": "markdown",
   "id": "f59b6d0b",
   "metadata": {},
   "source": [
    "## 4. Adasyn"
   ]
  },
  {
   "cell_type": "code",
   "execution_count": 17,
   "id": "cb27ee3f",
   "metadata": {},
   "outputs": [
    {
     "name": "stdout",
     "output_type": "stream",
     "text": [
      "Bankrupt?\n",
      "0    6599\n",
      "1    6523\n",
      "Name: count, dtype: int64\n",
      "Bankrupt?\n",
      "0    50.28959\n",
      "1    49.71041\n",
      "Name: proportion, dtype: float64\n"
     ]
    }
   ],
   "source": [
    "adasyn=ADASYN(random_state=23)\n",
    "X_adasyn,y_adasyn=adasyn.fit_resample(X,y)\n",
    "print(y_adasyn.value_counts())\n",
    "print(y_adasyn.value_counts(normalize=True)*100)"
   ]
  },
  {
   "cell_type": "markdown",
   "id": "1842b653",
   "metadata": {},
   "source": [
    "## Accuracy of Each Technique"
   ]
  },
  {
   "cell_type": "code",
   "execution_count": 18,
   "id": "bd280a92",
   "metadata": {},
   "outputs": [],
   "source": [
    "kfold=StratifiedKFold(n_splits=5,shuffle=True,random_state=23)\n",
    "rf=RandomForestClassifier(random_state=23)"
   ]
  },
  {
   "cell_type": "code",
   "execution_count": 19,
   "id": "98777fb3",
   "metadata": {},
   "outputs": [
    {
     "name": "stdout",
     "output_type": "stream",
     "text": [
      "[CV] END ................................ score: (test=0.932) total time=   0.4s\n",
      "[CV] END ................................ score: (test=0.852) total time=   0.4s\n",
      "[CV] END ................................ score: (test=0.841) total time=   0.4s\n",
      "[CV] END ................................ score: (test=0.864) total time=   0.3s\n",
      "[CV] END ................................ score: (test=0.898) total time=   0.3s\n"
     ]
    }
   ],
   "source": [
    "results_rus=cross_val_score(rf,X_us,y_us,cv=kfold,verbose=3)"
   ]
  },
  {
   "cell_type": "code",
   "execution_count": 20,
   "id": "46bfccfd",
   "metadata": {},
   "outputs": [
    {
     "data": {
      "text/plain": [
       "0.8772727272727273"
      ]
     },
     "execution_count": 20,
     "metadata": {},
     "output_type": "execute_result"
    }
   ],
   "source": [
    "results_rus.mean()"
   ]
  },
  {
   "cell_type": "code",
   "execution_count": 21,
   "id": "a1527708",
   "metadata": {},
   "outputs": [
    {
     "name": "stdout",
     "output_type": "stream",
     "text": [
      "[CV] END ................................ score: (test=0.995) total time=   5.7s\n",
      "[CV] END ................................ score: (test=0.997) total time=   5.6s\n",
      "[CV] END ................................ score: (test=0.992) total time=   5.4s\n",
      "[CV] END ................................ score: (test=0.994) total time=   5.6s\n",
      "[CV] END ................................ score: (test=0.994) total time=   5.6s\n",
      "0.9943172631965735\n"
     ]
    }
   ],
   "source": [
    "results_ros=cross_val_score(rf,X_os,y_os,cv=kfold,verbose=3)\n",
    "print(results_ros.mean())"
   ]
  },
  {
   "cell_type": "code",
   "execution_count": 22,
   "id": "cb98755a",
   "metadata": {},
   "outputs": [
    {
     "name": "stdout",
     "output_type": "stream",
     "text": [
      "[CV] END ................................ score: (test=0.981) total time=  13.1s\n",
      "[CV] END ................................ score: (test=0.986) total time=  13.0s\n",
      "[CV] END ................................ score: (test=0.981) total time=  13.2s\n",
      "[CV] END ................................ score: (test=0.974) total time=  13.7s\n",
      "[CV] END ................................ score: (test=0.983) total time=  12.8s\n",
      "0.9810573908849772\n"
     ]
    }
   ],
   "source": [
    "results_smote=cross_val_score(rf,X_smote,y_smote,cv=kfold,verbose=3)\n",
    "print(results_smote.mean())"
   ]
  },
  {
   "cell_type": "code",
   "execution_count": 23,
   "id": "779a5867",
   "metadata": {},
   "outputs": [
    {
     "name": "stdout",
     "output_type": "stream",
     "text": [
      "[CV] END ................................ score: (test=0.979) total time=  13.2s\n",
      "[CV] END ................................ score: (test=0.979) total time=  12.7s\n",
      "[CV] END ................................ score: (test=0.982) total time=  13.0s\n",
      "[CV] END ................................ score: (test=0.984) total time=  12.8s\n",
      "[CV] END ................................ score: (test=0.978) total time=  13.2s\n",
      "0.980490969802555\n"
     ]
    }
   ],
   "source": [
    "results_adasyn=cross_val_score(rf,X_adasyn,y_adasyn,cv=kfold,verbose=3)\n",
    "print(results_adasyn.mean())"
   ]
  },
  {
   "cell_type": "code",
   "execution_count": 25,
   "id": "2769e852",
   "metadata": {},
   "outputs": [
    {
     "name": "stdout",
     "output_type": "stream",
     "text": [
      "Accuracy of RUS:  0.8772727272727273\n",
      "Accuracy of ROS:  0.9943172631965735\n",
      "Accuracy of SMOTE:  0.9810573908849772\n",
      "Accuracy of ADASYN:  0.980490969802555\n"
     ]
    }
   ],
   "source": [
    "print(\"Accuracy of RUS: \",results_rus.mean())\n",
    "print(\"Accuracy of ROS: \",results_ros.mean())\n",
    "print(\"Accuracy of SMOTE: \",results_smote.mean())\n",
    "print(\"Accuracy of ADASYN: \",results_adasyn.mean())"
   ]
  },
  {
   "cell_type": "code",
   "execution_count": 29,
   "id": "1c78898f",
   "metadata": {},
   "outputs": [
    {
     "data": {
      "text/plain": [
       "'1.3.2'"
      ]
     },
     "execution_count": 29,
     "metadata": {},
     "output_type": "execute_result"
    }
   ],
   "source": [
    "sklearn.__version__"
   ]
  },
  {
   "cell_type": "markdown",
   "id": "53a3e621",
   "metadata": {},
   "source": [
    "## 5. SVMSMOTE"
   ]
  },
  {
   "cell_type": "code",
   "execution_count": 35,
   "id": "04568d9d",
   "metadata": {},
   "outputs": [
    {
     "name": "stdout",
     "output_type": "stream",
     "text": [
      "Bankrupt?\n",
      "0    6599\n",
      "1    3726\n",
      "Name: count, dtype: int64\n",
      "Bankrupt?\n",
      "0    63.912833\n",
      "1    36.087167\n",
      "Name: proportion, dtype: float64\n"
     ]
    }
   ],
   "source": [
    "svmsmote=SVMSMOTE(random_state=23,sampling_strategy=1)\n",
    "X_svmsmote,y_svmsmote=svmsmote.fit_resample(X,y)\n",
    "print(y_svmsmote.value_counts())\n",
    "print(y_svmsmote.value_counts(normalize=True)*100)"
   ]
  },
  {
   "cell_type": "code",
   "execution_count": 33,
   "id": "47306015",
   "metadata": {},
   "outputs": [
    {
     "name": "stdout",
     "output_type": "stream",
     "text": [
      "[CV] END ................................ score: (test=0.977) total time=   8.7s\n",
      "[CV] END ................................ score: (test=0.978) total time=   8.5s\n",
      "[CV] END ................................ score: (test=0.981) total time=   8.3s\n",
      "[CV] END ................................ score: (test=0.978) total time=   8.5s\n",
      "[CV] END ................................ score: (test=0.978) total time=   8.9s\n",
      "Accuracy of SVMSMOTE 0.9782082324455207\n"
     ]
    }
   ],
   "source": [
    "results_svmsmote=cross_val_score(rf,X_svmsmote,y_svmsmote,cv=kfold,verbose=3)\n",
    "print(\"Accuracy of SVMSMOTE\",results_svmsmote.mean())"
   ]
  },
  {
   "cell_type": "code",
   "execution_count": null,
   "id": "be1a1727",
   "metadata": {},
   "outputs": [],
   "source": []
  }
 ],
 "metadata": {
  "kernelspec": {
   "display_name": "Python 3 (ipykernel)",
   "language": "python",
   "name": "python3"
  },
  "language_info": {
   "codemirror_mode": {
    "name": "ipython",
    "version": 3
   },
   "file_extension": ".py",
   "mimetype": "text/x-python",
   "name": "python",
   "nbconvert_exporter": "python",
   "pygments_lexer": "ipython3",
   "version": "3.11.4"
  }
 },
 "nbformat": 4,
 "nbformat_minor": 5
}
