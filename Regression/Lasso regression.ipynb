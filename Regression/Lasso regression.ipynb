{
 "cells": [
  {
   "cell_type": "code",
   "execution_count": 1,
   "id": "c89252fb",
   "metadata": {},
   "outputs": [],
   "source": [
    "import pandas as pd\n",
    "from sklearn.model_selection import train_test_split\n",
    "from sklearn.linear_model  import Lasso\n",
    "from sklearn.metrics import mean_squared_error\n",
    "import numpy as np"
   ]
  },
  {
   "cell_type": "code",
   "execution_count": 2,
   "id": "cc576db5",
   "metadata": {},
   "outputs": [],
   "source": [
    "boston = pd.read_csv(\"Boston.csv\")"
   ]
  },
  {
   "cell_type": "code",
   "execution_count": 3,
   "id": "241735a0",
   "metadata": {},
   "outputs": [],
   "source": [
    "X = boston.drop(\"medv\",axis =1)\n",
    "y = boston['medv']"
   ]
  },
  {
   "cell_type": "code",
   "execution_count": 4,
   "id": "a18d0357",
   "metadata": {},
   "outputs": [],
   "source": [
    "# Train,Test Split\n",
    "X_train,X_test,y_train,y_test = train_test_split(X,y,test_size=0.3,random_state=23)"
   ]
  },
  {
   "cell_type": "code",
   "execution_count": 5,
   "id": "bd2b6842",
   "metadata": {},
   "outputs": [
    {
     "name": "stdout",
     "output_type": "stream",
     "text": [
      "Lassso regression for alpha= 0.1   \t 26.028\n",
      "Lassso regression for alpha= 0.5   \t 26.028\n",
      "Lassso regression for alpha= 1   \t 28.889\n",
      "Lassso regression for alpha= 2   \t 34.845\n",
      "Lassso regression for alpha= 2.5   \t 36.296\n",
      "Lassso regression for alpha= 3   \t 37.727\n"
     ]
    }
   ],
   "source": [
    "#Regression Model\n",
    "l=[0.1,0.5,1,2,2.5,3]\n",
    "for i in l:\n",
    "    lasso = Lasso(alpha=i)\n",
    "    model = lasso.fit(X_train,y_train)\n",
    "    y_pred = model.predict(X_test)\n",
    "    print(\"Lassso regression for alpha=\",i,\"  \\t\",np.round(mean_squared_error(y_test,y_pred),3))"
   ]
  },
  {
   "cell_type": "code",
   "execution_count": null,
   "id": "ff5aa980",
   "metadata": {},
   "outputs": [],
   "source": []
  }
 ],
 "metadata": {
  "kernelspec": {
   "display_name": "Python 3 (ipykernel)",
   "language": "python",
   "name": "python3"
  },
  "language_info": {
   "codemirror_mode": {
    "name": "ipython",
    "version": 3
   },
   "file_extension": ".py",
   "mimetype": "text/x-python",
   "name": "python",
   "nbconvert_exporter": "python",
   "pygments_lexer": "ipython3",
   "version": "3.11.4"
  }
 },
 "nbformat": 4,
 "nbformat_minor": 5
}
