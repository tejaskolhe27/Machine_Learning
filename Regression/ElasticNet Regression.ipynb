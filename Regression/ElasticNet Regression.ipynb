{
 "cells": [
  {
   "cell_type": "code",
   "execution_count": 1,
   "id": "a219b049",
   "metadata": {},
   "outputs": [],
   "source": [
    "import pandas as pd\n",
    "from sklearn.model_selection import train_test_split\n",
    "from sklearn.linear_model  import ElasticNet\n",
    "from sklearn.metrics import mean_squared_error\n",
    "import numpy as np"
   ]
  },
  {
   "cell_type": "code",
   "execution_count": 2,
   "id": "e62e2e85",
   "metadata": {},
   "outputs": [],
   "source": [
    "boston = pd.read_csv(\"Boston.csv\")"
   ]
  },
  {
   "cell_type": "code",
   "execution_count": 3,
   "id": "64837eb6",
   "metadata": {},
   "outputs": [],
   "source": [
    "X = boston.drop(\"medv\",axis =1)\n",
    "y = boston['medv']"
   ]
  },
  {
   "cell_type": "code",
   "execution_count": 4,
   "id": "3d00b705",
   "metadata": {},
   "outputs": [],
   "source": [
    "# Train,Test Split\n",
    "X_train,X_test,y_train,y_test = train_test_split(X,y,test_size=0.3,random_state=23)"
   ]
  },
  {
   "cell_type": "code",
   "execution_count": 13,
   "id": "62fa551d",
   "metadata": {},
   "outputs": [
    {
     "name": "stdout",
     "output_type": "stream",
     "text": [
      "Elastic regression for alpha= 0.1 and l1 ratio=  0.1      \t 25.559\n",
      "Elastic regression for alpha= 0.1 and l1 ratio=  0.25      \t 25.592\n",
      "Elastic regression for alpha= 0.1 and l1 ratio=  0.5      \t 25.689\n",
      "Elastic regression for alpha= 0.1 and l1 ratio=  0.8      \t 25.841\n",
      "Elastic regression for alpha= 0.1 and l1 ratio=  0.9      \t 25.923\n",
      "Elastic regression for alpha= 0.5 and l1 ratio=  0.1      \t 26.742\n",
      "Elastic regression for alpha= 0.5 and l1 ratio=  0.25      \t 26.68\n",
      "Elastic regression for alpha= 0.5 and l1 ratio=  0.5      \t 26.541\n",
      "Elastic regression for alpha= 0.5 and l1 ratio=  0.8      \t 26.268\n",
      "Elastic regression for alpha= 0.5 and l1 ratio=  0.9      \t 26.148\n",
      "Elastic regression for alpha= 1 and l1 ratio=  0.1      \t 28.073\n",
      "Elastic regression for alpha= 1 and l1 ratio=  0.25      \t 28.165\n",
      "Elastic regression for alpha= 1 and l1 ratio=  0.5      \t 28.349\n",
      "Elastic regression for alpha= 1 and l1 ratio=  0.8      \t 28.644\n",
      "Elastic regression for alpha= 1 and l1 ratio=  0.9      \t 28.761\n",
      "Elastic regression for alpha= 2 and l1 ratio=  0.1      \t 29.897\n",
      "Elastic regression for alpha= 2 and l1 ratio=  0.25      \t 30.364\n",
      "Elastic regression for alpha= 2 and l1 ratio=  0.5      \t 31.513\n",
      "Elastic regression for alpha= 2 and l1 ratio=  0.8      \t 33.429\n",
      "Elastic regression for alpha= 2 and l1 ratio=  0.9      \t 34.059\n",
      "Elastic regression for alpha= 2.5 and l1 ratio=  0.1      \t 30.613\n",
      "Elastic regression for alpha= 2.5 and l1 ratio=  0.25      \t 31.271\n",
      "Elastic regression for alpha= 2.5 and l1 ratio=  0.5      \t 32.917\n",
      "Elastic regression for alpha= 2.5 and l1 ratio=  0.8      \t 35.2\n",
      "Elastic regression for alpha= 2.5 and l1 ratio=  0.9      \t 35.827\n",
      "Elastic regression for alpha= 3 and l1 ratio=  0.1      \t 31.253\n",
      "Elastic regression for alpha= 3 and l1 ratio=  0.25      \t 32.099\n",
      "Elastic regression for alpha= 3 and l1 ratio=  0.5      \t 34.134\n",
      "Elastic regression for alpha= 3 and l1 ratio=  0.8      \t 36.482\n",
      "Elastic regression for alpha= 3 and l1 ratio=  0.9      \t 37.046\n"
     ]
    }
   ],
   "source": [
    "#Regression Model\n",
    "l1_ratio = [0.1,0.25,0.5,0.8,0.9]\n",
    "aplha=[0.1,0.5,1,2,2.5,3]\n",
    "error={}\n",
    "for a in aplha:\n",
    "    for i in l1_ratio:\n",
    "        elastic = ElasticNet(alpha=a,l1_ratio=i)\n",
    "        model = elastic.fit(X_train,y_train)\n",
    "        y_pred = model.predict(X_test)\n",
    "        error[np.round(mean_squared_error(y_test,y_pred),3)]=[a,i]\n",
    "        print(\"Elastic regression for alpha=\",a,\"and l1 ratio= \",\n",
    "              i,\"     \\t\",np.round(mean_squared_error(y_test,y_pred),3))"
   ]
  },
  {
   "cell_type": "code",
   "execution_count": 21,
   "id": "927846f9",
   "metadata": {},
   "outputs": [],
   "source": [
    "min_err=pd.Series(error.keys()).min()\n",
    "alpha=error[pd.Series(error.keys()).min()][0]\n",
    "l1_r=error[pd.Series(error.keys()).min()][1]"
   ]
  },
  {
   "cell_type": "code",
   "execution_count": 22,
   "id": "9002e928",
   "metadata": {},
   "outputs": [
    {
     "name": "stdout",
     "output_type": "stream",
     "text": [
      "0.1 , 0.1 : 25.559\n"
     ]
    }
   ],
   "source": [
    "print(alpha,\",\",l1_r,\":\",min_err)"
   ]
  },
  {
   "cell_type": "code",
   "execution_count": null,
   "id": "111c6804",
   "metadata": {},
   "outputs": [],
   "source": []
  }
 ],
 "metadata": {
  "kernelspec": {
   "display_name": "Python 3 (ipykernel)",
   "language": "python",
   "name": "python3"
  },
  "language_info": {
   "codemirror_mode": {
    "name": "ipython",
    "version": 3
   },
   "file_extension": ".py",
   "mimetype": "text/x-python",
   "name": "python",
   "nbconvert_exporter": "python",
   "pygments_lexer": "ipython3",
   "version": "3.11.4"
  }
 },
 "nbformat": 4,
 "nbformat_minor": 5
}
