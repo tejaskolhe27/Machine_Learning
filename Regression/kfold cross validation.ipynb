{
 "cells": [
  {
   "cell_type": "code",
   "execution_count": 1,
   "id": "f941252a",
   "metadata": {},
   "outputs": [],
   "source": [
    "import pandas as pd\n",
    "from sklearn.model_selection import train_test_split\n",
    "from sklearn.model_selection import KFold,cross_val_score\n",
    "from sklearn.linear_model  import ElasticNet\n",
    "from sklearn.metrics import mean_squared_error\n",
    "import numpy as np"
   ]
  },
  {
   "cell_type": "code",
   "execution_count": 2,
   "id": "07e418da",
   "metadata": {},
   "outputs": [],
   "source": [
    "boston = pd.read_csv(\"Boston.csv\")"
   ]
  },
  {
   "cell_type": "code",
   "execution_count": 3,
   "id": "e5458353",
   "metadata": {},
   "outputs": [],
   "source": [
    "X = boston.drop(\"medv\",axis =1)\n",
    "y = boston['medv']"
   ]
  },
  {
   "cell_type": "code",
   "execution_count": 4,
   "id": "bf39b955",
   "metadata": {},
   "outputs": [],
   "source": [
    "# Train,Test Split\n",
    "X_train,X_test,y_train,y_test = train_test_split(X,y,test_size=0.15,random_state=23)"
   ]
  },
  {
   "cell_type": "code",
   "execution_count": 5,
   "id": "d8ef569a",
   "metadata": {},
   "outputs": [],
   "source": [
    "kfold = KFold(n_splits=5,shuffle=True,random_state=23)"
   ]
  },
  {
   "cell_type": "code",
   "execution_count": 6,
   "id": "098d4189",
   "metadata": {},
   "outputs": [],
   "source": [
    "elastic=ElasticNet(alpha=0.1,l1_ratio=0.3)"
   ]
  },
  {
   "cell_type": "code",
   "execution_count": 7,
   "id": "6ae42e27",
   "metadata": {},
   "outputs": [
    {
     "data": {
      "text/plain": [
       "array([-31.57859862, -24.84251185, -14.72768415, -26.12893308,\n",
       "       -30.73502242])"
      ]
     },
     "execution_count": 7,
     "metadata": {},
     "output_type": "execute_result"
    }
   ],
   "source": [
    "results = cross_val_score(elastic,X_train,y_train,cv=kfold,\n",
    "                         scoring='neg_mean_squared_error')\n",
    "results"
   ]
  },
  {
   "cell_type": "code",
   "execution_count": 8,
   "id": "4d1493a8",
   "metadata": {},
   "outputs": [
    {
     "data": {
      "text/plain": [
       "-25.60255002552403"
      ]
     },
     "execution_count": 8,
     "metadata": {},
     "output_type": "execute_result"
    }
   ],
   "source": [
    "results.mean()"
   ]
  },
  {
   "cell_type": "code",
   "execution_count": 10,
   "id": "79f6473c",
   "metadata": {},
   "outputs": [],
   "source": [
    "kfold=KFold(n_splits=5,shuffle=True,random_state=23)"
   ]
  },
  {
   "cell_type": "code",
   "execution_count": 11,
   "id": "430347c0",
   "metadata": {},
   "outputs": [],
   "source": [
    "elastic=ElasticNet(alpha=0.1,l1_ratio=0.3)"
   ]
  },
  {
   "cell_type": "code",
   "execution_count": 12,
   "id": "fdacf4f9",
   "metadata": {},
   "outputs": [
    {
     "data": {
      "text/plain": [
       "array([-22.43060824, -21.35700657, -24.39975361, -28.02480929,\n",
       "       -26.1786537 ])"
      ]
     },
     "execution_count": 12,
     "metadata": {},
     "output_type": "execute_result"
    }
   ],
   "source": [
    "res=cross_val_score(elastic,X,y,cv=kfold,scoring='neg_mean_squared_error')\n",
    "res"
   ]
  },
  {
   "cell_type": "code",
   "execution_count": 13,
   "id": "c512f831",
   "metadata": {},
   "outputs": [
    {
     "data": {
      "text/plain": [
       "-24.478166282670685"
      ]
     },
     "execution_count": 13,
     "metadata": {},
     "output_type": "execute_result"
    }
   ],
   "source": [
    "res.mean()"
   ]
  },
  {
   "cell_type": "code",
   "execution_count": 17,
   "id": "c45f3317",
   "metadata": {},
   "outputs": [
    {
     "name": "stdout",
     "output_type": "stream",
     "text": [
      "KFold in Elastic regression for alpha= 0.1 and l1 ratio=  0.1 \t -24.49533743446886\n",
      "KFold in Elastic regression for alpha= 0.1 and l1 ratio=  0.25 \t -24.480866946798763\n",
      "KFold in Elastic regression for alpha= 0.1 and l1 ratio=  0.5 \t -24.48240120929129\n",
      "KFold in Elastic regression for alpha= 0.1 and l1 ratio=  0.8 \t -24.49385149315844\n",
      "KFold in Elastic regression for alpha= 0.1 and l1 ratio=  0.9 \t -24.515351262582644\n",
      "KFold in Elastic regression for alpha= 0.5 and l1 ratio=  0.1 \t -26.148813907702635\n",
      "KFold in Elastic regression for alpha= 0.5 and l1 ratio=  0.25 \t -26.12367400592266\n",
      "KFold in Elastic regression for alpha= 0.5 and l1 ratio=  0.5 \t -25.99529990383769\n",
      "KFold in Elastic regression for alpha= 0.5 and l1 ratio=  0.8 \t -25.707693403285067\n",
      "KFold in Elastic regression for alpha= 0.5 and l1 ratio=  0.9 \t -25.570357850751027\n",
      "KFold in Elastic regression for alpha= 1 and l1 ratio=  0.1 \t -27.38195083945281\n",
      "KFold in Elastic regression for alpha= 1 and l1 ratio=  0.25 \t -27.465115352499517\n",
      "KFold in Elastic regression for alpha= 1 and l1 ratio=  0.5 \t -27.596572300559508\n",
      "KFold in Elastic regression for alpha= 1 and l1 ratio=  0.8 \t -27.848956396804873\n",
      "KFold in Elastic regression for alpha= 1 and l1 ratio=  0.9 \t -27.98072884758969\n",
      "KFold in Elastic regression for alpha= 2 and l1 ratio=  0.1 \t -28.94253914397377\n",
      "KFold in Elastic regression for alpha= 2 and l1 ratio=  0.25 \t -29.28913855264803\n",
      "KFold in Elastic regression for alpha= 2 and l1 ratio=  0.5 \t -30.159276798874487\n",
      "KFold in Elastic regression for alpha= 2 and l1 ratio=  0.8 \t -31.629662155334444\n",
      "KFold in Elastic regression for alpha= 2 and l1 ratio=  0.9 \t -32.11169206416838\n",
      "KFold in Elastic regression for alpha= 2.5 and l1 ratio=  0.1 \t -29.540456031906352\n",
      "KFold in Elastic regression for alpha= 2.5 and l1 ratio=  0.25 \t -30.025900891720596\n",
      "KFold in Elastic regression for alpha= 2.5 and l1 ratio=  0.5 \t -31.29343525215927\n",
      "KFold in Elastic regression for alpha= 2.5 and l1 ratio=  0.8 \t -33.042125964561066\n",
      "KFold in Elastic regression for alpha= 2.5 and l1 ratio=  0.9 \t -33.58069006604146\n",
      "KFold in Elastic regression for alpha= 3 and l1 ratio=  0.1 \t -30.07454473892301\n",
      "KFold in Elastic regression for alpha= 3 and l1 ratio=  0.25 \t -30.698680017579868\n",
      "KFold in Elastic regression for alpha= 3 and l1 ratio=  0.5 \t -32.25388300554735\n",
      "KFold in Elastic regression for alpha= 3 and l1 ratio=  0.8 \t -34.121993800025145\n",
      "KFold in Elastic regression for alpha= 3 and l1 ratio=  0.9 \t -34.57122662541724\n"
     ]
    }
   ],
   "source": [
    "#KFOLD IN ElASTICNET\n",
    "l1_ratio = [0.1,0.25,0.5,0.8,0.9]\n",
    "aplha=[0.1,0.5,1,2,2.5,3]\n",
    "error={}\n",
    "kfold=KFold(n_splits=5,shuffle=True,random_state=23)\n",
    "for a in aplha:\n",
    "    for i in l1_ratio:        \n",
    "        elastic = ElasticNet(alpha=a,l1_ratio=i)\n",
    "        res=cross_val_score(elastic,X,y,cv=kfold,scoring='neg_mean_squared_error')    \n",
    "        error[res.mean()]=[a,i]\n",
    "        print(\"KFold in Elastic regression for alpha=\",a,\"and l1 ratio= \",\n",
    "              i,\"\\t\",res.mean())"
   ]
  },
  {
   "cell_type": "markdown",
   "id": "4f60b67e",
   "metadata": {},
   "source": [
    "## GRID SEARCH CROSS VALIDATION"
   ]
  },
  {
   "cell_type": "code",
   "execution_count": 21,
   "id": "1696070f",
   "metadata": {},
   "outputs": [],
   "source": [
    "boston = pd.read_csv(\"Boston.csv\")\n",
    "X = boston.drop(\"medv\",axis =1)\n",
    "y = boston['medv']"
   ]
  },
  {
   "cell_type": "code",
   "execution_count": 28,
   "id": "eb3318ba",
   "metadata": {},
   "outputs": [],
   "source": [
    "from sklearn.model_selection import GridSearchCV\n",
    "l1_ratio = [0.1,0.25,0.5,0.8,0.9]\n",
    "alpha=[0.1,0.5,1,2,2.5,3]\n",
    "params = {'alpha':alpha ,'l1_ratio':l1_ratio}\n",
    "gcv = GridSearchCV(ElasticNet(),param_grid=params,cv = kfold,scoring = 'neg_mean_squared_error')\n",
    "\n"
   ]
  },
  {
   "cell_type": "code",
   "execution_count": 29,
   "id": "672ba0d0",
   "metadata": {},
   "outputs": [
    {
     "data": {
      "text/html": [
       "<style>#sk-container-id-2 {color: black;}#sk-container-id-2 pre{padding: 0;}#sk-container-id-2 div.sk-toggleable {background-color: white;}#sk-container-id-2 label.sk-toggleable__label {cursor: pointer;display: block;width: 100%;margin-bottom: 0;padding: 0.3em;box-sizing: border-box;text-align: center;}#sk-container-id-2 label.sk-toggleable__label-arrow:before {content: \"▸\";float: left;margin-right: 0.25em;color: #696969;}#sk-container-id-2 label.sk-toggleable__label-arrow:hover:before {color: black;}#sk-container-id-2 div.sk-estimator:hover label.sk-toggleable__label-arrow:before {color: black;}#sk-container-id-2 div.sk-toggleable__content {max-height: 0;max-width: 0;overflow: hidden;text-align: left;background-color: #f0f8ff;}#sk-container-id-2 div.sk-toggleable__content pre {margin: 0.2em;color: black;border-radius: 0.25em;background-color: #f0f8ff;}#sk-container-id-2 input.sk-toggleable__control:checked~div.sk-toggleable__content {max-height: 200px;max-width: 100%;overflow: auto;}#sk-container-id-2 input.sk-toggleable__control:checked~label.sk-toggleable__label-arrow:before {content: \"▾\";}#sk-container-id-2 div.sk-estimator input.sk-toggleable__control:checked~label.sk-toggleable__label {background-color: #d4ebff;}#sk-container-id-2 div.sk-label input.sk-toggleable__control:checked~label.sk-toggleable__label {background-color: #d4ebff;}#sk-container-id-2 input.sk-hidden--visually {border: 0;clip: rect(1px 1px 1px 1px);clip: rect(1px, 1px, 1px, 1px);height: 1px;margin: -1px;overflow: hidden;padding: 0;position: absolute;width: 1px;}#sk-container-id-2 div.sk-estimator {font-family: monospace;background-color: #f0f8ff;border: 1px dotted black;border-radius: 0.25em;box-sizing: border-box;margin-bottom: 0.5em;}#sk-container-id-2 div.sk-estimator:hover {background-color: #d4ebff;}#sk-container-id-2 div.sk-parallel-item::after {content: \"\";width: 100%;border-bottom: 1px solid gray;flex-grow: 1;}#sk-container-id-2 div.sk-label:hover label.sk-toggleable__label {background-color: #d4ebff;}#sk-container-id-2 div.sk-serial::before {content: \"\";position: absolute;border-left: 1px solid gray;box-sizing: border-box;top: 0;bottom: 0;left: 50%;z-index: 0;}#sk-container-id-2 div.sk-serial {display: flex;flex-direction: column;align-items: center;background-color: white;padding-right: 0.2em;padding-left: 0.2em;position: relative;}#sk-container-id-2 div.sk-item {position: relative;z-index: 1;}#sk-container-id-2 div.sk-parallel {display: flex;align-items: stretch;justify-content: center;background-color: white;position: relative;}#sk-container-id-2 div.sk-item::before, #sk-container-id-2 div.sk-parallel-item::before {content: \"\";position: absolute;border-left: 1px solid gray;box-sizing: border-box;top: 0;bottom: 0;left: 50%;z-index: -1;}#sk-container-id-2 div.sk-parallel-item {display: flex;flex-direction: column;z-index: 1;position: relative;background-color: white;}#sk-container-id-2 div.sk-parallel-item:first-child::after {align-self: flex-end;width: 50%;}#sk-container-id-2 div.sk-parallel-item:last-child::after {align-self: flex-start;width: 50%;}#sk-container-id-2 div.sk-parallel-item:only-child::after {width: 0;}#sk-container-id-2 div.sk-dashed-wrapped {border: 1px dashed gray;margin: 0 0.4em 0.5em 0.4em;box-sizing: border-box;padding-bottom: 0.4em;background-color: white;}#sk-container-id-2 div.sk-label label {font-family: monospace;font-weight: bold;display: inline-block;line-height: 1.2em;}#sk-container-id-2 div.sk-label-container {text-align: center;}#sk-container-id-2 div.sk-container {/* jupyter's `normalize.less` sets `[hidden] { display: none; }` but bootstrap.min.css set `[hidden] { display: none !important; }` so we also need the `!important` here to be able to override the default hidden behavior on the sphinx rendered scikit-learn.org. See: https://github.com/scikit-learn/scikit-learn/issues/21755 */display: inline-block !important;position: relative;}#sk-container-id-2 div.sk-text-repr-fallback {display: none;}</style><div id=\"sk-container-id-2\" class=\"sk-top-container\"><div class=\"sk-text-repr-fallback\"><pre>GridSearchCV(cv=KFold(n_splits=5, random_state=23, shuffle=True),\n",
       "             estimator=ElasticNet(),\n",
       "             param_grid={&#x27;alpha&#x27;: [0.1, 0.5, 1, 2, 2.5, 3],\n",
       "                         &#x27;l1_ratio&#x27;: [0.1, 0.25, 0.5, 0.8, 0.9]},\n",
       "             scoring=&#x27;neg_mean_squared_error&#x27;)</pre><b>In a Jupyter environment, please rerun this cell to show the HTML representation or trust the notebook. <br />On GitHub, the HTML representation is unable to render, please try loading this page with nbviewer.org.</b></div><div class=\"sk-container\" hidden><div class=\"sk-item sk-dashed-wrapped\"><div class=\"sk-label-container\"><div class=\"sk-label sk-toggleable\"><input class=\"sk-toggleable__control sk-hidden--visually\" id=\"sk-estimator-id-4\" type=\"checkbox\" ><label for=\"sk-estimator-id-4\" class=\"sk-toggleable__label sk-toggleable__label-arrow\">GridSearchCV</label><div class=\"sk-toggleable__content\"><pre>GridSearchCV(cv=KFold(n_splits=5, random_state=23, shuffle=True),\n",
       "             estimator=ElasticNet(),\n",
       "             param_grid={&#x27;alpha&#x27;: [0.1, 0.5, 1, 2, 2.5, 3],\n",
       "                         &#x27;l1_ratio&#x27;: [0.1, 0.25, 0.5, 0.8, 0.9]},\n",
       "             scoring=&#x27;neg_mean_squared_error&#x27;)</pre></div></div></div><div class=\"sk-parallel\"><div class=\"sk-parallel-item\"><div class=\"sk-item\"><div class=\"sk-label-container\"><div class=\"sk-label sk-toggleable\"><input class=\"sk-toggleable__control sk-hidden--visually\" id=\"sk-estimator-id-5\" type=\"checkbox\" ><label for=\"sk-estimator-id-5\" class=\"sk-toggleable__label sk-toggleable__label-arrow\">estimator: ElasticNet</label><div class=\"sk-toggleable__content\"><pre>ElasticNet()</pre></div></div></div><div class=\"sk-serial\"><div class=\"sk-item\"><div class=\"sk-estimator sk-toggleable\"><input class=\"sk-toggleable__control sk-hidden--visually\" id=\"sk-estimator-id-6\" type=\"checkbox\" ><label for=\"sk-estimator-id-6\" class=\"sk-toggleable__label sk-toggleable__label-arrow\">ElasticNet</label><div class=\"sk-toggleable__content\"><pre>ElasticNet()</pre></div></div></div></div></div></div></div></div></div></div>"
      ],
      "text/plain": [
       "GridSearchCV(cv=KFold(n_splits=5, random_state=23, shuffle=True),\n",
       "             estimator=ElasticNet(),\n",
       "             param_grid={'alpha': [0.1, 0.5, 1, 2, 2.5, 3],\n",
       "                         'l1_ratio': [0.1, 0.25, 0.5, 0.8, 0.9]},\n",
       "             scoring='neg_mean_squared_error')"
      ]
     },
     "execution_count": 29,
     "metadata": {},
     "output_type": "execute_result"
    }
   ],
   "source": [
    "gcv.fit(X,y)"
   ]
  },
  {
   "cell_type": "code",
   "execution_count": 30,
   "id": "ba27d04b",
   "metadata": {},
   "outputs": [
    {
     "data": {
      "text/plain": [
       "{'alpha': 0.1, 'l1_ratio': 0.25}"
      ]
     },
     "execution_count": 30,
     "metadata": {},
     "output_type": "execute_result"
    }
   ],
   "source": [
    "gcv.best_params_"
   ]
  },
  {
   "cell_type": "code",
   "execution_count": 31,
   "id": "2cc2ce2d",
   "metadata": {},
   "outputs": [
    {
     "data": {
      "text/plain": [
       "-24.480866946798763"
      ]
     },
     "execution_count": 31,
     "metadata": {},
     "output_type": "execute_result"
    }
   ],
   "source": [
    "gcv.best_score_"
   ]
  },
  {
   "cell_type": "code",
   "execution_count": 37,
   "id": "1e234bd5",
   "metadata": {},
   "outputs": [
    {
     "name": "stdout",
     "output_type": "stream",
     "text": [
      "2*n_jobs\n"
     ]
    }
   ],
   "source": [
    "print(gcv.)"
   ]
  },
  {
   "cell_type": "code",
   "execution_count": null,
   "id": "b2ca5f17",
   "metadata": {},
   "outputs": [],
   "source": []
  }
 ],
 "metadata": {
  "kernelspec": {
   "display_name": "Python 3 (ipykernel)",
   "language": "python",
   "name": "python3"
  },
  "language_info": {
   "codemirror_mode": {
    "name": "ipython",
    "version": 3
   },
   "file_extension": ".py",
   "mimetype": "text/x-python",
   "name": "python",
   "nbconvert_exporter": "python",
   "pygments_lexer": "ipython3",
   "version": "3.11.4"
  }
 },
 "nbformat": 4,
 "nbformat_minor": 5
}
