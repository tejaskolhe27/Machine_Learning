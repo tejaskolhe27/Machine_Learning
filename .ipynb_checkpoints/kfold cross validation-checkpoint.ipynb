{
 "cells": [
  {
   "cell_type": "code",
   "execution_count": 1,
   "id": "f941252a",
   "metadata": {},
   "outputs": [],
   "source": [
    "import pandas as pd\n",
    "from sklearn.model_selection import train_test_split\n",
    "from sklearn.model_selection import KFold,cross_val_score\n",
    "from sklearn.linear_model  import ElasticNet\n",
    "from sklearn.metrics import mean_squared_error\n",
    "import numpy as np"
   ]
  },
  {
   "cell_type": "code",
   "execution_count": 2,
   "id": "07e418da",
   "metadata": {},
   "outputs": [],
   "source": [
    "boston = pd.read_csv(\"Boston.csv\")"
   ]
  },
  {
   "cell_type": "code",
   "execution_count": 3,
   "id": "e5458353",
   "metadata": {},
   "outputs": [],
   "source": [
    "X = boston.drop(\"medv\",axis =1)\n",
    "y = boston['medv']"
   ]
  },
  {
   "cell_type": "code",
   "execution_count": 4,
   "id": "bf39b955",
   "metadata": {},
   "outputs": [],
   "source": [
    "# Train,Test Split\n",
    "X_train,X_test,y_train,y_test = train_test_split(X,y,test_size=0.15,random_state=23)"
   ]
  },
  {
   "cell_type": "code",
   "execution_count": 5,
   "id": "d8ef569a",
   "metadata": {},
   "outputs": [],
   "source": [
    "kfold = KFold(n_splits=5,shuffle=True,random_state=23)"
   ]
  },
  {
   "cell_type": "code",
   "execution_count": 6,
   "id": "098d4189",
   "metadata": {},
   "outputs": [],
   "source": [
    "elastic=ElasticNet(alpha=0.1,l1_ratio=0.3)"
   ]
  },
  {
   "cell_type": "code",
   "execution_count": 7,
   "id": "6ae42e27",
   "metadata": {},
   "outputs": [
    {
     "data": {
      "text/plain": [
       "array([-31.57859862, -24.84251185, -14.72768415, -26.12893308,\n",
       "       -30.73502242])"
      ]
     },
     "execution_count": 7,
     "metadata": {},
     "output_type": "execute_result"
    }
   ],
   "source": [
    "results = cross_val_score(elastic,X_train,y_train,cv=kfold,\n",
    "                         scoring='neg_mean_squared_error')\n",
    "results"
   ]
  },
  {
   "cell_type": "code",
   "execution_count": 8,
   "id": "4d1493a8",
   "metadata": {},
   "outputs": [
    {
     "data": {
      "text/plain": [
       "-25.60255002552403"
      ]
     },
     "execution_count": 8,
     "metadata": {},
     "output_type": "execute_result"
    }
   ],
   "source": [
    "results.mean()"
   ]
  },
  {
   "cell_type": "code",
   "execution_count": 10,
   "id": "79f6473c",
   "metadata": {},
   "outputs": [],
   "source": [
    "kfold=KFold(n_splits=5,shuffle=True,random_state=23)"
   ]
  },
  {
   "cell_type": "code",
   "execution_count": 11,
   "id": "430347c0",
   "metadata": {},
   "outputs": [],
   "source": [
    "elastic=ElasticNet(alpha=0.1,l1_ratio=0.3)"
   ]
  },
  {
   "cell_type": "code",
   "execution_count": 12,
   "id": "f7f9ec64",
   "metadata": {},
   "outputs": [
    {
     "data": {
      "text/plain": [
       "array([-22.43060824, -21.35700657, -24.39975361, -28.02480929,\n",
       "       -26.1786537 ])"
      ]
     },
     "execution_count": 12,
     "metadata": {},
     "output_type": "execute_result"
    }
   ],
   "source": [
    "res=cross_val_score(elastic,X,y,cv=kfold,scoring='neg_mean_squared_error')\n",
    "res"
   ]
  },
  {
   "cell_type": "code",
   "execution_count": 13,
   "id": "288a245b",
   "metadata": {},
   "outputs": [
    {
     "data": {
      "text/plain": [
       "-24.478166282670685"
      ]
     },
     "execution_count": 13,
     "metadata": {},
     "output_type": "execute_result"
    }
   ],
   "source": [
    "res.mean()"
   ]
  },
  {
   "cell_type": "code",
   "execution_count": null,
   "id": "d30be1c3",
   "metadata": {},
   "outputs": [],
   "source": [
    "#Regression Model\n",
    "l1_ratio = [0.1,0.25,0.5,0.8,0.9]\n",
    "aplha=[0.1,0.5,1,2,2.5,3]\n",
    "error={}\n",
    "for a in aplha:\n",
    "    for i in l1_ratio:\n",
    "        kfold=KFold(n_splits=5,shuffle=True,random_state=23)\n",
    "        elastic = ElasticNet(alpha=a,l1_ratio=i)\n",
    "        res=cross_val_score(elastic,X,y,cv=kfold,scoring='neg_mean_squared_error')\n",
    "            \n",
    "        error[res.mean()]=[a,i]\n",
    "        print(\"Elastic regression for alpha=\",a,\"and l1 ratio= \",\n",
    "              i,\"     \\t\",res.mean())"
   ]
  }
 ],
 "metadata": {
  "kernelspec": {
   "display_name": "Python 3 (ipykernel)",
   "language": "python",
   "name": "python3"
  },
  "language_info": {
   "codemirror_mode": {
    "name": "ipython",
    "version": 3
   },
   "file_extension": ".py",
   "mimetype": "text/x-python",
   "name": "python",
   "nbconvert_exporter": "python",
   "pygments_lexer": "ipython3",
   "version": "3.11.4"
  }
 },
 "nbformat": 4,
 "nbformat_minor": 5
}
