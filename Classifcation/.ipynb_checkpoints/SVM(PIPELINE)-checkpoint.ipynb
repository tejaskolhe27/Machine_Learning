{
 "cells": [
  {
   "cell_type": "code",
   "execution_count": 29,
   "id": "d7312b81",
   "metadata": {},
   "outputs": [],
   "source": [
    "import numpy as np\n",
    "import pandas as pd\n",
    "from sklearn.svm import SVC\n",
    "from sklearn.model_selection import train_test_split,StratifiedKFold,GridSearchCV\n",
    "from sklearn.metrics import accuracy_score,log_loss\n",
    "from sklearn.preprocessing import LabelEncoder\n",
    "from sklearn.preprocessing import StandardScaler,MinMaxScaler\n",
    "from sklearn.pipeline import Pipeline"
   ]
  },
  {
   "cell_type": "code",
   "execution_count": 2,
   "id": "a2c8926b",
   "metadata": {},
   "outputs": [
    {
     "data": {
      "text/html": [
       "<div>\n",
       "<style scoped>\n",
       "    .dataframe tbody tr th:only-of-type {\n",
       "        vertical-align: middle;\n",
       "    }\n",
       "\n",
       "    .dataframe tbody tr th {\n",
       "        vertical-align: top;\n",
       "    }\n",
       "\n",
       "    .dataframe thead th {\n",
       "        text-align: right;\n",
       "    }\n",
       "</style>\n",
       "<table border=\"1\" class=\"dataframe\">\n",
       "  <thead>\n",
       "    <tr style=\"text-align: right;\">\n",
       "      <th></th>\n",
       "      <th>Class</th>\n",
       "      <th>region.centroid.col</th>\n",
       "      <th>region.centroid.row</th>\n",
       "      <th>region.pixel.count</th>\n",
       "      <th>short.line.density.5</th>\n",
       "      <th>short.line.density.2</th>\n",
       "      <th>vedge.mean</th>\n",
       "      <th>vegde.sd</th>\n",
       "      <th>hedge.mean</th>\n",
       "      <th>hedge.sd</th>\n",
       "      <th>intensity.mean</th>\n",
       "      <th>rawred.mean</th>\n",
       "      <th>rawblue.mean</th>\n",
       "      <th>rawgreen.mean</th>\n",
       "      <th>exred.mean</th>\n",
       "      <th>exblue.mean</th>\n",
       "      <th>exgreen.mean</th>\n",
       "      <th>value.mean</th>\n",
       "      <th>saturation.mean</th>\n",
       "      <th>hue-mean</th>\n",
       "    </tr>\n",
       "  </thead>\n",
       "  <tbody>\n",
       "    <tr>\n",
       "      <th>0</th>\n",
       "      <td>0</td>\n",
       "      <td>188</td>\n",
       "      <td>133</td>\n",
       "      <td>9</td>\n",
       "      <td>0.0</td>\n",
       "      <td>0.0</td>\n",
       "      <td>0.333333</td>\n",
       "      <td>0.266667</td>\n",
       "      <td>0.500000</td>\n",
       "      <td>0.077778</td>\n",
       "      <td>6.666666</td>\n",
       "      <td>8.333334</td>\n",
       "      <td>7.777778</td>\n",
       "      <td>3.888889</td>\n",
       "      <td>5.000000</td>\n",
       "      <td>3.333333</td>\n",
       "      <td>-8.333333</td>\n",
       "      <td>8.444445</td>\n",
       "      <td>0.538580</td>\n",
       "      <td>-0.924817</td>\n",
       "    </tr>\n",
       "    <tr>\n",
       "      <th>1</th>\n",
       "      <td>0</td>\n",
       "      <td>105</td>\n",
       "      <td>139</td>\n",
       "      <td>9</td>\n",
       "      <td>0.0</td>\n",
       "      <td>0.0</td>\n",
       "      <td>0.277778</td>\n",
       "      <td>0.107407</td>\n",
       "      <td>0.833333</td>\n",
       "      <td>0.522222</td>\n",
       "      <td>6.111111</td>\n",
       "      <td>7.555555</td>\n",
       "      <td>7.222222</td>\n",
       "      <td>3.555556</td>\n",
       "      <td>4.333334</td>\n",
       "      <td>3.333333</td>\n",
       "      <td>-7.666666</td>\n",
       "      <td>7.555555</td>\n",
       "      <td>0.532628</td>\n",
       "      <td>-0.965946</td>\n",
       "    </tr>\n",
       "    <tr>\n",
       "      <th>2</th>\n",
       "      <td>0</td>\n",
       "      <td>34</td>\n",
       "      <td>137</td>\n",
       "      <td>9</td>\n",
       "      <td>0.0</td>\n",
       "      <td>0.0</td>\n",
       "      <td>0.500000</td>\n",
       "      <td>0.166667</td>\n",
       "      <td>1.111111</td>\n",
       "      <td>0.474074</td>\n",
       "      <td>5.851852</td>\n",
       "      <td>7.777778</td>\n",
       "      <td>6.444445</td>\n",
       "      <td>3.333333</td>\n",
       "      <td>5.777778</td>\n",
       "      <td>1.777778</td>\n",
       "      <td>-7.555555</td>\n",
       "      <td>7.777778</td>\n",
       "      <td>0.573633</td>\n",
       "      <td>-0.744272</td>\n",
       "    </tr>\n",
       "    <tr>\n",
       "      <th>3</th>\n",
       "      <td>0</td>\n",
       "      <td>39</td>\n",
       "      <td>111</td>\n",
       "      <td>9</td>\n",
       "      <td>0.0</td>\n",
       "      <td>0.0</td>\n",
       "      <td>0.722222</td>\n",
       "      <td>0.374074</td>\n",
       "      <td>0.888889</td>\n",
       "      <td>0.429629</td>\n",
       "      <td>6.037037</td>\n",
       "      <td>7.000000</td>\n",
       "      <td>7.666666</td>\n",
       "      <td>3.444444</td>\n",
       "      <td>2.888889</td>\n",
       "      <td>4.888889</td>\n",
       "      <td>-7.777778</td>\n",
       "      <td>7.888889</td>\n",
       "      <td>0.562919</td>\n",
       "      <td>-1.175773</td>\n",
       "    </tr>\n",
       "    <tr>\n",
       "      <th>4</th>\n",
       "      <td>0</td>\n",
       "      <td>16</td>\n",
       "      <td>128</td>\n",
       "      <td>9</td>\n",
       "      <td>0.0</td>\n",
       "      <td>0.0</td>\n",
       "      <td>0.500000</td>\n",
       "      <td>0.077778</td>\n",
       "      <td>0.666667</td>\n",
       "      <td>0.311111</td>\n",
       "      <td>5.555555</td>\n",
       "      <td>6.888889</td>\n",
       "      <td>6.666666</td>\n",
       "      <td>3.111111</td>\n",
       "      <td>4.000000</td>\n",
       "      <td>3.333333</td>\n",
       "      <td>-7.333334</td>\n",
       "      <td>7.111111</td>\n",
       "      <td>0.561508</td>\n",
       "      <td>-0.985811</td>\n",
       "    </tr>\n",
       "  </tbody>\n",
       "</table>\n",
       "</div>"
      ],
      "text/plain": [
       "   Class  region.centroid.col  region.centroid.row  region.pixel.count  \\\n",
       "0      0                  188                  133                   9   \n",
       "1      0                  105                  139                   9   \n",
       "2      0                   34                  137                   9   \n",
       "3      0                   39                  111                   9   \n",
       "4      0                   16                  128                   9   \n",
       "\n",
       "   short.line.density.5  short.line.density.2  vedge.mean  vegde.sd  \\\n",
       "0                   0.0                   0.0    0.333333  0.266667   \n",
       "1                   0.0                   0.0    0.277778  0.107407   \n",
       "2                   0.0                   0.0    0.500000  0.166667   \n",
       "3                   0.0                   0.0    0.722222  0.374074   \n",
       "4                   0.0                   0.0    0.500000  0.077778   \n",
       "\n",
       "   hedge.mean  hedge.sd  intensity.mean  rawred.mean  rawblue.mean  \\\n",
       "0    0.500000  0.077778        6.666666     8.333334      7.777778   \n",
       "1    0.833333  0.522222        6.111111     7.555555      7.222222   \n",
       "2    1.111111  0.474074        5.851852     7.777778      6.444445   \n",
       "3    0.888889  0.429629        6.037037     7.000000      7.666666   \n",
       "4    0.666667  0.311111        5.555555     6.888889      6.666666   \n",
       "\n",
       "   rawgreen.mean  exred.mean  exblue.mean  exgreen.mean  value.mean  \\\n",
       "0       3.888889    5.000000     3.333333     -8.333333    8.444445   \n",
       "1       3.555556    4.333334     3.333333     -7.666666    7.555555   \n",
       "2       3.333333    5.777778     1.777778     -7.555555    7.777778   \n",
       "3       3.444444    2.888889     4.888889     -7.777778    7.888889   \n",
       "4       3.111111    4.000000     3.333333     -7.333334    7.111111   \n",
       "\n",
       "   saturation.mean  hue-mean  \n",
       "0         0.538580 -0.924817  \n",
       "1         0.532628 -0.965946  \n",
       "2         0.573633 -0.744272  \n",
       "3         0.562919 -1.175773  \n",
       "4         0.561508 -0.985811  "
      ]
     },
     "execution_count": 2,
     "metadata": {},
     "output_type": "execute_result"
    }
   ],
   "source": [
    "img=pd.read_csv(\"Image_Segmention.csv\")\n",
    "lbl=LabelEncoder()\n",
    "img['Class']=lbl.fit_transform(img['Class'])\n",
    "img.head()"
   ]
  },
  {
   "cell_type": "code",
   "execution_count": 4,
   "id": "dfb2b53c",
   "metadata": {},
   "outputs": [],
   "source": [
    "X=img.drop('Class',axis=1)\n",
    "y=img['Class']"
   ]
  },
  {
   "cell_type": "markdown",
   "id": "d18e36ee",
   "metadata": {},
   "source": [
    "### Linear"
   ]
  },
  {
   "cell_type": "code",
   "execution_count": 14,
   "id": "cbfe26b1",
   "metadata": {},
   "outputs": [],
   "source": [
    "svm=SVC(kernel='linear',probability=True,random_state=23 )"
   ]
  },
  {
   "cell_type": "code",
   "execution_count": 15,
   "id": "a9c80200",
   "metadata": {
    "scrolled": true
   },
   "outputs": [
    {
     "name": "stdout",
     "output_type": "stream",
     "text": [
      "Fitting 5 folds for each of 20 candidates, totalling 100 fits\n",
      "[CV] END ...............C=0.001, decision_function_shape=ovo; total time=   0.0s\n",
      "[CV] END ...............C=0.001, decision_function_shape=ovo; total time=   0.0s\n",
      "[CV] END ...............C=0.001, decision_function_shape=ovo; total time=   0.0s\n",
      "[CV] END ...............C=0.001, decision_function_shape=ovo; total time=   0.0s\n",
      "[CV] END ...............C=0.001, decision_function_shape=ovo; total time=   0.0s\n",
      "[CV] END ...............C=0.001, decision_function_shape=ovr; total time=   0.0s\n",
      "[CV] END ...............C=0.001, decision_function_shape=ovr; total time=   0.0s\n",
      "[CV] END ...............C=0.001, decision_function_shape=ovr; total time=   0.0s\n",
      "[CV] END ...............C=0.001, decision_function_shape=ovr; total time=   0.0s\n",
      "[CV] END ...............C=0.001, decision_function_shape=ovr; total time=   0.0s\n",
      "[CV] END ..C=0.5564444444444444, decision_function_shape=ovo; total time=   0.2s\n",
      "[CV] END ..C=0.5564444444444444, decision_function_shape=ovo; total time=   0.2s\n",
      "[CV] END ..C=0.5564444444444444, decision_function_shape=ovo; total time=   0.1s\n",
      "[CV] END ..C=0.5564444444444444, decision_function_shape=ovo; total time=   0.1s\n",
      "[CV] END ..C=0.5564444444444444, decision_function_shape=ovo; total time=   0.2s\n",
      "[CV] END ..C=0.5564444444444444, decision_function_shape=ovr; total time=   0.2s\n",
      "[CV] END ..C=0.5564444444444444, decision_function_shape=ovr; total time=   0.2s\n",
      "[CV] END ..C=0.5564444444444444, decision_function_shape=ovr; total time=   0.1s\n",
      "[CV] END ..C=0.5564444444444444, decision_function_shape=ovr; total time=   0.1s\n",
      "[CV] END ..C=0.5564444444444444, decision_function_shape=ovr; total time=   0.2s\n",
      "[CV] END ..C=1.1118888888888887, decision_function_shape=ovo; total time=   0.3s\n",
      "[CV] END ..C=1.1118888888888887, decision_function_shape=ovo; total time=   0.2s\n",
      "[CV] END ..C=1.1118888888888887, decision_function_shape=ovo; total time=   0.2s\n",
      "[CV] END ..C=1.1118888888888887, decision_function_shape=ovo; total time=   0.2s\n",
      "[CV] END ..C=1.1118888888888887, decision_function_shape=ovo; total time=   0.2s\n",
      "[CV] END ..C=1.1118888888888887, decision_function_shape=ovr; total time=   0.3s\n",
      "[CV] END ..C=1.1118888888888887, decision_function_shape=ovr; total time=   0.2s\n",
      "[CV] END ..C=1.1118888888888887, decision_function_shape=ovr; total time=   0.2s\n",
      "[CV] END ..C=1.1118888888888887, decision_function_shape=ovr; total time=   0.2s\n",
      "[CV] END ..C=1.1118888888888887, decision_function_shape=ovr; total time=   0.2s\n",
      "[CV] END ..C=1.6673333333333331, decision_function_shape=ovo; total time=   0.3s\n",
      "[CV] END ..C=1.6673333333333331, decision_function_shape=ovo; total time=   0.3s\n",
      "[CV] END ..C=1.6673333333333331, decision_function_shape=ovo; total time=   0.3s\n",
      "[CV] END ..C=1.6673333333333331, decision_function_shape=ovo; total time=   0.2s\n",
      "[CV] END ..C=1.6673333333333331, decision_function_shape=ovo; total time=   0.3s\n",
      "[CV] END ..C=1.6673333333333331, decision_function_shape=ovr; total time=   0.4s\n",
      "[CV] END ..C=1.6673333333333331, decision_function_shape=ovr; total time=   0.2s\n",
      "[CV] END ..C=1.6673333333333331, decision_function_shape=ovr; total time=   0.3s\n",
      "[CV] END ..C=1.6673333333333331, decision_function_shape=ovr; total time=   0.2s\n",
      "[CV] END ..C=1.6673333333333331, decision_function_shape=ovr; total time=   0.3s\n",
      "[CV] END ..C=2.2227777777777775, decision_function_shape=ovo; total time=   1.0s\n",
      "[CV] END ..C=2.2227777777777775, decision_function_shape=ovo; total time=   0.2s\n",
      "[CV] END ..C=2.2227777777777775, decision_function_shape=ovo; total time=   0.3s\n",
      "[CV] END ..C=2.2227777777777775, decision_function_shape=ovo; total time=   0.2s\n",
      "[CV] END ..C=2.2227777777777775, decision_function_shape=ovo; total time=   0.4s\n",
      "[CV] END ..C=2.2227777777777775, decision_function_shape=ovr; total time=   1.1s\n",
      "[CV] END ..C=2.2227777777777775, decision_function_shape=ovr; total time=   0.2s\n",
      "[CV] END ..C=2.2227777777777775, decision_function_shape=ovr; total time=   0.4s\n",
      "[CV] END ..C=2.2227777777777775, decision_function_shape=ovr; total time=   0.2s\n",
      "[CV] END ..C=2.2227777777777775, decision_function_shape=ovr; total time=   0.4s\n",
      "[CV] END ...C=2.778222222222222, decision_function_shape=ovo; total time=   0.7s\n",
      "[CV] END ...C=2.778222222222222, decision_function_shape=ovo; total time=   0.3s\n",
      "[CV] END ...C=2.778222222222222, decision_function_shape=ovo; total time=   0.3s\n",
      "[CV] END ...C=2.778222222222222, decision_function_shape=ovo; total time=   0.3s\n",
      "[CV] END ...C=2.778222222222222, decision_function_shape=ovo; total time=   0.7s\n",
      "[CV] END ...C=2.778222222222222, decision_function_shape=ovr; total time=   0.7s\n",
      "[CV] END ...C=2.778222222222222, decision_function_shape=ovr; total time=   0.3s\n",
      "[CV] END ...C=2.778222222222222, decision_function_shape=ovr; total time=   0.3s\n",
      "[CV] END ...C=2.778222222222222, decision_function_shape=ovr; total time=   0.2s\n",
      "[CV] END ...C=2.778222222222222, decision_function_shape=ovr; total time=   0.7s\n",
      "[CV] END ..C=3.3336666666666663, decision_function_shape=ovo; total time=   0.7s\n",
      "[CV] END ..C=3.3336666666666663, decision_function_shape=ovo; total time=   0.5s\n",
      "[CV] END ..C=3.3336666666666663, decision_function_shape=ovo; total time=   0.3s\n",
      "[CV] END ..C=3.3336666666666663, decision_function_shape=ovo; total time=   0.3s\n",
      "[CV] END ..C=3.3336666666666663, decision_function_shape=ovo; total time=   0.6s\n",
      "[CV] END ..C=3.3336666666666663, decision_function_shape=ovr; total time=   0.8s\n",
      "[CV] END ..C=3.3336666666666663, decision_function_shape=ovr; total time=   0.5s\n",
      "[CV] END ..C=3.3336666666666663, decision_function_shape=ovr; total time=   0.3s\n",
      "[CV] END ..C=3.3336666666666663, decision_function_shape=ovr; total time=   0.3s\n",
      "[CV] END ..C=3.3336666666666663, decision_function_shape=ovr; total time=   0.6s\n",
      "[CV] END ..C=3.8891111111111107, decision_function_shape=ovo; total time=   0.7s\n",
      "[CV] END ..C=3.8891111111111107, decision_function_shape=ovo; total time=   0.7s\n",
      "[CV] END ..C=3.8891111111111107, decision_function_shape=ovo; total time=   0.3s\n",
      "[CV] END ..C=3.8891111111111107, decision_function_shape=ovo; total time=   0.5s\n",
      "[CV] END ..C=3.8891111111111107, decision_function_shape=ovo; total time=   0.3s\n",
      "[CV] END ..C=3.8891111111111107, decision_function_shape=ovr; total time=   0.7s\n",
      "[CV] END ..C=3.8891111111111107, decision_function_shape=ovr; total time=   0.7s\n",
      "[CV] END ..C=3.8891111111111107, decision_function_shape=ovr; total time=   0.3s\n",
      "[CV] END ..C=3.8891111111111107, decision_function_shape=ovr; total time=   0.4s\n",
      "[CV] END ..C=3.8891111111111107, decision_function_shape=ovr; total time=   0.3s\n",
      "[CV] END ...C=4.444555555555556, decision_function_shape=ovo; total time=   0.7s\n",
      "[CV] END ...C=4.444555555555556, decision_function_shape=ovo; total time=   0.3s\n",
      "[CV] END ...C=4.444555555555556, decision_function_shape=ovo; total time=   0.3s\n",
      "[CV] END ...C=4.444555555555556, decision_function_shape=ovo; total time=   0.4s\n",
      "[CV] END ...C=4.444555555555556, decision_function_shape=ovo; total time=   0.5s\n",
      "[CV] END ...C=4.444555555555556, decision_function_shape=ovr; total time=   0.8s\n",
      "[CV] END ...C=4.444555555555556, decision_function_shape=ovr; total time=   0.3s\n",
      "[CV] END ...C=4.444555555555556, decision_function_shape=ovr; total time=   0.3s\n",
      "[CV] END ...C=4.444555555555556, decision_function_shape=ovr; total time=   0.4s\n",
      "[CV] END ...C=4.444555555555556, decision_function_shape=ovr; total time=   0.5s\n",
      "[CV] END .................C=5.0, decision_function_shape=ovo; total time=   0.6s\n",
      "[CV] END .................C=5.0, decision_function_shape=ovo; total time=   0.3s\n",
      "[CV] END .................C=5.0, decision_function_shape=ovo; total time=   0.3s\n",
      "[CV] END .................C=5.0, decision_function_shape=ovo; total time=   0.4s\n",
      "[CV] END .................C=5.0, decision_function_shape=ovo; total time=   0.5s\n",
      "[CV] END .................C=5.0, decision_function_shape=ovr; total time=   0.6s\n",
      "[CV] END .................C=5.0, decision_function_shape=ovr; total time=   0.3s\n",
      "[CV] END .................C=5.0, decision_function_shape=ovr; total time=   0.3s\n",
      "[CV] END .................C=5.0, decision_function_shape=ovr; total time=   0.4s\n",
      "[CV] END .................C=5.0, decision_function_shape=ovr; total time=   0.5s\n"
     ]
    },
    {
     "data": {
      "text/html": [
       "<style>#sk-container-id-6 {color: black;}#sk-container-id-6 pre{padding: 0;}#sk-container-id-6 div.sk-toggleable {background-color: white;}#sk-container-id-6 label.sk-toggleable__label {cursor: pointer;display: block;width: 100%;margin-bottom: 0;padding: 0.3em;box-sizing: border-box;text-align: center;}#sk-container-id-6 label.sk-toggleable__label-arrow:before {content: \"▸\";float: left;margin-right: 0.25em;color: #696969;}#sk-container-id-6 label.sk-toggleable__label-arrow:hover:before {color: black;}#sk-container-id-6 div.sk-estimator:hover label.sk-toggleable__label-arrow:before {color: black;}#sk-container-id-6 div.sk-toggleable__content {max-height: 0;max-width: 0;overflow: hidden;text-align: left;background-color: #f0f8ff;}#sk-container-id-6 div.sk-toggleable__content pre {margin: 0.2em;color: black;border-radius: 0.25em;background-color: #f0f8ff;}#sk-container-id-6 input.sk-toggleable__control:checked~div.sk-toggleable__content {max-height: 200px;max-width: 100%;overflow: auto;}#sk-container-id-6 input.sk-toggleable__control:checked~label.sk-toggleable__label-arrow:before {content: \"▾\";}#sk-container-id-6 div.sk-estimator input.sk-toggleable__control:checked~label.sk-toggleable__label {background-color: #d4ebff;}#sk-container-id-6 div.sk-label input.sk-toggleable__control:checked~label.sk-toggleable__label {background-color: #d4ebff;}#sk-container-id-6 input.sk-hidden--visually {border: 0;clip: rect(1px 1px 1px 1px);clip: rect(1px, 1px, 1px, 1px);height: 1px;margin: -1px;overflow: hidden;padding: 0;position: absolute;width: 1px;}#sk-container-id-6 div.sk-estimator {font-family: monospace;background-color: #f0f8ff;border: 1px dotted black;border-radius: 0.25em;box-sizing: border-box;margin-bottom: 0.5em;}#sk-container-id-6 div.sk-estimator:hover {background-color: #d4ebff;}#sk-container-id-6 div.sk-parallel-item::after {content: \"\";width: 100%;border-bottom: 1px solid gray;flex-grow: 1;}#sk-container-id-6 div.sk-label:hover label.sk-toggleable__label {background-color: #d4ebff;}#sk-container-id-6 div.sk-serial::before {content: \"\";position: absolute;border-left: 1px solid gray;box-sizing: border-box;top: 0;bottom: 0;left: 50%;z-index: 0;}#sk-container-id-6 div.sk-serial {display: flex;flex-direction: column;align-items: center;background-color: white;padding-right: 0.2em;padding-left: 0.2em;position: relative;}#sk-container-id-6 div.sk-item {position: relative;z-index: 1;}#sk-container-id-6 div.sk-parallel {display: flex;align-items: stretch;justify-content: center;background-color: white;position: relative;}#sk-container-id-6 div.sk-item::before, #sk-container-id-6 div.sk-parallel-item::before {content: \"\";position: absolute;border-left: 1px solid gray;box-sizing: border-box;top: 0;bottom: 0;left: 50%;z-index: -1;}#sk-container-id-6 div.sk-parallel-item {display: flex;flex-direction: column;z-index: 1;position: relative;background-color: white;}#sk-container-id-6 div.sk-parallel-item:first-child::after {align-self: flex-end;width: 50%;}#sk-container-id-6 div.sk-parallel-item:last-child::after {align-self: flex-start;width: 50%;}#sk-container-id-6 div.sk-parallel-item:only-child::after {width: 0;}#sk-container-id-6 div.sk-dashed-wrapped {border: 1px dashed gray;margin: 0 0.4em 0.5em 0.4em;box-sizing: border-box;padding-bottom: 0.4em;background-color: white;}#sk-container-id-6 div.sk-label label {font-family: monospace;font-weight: bold;display: inline-block;line-height: 1.2em;}#sk-container-id-6 div.sk-label-container {text-align: center;}#sk-container-id-6 div.sk-container {/* jupyter's `normalize.less` sets `[hidden] { display: none; }` but bootstrap.min.css set `[hidden] { display: none !important; }` so we also need the `!important` here to be able to override the default hidden behavior on the sphinx rendered scikit-learn.org. See: https://github.com/scikit-learn/scikit-learn/issues/21755 */display: inline-block !important;position: relative;}#sk-container-id-6 div.sk-text-repr-fallback {display: none;}</style><div id=\"sk-container-id-6\" class=\"sk-top-container\"><div class=\"sk-text-repr-fallback\"><pre>GridSearchCV(cv=StratifiedKFold(n_splits=5, random_state=23, shuffle=True),\n",
       "             estimator=SVC(kernel=&#x27;linear&#x27;, probability=True, random_state=23),\n",
       "             param_grid={&#x27;C&#x27;: array([1.00000000e-03, 5.56444444e-01, 1.11188889e+00, 1.66733333e+00,\n",
       "       2.22277778e+00, 2.77822222e+00, 3.33366667e+00, 3.88911111e+00,\n",
       "       4.44455556e+00, 5.00000000e+00]),\n",
       "                         &#x27;decision_function_shape&#x27;: [&#x27;ovo&#x27;, &#x27;ovr&#x27;]},\n",
       "             scoring=&#x27;neg_log_loss&#x27;, verbose=2)</pre><b>In a Jupyter environment, please rerun this cell to show the HTML representation or trust the notebook. <br />On GitHub, the HTML representation is unable to render, please try loading this page with nbviewer.org.</b></div><div class=\"sk-container\" hidden><div class=\"sk-item sk-dashed-wrapped\"><div class=\"sk-label-container\"><div class=\"sk-label sk-toggleable\"><input class=\"sk-toggleable__control sk-hidden--visually\" id=\"sk-estimator-id-12\" type=\"checkbox\" ><label for=\"sk-estimator-id-12\" class=\"sk-toggleable__label sk-toggleable__label-arrow\">GridSearchCV</label><div class=\"sk-toggleable__content\"><pre>GridSearchCV(cv=StratifiedKFold(n_splits=5, random_state=23, shuffle=True),\n",
       "             estimator=SVC(kernel=&#x27;linear&#x27;, probability=True, random_state=23),\n",
       "             param_grid={&#x27;C&#x27;: array([1.00000000e-03, 5.56444444e-01, 1.11188889e+00, 1.66733333e+00,\n",
       "       2.22277778e+00, 2.77822222e+00, 3.33366667e+00, 3.88911111e+00,\n",
       "       4.44455556e+00, 5.00000000e+00]),\n",
       "                         &#x27;decision_function_shape&#x27;: [&#x27;ovo&#x27;, &#x27;ovr&#x27;]},\n",
       "             scoring=&#x27;neg_log_loss&#x27;, verbose=2)</pre></div></div></div><div class=\"sk-parallel\"><div class=\"sk-parallel-item\"><div class=\"sk-item\"><div class=\"sk-label-container\"><div class=\"sk-label sk-toggleable\"><input class=\"sk-toggleable__control sk-hidden--visually\" id=\"sk-estimator-id-13\" type=\"checkbox\" ><label for=\"sk-estimator-id-13\" class=\"sk-toggleable__label sk-toggleable__label-arrow\">estimator: SVC</label><div class=\"sk-toggleable__content\"><pre>SVC(kernel=&#x27;linear&#x27;, probability=True, random_state=23)</pre></div></div></div><div class=\"sk-serial\"><div class=\"sk-item\"><div class=\"sk-estimator sk-toggleable\"><input class=\"sk-toggleable__control sk-hidden--visually\" id=\"sk-estimator-id-14\" type=\"checkbox\" ><label for=\"sk-estimator-id-14\" class=\"sk-toggleable__label sk-toggleable__label-arrow\">SVC</label><div class=\"sk-toggleable__content\"><pre>SVC(kernel=&#x27;linear&#x27;, probability=True, random_state=23)</pre></div></div></div></div></div></div></div></div></div></div>"
      ],
      "text/plain": [
       "GridSearchCV(cv=StratifiedKFold(n_splits=5, random_state=23, shuffle=True),\n",
       "             estimator=SVC(kernel='linear', probability=True, random_state=23),\n",
       "             param_grid={'C': array([1.00000000e-03, 5.56444444e-01, 1.11188889e+00, 1.66733333e+00,\n",
       "       2.22277778e+00, 2.77822222e+00, 3.33366667e+00, 3.88911111e+00,\n",
       "       4.44455556e+00, 5.00000000e+00]),\n",
       "                         'decision_function_shape': ['ovo', 'ovr']},\n",
       "             scoring='neg_log_loss', verbose=2)"
      ]
     },
     "execution_count": 15,
     "metadata": {},
     "output_type": "execute_result"
    }
   ],
   "source": [
    "kfold=StratifiedKFold(n_splits=5,shuffle=True,random_state=23)\n",
    "params={'C':np.linspace(0.001,5,10),'decision_function_shape':['ovo','ovr'],}\n",
    "gcv= GridSearchCV(svm,param_grid=params,cv=kfold,scoring='neg_log_loss',verbose=2)\n",
    "gcv.fit(X,y)"
   ]
  },
  {
   "cell_type": "code",
   "execution_count": 16,
   "id": "85cfdfac",
   "metadata": {},
   "outputs": [
    {
     "name": "stdout",
     "output_type": "stream",
     "text": [
      "best parameter : {'C': 0.001, 'decision_function_shape': 'ovo'}\n",
      "best score : -0.5222450865337804\n"
     ]
    }
   ],
   "source": [
    "print(\"best parameter :\",gcv.best_params_)\n",
    "print(\"best score :\",gcv.best_score_)"
   ]
  },
  {
   "cell_type": "markdown",
   "id": "5a83cb9c",
   "metadata": {},
   "source": [
    "### Radial"
   ]
  },
  {
   "cell_type": "code",
   "execution_count": 17,
   "id": "65f610b0",
   "metadata": {},
   "outputs": [],
   "source": [
    "svm=SVC(kernel='rbf',probability=True,random_state=23 )"
   ]
  },
  {
   "cell_type": "code",
   "execution_count": 18,
   "id": "1a690841",
   "metadata": {
    "scrolled": true
   },
   "outputs": [
    {
     "name": "stdout",
     "output_type": "stream",
     "text": [
      "Fitting 5 folds for each of 20 candidates, totalling 100 fits\n",
      "[CV] END ...............C=0.001, decision_function_shape=ovo; total time=   0.1s\n",
      "[CV] END ...............C=0.001, decision_function_shape=ovo; total time=   0.0s\n",
      "[CV] END ...............C=0.001, decision_function_shape=ovo; total time=   0.0s\n",
      "[CV] END ...............C=0.001, decision_function_shape=ovo; total time=   0.0s\n",
      "[CV] END ...............C=0.001, decision_function_shape=ovo; total time=   0.0s\n",
      "[CV] END ...............C=0.001, decision_function_shape=ovr; total time=   0.0s\n",
      "[CV] END ...............C=0.001, decision_function_shape=ovr; total time=   0.0s\n",
      "[CV] END ...............C=0.001, decision_function_shape=ovr; total time=   0.0s\n",
      "[CV] END ...............C=0.001, decision_function_shape=ovr; total time=   0.0s\n",
      "[CV] END ...............C=0.001, decision_function_shape=ovr; total time=   0.0s\n",
      "[CV] END ..C=0.5564444444444444, decision_function_shape=ovo; total time=   0.0s\n",
      "[CV] END ..C=0.5564444444444444, decision_function_shape=ovo; total time=   0.0s\n",
      "[CV] END ..C=0.5564444444444444, decision_function_shape=ovo; total time=   0.0s\n",
      "[CV] END ..C=0.5564444444444444, decision_function_shape=ovo; total time=   0.0s\n",
      "[CV] END ..C=0.5564444444444444, decision_function_shape=ovo; total time=   0.0s\n",
      "[CV] END ..C=0.5564444444444444, decision_function_shape=ovr; total time=   0.0s\n",
      "[CV] END ..C=0.5564444444444444, decision_function_shape=ovr; total time=   0.0s\n",
      "[CV] END ..C=0.5564444444444444, decision_function_shape=ovr; total time=   0.0s\n",
      "[CV] END ..C=0.5564444444444444, decision_function_shape=ovr; total time=   0.0s\n",
      "[CV] END ..C=0.5564444444444444, decision_function_shape=ovr; total time=   0.0s\n",
      "[CV] END ..C=1.1118888888888887, decision_function_shape=ovo; total time=   0.0s\n",
      "[CV] END ..C=1.1118888888888887, decision_function_shape=ovo; total time=   0.0s\n",
      "[CV] END ..C=1.1118888888888887, decision_function_shape=ovo; total time=   0.0s\n",
      "[CV] END ..C=1.1118888888888887, decision_function_shape=ovo; total time=   0.0s\n",
      "[CV] END ..C=1.1118888888888887, decision_function_shape=ovo; total time=   0.0s\n",
      "[CV] END ..C=1.1118888888888887, decision_function_shape=ovr; total time=   0.0s\n",
      "[CV] END ..C=1.1118888888888887, decision_function_shape=ovr; total time=   0.0s\n",
      "[CV] END ..C=1.1118888888888887, decision_function_shape=ovr; total time=   0.0s\n",
      "[CV] END ..C=1.1118888888888887, decision_function_shape=ovr; total time=   0.0s\n",
      "[CV] END ..C=1.1118888888888887, decision_function_shape=ovr; total time=   0.0s\n",
      "[CV] END ..C=1.6673333333333331, decision_function_shape=ovo; total time=   0.0s\n",
      "[CV] END ..C=1.6673333333333331, decision_function_shape=ovo; total time=   0.0s\n",
      "[CV] END ..C=1.6673333333333331, decision_function_shape=ovo; total time=   0.0s\n",
      "[CV] END ..C=1.6673333333333331, decision_function_shape=ovo; total time=   0.0s\n",
      "[CV] END ..C=1.6673333333333331, decision_function_shape=ovo; total time=   0.0s\n",
      "[CV] END ..C=1.6673333333333331, decision_function_shape=ovr; total time=   0.0s\n",
      "[CV] END ..C=1.6673333333333331, decision_function_shape=ovr; total time=   0.0s\n",
      "[CV] END ..C=1.6673333333333331, decision_function_shape=ovr; total time=   0.0s\n",
      "[CV] END ..C=1.6673333333333331, decision_function_shape=ovr; total time=   0.0s\n",
      "[CV] END ..C=1.6673333333333331, decision_function_shape=ovr; total time=   0.0s\n",
      "[CV] END ..C=2.2227777777777775, decision_function_shape=ovo; total time=   0.0s\n",
      "[CV] END ..C=2.2227777777777775, decision_function_shape=ovo; total time=   0.0s\n",
      "[CV] END ..C=2.2227777777777775, decision_function_shape=ovo; total time=   0.0s\n",
      "[CV] END ..C=2.2227777777777775, decision_function_shape=ovo; total time=   0.0s\n",
      "[CV] END ..C=2.2227777777777775, decision_function_shape=ovo; total time=   0.0s\n",
      "[CV] END ..C=2.2227777777777775, decision_function_shape=ovr; total time=   0.0s\n",
      "[CV] END ..C=2.2227777777777775, decision_function_shape=ovr; total time=   0.0s\n",
      "[CV] END ..C=2.2227777777777775, decision_function_shape=ovr; total time=   0.0s\n",
      "[CV] END ..C=2.2227777777777775, decision_function_shape=ovr; total time=   0.0s\n",
      "[CV] END ..C=2.2227777777777775, decision_function_shape=ovr; total time=   0.0s\n",
      "[CV] END ...C=2.778222222222222, decision_function_shape=ovo; total time=   0.0s\n",
      "[CV] END ...C=2.778222222222222, decision_function_shape=ovo; total time=   0.0s\n",
      "[CV] END ...C=2.778222222222222, decision_function_shape=ovo; total time=   0.0s\n",
      "[CV] END ...C=2.778222222222222, decision_function_shape=ovo; total time=   0.0s\n",
      "[CV] END ...C=2.778222222222222, decision_function_shape=ovo; total time=   0.0s\n",
      "[CV] END ...C=2.778222222222222, decision_function_shape=ovr; total time=   0.0s\n",
      "[CV] END ...C=2.778222222222222, decision_function_shape=ovr; total time=   0.0s\n",
      "[CV] END ...C=2.778222222222222, decision_function_shape=ovr; total time=   0.0s\n",
      "[CV] END ...C=2.778222222222222, decision_function_shape=ovr; total time=   0.0s\n",
      "[CV] END ...C=2.778222222222222, decision_function_shape=ovr; total time=   0.0s\n",
      "[CV] END ..C=3.3336666666666663, decision_function_shape=ovo; total time=   0.0s\n",
      "[CV] END ..C=3.3336666666666663, decision_function_shape=ovo; total time=   0.0s\n",
      "[CV] END ..C=3.3336666666666663, decision_function_shape=ovo; total time=   0.0s\n",
      "[CV] END ..C=3.3336666666666663, decision_function_shape=ovo; total time=   0.0s\n",
      "[CV] END ..C=3.3336666666666663, decision_function_shape=ovo; total time=   0.0s\n",
      "[CV] END ..C=3.3336666666666663, decision_function_shape=ovr; total time=   0.0s\n",
      "[CV] END ..C=3.3336666666666663, decision_function_shape=ovr; total time=   0.0s\n",
      "[CV] END ..C=3.3336666666666663, decision_function_shape=ovr; total time=   0.0s\n",
      "[CV] END ..C=3.3336666666666663, decision_function_shape=ovr; total time=   0.0s\n",
      "[CV] END ..C=3.3336666666666663, decision_function_shape=ovr; total time=   0.0s\n",
      "[CV] END ..C=3.8891111111111107, decision_function_shape=ovo; total time=   0.0s\n",
      "[CV] END ..C=3.8891111111111107, decision_function_shape=ovo; total time=   0.0s\n",
      "[CV] END ..C=3.8891111111111107, decision_function_shape=ovo; total time=   0.0s\n",
      "[CV] END ..C=3.8891111111111107, decision_function_shape=ovo; total time=   0.0s\n",
      "[CV] END ..C=3.8891111111111107, decision_function_shape=ovo; total time=   0.0s\n",
      "[CV] END ..C=3.8891111111111107, decision_function_shape=ovr; total time=   0.0s\n",
      "[CV] END ..C=3.8891111111111107, decision_function_shape=ovr; total time=   0.0s\n",
      "[CV] END ..C=3.8891111111111107, decision_function_shape=ovr; total time=   0.0s\n",
      "[CV] END ..C=3.8891111111111107, decision_function_shape=ovr; total time=   0.0s\n",
      "[CV] END ..C=3.8891111111111107, decision_function_shape=ovr; total time=   0.0s\n",
      "[CV] END ...C=4.444555555555556, decision_function_shape=ovo; total time=   0.0s\n",
      "[CV] END ...C=4.444555555555556, decision_function_shape=ovo; total time=   0.0s\n",
      "[CV] END ...C=4.444555555555556, decision_function_shape=ovo; total time=   0.0s\n",
      "[CV] END ...C=4.444555555555556, decision_function_shape=ovo; total time=   0.0s\n",
      "[CV] END ...C=4.444555555555556, decision_function_shape=ovo; total time=   0.0s\n",
      "[CV] END ...C=4.444555555555556, decision_function_shape=ovr; total time=   0.0s\n",
      "[CV] END ...C=4.444555555555556, decision_function_shape=ovr; total time=   0.0s\n",
      "[CV] END ...C=4.444555555555556, decision_function_shape=ovr; total time=   0.0s\n",
      "[CV] END ...C=4.444555555555556, decision_function_shape=ovr; total time=   0.0s\n",
      "[CV] END ...C=4.444555555555556, decision_function_shape=ovr; total time=   0.0s\n",
      "[CV] END .................C=5.0, decision_function_shape=ovo; total time=   0.0s\n",
      "[CV] END .................C=5.0, decision_function_shape=ovo; total time=   0.0s\n",
      "[CV] END .................C=5.0, decision_function_shape=ovo; total time=   0.0s\n",
      "[CV] END .................C=5.0, decision_function_shape=ovo; total time=   0.0s\n",
      "[CV] END .................C=5.0, decision_function_shape=ovo; total time=   0.0s\n",
      "[CV] END .................C=5.0, decision_function_shape=ovr; total time=   0.0s\n",
      "[CV] END .................C=5.0, decision_function_shape=ovr; total time=   0.0s\n",
      "[CV] END .................C=5.0, decision_function_shape=ovr; total time=   0.0s\n",
      "[CV] END .................C=5.0, decision_function_shape=ovr; total time=   0.0s\n",
      "[CV] END .................C=5.0, decision_function_shape=ovr; total time=   0.0s\n"
     ]
    },
    {
     "data": {
      "text/html": [
       "<style>#sk-container-id-7 {color: black;}#sk-container-id-7 pre{padding: 0;}#sk-container-id-7 div.sk-toggleable {background-color: white;}#sk-container-id-7 label.sk-toggleable__label {cursor: pointer;display: block;width: 100%;margin-bottom: 0;padding: 0.3em;box-sizing: border-box;text-align: center;}#sk-container-id-7 label.sk-toggleable__label-arrow:before {content: \"▸\";float: left;margin-right: 0.25em;color: #696969;}#sk-container-id-7 label.sk-toggleable__label-arrow:hover:before {color: black;}#sk-container-id-7 div.sk-estimator:hover label.sk-toggleable__label-arrow:before {color: black;}#sk-container-id-7 div.sk-toggleable__content {max-height: 0;max-width: 0;overflow: hidden;text-align: left;background-color: #f0f8ff;}#sk-container-id-7 div.sk-toggleable__content pre {margin: 0.2em;color: black;border-radius: 0.25em;background-color: #f0f8ff;}#sk-container-id-7 input.sk-toggleable__control:checked~div.sk-toggleable__content {max-height: 200px;max-width: 100%;overflow: auto;}#sk-container-id-7 input.sk-toggleable__control:checked~label.sk-toggleable__label-arrow:before {content: \"▾\";}#sk-container-id-7 div.sk-estimator input.sk-toggleable__control:checked~label.sk-toggleable__label {background-color: #d4ebff;}#sk-container-id-7 div.sk-label input.sk-toggleable__control:checked~label.sk-toggleable__label {background-color: #d4ebff;}#sk-container-id-7 input.sk-hidden--visually {border: 0;clip: rect(1px 1px 1px 1px);clip: rect(1px, 1px, 1px, 1px);height: 1px;margin: -1px;overflow: hidden;padding: 0;position: absolute;width: 1px;}#sk-container-id-7 div.sk-estimator {font-family: monospace;background-color: #f0f8ff;border: 1px dotted black;border-radius: 0.25em;box-sizing: border-box;margin-bottom: 0.5em;}#sk-container-id-7 div.sk-estimator:hover {background-color: #d4ebff;}#sk-container-id-7 div.sk-parallel-item::after {content: \"\";width: 100%;border-bottom: 1px solid gray;flex-grow: 1;}#sk-container-id-7 div.sk-label:hover label.sk-toggleable__label {background-color: #d4ebff;}#sk-container-id-7 div.sk-serial::before {content: \"\";position: absolute;border-left: 1px solid gray;box-sizing: border-box;top: 0;bottom: 0;left: 50%;z-index: 0;}#sk-container-id-7 div.sk-serial {display: flex;flex-direction: column;align-items: center;background-color: white;padding-right: 0.2em;padding-left: 0.2em;position: relative;}#sk-container-id-7 div.sk-item {position: relative;z-index: 1;}#sk-container-id-7 div.sk-parallel {display: flex;align-items: stretch;justify-content: center;background-color: white;position: relative;}#sk-container-id-7 div.sk-item::before, #sk-container-id-7 div.sk-parallel-item::before {content: \"\";position: absolute;border-left: 1px solid gray;box-sizing: border-box;top: 0;bottom: 0;left: 50%;z-index: -1;}#sk-container-id-7 div.sk-parallel-item {display: flex;flex-direction: column;z-index: 1;position: relative;background-color: white;}#sk-container-id-7 div.sk-parallel-item:first-child::after {align-self: flex-end;width: 50%;}#sk-container-id-7 div.sk-parallel-item:last-child::after {align-self: flex-start;width: 50%;}#sk-container-id-7 div.sk-parallel-item:only-child::after {width: 0;}#sk-container-id-7 div.sk-dashed-wrapped {border: 1px dashed gray;margin: 0 0.4em 0.5em 0.4em;box-sizing: border-box;padding-bottom: 0.4em;background-color: white;}#sk-container-id-7 div.sk-label label {font-family: monospace;font-weight: bold;display: inline-block;line-height: 1.2em;}#sk-container-id-7 div.sk-label-container {text-align: center;}#sk-container-id-7 div.sk-container {/* jupyter's `normalize.less` sets `[hidden] { display: none; }` but bootstrap.min.css set `[hidden] { display: none !important; }` so we also need the `!important` here to be able to override the default hidden behavior on the sphinx rendered scikit-learn.org. See: https://github.com/scikit-learn/scikit-learn/issues/21755 */display: inline-block !important;position: relative;}#sk-container-id-7 div.sk-text-repr-fallback {display: none;}</style><div id=\"sk-container-id-7\" class=\"sk-top-container\"><div class=\"sk-text-repr-fallback\"><pre>GridSearchCV(cv=StratifiedKFold(n_splits=5, random_state=23, shuffle=True),\n",
       "             estimator=SVC(probability=True, random_state=23),\n",
       "             param_grid={&#x27;C&#x27;: array([1.00000000e-03, 5.56444444e-01, 1.11188889e+00, 1.66733333e+00,\n",
       "       2.22277778e+00, 2.77822222e+00, 3.33366667e+00, 3.88911111e+00,\n",
       "       4.44455556e+00, 5.00000000e+00]),\n",
       "                         &#x27;decision_function_shape&#x27;: [&#x27;ovo&#x27;, &#x27;ovr&#x27;]},\n",
       "             scoring=&#x27;neg_log_loss&#x27;, verbose=2)</pre><b>In a Jupyter environment, please rerun this cell to show the HTML representation or trust the notebook. <br />On GitHub, the HTML representation is unable to render, please try loading this page with nbviewer.org.</b></div><div class=\"sk-container\" hidden><div class=\"sk-item sk-dashed-wrapped\"><div class=\"sk-label-container\"><div class=\"sk-label sk-toggleable\"><input class=\"sk-toggleable__control sk-hidden--visually\" id=\"sk-estimator-id-15\" type=\"checkbox\" ><label for=\"sk-estimator-id-15\" class=\"sk-toggleable__label sk-toggleable__label-arrow\">GridSearchCV</label><div class=\"sk-toggleable__content\"><pre>GridSearchCV(cv=StratifiedKFold(n_splits=5, random_state=23, shuffle=True),\n",
       "             estimator=SVC(probability=True, random_state=23),\n",
       "             param_grid={&#x27;C&#x27;: array([1.00000000e-03, 5.56444444e-01, 1.11188889e+00, 1.66733333e+00,\n",
       "       2.22277778e+00, 2.77822222e+00, 3.33366667e+00, 3.88911111e+00,\n",
       "       4.44455556e+00, 5.00000000e+00]),\n",
       "                         &#x27;decision_function_shape&#x27;: [&#x27;ovo&#x27;, &#x27;ovr&#x27;]},\n",
       "             scoring=&#x27;neg_log_loss&#x27;, verbose=2)</pre></div></div></div><div class=\"sk-parallel\"><div class=\"sk-parallel-item\"><div class=\"sk-item\"><div class=\"sk-label-container\"><div class=\"sk-label sk-toggleable\"><input class=\"sk-toggleable__control sk-hidden--visually\" id=\"sk-estimator-id-16\" type=\"checkbox\" ><label for=\"sk-estimator-id-16\" class=\"sk-toggleable__label sk-toggleable__label-arrow\">estimator: SVC</label><div class=\"sk-toggleable__content\"><pre>SVC(probability=True, random_state=23)</pre></div></div></div><div class=\"sk-serial\"><div class=\"sk-item\"><div class=\"sk-estimator sk-toggleable\"><input class=\"sk-toggleable__control sk-hidden--visually\" id=\"sk-estimator-id-17\" type=\"checkbox\" ><label for=\"sk-estimator-id-17\" class=\"sk-toggleable__label sk-toggleable__label-arrow\">SVC</label><div class=\"sk-toggleable__content\"><pre>SVC(probability=True, random_state=23)</pre></div></div></div></div></div></div></div></div></div></div>"
      ],
      "text/plain": [
       "GridSearchCV(cv=StratifiedKFold(n_splits=5, random_state=23, shuffle=True),\n",
       "             estimator=SVC(probability=True, random_state=23),\n",
       "             param_grid={'C': array([1.00000000e-03, 5.56444444e-01, 1.11188889e+00, 1.66733333e+00,\n",
       "       2.22277778e+00, 2.77822222e+00, 3.33366667e+00, 3.88911111e+00,\n",
       "       4.44455556e+00, 5.00000000e+00]),\n",
       "                         'decision_function_shape': ['ovo', 'ovr']},\n",
       "             scoring='neg_log_loss', verbose=2)"
      ]
     },
     "execution_count": 18,
     "metadata": {},
     "output_type": "execute_result"
    }
   ],
   "source": [
    "kfold=StratifiedKFold(n_splits=5,shuffle=True,random_state=23)\n",
    "params={'C':np.linspace(0.001,5,10),'decision_function_shape':['ovo','ovr'],}\n",
    "gcv= GridSearchCV(svm,param_grid=params,cv=kfold,scoring='neg_log_loss',verbose=2)\n",
    "gcv.fit(X,y)"
   ]
  },
  {
   "cell_type": "code",
   "execution_count": 19,
   "id": "d0828c86",
   "metadata": {},
   "outputs": [
    {
     "name": "stdout",
     "output_type": "stream",
     "text": [
      "best parameter : {'C': 5.0, 'decision_function_shape': 'ovo'}\n",
      "best score : -0.622653795419567\n"
     ]
    }
   ],
   "source": [
    "print(\"best parameter :\",gcv.best_params_)\n",
    "print(\"best score :\",gcv.best_score_)"
   ]
  },
  {
   "cell_type": "markdown",
   "id": "872d50ca",
   "metadata": {},
   "source": [
    "## USING SCALING AND PIPELINE"
   ]
  },
  {
   "cell_type": "code",
   "execution_count": 21,
   "id": "b9e07882",
   "metadata": {},
   "outputs": [],
   "source": [
    "svm=SVC(kernel='linear',probability=True,random_state=23 )"
   ]
  },
  {
   "cell_type": "code",
   "execution_count": 26,
   "id": "c442e9c2",
   "metadata": {},
   "outputs": [
    {
     "name": "stdout",
     "output_type": "stream",
     "text": [
      "{'memory': None, 'steps': [('SCL', StandardScaler()), ('SVM', SVC(kernel='linear', probability=True, random_state=23))], 'verbose': False, 'SCL': StandardScaler(), 'SVM': SVC(kernel='linear', probability=True, random_state=23), 'SCL__copy': True, 'SCL__with_mean': True, 'SCL__with_std': True, 'SVM__C': 1.0, 'SVM__break_ties': False, 'SVM__cache_size': 200, 'SVM__class_weight': None, 'SVM__coef0': 0.0, 'SVM__decision_function_shape': 'ovr', 'SVM__degree': 3, 'SVM__gamma': 'scale', 'SVM__kernel': 'linear', 'SVM__max_iter': -1, 'SVM__probability': True, 'SVM__random_state': 23, 'SVM__shrinking': True, 'SVM__tol': 0.001, 'SVM__verbose': False}\n"
     ]
    }
   ],
   "source": [
    "scaler=StandardScaler()\n",
    "pipe=Pipeline([('SCL',scaler),('SVM',svm)])\n",
    "print(pipe.get_params())"
   ]
  },
  {
   "cell_type": "code",
   "execution_count": 33,
   "id": "3e14eb5e",
   "metadata": {
    "scrolled": true
   },
   "outputs": [
    {
     "name": "stdout",
     "output_type": "stream",
     "text": [
      "Fitting 5 folds for each of 20 candidates, totalling 100 fits\n",
      "[CV] END SVM__C=0.001, SVM__decision_function_shape=ovo, SVM__kernel=linear; total time=   0.0s\n",
      "[CV] END SVM__C=0.001, SVM__decision_function_shape=ovo, SVM__kernel=linear; total time=   0.0s\n",
      "[CV] END SVM__C=0.001, SVM__decision_function_shape=ovo, SVM__kernel=linear; total time=   0.0s\n",
      "[CV] END SVM__C=0.001, SVM__decision_function_shape=ovo, SVM__kernel=linear; total time=   0.0s\n",
      "[CV] END SVM__C=0.001, SVM__decision_function_shape=ovo, SVM__kernel=linear; total time=   0.0s\n",
      "[CV] END SVM__C=0.001, SVM__decision_function_shape=ovr, SVM__kernel=linear; total time=   0.1s\n",
      "[CV] END SVM__C=0.001, SVM__decision_function_shape=ovr, SVM__kernel=linear; total time=   0.0s\n",
      "[CV] END SVM__C=0.001, SVM__decision_function_shape=ovr, SVM__kernel=linear; total time=   0.0s\n",
      "[CV] END SVM__C=0.001, SVM__decision_function_shape=ovr, SVM__kernel=linear; total time=   0.0s\n",
      "[CV] END SVM__C=0.001, SVM__decision_function_shape=ovr, SVM__kernel=linear; total time=   0.0s\n",
      "[CV] END SVM__C=0.5564444444444444, SVM__decision_function_shape=ovo, SVM__kernel=linear; total time=   0.0s\n",
      "[CV] END SVM__C=0.5564444444444444, SVM__decision_function_shape=ovo, SVM__kernel=linear; total time=   0.0s\n",
      "[CV] END SVM__C=0.5564444444444444, SVM__decision_function_shape=ovo, SVM__kernel=linear; total time=   0.0s\n",
      "[CV] END SVM__C=0.5564444444444444, SVM__decision_function_shape=ovo, SVM__kernel=linear; total time=   0.0s\n",
      "[CV] END SVM__C=0.5564444444444444, SVM__decision_function_shape=ovo, SVM__kernel=linear; total time=   0.0s\n",
      "[CV] END SVM__C=0.5564444444444444, SVM__decision_function_shape=ovr, SVM__kernel=linear; total time=   0.0s\n",
      "[CV] END SVM__C=0.5564444444444444, SVM__decision_function_shape=ovr, SVM__kernel=linear; total time=   0.0s\n",
      "[CV] END SVM__C=0.5564444444444444, SVM__decision_function_shape=ovr, SVM__kernel=linear; total time=   0.0s\n",
      "[CV] END SVM__C=0.5564444444444444, SVM__decision_function_shape=ovr, SVM__kernel=linear; total time=   0.0s\n",
      "[CV] END SVM__C=0.5564444444444444, SVM__decision_function_shape=ovr, SVM__kernel=linear; total time=   0.0s\n",
      "[CV] END SVM__C=1.1118888888888887, SVM__decision_function_shape=ovo, SVM__kernel=linear; total time=   0.0s\n",
      "[CV] END SVM__C=1.1118888888888887, SVM__decision_function_shape=ovo, SVM__kernel=linear; total time=   0.0s\n",
      "[CV] END SVM__C=1.1118888888888887, SVM__decision_function_shape=ovo, SVM__kernel=linear; total time=   0.0s\n",
      "[CV] END SVM__C=1.1118888888888887, SVM__decision_function_shape=ovo, SVM__kernel=linear; total time=   0.0s\n",
      "[CV] END SVM__C=1.1118888888888887, SVM__decision_function_shape=ovo, SVM__kernel=linear; total time=   0.0s\n",
      "[CV] END SVM__C=1.1118888888888887, SVM__decision_function_shape=ovr, SVM__kernel=linear; total time=   0.0s\n",
      "[CV] END SVM__C=1.1118888888888887, SVM__decision_function_shape=ovr, SVM__kernel=linear; total time=   0.0s\n",
      "[CV] END SVM__C=1.1118888888888887, SVM__decision_function_shape=ovr, SVM__kernel=linear; total time=   0.0s\n",
      "[CV] END SVM__C=1.1118888888888887, SVM__decision_function_shape=ovr, SVM__kernel=linear; total time=   0.0s\n",
      "[CV] END SVM__C=1.1118888888888887, SVM__decision_function_shape=ovr, SVM__kernel=linear; total time=   0.0s\n",
      "[CV] END SVM__C=1.6673333333333331, SVM__decision_function_shape=ovo, SVM__kernel=linear; total time=   0.0s\n",
      "[CV] END SVM__C=1.6673333333333331, SVM__decision_function_shape=ovo, SVM__kernel=linear; total time=   0.0s\n",
      "[CV] END SVM__C=1.6673333333333331, SVM__decision_function_shape=ovo, SVM__kernel=linear; total time=   0.0s\n",
      "[CV] END SVM__C=1.6673333333333331, SVM__decision_function_shape=ovo, SVM__kernel=linear; total time=   0.0s\n",
      "[CV] END SVM__C=1.6673333333333331, SVM__decision_function_shape=ovo, SVM__kernel=linear; total time=   0.0s\n",
      "[CV] END SVM__C=1.6673333333333331, SVM__decision_function_shape=ovr, SVM__kernel=linear; total time=   0.0s\n",
      "[CV] END SVM__C=1.6673333333333331, SVM__decision_function_shape=ovr, SVM__kernel=linear; total time=   0.0s\n",
      "[CV] END SVM__C=1.6673333333333331, SVM__decision_function_shape=ovr, SVM__kernel=linear; total time=   0.0s\n",
      "[CV] END SVM__C=1.6673333333333331, SVM__decision_function_shape=ovr, SVM__kernel=linear; total time=   0.0s\n",
      "[CV] END SVM__C=1.6673333333333331, SVM__decision_function_shape=ovr, SVM__kernel=linear; total time=   0.0s\n",
      "[CV] END SVM__C=2.2227777777777775, SVM__decision_function_shape=ovo, SVM__kernel=linear; total time=   0.0s\n",
      "[CV] END SVM__C=2.2227777777777775, SVM__decision_function_shape=ovo, SVM__kernel=linear; total time=   0.0s\n",
      "[CV] END SVM__C=2.2227777777777775, SVM__decision_function_shape=ovo, SVM__kernel=linear; total time=   0.0s\n",
      "[CV] END SVM__C=2.2227777777777775, SVM__decision_function_shape=ovo, SVM__kernel=linear; total time=   0.0s\n",
      "[CV] END SVM__C=2.2227777777777775, SVM__decision_function_shape=ovo, SVM__kernel=linear; total time=   0.0s\n",
      "[CV] END SVM__C=2.2227777777777775, SVM__decision_function_shape=ovr, SVM__kernel=linear; total time=   0.0s\n",
      "[CV] END SVM__C=2.2227777777777775, SVM__decision_function_shape=ovr, SVM__kernel=linear; total time=   0.0s\n",
      "[CV] END SVM__C=2.2227777777777775, SVM__decision_function_shape=ovr, SVM__kernel=linear; total time=   0.0s\n",
      "[CV] END SVM__C=2.2227777777777775, SVM__decision_function_shape=ovr, SVM__kernel=linear; total time=   0.0s\n",
      "[CV] END SVM__C=2.2227777777777775, SVM__decision_function_shape=ovr, SVM__kernel=linear; total time=   0.0s\n",
      "[CV] END SVM__C=2.778222222222222, SVM__decision_function_shape=ovo, SVM__kernel=linear; total time=   0.0s\n",
      "[CV] END SVM__C=2.778222222222222, SVM__decision_function_shape=ovo, SVM__kernel=linear; total time=   0.0s\n",
      "[CV] END SVM__C=2.778222222222222, SVM__decision_function_shape=ovo, SVM__kernel=linear; total time=   0.0s\n",
      "[CV] END SVM__C=2.778222222222222, SVM__decision_function_shape=ovo, SVM__kernel=linear; total time=   0.0s\n",
      "[CV] END SVM__C=2.778222222222222, SVM__decision_function_shape=ovo, SVM__kernel=linear; total time=   0.0s\n",
      "[CV] END SVM__C=2.778222222222222, SVM__decision_function_shape=ovr, SVM__kernel=linear; total time=   0.0s\n",
      "[CV] END SVM__C=2.778222222222222, SVM__decision_function_shape=ovr, SVM__kernel=linear; total time=   0.0s\n",
      "[CV] END SVM__C=2.778222222222222, SVM__decision_function_shape=ovr, SVM__kernel=linear; total time=   0.0s\n",
      "[CV] END SVM__C=2.778222222222222, SVM__decision_function_shape=ovr, SVM__kernel=linear; total time=   0.0s\n",
      "[CV] END SVM__C=2.778222222222222, SVM__decision_function_shape=ovr, SVM__kernel=linear; total time=   0.0s\n",
      "[CV] END SVM__C=3.3336666666666663, SVM__decision_function_shape=ovo, SVM__kernel=linear; total time=   0.0s\n",
      "[CV] END SVM__C=3.3336666666666663, SVM__decision_function_shape=ovo, SVM__kernel=linear; total time=   0.0s\n",
      "[CV] END SVM__C=3.3336666666666663, SVM__decision_function_shape=ovo, SVM__kernel=linear; total time=   0.0s\n",
      "[CV] END SVM__C=3.3336666666666663, SVM__decision_function_shape=ovo, SVM__kernel=linear; total time=   0.0s\n",
      "[CV] END SVM__C=3.3336666666666663, SVM__decision_function_shape=ovo, SVM__kernel=linear; total time=   0.0s\n",
      "[CV] END SVM__C=3.3336666666666663, SVM__decision_function_shape=ovr, SVM__kernel=linear; total time=   0.0s\n",
      "[CV] END SVM__C=3.3336666666666663, SVM__decision_function_shape=ovr, SVM__kernel=linear; total time=   0.0s\n",
      "[CV] END SVM__C=3.3336666666666663, SVM__decision_function_shape=ovr, SVM__kernel=linear; total time=   0.0s\n",
      "[CV] END SVM__C=3.3336666666666663, SVM__decision_function_shape=ovr, SVM__kernel=linear; total time=   0.0s\n",
      "[CV] END SVM__C=3.3336666666666663, SVM__decision_function_shape=ovr, SVM__kernel=linear; total time=   0.0s\n",
      "[CV] END SVM__C=3.8891111111111107, SVM__decision_function_shape=ovo, SVM__kernel=linear; total time=   0.0s\n",
      "[CV] END SVM__C=3.8891111111111107, SVM__decision_function_shape=ovo, SVM__kernel=linear; total time=   0.0s\n",
      "[CV] END SVM__C=3.8891111111111107, SVM__decision_function_shape=ovo, SVM__kernel=linear; total time=   0.0s\n",
      "[CV] END SVM__C=3.8891111111111107, SVM__decision_function_shape=ovo, SVM__kernel=linear; total time=   0.0s\n",
      "[CV] END SVM__C=3.8891111111111107, SVM__decision_function_shape=ovo, SVM__kernel=linear; total time=   0.0s\n",
      "[CV] END SVM__C=3.8891111111111107, SVM__decision_function_shape=ovr, SVM__kernel=linear; total time=   0.0s\n",
      "[CV] END SVM__C=3.8891111111111107, SVM__decision_function_shape=ovr, SVM__kernel=linear; total time=   0.0s\n",
      "[CV] END SVM__C=3.8891111111111107, SVM__decision_function_shape=ovr, SVM__kernel=linear; total time=   0.0s\n",
      "[CV] END SVM__C=3.8891111111111107, SVM__decision_function_shape=ovr, SVM__kernel=linear; total time=   0.0s\n",
      "[CV] END SVM__C=3.8891111111111107, SVM__decision_function_shape=ovr, SVM__kernel=linear; total time=   0.0s\n",
      "[CV] END SVM__C=4.444555555555556, SVM__decision_function_shape=ovo, SVM__kernel=linear; total time=   0.0s\n",
      "[CV] END SVM__C=4.444555555555556, SVM__decision_function_shape=ovo, SVM__kernel=linear; total time=   0.0s\n"
     ]
    },
    {
     "name": "stdout",
     "output_type": "stream",
     "text": [
      "[CV] END SVM__C=4.444555555555556, SVM__decision_function_shape=ovo, SVM__kernel=linear; total time=   0.0s\n",
      "[CV] END SVM__C=4.444555555555556, SVM__decision_function_shape=ovo, SVM__kernel=linear; total time=   0.0s\n",
      "[CV] END SVM__C=4.444555555555556, SVM__decision_function_shape=ovo, SVM__kernel=linear; total time=   0.0s\n",
      "[CV] END SVM__C=4.444555555555556, SVM__decision_function_shape=ovr, SVM__kernel=linear; total time=   0.0s\n",
      "[CV] END SVM__C=4.444555555555556, SVM__decision_function_shape=ovr, SVM__kernel=linear; total time=   0.0s\n",
      "[CV] END SVM__C=4.444555555555556, SVM__decision_function_shape=ovr, SVM__kernel=linear; total time=   0.0s\n",
      "[CV] END SVM__C=4.444555555555556, SVM__decision_function_shape=ovr, SVM__kernel=linear; total time=   0.0s\n",
      "[CV] END SVM__C=4.444555555555556, SVM__decision_function_shape=ovr, SVM__kernel=linear; total time=   0.0s\n",
      "[CV] END SVM__C=5.0, SVM__decision_function_shape=ovo, SVM__kernel=linear; total time=   0.0s\n",
      "[CV] END SVM__C=5.0, SVM__decision_function_shape=ovo, SVM__kernel=linear; total time=   0.0s\n",
      "[CV] END SVM__C=5.0, SVM__decision_function_shape=ovo, SVM__kernel=linear; total time=   0.0s\n",
      "[CV] END SVM__C=5.0, SVM__decision_function_shape=ovo, SVM__kernel=linear; total time=   0.0s\n",
      "[CV] END SVM__C=5.0, SVM__decision_function_shape=ovo, SVM__kernel=linear; total time=   0.0s\n",
      "[CV] END SVM__C=5.0, SVM__decision_function_shape=ovr, SVM__kernel=linear; total time=   0.0s\n",
      "[CV] END SVM__C=5.0, SVM__decision_function_shape=ovr, SVM__kernel=linear; total time=   0.0s\n",
      "[CV] END SVM__C=5.0, SVM__decision_function_shape=ovr, SVM__kernel=linear; total time=   0.0s\n",
      "[CV] END SVM__C=5.0, SVM__decision_function_shape=ovr, SVM__kernel=linear; total time=   0.0s\n",
      "[CV] END SVM__C=5.0, SVM__decision_function_shape=ovr, SVM__kernel=linear; total time=   0.0s\n"
     ]
    },
    {
     "data": {
      "text/html": [
       "<style>#sk-container-id-10 {color: black;}#sk-container-id-10 pre{padding: 0;}#sk-container-id-10 div.sk-toggleable {background-color: white;}#sk-container-id-10 label.sk-toggleable__label {cursor: pointer;display: block;width: 100%;margin-bottom: 0;padding: 0.3em;box-sizing: border-box;text-align: center;}#sk-container-id-10 label.sk-toggleable__label-arrow:before {content: \"▸\";float: left;margin-right: 0.25em;color: #696969;}#sk-container-id-10 label.sk-toggleable__label-arrow:hover:before {color: black;}#sk-container-id-10 div.sk-estimator:hover label.sk-toggleable__label-arrow:before {color: black;}#sk-container-id-10 div.sk-toggleable__content {max-height: 0;max-width: 0;overflow: hidden;text-align: left;background-color: #f0f8ff;}#sk-container-id-10 div.sk-toggleable__content pre {margin: 0.2em;color: black;border-radius: 0.25em;background-color: #f0f8ff;}#sk-container-id-10 input.sk-toggleable__control:checked~div.sk-toggleable__content {max-height: 200px;max-width: 100%;overflow: auto;}#sk-container-id-10 input.sk-toggleable__control:checked~label.sk-toggleable__label-arrow:before {content: \"▾\";}#sk-container-id-10 div.sk-estimator input.sk-toggleable__control:checked~label.sk-toggleable__label {background-color: #d4ebff;}#sk-container-id-10 div.sk-label input.sk-toggleable__control:checked~label.sk-toggleable__label {background-color: #d4ebff;}#sk-container-id-10 input.sk-hidden--visually {border: 0;clip: rect(1px 1px 1px 1px);clip: rect(1px, 1px, 1px, 1px);height: 1px;margin: -1px;overflow: hidden;padding: 0;position: absolute;width: 1px;}#sk-container-id-10 div.sk-estimator {font-family: monospace;background-color: #f0f8ff;border: 1px dotted black;border-radius: 0.25em;box-sizing: border-box;margin-bottom: 0.5em;}#sk-container-id-10 div.sk-estimator:hover {background-color: #d4ebff;}#sk-container-id-10 div.sk-parallel-item::after {content: \"\";width: 100%;border-bottom: 1px solid gray;flex-grow: 1;}#sk-container-id-10 div.sk-label:hover label.sk-toggleable__label {background-color: #d4ebff;}#sk-container-id-10 div.sk-serial::before {content: \"\";position: absolute;border-left: 1px solid gray;box-sizing: border-box;top: 0;bottom: 0;left: 50%;z-index: 0;}#sk-container-id-10 div.sk-serial {display: flex;flex-direction: column;align-items: center;background-color: white;padding-right: 0.2em;padding-left: 0.2em;position: relative;}#sk-container-id-10 div.sk-item {position: relative;z-index: 1;}#sk-container-id-10 div.sk-parallel {display: flex;align-items: stretch;justify-content: center;background-color: white;position: relative;}#sk-container-id-10 div.sk-item::before, #sk-container-id-10 div.sk-parallel-item::before {content: \"\";position: absolute;border-left: 1px solid gray;box-sizing: border-box;top: 0;bottom: 0;left: 50%;z-index: -1;}#sk-container-id-10 div.sk-parallel-item {display: flex;flex-direction: column;z-index: 1;position: relative;background-color: white;}#sk-container-id-10 div.sk-parallel-item:first-child::after {align-self: flex-end;width: 50%;}#sk-container-id-10 div.sk-parallel-item:last-child::after {align-self: flex-start;width: 50%;}#sk-container-id-10 div.sk-parallel-item:only-child::after {width: 0;}#sk-container-id-10 div.sk-dashed-wrapped {border: 1px dashed gray;margin: 0 0.4em 0.5em 0.4em;box-sizing: border-box;padding-bottom: 0.4em;background-color: white;}#sk-container-id-10 div.sk-label label {font-family: monospace;font-weight: bold;display: inline-block;line-height: 1.2em;}#sk-container-id-10 div.sk-label-container {text-align: center;}#sk-container-id-10 div.sk-container {/* jupyter's `normalize.less` sets `[hidden] { display: none; }` but bootstrap.min.css set `[hidden] { display: none !important; }` so we also need the `!important` here to be able to override the default hidden behavior on the sphinx rendered scikit-learn.org. See: https://github.com/scikit-learn/scikit-learn/issues/21755 */display: inline-block !important;position: relative;}#sk-container-id-10 div.sk-text-repr-fallback {display: none;}</style><div id=\"sk-container-id-10\" class=\"sk-top-container\"><div class=\"sk-text-repr-fallback\"><pre>GridSearchCV(cv=StratifiedKFold(n_splits=5, random_state=23, shuffle=True),\n",
       "             estimator=Pipeline(steps=[(&#x27;SCL&#x27;, MinMaxScaler()),\n",
       "                                       (&#x27;SVM&#x27;,\n",
       "                                        SVC(kernel=&#x27;linear&#x27;, probability=True,\n",
       "                                            random_state=23))]),\n",
       "             param_grid={&#x27;SVM__C&#x27;: array([1.00000000e-03, 5.56444444e-01, 1.11188889e+00, 1.66733333e+00,\n",
       "       2.22277778e+00, 2.77822222e+00, 3.33366667e+00, 3.88911111e+00,\n",
       "       4.44455556e+00, 5.00000000e+00]),\n",
       "                         &#x27;SVM__decision_function_shape&#x27;: [&#x27;ovo&#x27;, &#x27;ovr&#x27;],\n",
       "                         &#x27;SVM__kernel&#x27;: [&#x27;linear&#x27;]},\n",
       "             scoring=&#x27;neg_log_loss&#x27;, verbose=2)</pre><b>In a Jupyter environment, please rerun this cell to show the HTML representation or trust the notebook. <br />On GitHub, the HTML representation is unable to render, please try loading this page with nbviewer.org.</b></div><div class=\"sk-container\" hidden><div class=\"sk-item sk-dashed-wrapped\"><div class=\"sk-label-container\"><div class=\"sk-label sk-toggleable\"><input class=\"sk-toggleable__control sk-hidden--visually\" id=\"sk-estimator-id-26\" type=\"checkbox\" ><label for=\"sk-estimator-id-26\" class=\"sk-toggleable__label sk-toggleable__label-arrow\">GridSearchCV</label><div class=\"sk-toggleable__content\"><pre>GridSearchCV(cv=StratifiedKFold(n_splits=5, random_state=23, shuffle=True),\n",
       "             estimator=Pipeline(steps=[(&#x27;SCL&#x27;, MinMaxScaler()),\n",
       "                                       (&#x27;SVM&#x27;,\n",
       "                                        SVC(kernel=&#x27;linear&#x27;, probability=True,\n",
       "                                            random_state=23))]),\n",
       "             param_grid={&#x27;SVM__C&#x27;: array([1.00000000e-03, 5.56444444e-01, 1.11188889e+00, 1.66733333e+00,\n",
       "       2.22277778e+00, 2.77822222e+00, 3.33366667e+00, 3.88911111e+00,\n",
       "       4.44455556e+00, 5.00000000e+00]),\n",
       "                         &#x27;SVM__decision_function_shape&#x27;: [&#x27;ovo&#x27;, &#x27;ovr&#x27;],\n",
       "                         &#x27;SVM__kernel&#x27;: [&#x27;linear&#x27;]},\n",
       "             scoring=&#x27;neg_log_loss&#x27;, verbose=2)</pre></div></div></div><div class=\"sk-parallel\"><div class=\"sk-parallel-item\"><div class=\"sk-item\"><div class=\"sk-label-container\"><div class=\"sk-label sk-toggleable\"><input class=\"sk-toggleable__control sk-hidden--visually\" id=\"sk-estimator-id-27\" type=\"checkbox\" ><label for=\"sk-estimator-id-27\" class=\"sk-toggleable__label sk-toggleable__label-arrow\">estimator: Pipeline</label><div class=\"sk-toggleable__content\"><pre>Pipeline(steps=[(&#x27;SCL&#x27;, MinMaxScaler()),\n",
       "                (&#x27;SVM&#x27;,\n",
       "                 SVC(kernel=&#x27;linear&#x27;, probability=True, random_state=23))])</pre></div></div></div><div class=\"sk-serial\"><div class=\"sk-item\"><div class=\"sk-serial\"><div class=\"sk-item\"><div class=\"sk-estimator sk-toggleable\"><input class=\"sk-toggleable__control sk-hidden--visually\" id=\"sk-estimator-id-28\" type=\"checkbox\" ><label for=\"sk-estimator-id-28\" class=\"sk-toggleable__label sk-toggleable__label-arrow\">MinMaxScaler</label><div class=\"sk-toggleable__content\"><pre>MinMaxScaler()</pre></div></div></div><div class=\"sk-item\"><div class=\"sk-estimator sk-toggleable\"><input class=\"sk-toggleable__control sk-hidden--visually\" id=\"sk-estimator-id-29\" type=\"checkbox\" ><label for=\"sk-estimator-id-29\" class=\"sk-toggleable__label sk-toggleable__label-arrow\">SVC</label><div class=\"sk-toggleable__content\"><pre>SVC(kernel=&#x27;linear&#x27;, probability=True, random_state=23)</pre></div></div></div></div></div></div></div></div></div></div></div></div>"
      ],
      "text/plain": [
       "GridSearchCV(cv=StratifiedKFold(n_splits=5, random_state=23, shuffle=True),\n",
       "             estimator=Pipeline(steps=[('SCL', MinMaxScaler()),\n",
       "                                       ('SVM',\n",
       "                                        SVC(kernel='linear', probability=True,\n",
       "                                            random_state=23))]),\n",
       "             param_grid={'SVM__C': array([1.00000000e-03, 5.56444444e-01, 1.11188889e+00, 1.66733333e+00,\n",
       "       2.22277778e+00, 2.77822222e+00, 3.33366667e+00, 3.88911111e+00,\n",
       "       4.44455556e+00, 5.00000000e+00]),\n",
       "                         'SVM__decision_function_shape': ['ovo', 'ovr'],\n",
       "                         'SVM__kernel': ['linear']},\n",
       "             scoring='neg_log_loss', verbose=2)"
      ]
     },
     "execution_count": 33,
     "metadata": {},
     "output_type": "execute_result"
    }
   ],
   "source": [
    "kfold=StratifiedKFold(n_splits=5,shuffle=True,random_state=23)\n",
    "params={'SVM__C':np.linspace(0.001,5,10),'SVM__decision_function_shape':['ovo','ovr'],}\n",
    "gcv= GridSearchCV(pipe,param_grid=params,cv=kfold,scoring='neg_log_loss',verbose=2)\n",
    "gcv.fit(X,y)"
   ]
  },
  {
   "cell_type": "code",
   "execution_count": 28,
   "id": "640df34f",
   "metadata": {},
   "outputs": [
    {
     "name": "stdout",
     "output_type": "stream",
     "text": [
      "best parameter : {'SVM__C': 0.5564444444444444, 'SVM__decision_function_shape': 'ovo', 'SVM__kernel': 'linear'}\n",
      "best score : -0.41619646882043726\n"
     ]
    }
   ],
   "source": [
    "print(\"best parameter :\",gcv.best_params_)\n",
    "print(\"best score :\",gcv.best_score_)"
   ]
  },
  {
   "cell_type": "markdown",
   "id": "c30141b3",
   "metadata": {},
   "source": [
    "### using MINMAXSCALER"
   ]
  },
  {
   "cell_type": "code",
   "execution_count": 30,
   "id": "01f0fae3",
   "metadata": {},
   "outputs": [
    {
     "name": "stdout",
     "output_type": "stream",
     "text": [
      "{'memory': None, 'steps': [('SCL', MinMaxScaler()), ('SVM', SVC(kernel='linear', probability=True, random_state=23))], 'verbose': False, 'SCL': MinMaxScaler(), 'SVM': SVC(kernel='linear', probability=True, random_state=23), 'SCL__clip': False, 'SCL__copy': True, 'SCL__feature_range': (0, 1), 'SVM__C': 1.0, 'SVM__break_ties': False, 'SVM__cache_size': 200, 'SVM__class_weight': None, 'SVM__coef0': 0.0, 'SVM__decision_function_shape': 'ovr', 'SVM__degree': 3, 'SVM__gamma': 'scale', 'SVM__kernel': 'linear', 'SVM__max_iter': -1, 'SVM__probability': True, 'SVM__random_state': 23, 'SVM__shrinking': True, 'SVM__tol': 0.001, 'SVM__verbose': False}\n"
     ]
    }
   ],
   "source": [
    "scaler=MinMaxScaler()\n",
    "pipe=Pipeline([('SCL',scaler),('SVM',svm)])\n",
    "print(pipe.get_params())"
   ]
  },
  {
   "cell_type": "code",
   "execution_count": 34,
   "id": "984d7fae",
   "metadata": {
    "scrolled": true
   },
   "outputs": [
    {
     "name": "stdout",
     "output_type": "stream",
     "text": [
      "Fitting 5 folds for each of 20 candidates, totalling 100 fits\n",
      "[CV] END .....SVM__C=0.001, SVM__decision_function_shape=ovo; total time=   0.0s\n",
      "[CV] END .....SVM__C=0.001, SVM__decision_function_shape=ovo; total time=   0.0s\n",
      "[CV] END .....SVM__C=0.001, SVM__decision_function_shape=ovo; total time=   0.0s\n",
      "[CV] END .....SVM__C=0.001, SVM__decision_function_shape=ovo; total time=   0.0s\n",
      "[CV] END .....SVM__C=0.001, SVM__decision_function_shape=ovo; total time=   0.0s\n",
      "[CV] END .....SVM__C=0.001, SVM__decision_function_shape=ovr; total time=   0.0s\n",
      "[CV] END .....SVM__C=0.001, SVM__decision_function_shape=ovr; total time=   0.0s\n",
      "[CV] END .....SVM__C=0.001, SVM__decision_function_shape=ovr; total time=   0.0s\n",
      "[CV] END .....SVM__C=0.001, SVM__decision_function_shape=ovr; total time=   0.0s\n",
      "[CV] END .....SVM__C=0.001, SVM__decision_function_shape=ovr; total time=   0.0s\n",
      "[CV] END SVM__C=0.5564444444444444, SVM__decision_function_shape=ovo; total time=   0.0s\n",
      "[CV] END SVM__C=0.5564444444444444, SVM__decision_function_shape=ovo; total time=   0.0s\n",
      "[CV] END SVM__C=0.5564444444444444, SVM__decision_function_shape=ovo; total time=   0.0s\n",
      "[CV] END SVM__C=0.5564444444444444, SVM__decision_function_shape=ovo; total time=   0.0s\n",
      "[CV] END SVM__C=0.5564444444444444, SVM__decision_function_shape=ovo; total time=   0.0s\n",
      "[CV] END SVM__C=0.5564444444444444, SVM__decision_function_shape=ovr; total time=   0.0s\n",
      "[CV] END SVM__C=0.5564444444444444, SVM__decision_function_shape=ovr; total time=   0.0s\n",
      "[CV] END SVM__C=0.5564444444444444, SVM__decision_function_shape=ovr; total time=   0.0s\n",
      "[CV] END SVM__C=0.5564444444444444, SVM__decision_function_shape=ovr; total time=   0.0s\n",
      "[CV] END SVM__C=0.5564444444444444, SVM__decision_function_shape=ovr; total time=   0.0s\n",
      "[CV] END SVM__C=1.1118888888888887, SVM__decision_function_shape=ovo; total time=   0.0s\n",
      "[CV] END SVM__C=1.1118888888888887, SVM__decision_function_shape=ovo; total time=   0.0s\n",
      "[CV] END SVM__C=1.1118888888888887, SVM__decision_function_shape=ovo; total time=   0.0s\n",
      "[CV] END SVM__C=1.1118888888888887, SVM__decision_function_shape=ovo; total time=   0.0s\n",
      "[CV] END SVM__C=1.1118888888888887, SVM__decision_function_shape=ovo; total time=   0.0s\n",
      "[CV] END SVM__C=1.1118888888888887, SVM__decision_function_shape=ovr; total time=   0.0s\n",
      "[CV] END SVM__C=1.1118888888888887, SVM__decision_function_shape=ovr; total time=   0.0s\n",
      "[CV] END SVM__C=1.1118888888888887, SVM__decision_function_shape=ovr; total time=   0.0s\n",
      "[CV] END SVM__C=1.1118888888888887, SVM__decision_function_shape=ovr; total time=   0.0s\n",
      "[CV] END SVM__C=1.1118888888888887, SVM__decision_function_shape=ovr; total time=   0.0s\n",
      "[CV] END SVM__C=1.6673333333333331, SVM__decision_function_shape=ovo; total time=   0.0s\n",
      "[CV] END SVM__C=1.6673333333333331, SVM__decision_function_shape=ovo; total time=   0.0s\n",
      "[CV] END SVM__C=1.6673333333333331, SVM__decision_function_shape=ovo; total time=   0.0s\n",
      "[CV] END SVM__C=1.6673333333333331, SVM__decision_function_shape=ovo; total time=   0.0s\n",
      "[CV] END SVM__C=1.6673333333333331, SVM__decision_function_shape=ovo; total time=   0.0s\n",
      "[CV] END SVM__C=1.6673333333333331, SVM__decision_function_shape=ovr; total time=   0.0s\n",
      "[CV] END SVM__C=1.6673333333333331, SVM__decision_function_shape=ovr; total time=   0.0s\n",
      "[CV] END SVM__C=1.6673333333333331, SVM__decision_function_shape=ovr; total time=   0.0s\n",
      "[CV] END SVM__C=1.6673333333333331, SVM__decision_function_shape=ovr; total time=   0.0s\n",
      "[CV] END SVM__C=1.6673333333333331, SVM__decision_function_shape=ovr; total time=   0.0s\n",
      "[CV] END SVM__C=2.2227777777777775, SVM__decision_function_shape=ovo; total time=   0.0s\n",
      "[CV] END SVM__C=2.2227777777777775, SVM__decision_function_shape=ovo; total time=   0.0s\n",
      "[CV] END SVM__C=2.2227777777777775, SVM__decision_function_shape=ovo; total time=   0.0s\n",
      "[CV] END SVM__C=2.2227777777777775, SVM__decision_function_shape=ovo; total time=   0.0s\n",
      "[CV] END SVM__C=2.2227777777777775, SVM__decision_function_shape=ovo; total time=   0.0s\n",
      "[CV] END SVM__C=2.2227777777777775, SVM__decision_function_shape=ovr; total time=   0.0s\n",
      "[CV] END SVM__C=2.2227777777777775, SVM__decision_function_shape=ovr; total time=   0.0s\n",
      "[CV] END SVM__C=2.2227777777777775, SVM__decision_function_shape=ovr; total time=   0.0s\n",
      "[CV] END SVM__C=2.2227777777777775, SVM__decision_function_shape=ovr; total time=   0.0s\n",
      "[CV] END SVM__C=2.2227777777777775, SVM__decision_function_shape=ovr; total time=   0.0s\n",
      "[CV] END SVM__C=2.778222222222222, SVM__decision_function_shape=ovo; total time=   0.0s\n",
      "[CV] END SVM__C=2.778222222222222, SVM__decision_function_shape=ovo; total time=   0.0s\n",
      "[CV] END SVM__C=2.778222222222222, SVM__decision_function_shape=ovo; total time=   0.0s\n",
      "[CV] END SVM__C=2.778222222222222, SVM__decision_function_shape=ovo; total time=   0.0s\n",
      "[CV] END SVM__C=2.778222222222222, SVM__decision_function_shape=ovo; total time=   0.0s\n",
      "[CV] END SVM__C=2.778222222222222, SVM__decision_function_shape=ovr; total time=   0.0s\n",
      "[CV] END SVM__C=2.778222222222222, SVM__decision_function_shape=ovr; total time=   0.0s\n",
      "[CV] END SVM__C=2.778222222222222, SVM__decision_function_shape=ovr; total time=   0.0s\n",
      "[CV] END SVM__C=2.778222222222222, SVM__decision_function_shape=ovr; total time=   0.0s\n",
      "[CV] END SVM__C=2.778222222222222, SVM__decision_function_shape=ovr; total time=   0.0s\n",
      "[CV] END SVM__C=3.3336666666666663, SVM__decision_function_shape=ovo; total time=   0.0s\n",
      "[CV] END SVM__C=3.3336666666666663, SVM__decision_function_shape=ovo; total time=   0.0s\n",
      "[CV] END SVM__C=3.3336666666666663, SVM__decision_function_shape=ovo; total time=   0.0s\n",
      "[CV] END SVM__C=3.3336666666666663, SVM__decision_function_shape=ovo; total time=   0.0s\n",
      "[CV] END SVM__C=3.3336666666666663, SVM__decision_function_shape=ovo; total time=   0.0s\n",
      "[CV] END SVM__C=3.3336666666666663, SVM__decision_function_shape=ovr; total time=   0.0s\n",
      "[CV] END SVM__C=3.3336666666666663, SVM__decision_function_shape=ovr; total time=   0.0s\n",
      "[CV] END SVM__C=3.3336666666666663, SVM__decision_function_shape=ovr; total time=   0.0s\n",
      "[CV] END SVM__C=3.3336666666666663, SVM__decision_function_shape=ovr; total time=   0.0s\n",
      "[CV] END SVM__C=3.3336666666666663, SVM__decision_function_shape=ovr; total time=   0.0s\n",
      "[CV] END SVM__C=3.8891111111111107, SVM__decision_function_shape=ovo; total time=   0.0s\n",
      "[CV] END SVM__C=3.8891111111111107, SVM__decision_function_shape=ovo; total time=   0.0s\n",
      "[CV] END SVM__C=3.8891111111111107, SVM__decision_function_shape=ovo; total time=   0.0s\n",
      "[CV] END SVM__C=3.8891111111111107, SVM__decision_function_shape=ovo; total time=   0.0s\n",
      "[CV] END SVM__C=3.8891111111111107, SVM__decision_function_shape=ovo; total time=   0.0s\n",
      "[CV] END SVM__C=3.8891111111111107, SVM__decision_function_shape=ovr; total time=   0.0s\n",
      "[CV] END SVM__C=3.8891111111111107, SVM__decision_function_shape=ovr; total time=   0.0s\n",
      "[CV] END SVM__C=3.8891111111111107, SVM__decision_function_shape=ovr; total time=   0.0s\n",
      "[CV] END SVM__C=3.8891111111111107, SVM__decision_function_shape=ovr; total time=   0.0s\n",
      "[CV] END SVM__C=3.8891111111111107, SVM__decision_function_shape=ovr; total time=   0.0s\n",
      "[CV] END SVM__C=4.444555555555556, SVM__decision_function_shape=ovo; total time=   0.0s\n",
      "[CV] END SVM__C=4.444555555555556, SVM__decision_function_shape=ovo; total time=   0.0s\n",
      "[CV] END SVM__C=4.444555555555556, SVM__decision_function_shape=ovo; total time=   0.0s\n",
      "[CV] END SVM__C=4.444555555555556, SVM__decision_function_shape=ovo; total time=   0.0s\n",
      "[CV] END SVM__C=4.444555555555556, SVM__decision_function_shape=ovo; total time=   0.0s\n",
      "[CV] END SVM__C=4.444555555555556, SVM__decision_function_shape=ovr; total time=   0.0s\n",
      "[CV] END SVM__C=4.444555555555556, SVM__decision_function_shape=ovr; total time=   0.0s\n",
      "[CV] END SVM__C=4.444555555555556, SVM__decision_function_shape=ovr; total time=   0.0s\n",
      "[CV] END SVM__C=4.444555555555556, SVM__decision_function_shape=ovr; total time=   0.0s\n",
      "[CV] END SVM__C=4.444555555555556, SVM__decision_function_shape=ovr; total time=   0.0s\n",
      "[CV] END .......SVM__C=5.0, SVM__decision_function_shape=ovo; total time=   0.0s\n",
      "[CV] END .......SVM__C=5.0, SVM__decision_function_shape=ovo; total time=   0.0s\n",
      "[CV] END .......SVM__C=5.0, SVM__decision_function_shape=ovo; total time=   0.0s\n",
      "[CV] END .......SVM__C=5.0, SVM__decision_function_shape=ovo; total time=   0.0s\n"
     ]
    },
    {
     "name": "stdout",
     "output_type": "stream",
     "text": [
      "[CV] END .......SVM__C=5.0, SVM__decision_function_shape=ovo; total time=   0.0s\n",
      "[CV] END .......SVM__C=5.0, SVM__decision_function_shape=ovr; total time=   0.0s\n",
      "[CV] END .......SVM__C=5.0, SVM__decision_function_shape=ovr; total time=   0.0s\n",
      "[CV] END .......SVM__C=5.0, SVM__decision_function_shape=ovr; total time=   0.0s\n",
      "[CV] END .......SVM__C=5.0, SVM__decision_function_shape=ovr; total time=   0.0s\n",
      "[CV] END .......SVM__C=5.0, SVM__decision_function_shape=ovr; total time=   0.0s\n"
     ]
    },
    {
     "data": {
      "text/html": [
       "<style>#sk-container-id-11 {color: black;}#sk-container-id-11 pre{padding: 0;}#sk-container-id-11 div.sk-toggleable {background-color: white;}#sk-container-id-11 label.sk-toggleable__label {cursor: pointer;display: block;width: 100%;margin-bottom: 0;padding: 0.3em;box-sizing: border-box;text-align: center;}#sk-container-id-11 label.sk-toggleable__label-arrow:before {content: \"▸\";float: left;margin-right: 0.25em;color: #696969;}#sk-container-id-11 label.sk-toggleable__label-arrow:hover:before {color: black;}#sk-container-id-11 div.sk-estimator:hover label.sk-toggleable__label-arrow:before {color: black;}#sk-container-id-11 div.sk-toggleable__content {max-height: 0;max-width: 0;overflow: hidden;text-align: left;background-color: #f0f8ff;}#sk-container-id-11 div.sk-toggleable__content pre {margin: 0.2em;color: black;border-radius: 0.25em;background-color: #f0f8ff;}#sk-container-id-11 input.sk-toggleable__control:checked~div.sk-toggleable__content {max-height: 200px;max-width: 100%;overflow: auto;}#sk-container-id-11 input.sk-toggleable__control:checked~label.sk-toggleable__label-arrow:before {content: \"▾\";}#sk-container-id-11 div.sk-estimator input.sk-toggleable__control:checked~label.sk-toggleable__label {background-color: #d4ebff;}#sk-container-id-11 div.sk-label input.sk-toggleable__control:checked~label.sk-toggleable__label {background-color: #d4ebff;}#sk-container-id-11 input.sk-hidden--visually {border: 0;clip: rect(1px 1px 1px 1px);clip: rect(1px, 1px, 1px, 1px);height: 1px;margin: -1px;overflow: hidden;padding: 0;position: absolute;width: 1px;}#sk-container-id-11 div.sk-estimator {font-family: monospace;background-color: #f0f8ff;border: 1px dotted black;border-radius: 0.25em;box-sizing: border-box;margin-bottom: 0.5em;}#sk-container-id-11 div.sk-estimator:hover {background-color: #d4ebff;}#sk-container-id-11 div.sk-parallel-item::after {content: \"\";width: 100%;border-bottom: 1px solid gray;flex-grow: 1;}#sk-container-id-11 div.sk-label:hover label.sk-toggleable__label {background-color: #d4ebff;}#sk-container-id-11 div.sk-serial::before {content: \"\";position: absolute;border-left: 1px solid gray;box-sizing: border-box;top: 0;bottom: 0;left: 50%;z-index: 0;}#sk-container-id-11 div.sk-serial {display: flex;flex-direction: column;align-items: center;background-color: white;padding-right: 0.2em;padding-left: 0.2em;position: relative;}#sk-container-id-11 div.sk-item {position: relative;z-index: 1;}#sk-container-id-11 div.sk-parallel {display: flex;align-items: stretch;justify-content: center;background-color: white;position: relative;}#sk-container-id-11 div.sk-item::before, #sk-container-id-11 div.sk-parallel-item::before {content: \"\";position: absolute;border-left: 1px solid gray;box-sizing: border-box;top: 0;bottom: 0;left: 50%;z-index: -1;}#sk-container-id-11 div.sk-parallel-item {display: flex;flex-direction: column;z-index: 1;position: relative;background-color: white;}#sk-container-id-11 div.sk-parallel-item:first-child::after {align-self: flex-end;width: 50%;}#sk-container-id-11 div.sk-parallel-item:last-child::after {align-self: flex-start;width: 50%;}#sk-container-id-11 div.sk-parallel-item:only-child::after {width: 0;}#sk-container-id-11 div.sk-dashed-wrapped {border: 1px dashed gray;margin: 0 0.4em 0.5em 0.4em;box-sizing: border-box;padding-bottom: 0.4em;background-color: white;}#sk-container-id-11 div.sk-label label {font-family: monospace;font-weight: bold;display: inline-block;line-height: 1.2em;}#sk-container-id-11 div.sk-label-container {text-align: center;}#sk-container-id-11 div.sk-container {/* jupyter's `normalize.less` sets `[hidden] { display: none; }` but bootstrap.min.css set `[hidden] { display: none !important; }` so we also need the `!important` here to be able to override the default hidden behavior on the sphinx rendered scikit-learn.org. See: https://github.com/scikit-learn/scikit-learn/issues/21755 */display: inline-block !important;position: relative;}#sk-container-id-11 div.sk-text-repr-fallback {display: none;}</style><div id=\"sk-container-id-11\" class=\"sk-top-container\"><div class=\"sk-text-repr-fallback\"><pre>GridSearchCV(cv=StratifiedKFold(n_splits=5, random_state=23, shuffle=True),\n",
       "             estimator=Pipeline(steps=[(&#x27;SCL&#x27;, MinMaxScaler()),\n",
       "                                       (&#x27;SVM&#x27;,\n",
       "                                        SVC(kernel=&#x27;linear&#x27;, probability=True,\n",
       "                                            random_state=23))]),\n",
       "             param_grid={&#x27;SVM__C&#x27;: array([1.00000000e-03, 5.56444444e-01, 1.11188889e+00, 1.66733333e+00,\n",
       "       2.22277778e+00, 2.77822222e+00, 3.33366667e+00, 3.88911111e+00,\n",
       "       4.44455556e+00, 5.00000000e+00]),\n",
       "                         &#x27;SVM__decision_function_shape&#x27;: [&#x27;ovo&#x27;, &#x27;ovr&#x27;]},\n",
       "             scoring=&#x27;neg_log_loss&#x27;, verbose=2)</pre><b>In a Jupyter environment, please rerun this cell to show the HTML representation or trust the notebook. <br />On GitHub, the HTML representation is unable to render, please try loading this page with nbviewer.org.</b></div><div class=\"sk-container\" hidden><div class=\"sk-item sk-dashed-wrapped\"><div class=\"sk-label-container\"><div class=\"sk-label sk-toggleable\"><input class=\"sk-toggleable__control sk-hidden--visually\" id=\"sk-estimator-id-30\" type=\"checkbox\" ><label for=\"sk-estimator-id-30\" class=\"sk-toggleable__label sk-toggleable__label-arrow\">GridSearchCV</label><div class=\"sk-toggleable__content\"><pre>GridSearchCV(cv=StratifiedKFold(n_splits=5, random_state=23, shuffle=True),\n",
       "             estimator=Pipeline(steps=[(&#x27;SCL&#x27;, MinMaxScaler()),\n",
       "                                       (&#x27;SVM&#x27;,\n",
       "                                        SVC(kernel=&#x27;linear&#x27;, probability=True,\n",
       "                                            random_state=23))]),\n",
       "             param_grid={&#x27;SVM__C&#x27;: array([1.00000000e-03, 5.56444444e-01, 1.11188889e+00, 1.66733333e+00,\n",
       "       2.22277778e+00, 2.77822222e+00, 3.33366667e+00, 3.88911111e+00,\n",
       "       4.44455556e+00, 5.00000000e+00]),\n",
       "                         &#x27;SVM__decision_function_shape&#x27;: [&#x27;ovo&#x27;, &#x27;ovr&#x27;]},\n",
       "             scoring=&#x27;neg_log_loss&#x27;, verbose=2)</pre></div></div></div><div class=\"sk-parallel\"><div class=\"sk-parallel-item\"><div class=\"sk-item\"><div class=\"sk-label-container\"><div class=\"sk-label sk-toggleable\"><input class=\"sk-toggleable__control sk-hidden--visually\" id=\"sk-estimator-id-31\" type=\"checkbox\" ><label for=\"sk-estimator-id-31\" class=\"sk-toggleable__label sk-toggleable__label-arrow\">estimator: Pipeline</label><div class=\"sk-toggleable__content\"><pre>Pipeline(steps=[(&#x27;SCL&#x27;, MinMaxScaler()),\n",
       "                (&#x27;SVM&#x27;,\n",
       "                 SVC(kernel=&#x27;linear&#x27;, probability=True, random_state=23))])</pre></div></div></div><div class=\"sk-serial\"><div class=\"sk-item\"><div class=\"sk-serial\"><div class=\"sk-item\"><div class=\"sk-estimator sk-toggleable\"><input class=\"sk-toggleable__control sk-hidden--visually\" id=\"sk-estimator-id-32\" type=\"checkbox\" ><label for=\"sk-estimator-id-32\" class=\"sk-toggleable__label sk-toggleable__label-arrow\">MinMaxScaler</label><div class=\"sk-toggleable__content\"><pre>MinMaxScaler()</pre></div></div></div><div class=\"sk-item\"><div class=\"sk-estimator sk-toggleable\"><input class=\"sk-toggleable__control sk-hidden--visually\" id=\"sk-estimator-id-33\" type=\"checkbox\" ><label for=\"sk-estimator-id-33\" class=\"sk-toggleable__label sk-toggleable__label-arrow\">SVC</label><div class=\"sk-toggleable__content\"><pre>SVC(kernel=&#x27;linear&#x27;, probability=True, random_state=23)</pre></div></div></div></div></div></div></div></div></div></div></div></div>"
      ],
      "text/plain": [
       "GridSearchCV(cv=StratifiedKFold(n_splits=5, random_state=23, shuffle=True),\n",
       "             estimator=Pipeline(steps=[('SCL', MinMaxScaler()),\n",
       "                                       ('SVM',\n",
       "                                        SVC(kernel='linear', probability=True,\n",
       "                                            random_state=23))]),\n",
       "             param_grid={'SVM__C': array([1.00000000e-03, 5.56444444e-01, 1.11188889e+00, 1.66733333e+00,\n",
       "       2.22277778e+00, 2.77822222e+00, 3.33366667e+00, 3.88911111e+00,\n",
       "       4.44455556e+00, 5.00000000e+00]),\n",
       "                         'SVM__decision_function_shape': ['ovo', 'ovr']},\n",
       "             scoring='neg_log_loss', verbose=2)"
      ]
     },
     "execution_count": 34,
     "metadata": {},
     "output_type": "execute_result"
    }
   ],
   "source": [
    "kfold=StratifiedKFold(n_splits=5,shuffle=True,random_state=23)\n",
    "params={'SVM__C':np.linspace(0.001,5,10),'SVM__decision_function_shape':['ovo','ovr']}\n",
    "gcv= GridSearchCV(pipe,param_grid=params,cv=kfold,scoring='neg_log_loss',verbose=2)\n",
    "gcv.fit(X,y)"
   ]
  },
  {
   "cell_type": "code",
   "execution_count": 35,
   "id": "88bf375a",
   "metadata": {},
   "outputs": [
    {
     "name": "stdout",
     "output_type": "stream",
     "text": [
      "best parameter : {'SVM__C': 5.0, 'SVM__decision_function_shape': 'ovo'}\n",
      "best score : -0.4044721566949951\n"
     ]
    }
   ],
   "source": [
    "print(\"best parameter :\",gcv.best_params_)\n",
    "print(\"best score :\",gcv.best_score_)"
   ]
  },
  {
   "cell_type": "markdown",
   "id": "b75a7109",
   "metadata": {},
   "source": [
    "## FOR RADIAL"
   ]
  },
  {
   "cell_type": "code",
   "execution_count": 36,
   "id": "527017c7",
   "metadata": {},
   "outputs": [],
   "source": [
    "svm=SVC(kernel='rbf',probability=True,random_state=23 )"
   ]
  },
  {
   "cell_type": "code",
   "execution_count": 37,
   "id": "e5d2dbc3",
   "metadata": {},
   "outputs": [
    {
     "name": "stdout",
     "output_type": "stream",
     "text": [
      "{'memory': None, 'steps': [('SCL', StandardScaler()), ('SVM', SVC(probability=True, random_state=23))], 'verbose': False, 'SCL': StandardScaler(), 'SVM': SVC(probability=True, random_state=23), 'SCL__copy': True, 'SCL__with_mean': True, 'SCL__with_std': True, 'SVM__C': 1.0, 'SVM__break_ties': False, 'SVM__cache_size': 200, 'SVM__class_weight': None, 'SVM__coef0': 0.0, 'SVM__decision_function_shape': 'ovr', 'SVM__degree': 3, 'SVM__gamma': 'scale', 'SVM__kernel': 'rbf', 'SVM__max_iter': -1, 'SVM__probability': True, 'SVM__random_state': 23, 'SVM__shrinking': True, 'SVM__tol': 0.001, 'SVM__verbose': False}\n"
     ]
    }
   ],
   "source": [
    "scaler=StandardScaler()\n",
    "pipe=Pipeline([('SCL',scaler),('SVM',svm)])\n",
    "print(pipe.get_params())"
   ]
  },
  {
   "cell_type": "code",
   "execution_count": 38,
   "id": "21d5f0cd",
   "metadata": {
    "scrolled": true
   },
   "outputs": [
    {
     "name": "stdout",
     "output_type": "stream",
     "text": [
      "Fitting 5 folds for each of 20 candidates, totalling 100 fits\n",
      "[CV] END .....SVM__C=0.001, SVM__decision_function_shape=ovo; total time=   0.1s\n",
      "[CV] END .....SVM__C=0.001, SVM__decision_function_shape=ovo; total time=   0.0s\n",
      "[CV] END .....SVM__C=0.001, SVM__decision_function_shape=ovo; total time=   0.0s\n",
      "[CV] END .....SVM__C=0.001, SVM__decision_function_shape=ovo; total time=   0.0s\n",
      "[CV] END .....SVM__C=0.001, SVM__decision_function_shape=ovo; total time=   0.0s\n",
      "[CV] END .....SVM__C=0.001, SVM__decision_function_shape=ovr; total time=   0.0s\n",
      "[CV] END .....SVM__C=0.001, SVM__decision_function_shape=ovr; total time=   0.0s\n",
      "[CV] END .....SVM__C=0.001, SVM__decision_function_shape=ovr; total time=   0.0s\n",
      "[CV] END .....SVM__C=0.001, SVM__decision_function_shape=ovr; total time=   0.0s\n",
      "[CV] END .....SVM__C=0.001, SVM__decision_function_shape=ovr; total time=   0.0s\n",
      "[CV] END SVM__C=0.5564444444444444, SVM__decision_function_shape=ovo; total time=   0.0s\n",
      "[CV] END SVM__C=0.5564444444444444, SVM__decision_function_shape=ovo; total time=   0.0s\n",
      "[CV] END SVM__C=0.5564444444444444, SVM__decision_function_shape=ovo; total time=   0.0s\n",
      "[CV] END SVM__C=0.5564444444444444, SVM__decision_function_shape=ovo; total time=   0.0s\n",
      "[CV] END SVM__C=0.5564444444444444, SVM__decision_function_shape=ovo; total time=   0.0s\n",
      "[CV] END SVM__C=0.5564444444444444, SVM__decision_function_shape=ovr; total time=   0.0s\n",
      "[CV] END SVM__C=0.5564444444444444, SVM__decision_function_shape=ovr; total time=   0.0s\n",
      "[CV] END SVM__C=0.5564444444444444, SVM__decision_function_shape=ovr; total time=   0.0s\n",
      "[CV] END SVM__C=0.5564444444444444, SVM__decision_function_shape=ovr; total time=   0.0s\n",
      "[CV] END SVM__C=0.5564444444444444, SVM__decision_function_shape=ovr; total time=   0.0s\n",
      "[CV] END SVM__C=1.1118888888888887, SVM__decision_function_shape=ovo; total time=   0.0s\n",
      "[CV] END SVM__C=1.1118888888888887, SVM__decision_function_shape=ovo; total time=   0.0s\n",
      "[CV] END SVM__C=1.1118888888888887, SVM__decision_function_shape=ovo; total time=   0.0s\n",
      "[CV] END SVM__C=1.1118888888888887, SVM__decision_function_shape=ovo; total time=   0.0s\n",
      "[CV] END SVM__C=1.1118888888888887, SVM__decision_function_shape=ovo; total time=   0.0s\n",
      "[CV] END SVM__C=1.1118888888888887, SVM__decision_function_shape=ovr; total time=   0.0s\n",
      "[CV] END SVM__C=1.1118888888888887, SVM__decision_function_shape=ovr; total time=   0.0s\n",
      "[CV] END SVM__C=1.1118888888888887, SVM__decision_function_shape=ovr; total time=   0.0s\n",
      "[CV] END SVM__C=1.1118888888888887, SVM__decision_function_shape=ovr; total time=   0.0s\n",
      "[CV] END SVM__C=1.1118888888888887, SVM__decision_function_shape=ovr; total time=   0.0s\n",
      "[CV] END SVM__C=1.6673333333333331, SVM__decision_function_shape=ovo; total time=   0.0s\n",
      "[CV] END SVM__C=1.6673333333333331, SVM__decision_function_shape=ovo; total time=   0.0s\n",
      "[CV] END SVM__C=1.6673333333333331, SVM__decision_function_shape=ovo; total time=   0.0s\n",
      "[CV] END SVM__C=1.6673333333333331, SVM__decision_function_shape=ovo; total time=   0.0s\n",
      "[CV] END SVM__C=1.6673333333333331, SVM__decision_function_shape=ovo; total time=   0.0s\n",
      "[CV] END SVM__C=1.6673333333333331, SVM__decision_function_shape=ovr; total time=   0.0s\n",
      "[CV] END SVM__C=1.6673333333333331, SVM__decision_function_shape=ovr; total time=   0.0s\n",
      "[CV] END SVM__C=1.6673333333333331, SVM__decision_function_shape=ovr; total time=   0.0s\n",
      "[CV] END SVM__C=1.6673333333333331, SVM__decision_function_shape=ovr; total time=   0.0s\n",
      "[CV] END SVM__C=1.6673333333333331, SVM__decision_function_shape=ovr; total time=   0.0s\n",
      "[CV] END SVM__C=2.2227777777777775, SVM__decision_function_shape=ovo; total time=   0.0s\n",
      "[CV] END SVM__C=2.2227777777777775, SVM__decision_function_shape=ovo; total time=   0.0s\n",
      "[CV] END SVM__C=2.2227777777777775, SVM__decision_function_shape=ovo; total time=   0.0s\n",
      "[CV] END SVM__C=2.2227777777777775, SVM__decision_function_shape=ovo; total time=   0.0s\n",
      "[CV] END SVM__C=2.2227777777777775, SVM__decision_function_shape=ovo; total time=   0.0s\n",
      "[CV] END SVM__C=2.2227777777777775, SVM__decision_function_shape=ovr; total time=   0.0s\n",
      "[CV] END SVM__C=2.2227777777777775, SVM__decision_function_shape=ovr; total time=   0.0s\n",
      "[CV] END SVM__C=2.2227777777777775, SVM__decision_function_shape=ovr; total time=   0.0s\n",
      "[CV] END SVM__C=2.2227777777777775, SVM__decision_function_shape=ovr; total time=   0.0s\n",
      "[CV] END SVM__C=2.2227777777777775, SVM__decision_function_shape=ovr; total time=   0.0s\n",
      "[CV] END SVM__C=2.778222222222222, SVM__decision_function_shape=ovo; total time=   0.0s\n",
      "[CV] END SVM__C=2.778222222222222, SVM__decision_function_shape=ovo; total time=   0.0s\n",
      "[CV] END SVM__C=2.778222222222222, SVM__decision_function_shape=ovo; total time=   0.0s\n",
      "[CV] END SVM__C=2.778222222222222, SVM__decision_function_shape=ovo; total time=   0.0s\n",
      "[CV] END SVM__C=2.778222222222222, SVM__decision_function_shape=ovo; total time=   0.0s\n",
      "[CV] END SVM__C=2.778222222222222, SVM__decision_function_shape=ovr; total time=   0.0s\n",
      "[CV] END SVM__C=2.778222222222222, SVM__decision_function_shape=ovr; total time=   0.0s\n",
      "[CV] END SVM__C=2.778222222222222, SVM__decision_function_shape=ovr; total time=   0.0s\n",
      "[CV] END SVM__C=2.778222222222222, SVM__decision_function_shape=ovr; total time=   0.0s\n",
      "[CV] END SVM__C=2.778222222222222, SVM__decision_function_shape=ovr; total time=   0.0s\n",
      "[CV] END SVM__C=3.3336666666666663, SVM__decision_function_shape=ovo; total time=   0.0s\n",
      "[CV] END SVM__C=3.3336666666666663, SVM__decision_function_shape=ovo; total time=   0.0s\n",
      "[CV] END SVM__C=3.3336666666666663, SVM__decision_function_shape=ovo; total time=   0.0s\n",
      "[CV] END SVM__C=3.3336666666666663, SVM__decision_function_shape=ovo; total time=   0.0s\n",
      "[CV] END SVM__C=3.3336666666666663, SVM__decision_function_shape=ovo; total time=   0.0s\n",
      "[CV] END SVM__C=3.3336666666666663, SVM__decision_function_shape=ovr; total time=   0.0s\n",
      "[CV] END SVM__C=3.3336666666666663, SVM__decision_function_shape=ovr; total time=   0.0s\n",
      "[CV] END SVM__C=3.3336666666666663, SVM__decision_function_shape=ovr; total time=   0.0s\n",
      "[CV] END SVM__C=3.3336666666666663, SVM__decision_function_shape=ovr; total time=   0.0s\n",
      "[CV] END SVM__C=3.3336666666666663, SVM__decision_function_shape=ovr; total time=   0.0s\n",
      "[CV] END SVM__C=3.8891111111111107, SVM__decision_function_shape=ovo; total time=   0.0s\n",
      "[CV] END SVM__C=3.8891111111111107, SVM__decision_function_shape=ovo; total time=   0.0s\n",
      "[CV] END SVM__C=3.8891111111111107, SVM__decision_function_shape=ovo; total time=   0.0s\n",
      "[CV] END SVM__C=3.8891111111111107, SVM__decision_function_shape=ovo; total time=   0.0s\n",
      "[CV] END SVM__C=3.8891111111111107, SVM__decision_function_shape=ovo; total time=   0.0s\n",
      "[CV] END SVM__C=3.8891111111111107, SVM__decision_function_shape=ovr; total time=   0.0s\n",
      "[CV] END SVM__C=3.8891111111111107, SVM__decision_function_shape=ovr; total time=   0.0s\n",
      "[CV] END SVM__C=3.8891111111111107, SVM__decision_function_shape=ovr; total time=   0.0s\n",
      "[CV] END SVM__C=3.8891111111111107, SVM__decision_function_shape=ovr; total time=   0.0s\n",
      "[CV] END SVM__C=3.8891111111111107, SVM__decision_function_shape=ovr; total time=   0.0s\n",
      "[CV] END SVM__C=4.444555555555556, SVM__decision_function_shape=ovo; total time=   0.0s\n",
      "[CV] END SVM__C=4.444555555555556, SVM__decision_function_shape=ovo; total time=   0.0s\n",
      "[CV] END SVM__C=4.444555555555556, SVM__decision_function_shape=ovo; total time=   0.0s\n",
      "[CV] END SVM__C=4.444555555555556, SVM__decision_function_shape=ovo; total time=   0.0s\n",
      "[CV] END SVM__C=4.444555555555556, SVM__decision_function_shape=ovo; total time=   0.0s\n",
      "[CV] END SVM__C=4.444555555555556, SVM__decision_function_shape=ovr; total time=   0.0s\n",
      "[CV] END SVM__C=4.444555555555556, SVM__decision_function_shape=ovr; total time=   0.0s\n",
      "[CV] END SVM__C=4.444555555555556, SVM__decision_function_shape=ovr; total time=   0.0s\n",
      "[CV] END SVM__C=4.444555555555556, SVM__decision_function_shape=ovr; total time=   0.0s\n",
      "[CV] END SVM__C=4.444555555555556, SVM__decision_function_shape=ovr; total time=   0.0s\n",
      "[CV] END .......SVM__C=5.0, SVM__decision_function_shape=ovo; total time=   0.0s\n",
      "[CV] END .......SVM__C=5.0, SVM__decision_function_shape=ovo; total time=   0.0s\n",
      "[CV] END .......SVM__C=5.0, SVM__decision_function_shape=ovo; total time=   0.0s\n",
      "[CV] END .......SVM__C=5.0, SVM__decision_function_shape=ovo; total time=   0.0s\n",
      "[CV] END .......SVM__C=5.0, SVM__decision_function_shape=ovo; total time=   0.0s\n"
     ]
    },
    {
     "name": "stdout",
     "output_type": "stream",
     "text": [
      "[CV] END .......SVM__C=5.0, SVM__decision_function_shape=ovr; total time=   0.0s\n",
      "[CV] END .......SVM__C=5.0, SVM__decision_function_shape=ovr; total time=   0.0s\n",
      "[CV] END .......SVM__C=5.0, SVM__decision_function_shape=ovr; total time=   0.0s\n",
      "[CV] END .......SVM__C=5.0, SVM__decision_function_shape=ovr; total time=   0.0s\n",
      "[CV] END .......SVM__C=5.0, SVM__decision_function_shape=ovr; total time=   0.0s\n"
     ]
    },
    {
     "data": {
      "text/html": [
       "<style>#sk-container-id-12 {color: black;}#sk-container-id-12 pre{padding: 0;}#sk-container-id-12 div.sk-toggleable {background-color: white;}#sk-container-id-12 label.sk-toggleable__label {cursor: pointer;display: block;width: 100%;margin-bottom: 0;padding: 0.3em;box-sizing: border-box;text-align: center;}#sk-container-id-12 label.sk-toggleable__label-arrow:before {content: \"▸\";float: left;margin-right: 0.25em;color: #696969;}#sk-container-id-12 label.sk-toggleable__label-arrow:hover:before {color: black;}#sk-container-id-12 div.sk-estimator:hover label.sk-toggleable__label-arrow:before {color: black;}#sk-container-id-12 div.sk-toggleable__content {max-height: 0;max-width: 0;overflow: hidden;text-align: left;background-color: #f0f8ff;}#sk-container-id-12 div.sk-toggleable__content pre {margin: 0.2em;color: black;border-radius: 0.25em;background-color: #f0f8ff;}#sk-container-id-12 input.sk-toggleable__control:checked~div.sk-toggleable__content {max-height: 200px;max-width: 100%;overflow: auto;}#sk-container-id-12 input.sk-toggleable__control:checked~label.sk-toggleable__label-arrow:before {content: \"▾\";}#sk-container-id-12 div.sk-estimator input.sk-toggleable__control:checked~label.sk-toggleable__label {background-color: #d4ebff;}#sk-container-id-12 div.sk-label input.sk-toggleable__control:checked~label.sk-toggleable__label {background-color: #d4ebff;}#sk-container-id-12 input.sk-hidden--visually {border: 0;clip: rect(1px 1px 1px 1px);clip: rect(1px, 1px, 1px, 1px);height: 1px;margin: -1px;overflow: hidden;padding: 0;position: absolute;width: 1px;}#sk-container-id-12 div.sk-estimator {font-family: monospace;background-color: #f0f8ff;border: 1px dotted black;border-radius: 0.25em;box-sizing: border-box;margin-bottom: 0.5em;}#sk-container-id-12 div.sk-estimator:hover {background-color: #d4ebff;}#sk-container-id-12 div.sk-parallel-item::after {content: \"\";width: 100%;border-bottom: 1px solid gray;flex-grow: 1;}#sk-container-id-12 div.sk-label:hover label.sk-toggleable__label {background-color: #d4ebff;}#sk-container-id-12 div.sk-serial::before {content: \"\";position: absolute;border-left: 1px solid gray;box-sizing: border-box;top: 0;bottom: 0;left: 50%;z-index: 0;}#sk-container-id-12 div.sk-serial {display: flex;flex-direction: column;align-items: center;background-color: white;padding-right: 0.2em;padding-left: 0.2em;position: relative;}#sk-container-id-12 div.sk-item {position: relative;z-index: 1;}#sk-container-id-12 div.sk-parallel {display: flex;align-items: stretch;justify-content: center;background-color: white;position: relative;}#sk-container-id-12 div.sk-item::before, #sk-container-id-12 div.sk-parallel-item::before {content: \"\";position: absolute;border-left: 1px solid gray;box-sizing: border-box;top: 0;bottom: 0;left: 50%;z-index: -1;}#sk-container-id-12 div.sk-parallel-item {display: flex;flex-direction: column;z-index: 1;position: relative;background-color: white;}#sk-container-id-12 div.sk-parallel-item:first-child::after {align-self: flex-end;width: 50%;}#sk-container-id-12 div.sk-parallel-item:last-child::after {align-self: flex-start;width: 50%;}#sk-container-id-12 div.sk-parallel-item:only-child::after {width: 0;}#sk-container-id-12 div.sk-dashed-wrapped {border: 1px dashed gray;margin: 0 0.4em 0.5em 0.4em;box-sizing: border-box;padding-bottom: 0.4em;background-color: white;}#sk-container-id-12 div.sk-label label {font-family: monospace;font-weight: bold;display: inline-block;line-height: 1.2em;}#sk-container-id-12 div.sk-label-container {text-align: center;}#sk-container-id-12 div.sk-container {/* jupyter's `normalize.less` sets `[hidden] { display: none; }` but bootstrap.min.css set `[hidden] { display: none !important; }` so we also need the `!important` here to be able to override the default hidden behavior on the sphinx rendered scikit-learn.org. See: https://github.com/scikit-learn/scikit-learn/issues/21755 */display: inline-block !important;position: relative;}#sk-container-id-12 div.sk-text-repr-fallback {display: none;}</style><div id=\"sk-container-id-12\" class=\"sk-top-container\"><div class=\"sk-text-repr-fallback\"><pre>GridSearchCV(cv=StratifiedKFold(n_splits=5, random_state=23, shuffle=True),\n",
       "             estimator=Pipeline(steps=[(&#x27;SCL&#x27;, StandardScaler()),\n",
       "                                       (&#x27;SVM&#x27;,\n",
       "                                        SVC(probability=True,\n",
       "                                            random_state=23))]),\n",
       "             param_grid={&#x27;SVM__C&#x27;: array([1.00000000e-03, 5.56444444e-01, 1.11188889e+00, 1.66733333e+00,\n",
       "       2.22277778e+00, 2.77822222e+00, 3.33366667e+00, 3.88911111e+00,\n",
       "       4.44455556e+00, 5.00000000e+00]),\n",
       "                         &#x27;SVM__decision_function_shape&#x27;: [&#x27;ovo&#x27;, &#x27;ovr&#x27;]},\n",
       "             scoring=&#x27;neg_log_loss&#x27;, verbose=2)</pre><b>In a Jupyter environment, please rerun this cell to show the HTML representation or trust the notebook. <br />On GitHub, the HTML representation is unable to render, please try loading this page with nbviewer.org.</b></div><div class=\"sk-container\" hidden><div class=\"sk-item sk-dashed-wrapped\"><div class=\"sk-label-container\"><div class=\"sk-label sk-toggleable\"><input class=\"sk-toggleable__control sk-hidden--visually\" id=\"sk-estimator-id-34\" type=\"checkbox\" ><label for=\"sk-estimator-id-34\" class=\"sk-toggleable__label sk-toggleable__label-arrow\">GridSearchCV</label><div class=\"sk-toggleable__content\"><pre>GridSearchCV(cv=StratifiedKFold(n_splits=5, random_state=23, shuffle=True),\n",
       "             estimator=Pipeline(steps=[(&#x27;SCL&#x27;, StandardScaler()),\n",
       "                                       (&#x27;SVM&#x27;,\n",
       "                                        SVC(probability=True,\n",
       "                                            random_state=23))]),\n",
       "             param_grid={&#x27;SVM__C&#x27;: array([1.00000000e-03, 5.56444444e-01, 1.11188889e+00, 1.66733333e+00,\n",
       "       2.22277778e+00, 2.77822222e+00, 3.33366667e+00, 3.88911111e+00,\n",
       "       4.44455556e+00, 5.00000000e+00]),\n",
       "                         &#x27;SVM__decision_function_shape&#x27;: [&#x27;ovo&#x27;, &#x27;ovr&#x27;]},\n",
       "             scoring=&#x27;neg_log_loss&#x27;, verbose=2)</pre></div></div></div><div class=\"sk-parallel\"><div class=\"sk-parallel-item\"><div class=\"sk-item\"><div class=\"sk-label-container\"><div class=\"sk-label sk-toggleable\"><input class=\"sk-toggleable__control sk-hidden--visually\" id=\"sk-estimator-id-35\" type=\"checkbox\" ><label for=\"sk-estimator-id-35\" class=\"sk-toggleable__label sk-toggleable__label-arrow\">estimator: Pipeline</label><div class=\"sk-toggleable__content\"><pre>Pipeline(steps=[(&#x27;SCL&#x27;, StandardScaler()),\n",
       "                (&#x27;SVM&#x27;, SVC(probability=True, random_state=23))])</pre></div></div></div><div class=\"sk-serial\"><div class=\"sk-item\"><div class=\"sk-serial\"><div class=\"sk-item\"><div class=\"sk-estimator sk-toggleable\"><input class=\"sk-toggleable__control sk-hidden--visually\" id=\"sk-estimator-id-36\" type=\"checkbox\" ><label for=\"sk-estimator-id-36\" class=\"sk-toggleable__label sk-toggleable__label-arrow\">StandardScaler</label><div class=\"sk-toggleable__content\"><pre>StandardScaler()</pre></div></div></div><div class=\"sk-item\"><div class=\"sk-estimator sk-toggleable\"><input class=\"sk-toggleable__control sk-hidden--visually\" id=\"sk-estimator-id-37\" type=\"checkbox\" ><label for=\"sk-estimator-id-37\" class=\"sk-toggleable__label sk-toggleable__label-arrow\">SVC</label><div class=\"sk-toggleable__content\"><pre>SVC(probability=True, random_state=23)</pre></div></div></div></div></div></div></div></div></div></div></div></div>"
      ],
      "text/plain": [
       "GridSearchCV(cv=StratifiedKFold(n_splits=5, random_state=23, shuffle=True),\n",
       "             estimator=Pipeline(steps=[('SCL', StandardScaler()),\n",
       "                                       ('SVM',\n",
       "                                        SVC(probability=True,\n",
       "                                            random_state=23))]),\n",
       "             param_grid={'SVM__C': array([1.00000000e-03, 5.56444444e-01, 1.11188889e+00, 1.66733333e+00,\n",
       "       2.22277778e+00, 2.77822222e+00, 3.33366667e+00, 3.88911111e+00,\n",
       "       4.44455556e+00, 5.00000000e+00]),\n",
       "                         'SVM__decision_function_shape': ['ovo', 'ovr']},\n",
       "             scoring='neg_log_loss', verbose=2)"
      ]
     },
     "execution_count": 38,
     "metadata": {},
     "output_type": "execute_result"
    }
   ],
   "source": [
    "kfold=StratifiedKFold(n_splits=5,shuffle=True,random_state=23)\n",
    "params={'SVM__C':np.linspace(0.001,5,10),'SVM__decision_function_shape':['ovo','ovr'],}\n",
    "gcv= GridSearchCV(pipe,param_grid=params,cv=kfold,scoring='neg_log_loss',verbose=2)\n",
    "gcv.fit(X,y)"
   ]
  },
  {
   "cell_type": "code",
   "execution_count": 39,
   "id": "934d960e",
   "metadata": {},
   "outputs": [
    {
     "name": "stdout",
     "output_type": "stream",
     "text": [
      "best parameter : {'SVM__C': 5.0, 'SVM__decision_function_shape': 'ovo'}\n",
      "best score : -0.4199974665829223\n"
     ]
    }
   ],
   "source": [
    "print(\"best parameter :\",gcv.best_params_)\n",
    "print(\"best score :\",gcv.best_score_)"
   ]
  },
  {
   "cell_type": "code",
   "execution_count": 40,
   "id": "575e44a6",
   "metadata": {},
   "outputs": [],
   "source": [
    "## USing minmaxscaler"
   ]
  },
  {
   "cell_type": "code",
   "execution_count": 41,
   "id": "4df4052a",
   "metadata": {},
   "outputs": [
    {
     "name": "stdout",
     "output_type": "stream",
     "text": [
      "{'memory': None, 'steps': [('SCL', MinMaxScaler()), ('SVM', SVC(probability=True, random_state=23))], 'verbose': False, 'SCL': MinMaxScaler(), 'SVM': SVC(probability=True, random_state=23), 'SCL__clip': False, 'SCL__copy': True, 'SCL__feature_range': (0, 1), 'SVM__C': 1.0, 'SVM__break_ties': False, 'SVM__cache_size': 200, 'SVM__class_weight': None, 'SVM__coef0': 0.0, 'SVM__decision_function_shape': 'ovr', 'SVM__degree': 3, 'SVM__gamma': 'scale', 'SVM__kernel': 'rbf', 'SVM__max_iter': -1, 'SVM__probability': True, 'SVM__random_state': 23, 'SVM__shrinking': True, 'SVM__tol': 0.001, 'SVM__verbose': False}\n"
     ]
    }
   ],
   "source": [
    "scaler=MinMaxScaler()\n",
    "pipe=Pipeline([('SCL',scaler),('SVM',svm)])\n",
    "print(pipe.get_params())"
   ]
  },
  {
   "cell_type": "code",
   "execution_count": 42,
   "id": "8edd6d85",
   "metadata": {
    "scrolled": true
   },
   "outputs": [
    {
     "name": "stdout",
     "output_type": "stream",
     "text": [
      "Fitting 5 folds for each of 20 candidates, totalling 100 fits\n",
      "[CV] END .....SVM__C=0.001, SVM__decision_function_shape=ovo; total time=   0.1s\n",
      "[CV] END .....SVM__C=0.001, SVM__decision_function_shape=ovo; total time=   0.1s\n",
      "[CV] END .....SVM__C=0.001, SVM__decision_function_shape=ovo; total time=   0.0s\n",
      "[CV] END .....SVM__C=0.001, SVM__decision_function_shape=ovo; total time=   0.0s\n",
      "[CV] END .....SVM__C=0.001, SVM__decision_function_shape=ovo; total time=   0.0s\n",
      "[CV] END .....SVM__C=0.001, SVM__decision_function_shape=ovr; total time=   0.0s\n",
      "[CV] END .....SVM__C=0.001, SVM__decision_function_shape=ovr; total time=   0.0s\n",
      "[CV] END .....SVM__C=0.001, SVM__decision_function_shape=ovr; total time=   0.0s\n",
      "[CV] END .....SVM__C=0.001, SVM__decision_function_shape=ovr; total time=   0.0s\n",
      "[CV] END .....SVM__C=0.001, SVM__decision_function_shape=ovr; total time=   0.0s\n",
      "[CV] END SVM__C=0.5564444444444444, SVM__decision_function_shape=ovo; total time=   0.0s\n",
      "[CV] END SVM__C=0.5564444444444444, SVM__decision_function_shape=ovo; total time=   0.0s\n",
      "[CV] END SVM__C=0.5564444444444444, SVM__decision_function_shape=ovo; total time=   0.0s\n",
      "[CV] END SVM__C=0.5564444444444444, SVM__decision_function_shape=ovo; total time=   0.0s\n",
      "[CV] END SVM__C=0.5564444444444444, SVM__decision_function_shape=ovo; total time=   0.0s\n",
      "[CV] END SVM__C=0.5564444444444444, SVM__decision_function_shape=ovr; total time=   0.0s\n",
      "[CV] END SVM__C=0.5564444444444444, SVM__decision_function_shape=ovr; total time=   0.0s\n",
      "[CV] END SVM__C=0.5564444444444444, SVM__decision_function_shape=ovr; total time=   0.0s\n",
      "[CV] END SVM__C=0.5564444444444444, SVM__decision_function_shape=ovr; total time=   0.0s\n",
      "[CV] END SVM__C=0.5564444444444444, SVM__decision_function_shape=ovr; total time=   0.0s\n",
      "[CV] END SVM__C=1.1118888888888887, SVM__decision_function_shape=ovo; total time=   0.0s\n",
      "[CV] END SVM__C=1.1118888888888887, SVM__decision_function_shape=ovo; total time=   0.0s\n",
      "[CV] END SVM__C=1.1118888888888887, SVM__decision_function_shape=ovo; total time=   0.0s\n",
      "[CV] END SVM__C=1.1118888888888887, SVM__decision_function_shape=ovo; total time=   0.0s\n",
      "[CV] END SVM__C=1.1118888888888887, SVM__decision_function_shape=ovo; total time=   0.0s\n",
      "[CV] END SVM__C=1.1118888888888887, SVM__decision_function_shape=ovr; total time=   0.0s\n",
      "[CV] END SVM__C=1.1118888888888887, SVM__decision_function_shape=ovr; total time=   0.0s\n",
      "[CV] END SVM__C=1.1118888888888887, SVM__decision_function_shape=ovr; total time=   0.0s\n",
      "[CV] END SVM__C=1.1118888888888887, SVM__decision_function_shape=ovr; total time=   0.0s\n",
      "[CV] END SVM__C=1.1118888888888887, SVM__decision_function_shape=ovr; total time=   0.0s\n",
      "[CV] END SVM__C=1.6673333333333331, SVM__decision_function_shape=ovo; total time=   0.0s\n",
      "[CV] END SVM__C=1.6673333333333331, SVM__decision_function_shape=ovo; total time=   0.0s\n",
      "[CV] END SVM__C=1.6673333333333331, SVM__decision_function_shape=ovo; total time=   0.0s\n",
      "[CV] END SVM__C=1.6673333333333331, SVM__decision_function_shape=ovo; total time=   0.0s\n",
      "[CV] END SVM__C=1.6673333333333331, SVM__decision_function_shape=ovo; total time=   0.0s\n",
      "[CV] END SVM__C=1.6673333333333331, SVM__decision_function_shape=ovr; total time=   0.0s\n",
      "[CV] END SVM__C=1.6673333333333331, SVM__decision_function_shape=ovr; total time=   0.0s\n",
      "[CV] END SVM__C=1.6673333333333331, SVM__decision_function_shape=ovr; total time=   0.0s\n",
      "[CV] END SVM__C=1.6673333333333331, SVM__decision_function_shape=ovr; total time=   0.0s\n",
      "[CV] END SVM__C=1.6673333333333331, SVM__decision_function_shape=ovr; total time=   0.0s\n",
      "[CV] END SVM__C=2.2227777777777775, SVM__decision_function_shape=ovo; total time=   0.0s\n",
      "[CV] END SVM__C=2.2227777777777775, SVM__decision_function_shape=ovo; total time=   0.0s\n",
      "[CV] END SVM__C=2.2227777777777775, SVM__decision_function_shape=ovo; total time=   0.0s\n",
      "[CV] END SVM__C=2.2227777777777775, SVM__decision_function_shape=ovo; total time=   0.0s\n",
      "[CV] END SVM__C=2.2227777777777775, SVM__decision_function_shape=ovo; total time=   0.0s\n",
      "[CV] END SVM__C=2.2227777777777775, SVM__decision_function_shape=ovr; total time=   0.0s\n",
      "[CV] END SVM__C=2.2227777777777775, SVM__decision_function_shape=ovr; total time=   0.0s\n",
      "[CV] END SVM__C=2.2227777777777775, SVM__decision_function_shape=ovr; total time=   0.0s\n",
      "[CV] END SVM__C=2.2227777777777775, SVM__decision_function_shape=ovr; total time=   0.0s\n",
      "[CV] END SVM__C=2.2227777777777775, SVM__decision_function_shape=ovr; total time=   0.0s\n",
      "[CV] END SVM__C=2.778222222222222, SVM__decision_function_shape=ovo; total time=   0.0s\n",
      "[CV] END SVM__C=2.778222222222222, SVM__decision_function_shape=ovo; total time=   0.0s\n",
      "[CV] END SVM__C=2.778222222222222, SVM__decision_function_shape=ovo; total time=   0.0s\n",
      "[CV] END SVM__C=2.778222222222222, SVM__decision_function_shape=ovo; total time=   0.0s\n",
      "[CV] END SVM__C=2.778222222222222, SVM__decision_function_shape=ovo; total time=   0.0s\n",
      "[CV] END SVM__C=2.778222222222222, SVM__decision_function_shape=ovr; total time=   0.0s\n",
      "[CV] END SVM__C=2.778222222222222, SVM__decision_function_shape=ovr; total time=   0.0s\n",
      "[CV] END SVM__C=2.778222222222222, SVM__decision_function_shape=ovr; total time=   0.0s\n",
      "[CV] END SVM__C=2.778222222222222, SVM__decision_function_shape=ovr; total time=   0.0s\n",
      "[CV] END SVM__C=2.778222222222222, SVM__decision_function_shape=ovr; total time=   0.0s\n",
      "[CV] END SVM__C=3.3336666666666663, SVM__decision_function_shape=ovo; total time=   0.0s\n",
      "[CV] END SVM__C=3.3336666666666663, SVM__decision_function_shape=ovo; total time=   0.0s\n",
      "[CV] END SVM__C=3.3336666666666663, SVM__decision_function_shape=ovo; total time=   0.0s\n",
      "[CV] END SVM__C=3.3336666666666663, SVM__decision_function_shape=ovo; total time=   0.0s\n",
      "[CV] END SVM__C=3.3336666666666663, SVM__decision_function_shape=ovo; total time=   0.0s\n",
      "[CV] END SVM__C=3.3336666666666663, SVM__decision_function_shape=ovr; total time=   0.0s\n",
      "[CV] END SVM__C=3.3336666666666663, SVM__decision_function_shape=ovr; total time=   0.0s\n",
      "[CV] END SVM__C=3.3336666666666663, SVM__decision_function_shape=ovr; total time=   0.0s\n",
      "[CV] END SVM__C=3.3336666666666663, SVM__decision_function_shape=ovr; total time=   0.0s\n",
      "[CV] END SVM__C=3.3336666666666663, SVM__decision_function_shape=ovr; total time=   0.0s\n",
      "[CV] END SVM__C=3.8891111111111107, SVM__decision_function_shape=ovo; total time=   0.0s\n",
      "[CV] END SVM__C=3.8891111111111107, SVM__decision_function_shape=ovo; total time=   0.0s\n",
      "[CV] END SVM__C=3.8891111111111107, SVM__decision_function_shape=ovo; total time=   0.0s\n",
      "[CV] END SVM__C=3.8891111111111107, SVM__decision_function_shape=ovo; total time=   0.0s\n",
      "[CV] END SVM__C=3.8891111111111107, SVM__decision_function_shape=ovo; total time=   0.0s\n",
      "[CV] END SVM__C=3.8891111111111107, SVM__decision_function_shape=ovr; total time=   0.0s\n",
      "[CV] END SVM__C=3.8891111111111107, SVM__decision_function_shape=ovr; total time=   0.0s\n",
      "[CV] END SVM__C=3.8891111111111107, SVM__decision_function_shape=ovr; total time=   0.0s\n",
      "[CV] END SVM__C=3.8891111111111107, SVM__decision_function_shape=ovr; total time=   0.0s\n",
      "[CV] END SVM__C=3.8891111111111107, SVM__decision_function_shape=ovr; total time=   0.0s\n",
      "[CV] END SVM__C=4.444555555555556, SVM__decision_function_shape=ovo; total time=   0.0s\n",
      "[CV] END SVM__C=4.444555555555556, SVM__decision_function_shape=ovo; total time=   0.0s\n",
      "[CV] END SVM__C=4.444555555555556, SVM__decision_function_shape=ovo; total time=   0.0s\n",
      "[CV] END SVM__C=4.444555555555556, SVM__decision_function_shape=ovo; total time=   0.0s\n",
      "[CV] END SVM__C=4.444555555555556, SVM__decision_function_shape=ovo; total time=   0.0s\n",
      "[CV] END SVM__C=4.444555555555556, SVM__decision_function_shape=ovr; total time=   0.0s\n",
      "[CV] END SVM__C=4.444555555555556, SVM__decision_function_shape=ovr; total time=   0.0s\n",
      "[CV] END SVM__C=4.444555555555556, SVM__decision_function_shape=ovr; total time=   0.0s\n",
      "[CV] END SVM__C=4.444555555555556, SVM__decision_function_shape=ovr; total time=   0.0s\n",
      "[CV] END SVM__C=4.444555555555556, SVM__decision_function_shape=ovr; total time=   0.0s\n",
      "[CV] END .......SVM__C=5.0, SVM__decision_function_shape=ovo; total time=   0.0s\n",
      "[CV] END .......SVM__C=5.0, SVM__decision_function_shape=ovo; total time=   0.0s\n",
      "[CV] END .......SVM__C=5.0, SVM__decision_function_shape=ovo; total time=   0.0s\n",
      "[CV] END .......SVM__C=5.0, SVM__decision_function_shape=ovo; total time=   0.0s\n",
      "[CV] END .......SVM__C=5.0, SVM__decision_function_shape=ovo; total time=   0.0s\n",
      "[CV] END .......SVM__C=5.0, SVM__decision_function_shape=ovr; total time=   0.0s\n",
      "[CV] END .......SVM__C=5.0, SVM__decision_function_shape=ovr; total time=   0.0s\n",
      "[CV] END .......SVM__C=5.0, SVM__decision_function_shape=ovr; total time=   0.0s\n"
     ]
    },
    {
     "name": "stdout",
     "output_type": "stream",
     "text": [
      "[CV] END .......SVM__C=5.0, SVM__decision_function_shape=ovr; total time=   0.0s\n",
      "[CV] END .......SVM__C=5.0, SVM__decision_function_shape=ovr; total time=   0.0s\n"
     ]
    },
    {
     "data": {
      "text/html": [
       "<style>#sk-container-id-13 {color: black;}#sk-container-id-13 pre{padding: 0;}#sk-container-id-13 div.sk-toggleable {background-color: white;}#sk-container-id-13 label.sk-toggleable__label {cursor: pointer;display: block;width: 100%;margin-bottom: 0;padding: 0.3em;box-sizing: border-box;text-align: center;}#sk-container-id-13 label.sk-toggleable__label-arrow:before {content: \"▸\";float: left;margin-right: 0.25em;color: #696969;}#sk-container-id-13 label.sk-toggleable__label-arrow:hover:before {color: black;}#sk-container-id-13 div.sk-estimator:hover label.sk-toggleable__label-arrow:before {color: black;}#sk-container-id-13 div.sk-toggleable__content {max-height: 0;max-width: 0;overflow: hidden;text-align: left;background-color: #f0f8ff;}#sk-container-id-13 div.sk-toggleable__content pre {margin: 0.2em;color: black;border-radius: 0.25em;background-color: #f0f8ff;}#sk-container-id-13 input.sk-toggleable__control:checked~div.sk-toggleable__content {max-height: 200px;max-width: 100%;overflow: auto;}#sk-container-id-13 input.sk-toggleable__control:checked~label.sk-toggleable__label-arrow:before {content: \"▾\";}#sk-container-id-13 div.sk-estimator input.sk-toggleable__control:checked~label.sk-toggleable__label {background-color: #d4ebff;}#sk-container-id-13 div.sk-label input.sk-toggleable__control:checked~label.sk-toggleable__label {background-color: #d4ebff;}#sk-container-id-13 input.sk-hidden--visually {border: 0;clip: rect(1px 1px 1px 1px);clip: rect(1px, 1px, 1px, 1px);height: 1px;margin: -1px;overflow: hidden;padding: 0;position: absolute;width: 1px;}#sk-container-id-13 div.sk-estimator {font-family: monospace;background-color: #f0f8ff;border: 1px dotted black;border-radius: 0.25em;box-sizing: border-box;margin-bottom: 0.5em;}#sk-container-id-13 div.sk-estimator:hover {background-color: #d4ebff;}#sk-container-id-13 div.sk-parallel-item::after {content: \"\";width: 100%;border-bottom: 1px solid gray;flex-grow: 1;}#sk-container-id-13 div.sk-label:hover label.sk-toggleable__label {background-color: #d4ebff;}#sk-container-id-13 div.sk-serial::before {content: \"\";position: absolute;border-left: 1px solid gray;box-sizing: border-box;top: 0;bottom: 0;left: 50%;z-index: 0;}#sk-container-id-13 div.sk-serial {display: flex;flex-direction: column;align-items: center;background-color: white;padding-right: 0.2em;padding-left: 0.2em;position: relative;}#sk-container-id-13 div.sk-item {position: relative;z-index: 1;}#sk-container-id-13 div.sk-parallel {display: flex;align-items: stretch;justify-content: center;background-color: white;position: relative;}#sk-container-id-13 div.sk-item::before, #sk-container-id-13 div.sk-parallel-item::before {content: \"\";position: absolute;border-left: 1px solid gray;box-sizing: border-box;top: 0;bottom: 0;left: 50%;z-index: -1;}#sk-container-id-13 div.sk-parallel-item {display: flex;flex-direction: column;z-index: 1;position: relative;background-color: white;}#sk-container-id-13 div.sk-parallel-item:first-child::after {align-self: flex-end;width: 50%;}#sk-container-id-13 div.sk-parallel-item:last-child::after {align-self: flex-start;width: 50%;}#sk-container-id-13 div.sk-parallel-item:only-child::after {width: 0;}#sk-container-id-13 div.sk-dashed-wrapped {border: 1px dashed gray;margin: 0 0.4em 0.5em 0.4em;box-sizing: border-box;padding-bottom: 0.4em;background-color: white;}#sk-container-id-13 div.sk-label label {font-family: monospace;font-weight: bold;display: inline-block;line-height: 1.2em;}#sk-container-id-13 div.sk-label-container {text-align: center;}#sk-container-id-13 div.sk-container {/* jupyter's `normalize.less` sets `[hidden] { display: none; }` but bootstrap.min.css set `[hidden] { display: none !important; }` so we also need the `!important` here to be able to override the default hidden behavior on the sphinx rendered scikit-learn.org. See: https://github.com/scikit-learn/scikit-learn/issues/21755 */display: inline-block !important;position: relative;}#sk-container-id-13 div.sk-text-repr-fallback {display: none;}</style><div id=\"sk-container-id-13\" class=\"sk-top-container\"><div class=\"sk-text-repr-fallback\"><pre>GridSearchCV(cv=StratifiedKFold(n_splits=5, random_state=23, shuffle=True),\n",
       "             estimator=Pipeline(steps=[(&#x27;SCL&#x27;, MinMaxScaler()),\n",
       "                                       (&#x27;SVM&#x27;,\n",
       "                                        SVC(probability=True,\n",
       "                                            random_state=23))]),\n",
       "             param_grid={&#x27;SVM__C&#x27;: array([1.00000000e-03, 5.56444444e-01, 1.11188889e+00, 1.66733333e+00,\n",
       "       2.22277778e+00, 2.77822222e+00, 3.33366667e+00, 3.88911111e+00,\n",
       "       4.44455556e+00, 5.00000000e+00]),\n",
       "                         &#x27;SVM__decision_function_shape&#x27;: [&#x27;ovo&#x27;, &#x27;ovr&#x27;]},\n",
       "             scoring=&#x27;neg_log_loss&#x27;, verbose=2)</pre><b>In a Jupyter environment, please rerun this cell to show the HTML representation or trust the notebook. <br />On GitHub, the HTML representation is unable to render, please try loading this page with nbviewer.org.</b></div><div class=\"sk-container\" hidden><div class=\"sk-item sk-dashed-wrapped\"><div class=\"sk-label-container\"><div class=\"sk-label sk-toggleable\"><input class=\"sk-toggleable__control sk-hidden--visually\" id=\"sk-estimator-id-38\" type=\"checkbox\" ><label for=\"sk-estimator-id-38\" class=\"sk-toggleable__label sk-toggleable__label-arrow\">GridSearchCV</label><div class=\"sk-toggleable__content\"><pre>GridSearchCV(cv=StratifiedKFold(n_splits=5, random_state=23, shuffle=True),\n",
       "             estimator=Pipeline(steps=[(&#x27;SCL&#x27;, MinMaxScaler()),\n",
       "                                       (&#x27;SVM&#x27;,\n",
       "                                        SVC(probability=True,\n",
       "                                            random_state=23))]),\n",
       "             param_grid={&#x27;SVM__C&#x27;: array([1.00000000e-03, 5.56444444e-01, 1.11188889e+00, 1.66733333e+00,\n",
       "       2.22277778e+00, 2.77822222e+00, 3.33366667e+00, 3.88911111e+00,\n",
       "       4.44455556e+00, 5.00000000e+00]),\n",
       "                         &#x27;SVM__decision_function_shape&#x27;: [&#x27;ovo&#x27;, &#x27;ovr&#x27;]},\n",
       "             scoring=&#x27;neg_log_loss&#x27;, verbose=2)</pre></div></div></div><div class=\"sk-parallel\"><div class=\"sk-parallel-item\"><div class=\"sk-item\"><div class=\"sk-label-container\"><div class=\"sk-label sk-toggleable\"><input class=\"sk-toggleable__control sk-hidden--visually\" id=\"sk-estimator-id-39\" type=\"checkbox\" ><label for=\"sk-estimator-id-39\" class=\"sk-toggleable__label sk-toggleable__label-arrow\">estimator: Pipeline</label><div class=\"sk-toggleable__content\"><pre>Pipeline(steps=[(&#x27;SCL&#x27;, MinMaxScaler()),\n",
       "                (&#x27;SVM&#x27;, SVC(probability=True, random_state=23))])</pre></div></div></div><div class=\"sk-serial\"><div class=\"sk-item\"><div class=\"sk-serial\"><div class=\"sk-item\"><div class=\"sk-estimator sk-toggleable\"><input class=\"sk-toggleable__control sk-hidden--visually\" id=\"sk-estimator-id-40\" type=\"checkbox\" ><label for=\"sk-estimator-id-40\" class=\"sk-toggleable__label sk-toggleable__label-arrow\">MinMaxScaler</label><div class=\"sk-toggleable__content\"><pre>MinMaxScaler()</pre></div></div></div><div class=\"sk-item\"><div class=\"sk-estimator sk-toggleable\"><input class=\"sk-toggleable__control sk-hidden--visually\" id=\"sk-estimator-id-41\" type=\"checkbox\" ><label for=\"sk-estimator-id-41\" class=\"sk-toggleable__label sk-toggleable__label-arrow\">SVC</label><div class=\"sk-toggleable__content\"><pre>SVC(probability=True, random_state=23)</pre></div></div></div></div></div></div></div></div></div></div></div></div>"
      ],
      "text/plain": [
       "GridSearchCV(cv=StratifiedKFold(n_splits=5, random_state=23, shuffle=True),\n",
       "             estimator=Pipeline(steps=[('SCL', MinMaxScaler()),\n",
       "                                       ('SVM',\n",
       "                                        SVC(probability=True,\n",
       "                                            random_state=23))]),\n",
       "             param_grid={'SVM__C': array([1.00000000e-03, 5.56444444e-01, 1.11188889e+00, 1.66733333e+00,\n",
       "       2.22277778e+00, 2.77822222e+00, 3.33366667e+00, 3.88911111e+00,\n",
       "       4.44455556e+00, 5.00000000e+00]),\n",
       "                         'SVM__decision_function_shape': ['ovo', 'ovr']},\n",
       "             scoring='neg_log_loss', verbose=2)"
      ]
     },
     "execution_count": 42,
     "metadata": {},
     "output_type": "execute_result"
    }
   ],
   "source": [
    "kfold=StratifiedKFold(n_splits=5,shuffle=True,random_state=23)\n",
    "params={'SVM__C':np.linspace(0.001,5,10),'SVM__decision_function_shape':['ovo','ovr'],}\n",
    "gcv= GridSearchCV(pipe,param_grid=params,cv=kfold,scoring='neg_log_loss',verbose=2)\n",
    "gcv.fit(X,y)"
   ]
  },
  {
   "cell_type": "code",
   "execution_count": 43,
   "id": "42462fdc",
   "metadata": {},
   "outputs": [
    {
     "name": "stdout",
     "output_type": "stream",
     "text": [
      "best parameter : {'SVM__C': 5.0, 'SVM__decision_function_shape': 'ovo'}\n",
      "best score : -0.3808710704049207\n"
     ]
    }
   ],
   "source": [
    "print(\"best parameter :\",gcv.best_params_)\n",
    "print(\"best score :\",gcv.best_score_)"
   ]
  },
  {
   "cell_type": "code",
   "execution_count": null,
   "id": "bdd5f016",
   "metadata": {},
   "outputs": [],
   "source": []
  }
 ],
 "metadata": {
  "kernelspec": {
   "display_name": "Python 3 (ipykernel)",
   "language": "python",
   "name": "python3"
  },
  "language_info": {
   "codemirror_mode": {
    "name": "ipython",
    "version": 3
   },
   "file_extension": ".py",
   "mimetype": "text/x-python",
   "name": "python",
   "nbconvert_exporter": "python",
   "pygments_lexer": "ipython3",
   "version": "3.11.4"
  }
 },
 "nbformat": 4,
 "nbformat_minor": 5
}
