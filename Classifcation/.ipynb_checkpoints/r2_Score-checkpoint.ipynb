{
 "cells": [
  {
   "cell_type": "code",
   "execution_count": 1,
   "id": "f941252a",
   "metadata": {},
   "outputs": [],
   "source": [
    "import pandas as pd\n",
    "from sklearn.model_selection import train_test_split\n",
    "from sklearn.model_selection import KFold,cross_val_score\n",
    "from sklearn.linear_model  import ElasticNet\n",
    "from sklearn.metrics import r2_score\n",
    "import numpy as np"
   ]
  },
  {
   "cell_type": "code",
   "execution_count": 2,
   "id": "07e418da",
   "metadata": {},
   "outputs": [],
   "source": [
    "boston = pd.read_csv(\"Boston.csv\")"
   ]
  },
  {
   "cell_type": "code",
   "execution_count": 3,
   "id": "e5458353",
   "metadata": {},
   "outputs": [],
   "source": [
    "X = boston.drop(\"medv\",axis =1)\n",
    "y = boston['medv']"
   ]
  },
  {
   "cell_type": "code",
   "execution_count": 4,
   "id": "bf39b955",
   "metadata": {},
   "outputs": [],
   "source": [
    "# Train,Test Split\n",
    "X_train,X_test,y_train,y_test = train_test_split(X,y,test_size=0.15,random_state=23)"
   ]
  },
  {
   "cell_type": "code",
   "execution_count": 11,
   "id": "345b698f",
   "metadata": {},
   "outputs": [
    {
     "name": "stdout",
     "output_type": "stream",
     "text": [
      "0.6662431996003855\n"
     ]
    }
   ],
   "source": [
    "elastic= ElasticNet()\n",
    "elastic.fit(X_train,y_train)\n",
    "y_pred = elastic.predict(X_test)\n",
    "print(r2_score(y_test,y_pred))"
   ]
  },
  {
   "cell_type": "code",
   "execution_count": 5,
   "id": "d8ef569a",
   "metadata": {},
   "outputs": [],
   "source": [
    "kfold = KFold(n_splits=5,shuffle=True,random_state=23)"
   ]
  },
  {
   "cell_type": "code",
   "execution_count": 17,
   "id": "46eee36c",
   "metadata": {},
   "outputs": [],
   "source": [
    "from sklearn.model_selection import GridSearchCV\n",
    "l1_ratio = np.linspace(0.001,0.999,20)\n",
    "alpha=np.linspace(0.001,4,20)\n",
    "params = {'alpha':alpha ,'l1_ratio':l1_ratio}\n",
    "gcv = GridSearchCV(ElasticNet(),param_grid=params,cv = kfold,scoring = 'r2')\n"
   ]
  },
  {
   "cell_type": "code",
   "execution_count": 18,
   "id": "672ba0d0",
   "metadata": {},
   "outputs": [
    {
     "data": {
      "text/html": [
       "<style>#sk-container-id-2 {color: black;}#sk-container-id-2 pre{padding: 0;}#sk-container-id-2 div.sk-toggleable {background-color: white;}#sk-container-id-2 label.sk-toggleable__label {cursor: pointer;display: block;width: 100%;margin-bottom: 0;padding: 0.3em;box-sizing: border-box;text-align: center;}#sk-container-id-2 label.sk-toggleable__label-arrow:before {content: \"▸\";float: left;margin-right: 0.25em;color: #696969;}#sk-container-id-2 label.sk-toggleable__label-arrow:hover:before {color: black;}#sk-container-id-2 div.sk-estimator:hover label.sk-toggleable__label-arrow:before {color: black;}#sk-container-id-2 div.sk-toggleable__content {max-height: 0;max-width: 0;overflow: hidden;text-align: left;background-color: #f0f8ff;}#sk-container-id-2 div.sk-toggleable__content pre {margin: 0.2em;color: black;border-radius: 0.25em;background-color: #f0f8ff;}#sk-container-id-2 input.sk-toggleable__control:checked~div.sk-toggleable__content {max-height: 200px;max-width: 100%;overflow: auto;}#sk-container-id-2 input.sk-toggleable__control:checked~label.sk-toggleable__label-arrow:before {content: \"▾\";}#sk-container-id-2 div.sk-estimator input.sk-toggleable__control:checked~label.sk-toggleable__label {background-color: #d4ebff;}#sk-container-id-2 div.sk-label input.sk-toggleable__control:checked~label.sk-toggleable__label {background-color: #d4ebff;}#sk-container-id-2 input.sk-hidden--visually {border: 0;clip: rect(1px 1px 1px 1px);clip: rect(1px, 1px, 1px, 1px);height: 1px;margin: -1px;overflow: hidden;padding: 0;position: absolute;width: 1px;}#sk-container-id-2 div.sk-estimator {font-family: monospace;background-color: #f0f8ff;border: 1px dotted black;border-radius: 0.25em;box-sizing: border-box;margin-bottom: 0.5em;}#sk-container-id-2 div.sk-estimator:hover {background-color: #d4ebff;}#sk-container-id-2 div.sk-parallel-item::after {content: \"\";width: 100%;border-bottom: 1px solid gray;flex-grow: 1;}#sk-container-id-2 div.sk-label:hover label.sk-toggleable__label {background-color: #d4ebff;}#sk-container-id-2 div.sk-serial::before {content: \"\";position: absolute;border-left: 1px solid gray;box-sizing: border-box;top: 0;bottom: 0;left: 50%;z-index: 0;}#sk-container-id-2 div.sk-serial {display: flex;flex-direction: column;align-items: center;background-color: white;padding-right: 0.2em;padding-left: 0.2em;position: relative;}#sk-container-id-2 div.sk-item {position: relative;z-index: 1;}#sk-container-id-2 div.sk-parallel {display: flex;align-items: stretch;justify-content: center;background-color: white;position: relative;}#sk-container-id-2 div.sk-item::before, #sk-container-id-2 div.sk-parallel-item::before {content: \"\";position: absolute;border-left: 1px solid gray;box-sizing: border-box;top: 0;bottom: 0;left: 50%;z-index: -1;}#sk-container-id-2 div.sk-parallel-item {display: flex;flex-direction: column;z-index: 1;position: relative;background-color: white;}#sk-container-id-2 div.sk-parallel-item:first-child::after {align-self: flex-end;width: 50%;}#sk-container-id-2 div.sk-parallel-item:last-child::after {align-self: flex-start;width: 50%;}#sk-container-id-2 div.sk-parallel-item:only-child::after {width: 0;}#sk-container-id-2 div.sk-dashed-wrapped {border: 1px dashed gray;margin: 0 0.4em 0.5em 0.4em;box-sizing: border-box;padding-bottom: 0.4em;background-color: white;}#sk-container-id-2 div.sk-label label {font-family: monospace;font-weight: bold;display: inline-block;line-height: 1.2em;}#sk-container-id-2 div.sk-label-container {text-align: center;}#sk-container-id-2 div.sk-container {/* jupyter's `normalize.less` sets `[hidden] { display: none; }` but bootstrap.min.css set `[hidden] { display: none !important; }` so we also need the `!important` here to be able to override the default hidden behavior on the sphinx rendered scikit-learn.org. See: https://github.com/scikit-learn/scikit-learn/issues/21755 */display: inline-block !important;position: relative;}#sk-container-id-2 div.sk-text-repr-fallback {display: none;}</style><div id=\"sk-container-id-2\" class=\"sk-top-container\"><div class=\"sk-text-repr-fallback\"><pre>GridSearchCV(cv=KFold(n_splits=5, random_state=23, shuffle=True),\n",
       "             estimator=ElasticNet(),\n",
       "             param_grid={&#x27;alpha&#x27;: array([1.00000000e-03, 2.11473684e-01, 4.21947368e-01, 6.32421053e-01,\n",
       "       8.42894737e-01, 1.05336842e+00, 1.26384211e+00, 1.47431579e+00,\n",
       "       1.68478947e+00, 1.89526316e+00, 2.10573684e+00, 2.31621053e+00,\n",
       "       2.52668421e+00, 2.73715789e+00, 2.94763158e+00, 3.15810526e+00,\n",
       "       3.36857895e+00, 3.57905263e+00, 3.78952632e+00, 4.00000000e+00]),\n",
       "                         &#x27;l1_ratio&#x27;: array([0.001     , 0.05352632, 0.10605263, 0.15857895, 0.21110526,\n",
       "       0.26363158, 0.31615789, 0.36868421, 0.42121053, 0.47373684,\n",
       "       0.52626316, 0.57878947, 0.63131579, 0.68384211, 0.73636842,\n",
       "       0.78889474, 0.84142105, 0.89394737, 0.94647368, 0.999     ])},\n",
       "             scoring=&#x27;r2&#x27;)</pre><b>In a Jupyter environment, please rerun this cell to show the HTML representation or trust the notebook. <br />On GitHub, the HTML representation is unable to render, please try loading this page with nbviewer.org.</b></div><div class=\"sk-container\" hidden><div class=\"sk-item sk-dashed-wrapped\"><div class=\"sk-label-container\"><div class=\"sk-label sk-toggleable\"><input class=\"sk-toggleable__control sk-hidden--visually\" id=\"sk-estimator-id-4\" type=\"checkbox\" ><label for=\"sk-estimator-id-4\" class=\"sk-toggleable__label sk-toggleable__label-arrow\">GridSearchCV</label><div class=\"sk-toggleable__content\"><pre>GridSearchCV(cv=KFold(n_splits=5, random_state=23, shuffle=True),\n",
       "             estimator=ElasticNet(),\n",
       "             param_grid={&#x27;alpha&#x27;: array([1.00000000e-03, 2.11473684e-01, 4.21947368e-01, 6.32421053e-01,\n",
       "       8.42894737e-01, 1.05336842e+00, 1.26384211e+00, 1.47431579e+00,\n",
       "       1.68478947e+00, 1.89526316e+00, 2.10573684e+00, 2.31621053e+00,\n",
       "       2.52668421e+00, 2.73715789e+00, 2.94763158e+00, 3.15810526e+00,\n",
       "       3.36857895e+00, 3.57905263e+00, 3.78952632e+00, 4.00000000e+00]),\n",
       "                         &#x27;l1_ratio&#x27;: array([0.001     , 0.05352632, 0.10605263, 0.15857895, 0.21110526,\n",
       "       0.26363158, 0.31615789, 0.36868421, 0.42121053, 0.47373684,\n",
       "       0.52626316, 0.57878947, 0.63131579, 0.68384211, 0.73636842,\n",
       "       0.78889474, 0.84142105, 0.89394737, 0.94647368, 0.999     ])},\n",
       "             scoring=&#x27;r2&#x27;)</pre></div></div></div><div class=\"sk-parallel\"><div class=\"sk-parallel-item\"><div class=\"sk-item\"><div class=\"sk-label-container\"><div class=\"sk-label sk-toggleable\"><input class=\"sk-toggleable__control sk-hidden--visually\" id=\"sk-estimator-id-5\" type=\"checkbox\" ><label for=\"sk-estimator-id-5\" class=\"sk-toggleable__label sk-toggleable__label-arrow\">estimator: ElasticNet</label><div class=\"sk-toggleable__content\"><pre>ElasticNet()</pre></div></div></div><div class=\"sk-serial\"><div class=\"sk-item\"><div class=\"sk-estimator sk-toggleable\"><input class=\"sk-toggleable__control sk-hidden--visually\" id=\"sk-estimator-id-6\" type=\"checkbox\" ><label for=\"sk-estimator-id-6\" class=\"sk-toggleable__label sk-toggleable__label-arrow\">ElasticNet</label><div class=\"sk-toggleable__content\"><pre>ElasticNet()</pre></div></div></div></div></div></div></div></div></div></div>"
      ],
      "text/plain": [
       "GridSearchCV(cv=KFold(n_splits=5, random_state=23, shuffle=True),\n",
       "             estimator=ElasticNet(),\n",
       "             param_grid={'alpha': array([1.00000000e-03, 2.11473684e-01, 4.21947368e-01, 6.32421053e-01,\n",
       "       8.42894737e-01, 1.05336842e+00, 1.26384211e+00, 1.47431579e+00,\n",
       "       1.68478947e+00, 1.89526316e+00, 2.10573684e+00, 2.31621053e+00,\n",
       "       2.52668421e+00, 2.73715789e+00, 2.94763158e+00, 3.15810526e+00,\n",
       "       3.36857895e+00, 3.57905263e+00, 3.78952632e+00, 4.00000000e+00]),\n",
       "                         'l1_ratio': array([0.001     , 0.05352632, 0.10605263, 0.15857895, 0.21110526,\n",
       "       0.26363158, 0.31615789, 0.36868421, 0.42121053, 0.47373684,\n",
       "       0.52626316, 0.57878947, 0.63131579, 0.68384211, 0.73636842,\n",
       "       0.78889474, 0.84142105, 0.89394737, 0.94647368, 0.999     ])},\n",
       "             scoring='r2')"
      ]
     },
     "execution_count": 18,
     "metadata": {},
     "output_type": "execute_result"
    }
   ],
   "source": [
    "gcv.fit(X,y)"
   ]
  },
  {
   "cell_type": "code",
   "execution_count": 19,
   "id": "ba27d04b",
   "metadata": {},
   "outputs": [
    {
     "data": {
      "text/plain": [
       "{'alpha': 0.001, 'l1_ratio': 0.7363684210526316}"
      ]
     },
     "execution_count": 19,
     "metadata": {},
     "output_type": "execute_result"
    }
   ],
   "source": [
    "gcv.best_params_"
   ]
  },
  {
   "cell_type": "code",
   "execution_count": 20,
   "id": "2cc2ce2d",
   "metadata": {},
   "outputs": [
    {
     "data": {
      "text/plain": [
       "0.7186439370747995"
      ]
     },
     "execution_count": 20,
     "metadata": {},
     "output_type": "execute_result"
    }
   ],
   "source": [
    "gcv.best_score_"
   ]
  },
  {
   "cell_type": "code",
   "execution_count": null,
   "id": "b2ca5f17",
   "metadata": {},
   "outputs": [],
   "source": []
  }
 ],
 "metadata": {
  "kernelspec": {
   "display_name": "Python 3 (ipykernel)",
   "language": "python",
   "name": "python3"
  },
  "language_info": {
   "codemirror_mode": {
    "name": "ipython",
    "version": 3
   },
   "file_extension": ".py",
   "mimetype": "text/x-python",
   "name": "python",
   "nbconvert_exporter": "python",
   "pygments_lexer": "ipython3",
   "version": "3.11.4"
  }
 },
 "nbformat": 4,
 "nbformat_minor": 5
}
