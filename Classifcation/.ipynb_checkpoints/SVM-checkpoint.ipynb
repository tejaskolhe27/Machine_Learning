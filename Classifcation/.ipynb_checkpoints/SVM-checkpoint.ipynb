{
 "cells": [
  {
   "cell_type": "code",
   "execution_count": 1,
   "id": "80c6e206",
   "metadata": {},
   "outputs": [],
   "source": [
    "import numpy as np\n",
    "import pandas as pd\n",
    "from sklearn.svm import SVC\n",
    "from sklearn.model_selection import train_test_split,StratifiedKFold,GridSearchCV\n",
    "from sklearn.metrics import accuracy_score,log_loss\n",
    "from sklearn.preprocessing import LabelEncoder"
   ]
  },
  {
   "cell_type": "code",
   "execution_count": 2,
   "id": "0f4d98b1",
   "metadata": {},
   "outputs": [
    {
     "data": {
      "text/html": [
       "<div>\n",
       "<style scoped>\n",
       "    .dataframe tbody tr th:only-of-type {\n",
       "        vertical-align: middle;\n",
       "    }\n",
       "\n",
       "    .dataframe tbody tr th {\n",
       "        vertical-align: top;\n",
       "    }\n",
       "\n",
       "    .dataframe thead th {\n",
       "        text-align: right;\n",
       "    }\n",
       "</style>\n",
       "<table border=\"1\" class=\"dataframe\">\n",
       "  <thead>\n",
       "    <tr style=\"text-align: right;\">\n",
       "      <th></th>\n",
       "      <th>Clump</th>\n",
       "      <th>UniCell_Size</th>\n",
       "      <th>Uni_CellShape</th>\n",
       "      <th>MargAdh</th>\n",
       "      <th>SEpith</th>\n",
       "      <th>BareN</th>\n",
       "      <th>BChromatin</th>\n",
       "      <th>NoemN</th>\n",
       "      <th>Mitoses</th>\n",
       "      <th>Class</th>\n",
       "    </tr>\n",
       "    <tr>\n",
       "      <th>Code</th>\n",
       "      <th></th>\n",
       "      <th></th>\n",
       "      <th></th>\n",
       "      <th></th>\n",
       "      <th></th>\n",
       "      <th></th>\n",
       "      <th></th>\n",
       "      <th></th>\n",
       "      <th></th>\n",
       "      <th></th>\n",
       "    </tr>\n",
       "  </thead>\n",
       "  <tbody>\n",
       "    <tr>\n",
       "      <th>61634</th>\n",
       "      <td>5</td>\n",
       "      <td>4</td>\n",
       "      <td>3</td>\n",
       "      <td>1</td>\n",
       "      <td>2</td>\n",
       "      <td>2</td>\n",
       "      <td>2</td>\n",
       "      <td>3</td>\n",
       "      <td>1</td>\n",
       "      <td>0</td>\n",
       "    </tr>\n",
       "    <tr>\n",
       "      <th>63375</th>\n",
       "      <td>9</td>\n",
       "      <td>1</td>\n",
       "      <td>2</td>\n",
       "      <td>6</td>\n",
       "      <td>4</td>\n",
       "      <td>10</td>\n",
       "      <td>7</td>\n",
       "      <td>7</td>\n",
       "      <td>2</td>\n",
       "      <td>1</td>\n",
       "    </tr>\n",
       "    <tr>\n",
       "      <th>76389</th>\n",
       "      <td>10</td>\n",
       "      <td>4</td>\n",
       "      <td>7</td>\n",
       "      <td>2</td>\n",
       "      <td>2</td>\n",
       "      <td>8</td>\n",
       "      <td>6</td>\n",
       "      <td>1</td>\n",
       "      <td>1</td>\n",
       "      <td>1</td>\n",
       "    </tr>\n",
       "    <tr>\n",
       "      <th>95719</th>\n",
       "      <td>6</td>\n",
       "      <td>10</td>\n",
       "      <td>10</td>\n",
       "      <td>10</td>\n",
       "      <td>8</td>\n",
       "      <td>10</td>\n",
       "      <td>7</td>\n",
       "      <td>10</td>\n",
       "      <td>7</td>\n",
       "      <td>1</td>\n",
       "    </tr>\n",
       "    <tr>\n",
       "      <th>128059</th>\n",
       "      <td>1</td>\n",
       "      <td>1</td>\n",
       "      <td>1</td>\n",
       "      <td>1</td>\n",
       "      <td>2</td>\n",
       "      <td>5</td>\n",
       "      <td>5</td>\n",
       "      <td>1</td>\n",
       "      <td>1</td>\n",
       "      <td>0</td>\n",
       "    </tr>\n",
       "  </tbody>\n",
       "</table>\n",
       "</div>"
      ],
      "text/plain": [
       "        Clump  UniCell_Size  Uni_CellShape  MargAdh  SEpith  BareN  \\\n",
       "Code                                                                 \n",
       "61634       5             4              3        1       2      2   \n",
       "63375       9             1              2        6       4     10   \n",
       "76389      10             4              7        2       2      8   \n",
       "95719       6            10             10       10       8     10   \n",
       "128059      1             1              1        1       2      5   \n",
       "\n",
       "        BChromatin  NoemN  Mitoses  Class  \n",
       "Code                                       \n",
       "61634            2      3        1      0  \n",
       "63375            7      7        2      1  \n",
       "76389            6      1        1      1  \n",
       "95719            7     10        7      1  \n",
       "128059           5      1        1      0  "
      ]
     },
     "execution_count": 2,
     "metadata": {},
     "output_type": "execute_result"
    }
   ],
   "source": [
    "cancer=pd.read_csv(\"BreastCancer.csv\",index_col=0)\n",
    "lbl=LabelEncoder()\n",
    "cancer['Class']=lbl.fit_transform(cancer['Class'])\n",
    "cancer.head()"
   ]
  },
  {
   "cell_type": "code",
   "execution_count": 3,
   "id": "d27fb3b7",
   "metadata": {},
   "outputs": [],
   "source": [
    "X=cancer.drop('Class',axis=1)\n",
    "y=cancer['Class']"
   ]
  },
  {
   "cell_type": "code",
   "execution_count": 4,
   "id": "1cc5a773",
   "metadata": {},
   "outputs": [],
   "source": [
    "X_train,X_test,y_train,y_test = train_test_split(X,y,test_size=0.3,random_state=23,stratify=y)"
   ]
  },
  {
   "cell_type": "code",
   "execution_count": 5,
   "id": "3f805454",
   "metadata": {},
   "outputs": [
    {
     "data": {
      "text/html": [
       "<style>#sk-container-id-1 {color: black;}#sk-container-id-1 pre{padding: 0;}#sk-container-id-1 div.sk-toggleable {background-color: white;}#sk-container-id-1 label.sk-toggleable__label {cursor: pointer;display: block;width: 100%;margin-bottom: 0;padding: 0.3em;box-sizing: border-box;text-align: center;}#sk-container-id-1 label.sk-toggleable__label-arrow:before {content: \"▸\";float: left;margin-right: 0.25em;color: #696969;}#sk-container-id-1 label.sk-toggleable__label-arrow:hover:before {color: black;}#sk-container-id-1 div.sk-estimator:hover label.sk-toggleable__label-arrow:before {color: black;}#sk-container-id-1 div.sk-toggleable__content {max-height: 0;max-width: 0;overflow: hidden;text-align: left;background-color: #f0f8ff;}#sk-container-id-1 div.sk-toggleable__content pre {margin: 0.2em;color: black;border-radius: 0.25em;background-color: #f0f8ff;}#sk-container-id-1 input.sk-toggleable__control:checked~div.sk-toggleable__content {max-height: 200px;max-width: 100%;overflow: auto;}#sk-container-id-1 input.sk-toggleable__control:checked~label.sk-toggleable__label-arrow:before {content: \"▾\";}#sk-container-id-1 div.sk-estimator input.sk-toggleable__control:checked~label.sk-toggleable__label {background-color: #d4ebff;}#sk-container-id-1 div.sk-label input.sk-toggleable__control:checked~label.sk-toggleable__label {background-color: #d4ebff;}#sk-container-id-1 input.sk-hidden--visually {border: 0;clip: rect(1px 1px 1px 1px);clip: rect(1px, 1px, 1px, 1px);height: 1px;margin: -1px;overflow: hidden;padding: 0;position: absolute;width: 1px;}#sk-container-id-1 div.sk-estimator {font-family: monospace;background-color: #f0f8ff;border: 1px dotted black;border-radius: 0.25em;box-sizing: border-box;margin-bottom: 0.5em;}#sk-container-id-1 div.sk-estimator:hover {background-color: #d4ebff;}#sk-container-id-1 div.sk-parallel-item::after {content: \"\";width: 100%;border-bottom: 1px solid gray;flex-grow: 1;}#sk-container-id-1 div.sk-label:hover label.sk-toggleable__label {background-color: #d4ebff;}#sk-container-id-1 div.sk-serial::before {content: \"\";position: absolute;border-left: 1px solid gray;box-sizing: border-box;top: 0;bottom: 0;left: 50%;z-index: 0;}#sk-container-id-1 div.sk-serial {display: flex;flex-direction: column;align-items: center;background-color: white;padding-right: 0.2em;padding-left: 0.2em;position: relative;}#sk-container-id-1 div.sk-item {position: relative;z-index: 1;}#sk-container-id-1 div.sk-parallel {display: flex;align-items: stretch;justify-content: center;background-color: white;position: relative;}#sk-container-id-1 div.sk-item::before, #sk-container-id-1 div.sk-parallel-item::before {content: \"\";position: absolute;border-left: 1px solid gray;box-sizing: border-box;top: 0;bottom: 0;left: 50%;z-index: -1;}#sk-container-id-1 div.sk-parallel-item {display: flex;flex-direction: column;z-index: 1;position: relative;background-color: white;}#sk-container-id-1 div.sk-parallel-item:first-child::after {align-self: flex-end;width: 50%;}#sk-container-id-1 div.sk-parallel-item:last-child::after {align-self: flex-start;width: 50%;}#sk-container-id-1 div.sk-parallel-item:only-child::after {width: 0;}#sk-container-id-1 div.sk-dashed-wrapped {border: 1px dashed gray;margin: 0 0.4em 0.5em 0.4em;box-sizing: border-box;padding-bottom: 0.4em;background-color: white;}#sk-container-id-1 div.sk-label label {font-family: monospace;font-weight: bold;display: inline-block;line-height: 1.2em;}#sk-container-id-1 div.sk-label-container {text-align: center;}#sk-container-id-1 div.sk-container {/* jupyter's `normalize.less` sets `[hidden] { display: none; }` but bootstrap.min.css set `[hidden] { display: none !important; }` so we also need the `!important` here to be able to override the default hidden behavior on the sphinx rendered scikit-learn.org. See: https://github.com/scikit-learn/scikit-learn/issues/21755 */display: inline-block !important;position: relative;}#sk-container-id-1 div.sk-text-repr-fallback {display: none;}</style><div id=\"sk-container-id-1\" class=\"sk-top-container\"><div class=\"sk-text-repr-fallback\"><pre>SVC(kernel=&#x27;linear&#x27;, probability=True, random_state=23)</pre><b>In a Jupyter environment, please rerun this cell to show the HTML representation or trust the notebook. <br />On GitHub, the HTML representation is unable to render, please try loading this page with nbviewer.org.</b></div><div class=\"sk-container\" hidden><div class=\"sk-item\"><div class=\"sk-estimator sk-toggleable\"><input class=\"sk-toggleable__control sk-hidden--visually\" id=\"sk-estimator-id-1\" type=\"checkbox\" checked><label for=\"sk-estimator-id-1\" class=\"sk-toggleable__label sk-toggleable__label-arrow\">SVC</label><div class=\"sk-toggleable__content\"><pre>SVC(kernel=&#x27;linear&#x27;, probability=True, random_state=23)</pre></div></div></div></div></div>"
      ],
      "text/plain": [
       "SVC(kernel='linear', probability=True, random_state=23)"
      ]
     },
     "execution_count": 5,
     "metadata": {},
     "output_type": "execute_result"
    }
   ],
   "source": [
    "svm=SVC(kernel='linear',probability=True,random_state=23 )\n",
    "svm.fit(X_train,y_train)"
   ]
  },
  {
   "cell_type": "code",
   "execution_count": 6,
   "id": "1d285f79",
   "metadata": {},
   "outputs": [
    {
     "data": {
      "text/plain": [
       "array([1, 0, 0, 0, 0, 0, 0, 0, 0, 0, 0, 0, 0, 1, 0, 0, 0, 1, 1, 0, 0, 0,\n",
       "       0, 0, 0, 0, 1, 1, 1, 0, 0, 0, 0, 0, 1, 0, 1, 0, 0, 1, 0, 1, 0, 0,\n",
       "       1, 0, 1, 1, 0, 0, 0, 1, 0, 0, 0, 0, 1, 1, 0, 1, 0, 0, 0, 1, 1, 1,\n",
       "       1, 0, 0, 0, 1, 1, 1, 0, 0, 0, 0, 1, 0, 1, 0, 0, 1, 0, 1, 0, 0, 0,\n",
       "       0, 0, 1, 0, 0, 0, 0, 0, 1, 0, 1, 0, 1, 0, 0, 0, 1, 0, 0, 0, 0, 1,\n",
       "       0, 0, 0, 0, 0, 1, 0, 1, 0, 1, 1, 0, 1, 0, 1, 0, 0, 0, 0, 1, 0, 1,\n",
       "       0, 0, 0, 0, 0, 1, 0, 0, 0, 1, 1, 1, 0, 1, 0, 1, 0, 1, 1, 1, 0, 1,\n",
       "       1, 0, 1, 1, 0, 0, 0, 0, 0, 1, 0, 1, 0, 1, 0, 1, 0, 0, 1, 0, 1, 0,\n",
       "       0, 0, 0, 0, 0, 1, 0, 0, 0, 0, 0, 0, 0, 1, 0, 0, 0, 1, 0, 1, 0, 0,\n",
       "       0, 0, 0, 0, 0, 1, 0, 1, 1, 0, 0, 0])"
      ]
     },
     "execution_count": 6,
     "metadata": {},
     "output_type": "execute_result"
    }
   ],
   "source": [
    "y_pred=svm.predict(X_test)\n",
    "y_pred"
   ]
  },
  {
   "cell_type": "code",
   "execution_count": 7,
   "id": "0df35d4a",
   "metadata": {},
   "outputs": [
    {
     "name": "stdout",
     "output_type": "stream",
     "text": [
      "0.9476190476190476\n"
     ]
    }
   ],
   "source": [
    "print(accuracy_score(y_test,y_pred))"
   ]
  },
  {
   "cell_type": "code",
   "execution_count": 8,
   "id": "580c561d",
   "metadata": {},
   "outputs": [
    {
     "data": {
      "text/plain": [
       "array([[6.77214202e-06, 9.99993228e-01],\n",
       "       [9.81441790e-01, 1.85582104e-02],\n",
       "       [9.89211706e-01, 1.07882938e-02],\n",
       "       [9.81473481e-01, 1.85265186e-02],\n",
       "       [9.94007923e-01, 5.99207654e-03],\n",
       "       [9.81441790e-01, 1.85582104e-02],\n",
       "       [9.64731363e-01, 3.52686367e-02],\n",
       "       [9.97270788e-01, 2.72921191e-03],\n",
       "       [9.98442761e-01, 1.55723856e-03],\n",
       "       [9.87477632e-01, 1.25223677e-02],\n",
       "       [9.97484366e-01, 2.51563396e-03],\n",
       "       [9.95170389e-01, 4.82961103e-03],\n",
       "       [9.97938432e-01, 2.06156807e-03],\n",
       "       [5.58595006e-01, 4.41404994e-01],\n",
       "       [9.48006127e-01, 5.19938726e-02],\n",
       "       [9.94620447e-01, 5.37955291e-03],\n",
       "       [9.89399542e-01, 1.06004583e-02],\n",
       "       [3.10064174e-01, 6.89935826e-01],\n",
       "       [8.68881807e-02, 9.13111819e-01],\n",
       "       [9.95900377e-01, 4.09962317e-03],\n",
       "       [9.97624451e-01, 2.37554881e-03],\n",
       "       [9.93435974e-01, 6.56402601e-03],\n",
       "       [9.81664669e-01, 1.83353309e-02],\n",
       "       [9.94620447e-01, 5.37955291e-03],\n",
       "       [9.98442761e-01, 1.55723856e-03],\n",
       "       [9.39843229e-01, 6.01567715e-02],\n",
       "       [1.08038148e-01, 8.91961852e-01],\n",
       "       [4.21768310e-03, 9.95782317e-01],\n",
       "       [6.91404269e-03, 9.93085957e-01],\n",
       "       [9.31415044e-01, 6.85849557e-02],\n",
       "       [9.87293072e-01, 1.27069275e-02],\n",
       "       [9.97266010e-01, 2.73398952e-03],\n",
       "       [9.95591283e-01, 4.40871726e-03],\n",
       "       [9.95936257e-01, 4.06374348e-03],\n",
       "       [4.73012886e-03, 9.95269871e-01],\n",
       "       [9.97549841e-01, 2.45015946e-03],\n",
       "       [5.61907698e-01, 4.38092302e-01],\n",
       "       [9.91045802e-01, 8.95419850e-03],\n",
       "       [9.97270788e-01, 2.72921191e-03],\n",
       "       [8.69177535e-07, 9.99999131e-01],\n",
       "       [9.97938432e-01, 2.06156807e-03],\n",
       "       [4.20941829e-03, 9.95790582e-01],\n",
       "       [9.98442761e-01, 1.55723856e-03],\n",
       "       [9.89211706e-01, 1.07882938e-02],\n",
       "       [1.68853671e-07, 9.99999831e-01],\n",
       "       [9.92878913e-01, 7.12108743e-03],\n",
       "       [2.65306121e-02, 9.73469388e-01],\n",
       "       [1.05104510e-02, 9.89489549e-01],\n",
       "       [9.97549841e-01, 2.45015946e-03],\n",
       "       [9.89737758e-01, 1.02622419e-02],\n",
       "       [9.85972035e-01, 1.40279655e-02],\n",
       "       [1.75196767e-02, 9.82480323e-01],\n",
       "       [9.96669698e-01, 3.33030243e-03],\n",
       "       [9.94620447e-01, 5.37955291e-03],\n",
       "       [9.98149226e-01, 1.85077421e-03],\n",
       "       [9.97270788e-01, 2.72921191e-03],\n",
       "       [6.26479857e-03, 9.93735201e-01],\n",
       "       [2.17448685e-02, 9.78255132e-01],\n",
       "       [9.97270788e-01, 2.72921191e-03],\n",
       "       [6.53548953e-13, 1.00000000e+00],\n",
       "       [9.93215679e-01, 6.78432119e-03],\n",
       "       [9.94525045e-01, 5.47495475e-03],\n",
       "       [7.94076665e-01, 2.05923335e-01],\n",
       "       [1.10415340e-05, 9.99988958e-01],\n",
       "       [3.67117114e-07, 9.99999633e-01],\n",
       "       [7.92676980e-03, 9.92073230e-01],\n",
       "       [3.20138643e-10, 1.00000000e+00],\n",
       "       [9.98442761e-01, 1.55723856e-03],\n",
       "       [9.93435974e-01, 6.56402601e-03],\n",
       "       [9.95170389e-01, 4.82961103e-03],\n",
       "       [1.21760676e-01, 8.78239324e-01],\n",
       "       [6.09754069e-03, 9.93902459e-01],\n",
       "       [4.09772807e-02, 9.59022719e-01],\n",
       "       [9.97027670e-01, 2.97232953e-03],\n",
       "       [9.97270788e-01, 2.72921191e-03],\n",
       "       [9.84207320e-01, 1.57926800e-02],\n",
       "       [9.96669698e-01, 3.33030243e-03],\n",
       "       [7.15320079e-03, 9.92846799e-01],\n",
       "       [7.70129729e-01, 2.29870271e-01],\n",
       "       [7.08909637e-02, 9.29109036e-01],\n",
       "       [9.97938432e-01, 2.06156807e-03],\n",
       "       [9.80358034e-01, 1.96419665e-02],\n",
       "       [1.00442189e-09, 9.99999999e-01],\n",
       "       [9.97549841e-01, 2.45015946e-03],\n",
       "       [8.38163495e-03, 9.91618365e-01],\n",
       "       [9.98442761e-01, 1.55723856e-03],\n",
       "       [9.83334155e-01, 1.66658455e-02],\n",
       "       [9.91311434e-01, 8.68856563e-03],\n",
       "       [9.96228095e-01, 3.77190510e-03],\n",
       "       [9.51882037e-01, 4.81179633e-02],\n",
       "       [1.71623493e-01, 8.28376507e-01],\n",
       "       [9.98442761e-01, 1.55723856e-03],\n",
       "       [8.23094416e-01, 1.76905584e-01],\n",
       "       [9.85972035e-01, 1.40279655e-02],\n",
       "       [9.88807422e-01, 1.11925776e-02],\n",
       "       [9.97246689e-01, 2.75331090e-03],\n",
       "       [1.32234633e-02, 9.86776537e-01],\n",
       "       [9.97484366e-01, 2.51563396e-03],\n",
       "       [3.72626340e-02, 9.62737366e-01],\n",
       "       [9.97462153e-01, 2.53784730e-03],\n",
       "       [1.52306364e-02, 9.84769364e-01],\n",
       "       [9.89900967e-01, 1.00990327e-02],\n",
       "       [9.82170111e-01, 1.78298889e-02],\n",
       "       [9.64279942e-01, 3.57200582e-02],\n",
       "       [4.51544268e-03, 9.95484557e-01],\n",
       "       [9.91234766e-01, 8.76523450e-03],\n",
       "       [9.61620510e-01, 3.83794902e-02],\n",
       "       [9.95591283e-01, 4.40871726e-03],\n",
       "       [9.69163681e-01, 3.08363195e-02],\n",
       "       [1.43256378e-02, 9.85674362e-01],\n",
       "       [9.98149226e-01, 1.85077421e-03],\n",
       "       [9.85972035e-01, 1.40279655e-02],\n",
       "       [9.87052929e-01, 1.29470709e-02],\n",
       "       [9.95936257e-01, 4.06374348e-03],\n",
       "       [9.97938432e-01, 2.06156807e-03],\n",
       "       [1.28219722e-02, 9.87178028e-01],\n",
       "       [9.92833984e-01, 7.16601607e-03],\n",
       "       [6.50339333e-03, 9.93496607e-01],\n",
       "       [9.92688705e-01, 7.31129472e-03],\n",
       "       [6.46076455e-03, 9.93539235e-01],\n",
       "       [4.99948809e-08, 9.99999950e-01],\n",
       "       [9.81959600e-01, 1.80404001e-02],\n",
       "       [7.50203406e-08, 9.99999925e-01],\n",
       "       [9.95936257e-01, 4.06374348e-03],\n",
       "       [6.02790732e-02, 9.39720927e-01],\n",
       "       [9.98442761e-01, 1.55723856e-03],\n",
       "       [9.92878913e-01, 7.12108743e-03],\n",
       "       [9.87827616e-01, 1.21723836e-02],\n",
       "       [9.88500600e-01, 1.14994001e-02],\n",
       "       [4.54941283e-02, 9.54505872e-01],\n",
       "       [9.97484366e-01, 2.51563396e-03],\n",
       "       [4.04818568e-06, 9.99995952e-01],\n",
       "       [9.98442761e-01, 1.55723856e-03],\n",
       "       [9.16428868e-01, 8.35711316e-02],\n",
       "       [9.92244872e-01, 7.75512842e-03],\n",
       "       [9.98442761e-01, 1.55723856e-03],\n",
       "       [9.92878913e-01, 7.12108743e-03],\n",
       "       [4.40819831e-07, 9.99999559e-01],\n",
       "       [9.66571595e-01, 3.34284050e-02],\n",
       "       [9.70061558e-01, 2.99384415e-02],\n",
       "       [9.28917862e-01, 7.10821379e-02],\n",
       "       [1.31697833e-06, 9.99998683e-01],\n",
       "       [4.54988666e-02, 9.54501133e-01],\n",
       "       [2.67064090e-01, 7.32935910e-01],\n",
       "       [9.98103748e-01, 1.89625201e-03],\n",
       "       [8.04090483e-03, 9.91959095e-01],\n",
       "       [9.95552358e-01, 4.44764167e-03],\n",
       "       [1.97631022e-10, 1.00000000e+00],\n",
       "       [9.98601990e-01, 1.39800957e-03],\n",
       "       [1.32516176e-01, 8.67483824e-01],\n",
       "       [3.78493766e-02, 9.62150623e-01],\n",
       "       [2.86483532e-02, 9.71351647e-01],\n",
       "       [9.97010199e-01, 2.98980097e-03],\n",
       "       [4.63854074e-02, 9.53614593e-01],\n",
       "       [1.31827166e-11, 1.00000000e+00],\n",
       "       [9.96364165e-01, 3.63583486e-03],\n",
       "       [7.13818948e-06, 9.99992862e-01],\n",
       "       [6.47858178e-03, 9.93521418e-01],\n",
       "       [9.96042014e-01, 3.95798647e-03],\n",
       "       [9.85209711e-01, 1.47902885e-02],\n",
       "       [9.79222290e-01, 2.07777099e-02],\n",
       "       [9.46912812e-01, 5.30871877e-02],\n",
       "       [9.97938432e-01, 2.06156807e-03],\n",
       "       [1.51262075e-01, 8.48737925e-01],\n",
       "       [9.93932240e-01, 6.06776034e-03],\n",
       "       [2.14029582e-02, 9.78597042e-01],\n",
       "       [9.62882658e-01, 3.71173420e-02],\n",
       "       [2.26333792e-06, 9.99997737e-01],\n",
       "       [9.70926723e-01, 2.90732769e-02],\n",
       "       [8.29184657e-03, 9.91708153e-01],\n",
       "       [9.98442761e-01, 1.55723856e-03],\n",
       "       [9.92878913e-01, 7.12108743e-03],\n",
       "       [1.18986941e-05, 9.99988101e-01],\n",
       "       [9.92878913e-01, 7.12108743e-03],\n",
       "       [4.06419662e-03, 9.95935803e-01],\n",
       "       [9.97938432e-01, 2.06156807e-03],\n",
       "       [9.96290427e-01, 3.70957335e-03],\n",
       "       [9.75207963e-01, 2.47920373e-02],\n",
       "       [9.91311434e-01, 8.68856563e-03],\n",
       "       [9.98601990e-01, 1.39800957e-03],\n",
       "       [9.74535098e-01, 2.54649019e-02],\n",
       "       [1.89493122e-02, 9.81050688e-01],\n",
       "       [9.97270788e-01, 2.72921191e-03],\n",
       "       [9.89399542e-01, 1.06004583e-02],\n",
       "       [9.97549841e-01, 2.45015946e-03],\n",
       "       [9.98442761e-01, 1.55723856e-03],\n",
       "       [9.87214692e-01, 1.27853082e-02],\n",
       "       [9.98442761e-01, 1.55723856e-03],\n",
       "       [9.94007923e-01, 5.99207654e-03],\n",
       "       [9.34850178e-08, 9.99999907e-01],\n",
       "       [9.94620447e-01, 5.37955291e-03],\n",
       "       [9.98103748e-01, 1.89625201e-03],\n",
       "       [9.87663878e-01, 1.23361218e-02],\n",
       "       [2.17606677e-11, 1.00000000e+00],\n",
       "       [9.96257673e-01, 3.74232689e-03],\n",
       "       [2.46522847e-02, 9.75347715e-01],\n",
       "       [9.97938432e-01, 2.06156807e-03],\n",
       "       [9.95170389e-01, 4.82961103e-03],\n",
       "       [9.92891107e-01, 7.10889326e-03],\n",
       "       [9.98415138e-01, 1.58486226e-03],\n",
       "       [9.81441790e-01, 1.85582104e-02],\n",
       "       [9.50639508e-01, 4.93604920e-02],\n",
       "       [9.89399542e-01, 1.06004583e-02],\n",
       "       [1.14377692e-02, 9.88562231e-01],\n",
       "       [9.91311434e-01, 8.68856563e-03],\n",
       "       [1.21765104e-01, 8.78234896e-01],\n",
       "       [3.04268395e-02, 9.69573161e-01],\n",
       "       [9.94620447e-01, 5.37955291e-03],\n",
       "       [9.97938432e-01, 2.06156807e-03],\n",
       "       [8.46892726e-01, 1.53107274e-01]])"
      ]
     },
     "execution_count": 8,
     "metadata": {},
     "output_type": "execute_result"
    }
   ],
   "source": [
    "y_pred_proba=svm.predict_proba(X_test)\n",
    "y_pred_proba"
   ]
  },
  {
   "cell_type": "code",
   "execution_count": 9,
   "id": "a66c965c",
   "metadata": {},
   "outputs": [
    {
     "name": "stdout",
     "output_type": "stream",
     "text": [
      "0.1452891776134698\n"
     ]
    }
   ],
   "source": [
    "print(log_loss(y_test,y_pred_proba))"
   ]
  },
  {
   "cell_type": "markdown",
   "id": "e1790d52",
   "metadata": {},
   "source": [
    "### Using GCV"
   ]
  },
  {
   "cell_type": "code",
   "execution_count": 10,
   "id": "75e8193a",
   "metadata": {
    "scrolled": true
   },
   "outputs": [
    {
     "data": {
      "text/html": [
       "<style>#sk-container-id-2 {color: black;}#sk-container-id-2 pre{padding: 0;}#sk-container-id-2 div.sk-toggleable {background-color: white;}#sk-container-id-2 label.sk-toggleable__label {cursor: pointer;display: block;width: 100%;margin-bottom: 0;padding: 0.3em;box-sizing: border-box;text-align: center;}#sk-container-id-2 label.sk-toggleable__label-arrow:before {content: \"▸\";float: left;margin-right: 0.25em;color: #696969;}#sk-container-id-2 label.sk-toggleable__label-arrow:hover:before {color: black;}#sk-container-id-2 div.sk-estimator:hover label.sk-toggleable__label-arrow:before {color: black;}#sk-container-id-2 div.sk-toggleable__content {max-height: 0;max-width: 0;overflow: hidden;text-align: left;background-color: #f0f8ff;}#sk-container-id-2 div.sk-toggleable__content pre {margin: 0.2em;color: black;border-radius: 0.25em;background-color: #f0f8ff;}#sk-container-id-2 input.sk-toggleable__control:checked~div.sk-toggleable__content {max-height: 200px;max-width: 100%;overflow: auto;}#sk-container-id-2 input.sk-toggleable__control:checked~label.sk-toggleable__label-arrow:before {content: \"▾\";}#sk-container-id-2 div.sk-estimator input.sk-toggleable__control:checked~label.sk-toggleable__label {background-color: #d4ebff;}#sk-container-id-2 div.sk-label input.sk-toggleable__control:checked~label.sk-toggleable__label {background-color: #d4ebff;}#sk-container-id-2 input.sk-hidden--visually {border: 0;clip: rect(1px 1px 1px 1px);clip: rect(1px, 1px, 1px, 1px);height: 1px;margin: -1px;overflow: hidden;padding: 0;position: absolute;width: 1px;}#sk-container-id-2 div.sk-estimator {font-family: monospace;background-color: #f0f8ff;border: 1px dotted black;border-radius: 0.25em;box-sizing: border-box;margin-bottom: 0.5em;}#sk-container-id-2 div.sk-estimator:hover {background-color: #d4ebff;}#sk-container-id-2 div.sk-parallel-item::after {content: \"\";width: 100%;border-bottom: 1px solid gray;flex-grow: 1;}#sk-container-id-2 div.sk-label:hover label.sk-toggleable__label {background-color: #d4ebff;}#sk-container-id-2 div.sk-serial::before {content: \"\";position: absolute;border-left: 1px solid gray;box-sizing: border-box;top: 0;bottom: 0;left: 50%;z-index: 0;}#sk-container-id-2 div.sk-serial {display: flex;flex-direction: column;align-items: center;background-color: white;padding-right: 0.2em;padding-left: 0.2em;position: relative;}#sk-container-id-2 div.sk-item {position: relative;z-index: 1;}#sk-container-id-2 div.sk-parallel {display: flex;align-items: stretch;justify-content: center;background-color: white;position: relative;}#sk-container-id-2 div.sk-item::before, #sk-container-id-2 div.sk-parallel-item::before {content: \"\";position: absolute;border-left: 1px solid gray;box-sizing: border-box;top: 0;bottom: 0;left: 50%;z-index: -1;}#sk-container-id-2 div.sk-parallel-item {display: flex;flex-direction: column;z-index: 1;position: relative;background-color: white;}#sk-container-id-2 div.sk-parallel-item:first-child::after {align-self: flex-end;width: 50%;}#sk-container-id-2 div.sk-parallel-item:last-child::after {align-self: flex-start;width: 50%;}#sk-container-id-2 div.sk-parallel-item:only-child::after {width: 0;}#sk-container-id-2 div.sk-dashed-wrapped {border: 1px dashed gray;margin: 0 0.4em 0.5em 0.4em;box-sizing: border-box;padding-bottom: 0.4em;background-color: white;}#sk-container-id-2 div.sk-label label {font-family: monospace;font-weight: bold;display: inline-block;line-height: 1.2em;}#sk-container-id-2 div.sk-label-container {text-align: center;}#sk-container-id-2 div.sk-container {/* jupyter's `normalize.less` sets `[hidden] { display: none; }` but bootstrap.min.css set `[hidden] { display: none !important; }` so we also need the `!important` here to be able to override the default hidden behavior on the sphinx rendered scikit-learn.org. See: https://github.com/scikit-learn/scikit-learn/issues/21755 */display: inline-block !important;position: relative;}#sk-container-id-2 div.sk-text-repr-fallback {display: none;}</style><div id=\"sk-container-id-2\" class=\"sk-top-container\"><div class=\"sk-text-repr-fallback\"><pre>GridSearchCV(cv=StratifiedKFold(n_splits=5, random_state=23, shuffle=True),\n",
       "             estimator=SVC(kernel=&#x27;linear&#x27;, probability=True, random_state=23),\n",
       "             param_grid={&#x27;C&#x27;: array([1.00000000e-03, 5.56444444e-01, 1.11188889e+00, 1.66733333e+00,\n",
       "       2.22277778e+00, 2.77822222e+00, 3.33366667e+00, 3.88911111e+00,\n",
       "       4.44455556e+00, 5.00000000e+00])},\n",
       "             scoring=&#x27;neg_log_loss&#x27;)</pre><b>In a Jupyter environment, please rerun this cell to show the HTML representation or trust the notebook. <br />On GitHub, the HTML representation is unable to render, please try loading this page with nbviewer.org.</b></div><div class=\"sk-container\" hidden><div class=\"sk-item sk-dashed-wrapped\"><div class=\"sk-label-container\"><div class=\"sk-label sk-toggleable\"><input class=\"sk-toggleable__control sk-hidden--visually\" id=\"sk-estimator-id-2\" type=\"checkbox\" ><label for=\"sk-estimator-id-2\" class=\"sk-toggleable__label sk-toggleable__label-arrow\">GridSearchCV</label><div class=\"sk-toggleable__content\"><pre>GridSearchCV(cv=StratifiedKFold(n_splits=5, random_state=23, shuffle=True),\n",
       "             estimator=SVC(kernel=&#x27;linear&#x27;, probability=True, random_state=23),\n",
       "             param_grid={&#x27;C&#x27;: array([1.00000000e-03, 5.56444444e-01, 1.11188889e+00, 1.66733333e+00,\n",
       "       2.22277778e+00, 2.77822222e+00, 3.33366667e+00, 3.88911111e+00,\n",
       "       4.44455556e+00, 5.00000000e+00])},\n",
       "             scoring=&#x27;neg_log_loss&#x27;)</pre></div></div></div><div class=\"sk-parallel\"><div class=\"sk-parallel-item\"><div class=\"sk-item\"><div class=\"sk-label-container\"><div class=\"sk-label sk-toggleable\"><input class=\"sk-toggleable__control sk-hidden--visually\" id=\"sk-estimator-id-3\" type=\"checkbox\" ><label for=\"sk-estimator-id-3\" class=\"sk-toggleable__label sk-toggleable__label-arrow\">estimator: SVC</label><div class=\"sk-toggleable__content\"><pre>SVC(kernel=&#x27;linear&#x27;, probability=True, random_state=23)</pre></div></div></div><div class=\"sk-serial\"><div class=\"sk-item\"><div class=\"sk-estimator sk-toggleable\"><input class=\"sk-toggleable__control sk-hidden--visually\" id=\"sk-estimator-id-4\" type=\"checkbox\" ><label for=\"sk-estimator-id-4\" class=\"sk-toggleable__label sk-toggleable__label-arrow\">SVC</label><div class=\"sk-toggleable__content\"><pre>SVC(kernel=&#x27;linear&#x27;, probability=True, random_state=23)</pre></div></div></div></div></div></div></div></div></div></div>"
      ],
      "text/plain": [
       "GridSearchCV(cv=StratifiedKFold(n_splits=5, random_state=23, shuffle=True),\n",
       "             estimator=SVC(kernel='linear', probability=True, random_state=23),\n",
       "             param_grid={'C': array([1.00000000e-03, 5.56444444e-01, 1.11188889e+00, 1.66733333e+00,\n",
       "       2.22277778e+00, 2.77822222e+00, 3.33366667e+00, 3.88911111e+00,\n",
       "       4.44455556e+00, 5.00000000e+00])},\n",
       "             scoring='neg_log_loss')"
      ]
     },
     "execution_count": 10,
     "metadata": {},
     "output_type": "execute_result"
    }
   ],
   "source": [
    "kfold=StratifiedKFold(n_splits=5,shuffle=True,random_state=23)\n",
    "params={'C':np.linspace(0.001,5,10)}\n",
    "gcv= GridSearchCV(svm,param_grid=params,cv=kfold,scoring='neg_log_loss')\n",
    "gcv.fit(X,y)"
   ]
  },
  {
   "cell_type": "code",
   "execution_count": 12,
   "id": "3311629e",
   "metadata": {},
   "outputs": [
    {
     "name": "stdout",
     "output_type": "stream",
     "text": [
      "best parameter : {'C': 0.001}\n",
      "best score : -0.09742584975054852\n"
     ]
    }
   ],
   "source": [
    "print(\"best parameter :\",gcv.best_params_)\n",
    "print(\"best score :\",gcv.best_score_)"
   ]
  },
  {
   "cell_type": "markdown",
   "id": "4722fdaa",
   "metadata": {},
   "source": [
    "### Ploynomial SVM"
   ]
  },
  {
   "cell_type": "code",
   "execution_count": 13,
   "id": "16637603",
   "metadata": {},
   "outputs": [],
   "source": [
    "svm=SVC(kernel='poly',probability=True,random_state=23 )"
   ]
  },
  {
   "cell_type": "code",
   "execution_count": 14,
   "id": "113cefc1",
   "metadata": {},
   "outputs": [
    {
     "data": {
      "text/html": [
       "<style>#sk-container-id-3 {color: black;}#sk-container-id-3 pre{padding: 0;}#sk-container-id-3 div.sk-toggleable {background-color: white;}#sk-container-id-3 label.sk-toggleable__label {cursor: pointer;display: block;width: 100%;margin-bottom: 0;padding: 0.3em;box-sizing: border-box;text-align: center;}#sk-container-id-3 label.sk-toggleable__label-arrow:before {content: \"▸\";float: left;margin-right: 0.25em;color: #696969;}#sk-container-id-3 label.sk-toggleable__label-arrow:hover:before {color: black;}#sk-container-id-3 div.sk-estimator:hover label.sk-toggleable__label-arrow:before {color: black;}#sk-container-id-3 div.sk-toggleable__content {max-height: 0;max-width: 0;overflow: hidden;text-align: left;background-color: #f0f8ff;}#sk-container-id-3 div.sk-toggleable__content pre {margin: 0.2em;color: black;border-radius: 0.25em;background-color: #f0f8ff;}#sk-container-id-3 input.sk-toggleable__control:checked~div.sk-toggleable__content {max-height: 200px;max-width: 100%;overflow: auto;}#sk-container-id-3 input.sk-toggleable__control:checked~label.sk-toggleable__label-arrow:before {content: \"▾\";}#sk-container-id-3 div.sk-estimator input.sk-toggleable__control:checked~label.sk-toggleable__label {background-color: #d4ebff;}#sk-container-id-3 div.sk-label input.sk-toggleable__control:checked~label.sk-toggleable__label {background-color: #d4ebff;}#sk-container-id-3 input.sk-hidden--visually {border: 0;clip: rect(1px 1px 1px 1px);clip: rect(1px, 1px, 1px, 1px);height: 1px;margin: -1px;overflow: hidden;padding: 0;position: absolute;width: 1px;}#sk-container-id-3 div.sk-estimator {font-family: monospace;background-color: #f0f8ff;border: 1px dotted black;border-radius: 0.25em;box-sizing: border-box;margin-bottom: 0.5em;}#sk-container-id-3 div.sk-estimator:hover {background-color: #d4ebff;}#sk-container-id-3 div.sk-parallel-item::after {content: \"\";width: 100%;border-bottom: 1px solid gray;flex-grow: 1;}#sk-container-id-3 div.sk-label:hover label.sk-toggleable__label {background-color: #d4ebff;}#sk-container-id-3 div.sk-serial::before {content: \"\";position: absolute;border-left: 1px solid gray;box-sizing: border-box;top: 0;bottom: 0;left: 50%;z-index: 0;}#sk-container-id-3 div.sk-serial {display: flex;flex-direction: column;align-items: center;background-color: white;padding-right: 0.2em;padding-left: 0.2em;position: relative;}#sk-container-id-3 div.sk-item {position: relative;z-index: 1;}#sk-container-id-3 div.sk-parallel {display: flex;align-items: stretch;justify-content: center;background-color: white;position: relative;}#sk-container-id-3 div.sk-item::before, #sk-container-id-3 div.sk-parallel-item::before {content: \"\";position: absolute;border-left: 1px solid gray;box-sizing: border-box;top: 0;bottom: 0;left: 50%;z-index: -1;}#sk-container-id-3 div.sk-parallel-item {display: flex;flex-direction: column;z-index: 1;position: relative;background-color: white;}#sk-container-id-3 div.sk-parallel-item:first-child::after {align-self: flex-end;width: 50%;}#sk-container-id-3 div.sk-parallel-item:last-child::after {align-self: flex-start;width: 50%;}#sk-container-id-3 div.sk-parallel-item:only-child::after {width: 0;}#sk-container-id-3 div.sk-dashed-wrapped {border: 1px dashed gray;margin: 0 0.4em 0.5em 0.4em;box-sizing: border-box;padding-bottom: 0.4em;background-color: white;}#sk-container-id-3 div.sk-label label {font-family: monospace;font-weight: bold;display: inline-block;line-height: 1.2em;}#sk-container-id-3 div.sk-label-container {text-align: center;}#sk-container-id-3 div.sk-container {/* jupyter's `normalize.less` sets `[hidden] { display: none; }` but bootstrap.min.css set `[hidden] { display: none !important; }` so we also need the `!important` here to be able to override the default hidden behavior on the sphinx rendered scikit-learn.org. See: https://github.com/scikit-learn/scikit-learn/issues/21755 */display: inline-block !important;position: relative;}#sk-container-id-3 div.sk-text-repr-fallback {display: none;}</style><div id=\"sk-container-id-3\" class=\"sk-top-container\"><div class=\"sk-text-repr-fallback\"><pre>GridSearchCV(cv=StratifiedKFold(n_splits=5, random_state=23, shuffle=True),\n",
       "             estimator=SVC(kernel=&#x27;poly&#x27;, probability=True, random_state=23),\n",
       "             param_grid={&#x27;C&#x27;: array([1.00000000e-03, 5.56444444e-01, 1.11188889e+00, 1.66733333e+00,\n",
       "       2.22277778e+00, 2.77822222e+00, 3.33366667e+00, 3.88911111e+00,\n",
       "       4.44455556e+00, 5.00000000e+00]),\n",
       "                         &#x27;coef0&#x27;: [0.0, 0.3], &#x27;degree&#x27;: [1, 2, 3]},\n",
       "             scoring=&#x27;neg_log_loss&#x27;)</pre><b>In a Jupyter environment, please rerun this cell to show the HTML representation or trust the notebook. <br />On GitHub, the HTML representation is unable to render, please try loading this page with nbviewer.org.</b></div><div class=\"sk-container\" hidden><div class=\"sk-item sk-dashed-wrapped\"><div class=\"sk-label-container\"><div class=\"sk-label sk-toggleable\"><input class=\"sk-toggleable__control sk-hidden--visually\" id=\"sk-estimator-id-5\" type=\"checkbox\" ><label for=\"sk-estimator-id-5\" class=\"sk-toggleable__label sk-toggleable__label-arrow\">GridSearchCV</label><div class=\"sk-toggleable__content\"><pre>GridSearchCV(cv=StratifiedKFold(n_splits=5, random_state=23, shuffle=True),\n",
       "             estimator=SVC(kernel=&#x27;poly&#x27;, probability=True, random_state=23),\n",
       "             param_grid={&#x27;C&#x27;: array([1.00000000e-03, 5.56444444e-01, 1.11188889e+00, 1.66733333e+00,\n",
       "       2.22277778e+00, 2.77822222e+00, 3.33366667e+00, 3.88911111e+00,\n",
       "       4.44455556e+00, 5.00000000e+00]),\n",
       "                         &#x27;coef0&#x27;: [0.0, 0.3], &#x27;degree&#x27;: [1, 2, 3]},\n",
       "             scoring=&#x27;neg_log_loss&#x27;)</pre></div></div></div><div class=\"sk-parallel\"><div class=\"sk-parallel-item\"><div class=\"sk-item\"><div class=\"sk-label-container\"><div class=\"sk-label sk-toggleable\"><input class=\"sk-toggleable__control sk-hidden--visually\" id=\"sk-estimator-id-6\" type=\"checkbox\" ><label for=\"sk-estimator-id-6\" class=\"sk-toggleable__label sk-toggleable__label-arrow\">estimator: SVC</label><div class=\"sk-toggleable__content\"><pre>SVC(kernel=&#x27;poly&#x27;, probability=True, random_state=23)</pre></div></div></div><div class=\"sk-serial\"><div class=\"sk-item\"><div class=\"sk-estimator sk-toggleable\"><input class=\"sk-toggleable__control sk-hidden--visually\" id=\"sk-estimator-id-7\" type=\"checkbox\" ><label for=\"sk-estimator-id-7\" class=\"sk-toggleable__label sk-toggleable__label-arrow\">SVC</label><div class=\"sk-toggleable__content\"><pre>SVC(kernel=&#x27;poly&#x27;, probability=True, random_state=23)</pre></div></div></div></div></div></div></div></div></div></div>"
      ],
      "text/plain": [
       "GridSearchCV(cv=StratifiedKFold(n_splits=5, random_state=23, shuffle=True),\n",
       "             estimator=SVC(kernel='poly', probability=True, random_state=23),\n",
       "             param_grid={'C': array([1.00000000e-03, 5.56444444e-01, 1.11188889e+00, 1.66733333e+00,\n",
       "       2.22277778e+00, 2.77822222e+00, 3.33366667e+00, 3.88911111e+00,\n",
       "       4.44455556e+00, 5.00000000e+00]),\n",
       "                         'coef0': [0.0, 0.3], 'degree': [1, 2, 3]},\n",
       "             scoring='neg_log_loss')"
      ]
     },
     "execution_count": 14,
     "metadata": {},
     "output_type": "execute_result"
    }
   ],
   "source": [
    "kfold=StratifiedKFold(n_splits=5,shuffle=True,random_state=23)\n",
    "params={'C':np.linspace(0.001,5,10),'degree':[1,2,3],'coef0':[0.0,0.3]}\n",
    "gcv= GridSearchCV(svm,param_grid=params,cv=kfold,scoring='neg_log_loss')\n",
    "gcv.fit(X,y)"
   ]
  },
  {
   "cell_type": "code",
   "execution_count": 15,
   "id": "bbb86653",
   "metadata": {},
   "outputs": [
    {
     "name": "stdout",
     "output_type": "stream",
     "text": [
      "best parameter : {'C': 0.5564444444444444, 'coef0': 0.0, 'degree': 1}\n",
      "best score : -0.09791435969482494\n"
     ]
    }
   ],
   "source": [
    "print(\"best parameter :\",gcv.best_params_)\n",
    "print(\"best score :\",gcv.best_score_)"
   ]
  },
  {
   "cell_type": "code",
   "execution_count": null,
   "id": "bc47892f",
   "metadata": {},
   "outputs": [],
   "source": []
  }
 ],
 "metadata": {
  "kernelspec": {
   "display_name": "Python 3 (ipykernel)",
   "language": "python",
   "name": "python3"
  },
  "language_info": {
   "codemirror_mode": {
    "name": "ipython",
    "version": 3
   },
   "file_extension": ".py",
   "mimetype": "text/x-python",
   "name": "python",
   "nbconvert_exporter": "python",
   "pygments_lexer": "ipython3",
   "version": "3.11.4"
  }
 },
 "nbformat": 4,
 "nbformat_minor": 5
}
